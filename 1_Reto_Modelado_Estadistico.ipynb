{
  "nbformat": 4,
  "nbformat_minor": 0,
  "metadata": {
    "colab": {
      "provenance": [],
      "authorship_tag": "ABX9TyOKEKvp/Co2inJksyekcALO",
      "include_colab_link": true
    },
    "kernelspec": {
      "name": "ir",
      "display_name": "R"
    },
    "language_info": {
      "name": "R"
    }
  },
  "cells": [
    {
      "cell_type": "markdown",
      "metadata": {
        "id": "view-in-github",
        "colab_type": "text"
      },
      "source": [
        "<a href=\"https://colab.research.google.com/github/robertoarturomc/ProgramacionInformacion/blob/main/1_Reto_Modelado_Estadistico.ipynb\" target=\"_parent\"><img src=\"https://colab.research.google.com/assets/colab-badge.svg\" alt=\"Open In Colab\"/></a>"
      ]
    },
    {
      "cell_type": "markdown",
      "source": [
        "### Reto Modelación Estadística\n",
        "## 1. Funciones Básicas de Probabilidad"
      ],
      "metadata": {
        "id": "5mpPthRQDicZ"
      }
    },
    {
      "cell_type": "code",
      "execution_count": null,
      "metadata": {
        "colab": {
          "base_uri": "https://localhost:8080/",
          "height": 286
        },
        "id": "hhtHaWt1CCeG",
        "outputId": "41665a2c-b5b0-4c2b-ecaa-8e2d874dc0d5"
      },
      "outputs": [
        {
          "output_type": "display_data",
          "data": {
            "text/html": [
              "<table class=\"dataframe\">\n",
              "<caption>A data.frame: 6 × 18</caption>\n",
              "<thead>\n",
              "\t<tr><th></th><th scope=col>RowNumber</th><th scope=col>CustomerId</th><th scope=col>Surname</th><th scope=col>CreditScore</th><th scope=col>Geography</th><th scope=col>Gender</th><th scope=col>Age</th><th scope=col>Tenure</th><th scope=col>Balance</th><th scope=col>NumOfProducts</th><th scope=col>HasCrCard</th><th scope=col>IsActiveMember</th><th scope=col>EstimatedSalary</th><th scope=col>Exited</th><th scope=col>Complain</th><th scope=col>Satisfaction.Score</th><th scope=col>Card.Type</th><th scope=col>Point.Earned</th></tr>\n",
              "\t<tr><th></th><th scope=col>&lt;int&gt;</th><th scope=col>&lt;int&gt;</th><th scope=col>&lt;chr&gt;</th><th scope=col>&lt;int&gt;</th><th scope=col>&lt;chr&gt;</th><th scope=col>&lt;chr&gt;</th><th scope=col>&lt;int&gt;</th><th scope=col>&lt;int&gt;</th><th scope=col>&lt;dbl&gt;</th><th scope=col>&lt;int&gt;</th><th scope=col>&lt;int&gt;</th><th scope=col>&lt;int&gt;</th><th scope=col>&lt;dbl&gt;</th><th scope=col>&lt;int&gt;</th><th scope=col>&lt;int&gt;</th><th scope=col>&lt;int&gt;</th><th scope=col>&lt;chr&gt;</th><th scope=col>&lt;int&gt;</th></tr>\n",
              "</thead>\n",
              "<tbody>\n",
              "\t<tr><th scope=row>1</th><td>1</td><td>15634602</td><td>Hargrave</td><td>619</td><td>France</td><td>Female</td><td>42</td><td>2</td><td>     0.00</td><td>1</td><td>1</td><td>1</td><td>101348.88</td><td>1</td><td>1</td><td>2</td><td>DIAMOND</td><td>464</td></tr>\n",
              "\t<tr><th scope=row>2</th><td>2</td><td>15647311</td><td>Hill    </td><td>608</td><td>Spain </td><td>Female</td><td>41</td><td>1</td><td> 83807.86</td><td>1</td><td>0</td><td>1</td><td>112542.58</td><td>0</td><td>1</td><td>3</td><td>DIAMOND</td><td>456</td></tr>\n",
              "\t<tr><th scope=row>3</th><td>3</td><td>15619304</td><td>Onio    </td><td>502</td><td>France</td><td>Female</td><td>42</td><td>8</td><td>159660.80</td><td>3</td><td>1</td><td>0</td><td>113931.57</td><td>1</td><td>1</td><td>3</td><td>DIAMOND</td><td>377</td></tr>\n",
              "\t<tr><th scope=row>4</th><td>4</td><td>15701354</td><td>Boni    </td><td>699</td><td>France</td><td>Female</td><td>39</td><td>1</td><td>     0.00</td><td>2</td><td>0</td><td>0</td><td> 93826.63</td><td>0</td><td>0</td><td>5</td><td>GOLD   </td><td>350</td></tr>\n",
              "\t<tr><th scope=row>5</th><td>5</td><td>15737888</td><td>Mitchell</td><td>850</td><td>Spain </td><td>Female</td><td>43</td><td>2</td><td>125510.82</td><td>1</td><td>1</td><td>1</td><td> 79084.10</td><td>0</td><td>0</td><td>5</td><td>GOLD   </td><td>425</td></tr>\n",
              "\t<tr><th scope=row>6</th><td>6</td><td>15574012</td><td>Chu     </td><td>645</td><td>Spain </td><td>Male  </td><td>44</td><td>8</td><td>113755.78</td><td>2</td><td>1</td><td>0</td><td>149756.71</td><td>1</td><td>1</td><td>5</td><td>DIAMOND</td><td>484</td></tr>\n",
              "</tbody>\n",
              "</table>\n"
            ],
            "text/markdown": "\nA data.frame: 6 × 18\n\n| <!--/--> | RowNumber &lt;int&gt; | CustomerId &lt;int&gt; | Surname &lt;chr&gt; | CreditScore &lt;int&gt; | Geography &lt;chr&gt; | Gender &lt;chr&gt; | Age &lt;int&gt; | Tenure &lt;int&gt; | Balance &lt;dbl&gt; | NumOfProducts &lt;int&gt; | HasCrCard &lt;int&gt; | IsActiveMember &lt;int&gt; | EstimatedSalary &lt;dbl&gt; | Exited &lt;int&gt; | Complain &lt;int&gt; | Satisfaction.Score &lt;int&gt; | Card.Type &lt;chr&gt; | Point.Earned &lt;int&gt; |\n|---|---|---|---|---|---|---|---|---|---|---|---|---|---|---|---|---|---|---|\n| 1 | 1 | 15634602 | Hargrave | 619 | France | Female | 42 | 2 |      0.00 | 1 | 1 | 1 | 101348.88 | 1 | 1 | 2 | DIAMOND | 464 |\n| 2 | 2 | 15647311 | Hill     | 608 | Spain  | Female | 41 | 1 |  83807.86 | 1 | 0 | 1 | 112542.58 | 0 | 1 | 3 | DIAMOND | 456 |\n| 3 | 3 | 15619304 | Onio     | 502 | France | Female | 42 | 8 | 159660.80 | 3 | 1 | 0 | 113931.57 | 1 | 1 | 3 | DIAMOND | 377 |\n| 4 | 4 | 15701354 | Boni     | 699 | France | Female | 39 | 1 |      0.00 | 2 | 0 | 0 |  93826.63 | 0 | 0 | 5 | GOLD    | 350 |\n| 5 | 5 | 15737888 | Mitchell | 850 | Spain  | Female | 43 | 2 | 125510.82 | 1 | 1 | 1 |  79084.10 | 0 | 0 | 5 | GOLD    | 425 |\n| 6 | 6 | 15574012 | Chu      | 645 | Spain  | Male   | 44 | 8 | 113755.78 | 2 | 1 | 0 | 149756.71 | 1 | 1 | 5 | DIAMOND | 484 |\n\n",
            "text/latex": "A data.frame: 6 × 18\n\\begin{tabular}{r|llllllllllllllllll}\n  & RowNumber & CustomerId & Surname & CreditScore & Geography & Gender & Age & Tenure & Balance & NumOfProducts & HasCrCard & IsActiveMember & EstimatedSalary & Exited & Complain & Satisfaction.Score & Card.Type & Point.Earned\\\\\n  & <int> & <int> & <chr> & <int> & <chr> & <chr> & <int> & <int> & <dbl> & <int> & <int> & <int> & <dbl> & <int> & <int> & <int> & <chr> & <int>\\\\\n\\hline\n\t1 & 1 & 15634602 & Hargrave & 619 & France & Female & 42 & 2 &      0.00 & 1 & 1 & 1 & 101348.88 & 1 & 1 & 2 & DIAMOND & 464\\\\\n\t2 & 2 & 15647311 & Hill     & 608 & Spain  & Female & 41 & 1 &  83807.86 & 1 & 0 & 1 & 112542.58 & 0 & 1 & 3 & DIAMOND & 456\\\\\n\t3 & 3 & 15619304 & Onio     & 502 & France & Female & 42 & 8 & 159660.80 & 3 & 1 & 0 & 113931.57 & 1 & 1 & 3 & DIAMOND & 377\\\\\n\t4 & 4 & 15701354 & Boni     & 699 & France & Female & 39 & 1 &      0.00 & 2 & 0 & 0 &  93826.63 & 0 & 0 & 5 & GOLD    & 350\\\\\n\t5 & 5 & 15737888 & Mitchell & 850 & Spain  & Female & 43 & 2 & 125510.82 & 1 & 1 & 1 &  79084.10 & 0 & 0 & 5 & GOLD    & 425\\\\\n\t6 & 6 & 15574012 & Chu      & 645 & Spain  & Male   & 44 & 8 & 113755.78 & 2 & 1 & 0 & 149756.71 & 1 & 1 & 5 & DIAMOND & 484\\\\\n\\end{tabular}\n",
            "text/plain": [
              "  RowNumber CustomerId Surname  CreditScore Geography Gender Age Tenure\n",
              "1 1         15634602   Hargrave 619         France    Female 42  2     \n",
              "2 2         15647311   Hill     608         Spain     Female 41  1     \n",
              "3 3         15619304   Onio     502         France    Female 42  8     \n",
              "4 4         15701354   Boni     699         France    Female 39  1     \n",
              "5 5         15737888   Mitchell 850         Spain     Female 43  2     \n",
              "6 6         15574012   Chu      645         Spain     Male   44  8     \n",
              "  Balance   NumOfProducts HasCrCard IsActiveMember EstimatedSalary Exited\n",
              "1      0.00 1             1         1              101348.88       1     \n",
              "2  83807.86 1             0         1              112542.58       0     \n",
              "3 159660.80 3             1         0              113931.57       1     \n",
              "4      0.00 2             0         0               93826.63       0     \n",
              "5 125510.82 1             1         1               79084.10       0     \n",
              "6 113755.78 2             1         0              149756.71       1     \n",
              "  Complain Satisfaction.Score Card.Type Point.Earned\n",
              "1 1        2                  DIAMOND   464         \n",
              "2 1        3                  DIAMOND   456         \n",
              "3 1        3                  DIAMOND   377         \n",
              "4 0        5                  GOLD      350         \n",
              "5 0        5                  GOLD      425         \n",
              "6 1        5                  DIAMOND   484         "
            ]
          },
          "metadata": {}
        }
      ],
      "source": [
        "df <- read.csv(\"Customer-Churn-Records.csv\")\n",
        "head(df)"
      ]
    },
    {
      "cell_type": "markdown",
      "source": [
        "### Resultados Igualmente Probables\n",
        "¿Cuál será la probabilidad de que el cliente tenga Tarjeta de Crédito?\n",
        "\n",
        "$P(Tiene Tarjeta) = Total Clientes que tienen Tarjeta / TotalClientes$"
      ],
      "metadata": {
        "id": "ladmeqaxCRfH"
      }
    },
    {
      "cell_type": "code",
      "source": [
        "dim(df)"
      ],
      "metadata": {
        "colab": {
          "base_uri": "https://localhost:8080/",
          "height": 34
        },
        "id": "vjmnUIoGHjsB",
        "outputId": "f0ffee6b-eb5c-49d1-fe70-fe511d54e65d"
      },
      "execution_count": null,
      "outputs": [
        {
          "output_type": "display_data",
          "data": {
            "text/html": [
              "<style>\n",
              ".list-inline {list-style: none; margin:0; padding: 0}\n",
              ".list-inline>li {display: inline-block}\n",
              ".list-inline>li:not(:last-child)::after {content: \"\\00b7\"; padding: 0 .5ex}\n",
              "</style>\n",
              "<ol class=list-inline><li>10000</li><li>18</li></ol>\n"
            ],
            "text/markdown": "1. 10000\n2. 18\n\n\n",
            "text/latex": "\\begin{enumerate*}\n\\item 10000\n\\item 18\n\\end{enumerate*}\n",
            "text/plain": [
              "[1] 10000    18"
            ]
          },
          "metadata": {}
        }
      ]
    },
    {
      "cell_type": "code",
      "source": [
        "p_tarjeta <- sum(df$HasCrCard) / dim(df)[1]\n",
        "\n",
        "p_tarjeta"
      ],
      "metadata": {
        "colab": {
          "base_uri": "https://localhost:8080/",
          "height": 34
        },
        "id": "VgkwgZ_MCR0N",
        "outputId": "14b25cf4-2937-4827-8c99-15b2ed885755"
      },
      "execution_count": null,
      "outputs": [
        {
          "output_type": "display_data",
          "data": {
            "text/html": [
              "0.7055"
            ],
            "text/markdown": "0.7055",
            "text/latex": "0.7055",
            "text/plain": [
              "[1] 0.7055"
            ]
          },
          "metadata": {}
        }
      ]
    },
    {
      "cell_type": "markdown",
      "source": [
        "¿Y la probabilidad de que el cliente se haya quejado (Complain)?"
      ],
      "metadata": {
        "id": "NMa0jFdqGTlq"
      }
    },
    {
      "cell_type": "code",
      "source": [
        "p_complain <- sum(df$Complain) / dim(df)[1]\n",
        "p_complain"
      ],
      "metadata": {
        "colab": {
          "base_uri": "https://localhost:8080/",
          "height": 34
        },
        "id": "2Ev81mNPDFpC",
        "outputId": "753964af-d5a3-4cf0-c1d7-b4159a1d6b06"
      },
      "execution_count": null,
      "outputs": [
        {
          "output_type": "display_data",
          "data": {
            "text/html": [
              "0.2044"
            ],
            "text/markdown": "0.2044",
            "text/latex": "0.2044",
            "text/plain": [
              "[1] 0.2044"
            ]
          },
          "metadata": {}
        }
      ]
    },
    {
      "cell_type": "markdown",
      "source": [
        "¿Y el Complemento de una Probabilidad?\n",
        "\n",
        "$P(TieneTarjeta^\\complement)$"
      ],
      "metadata": {
        "id": "O0J2G4YoINZg"
      }
    },
    {
      "cell_type": "code",
      "source": [
        "1 - p_tarjeta"
      ],
      "metadata": {
        "colab": {
          "base_uri": "https://localhost:8080/",
          "height": 34
        },
        "id": "bKzORJaMICHE",
        "outputId": "76f7d4c0-10d7-4ed1-dee6-289c711587c9"
      },
      "execution_count": null,
      "outputs": [
        {
          "output_type": "display_data",
          "data": {
            "text/html": [
              "0.2945"
            ],
            "text/markdown": "0.2945",
            "text/latex": "0.2945",
            "text/plain": [
              "[1] 0.2945"
            ]
          },
          "metadata": {}
        }
      ]
    },
    {
      "cell_type": "markdown",
      "source": [
        "### Probabilidad de Dos eventos\n",
        "\n",
        "- Intersección\n",
        "\n",
        "$P(España \\land Male)$"
      ],
      "metadata": {
        "id": "Hy_trjziGirg"
      }
    },
    {
      "cell_type": "code",
      "source": [
        "# Tabla de Frecuencia\n",
        "\n",
        "table(df$Gender, df$Geography)"
      ],
      "metadata": {
        "colab": {
          "base_uri": "https://localhost:8080/",
          "height": 86
        },
        "id": "Gh0FwT3QHAiC",
        "outputId": "1dafe382-aaf9-4f6e-e080-d4920cf768b1"
      },
      "execution_count": null,
      "outputs": [
        {
          "output_type": "display_data",
          "data": {
            "text/plain": [
              "        \n",
              "         France Germany Spain\n",
              "  Female   2261    1193  1089\n",
              "  Male     2753    1316  1388"
            ]
          },
          "metadata": {}
        }
      ]
    },
    {
      "cell_type": "code",
      "source": [
        "1388 / 10000\n",
        "\n",
        "#1388 / dim(df)[1]\n"
      ],
      "metadata": {
        "colab": {
          "base_uri": "https://localhost:8080/",
          "height": 34
        },
        "id": "gGoBYF6bHf_U",
        "outputId": "066bb2bf-10a9-4850-dae0-5f1382632c28"
      },
      "execution_count": null,
      "outputs": [
        {
          "output_type": "display_data",
          "data": {
            "text/html": [
              "0.1388"
            ],
            "text/markdown": "0.1388",
            "text/latex": "0.1388",
            "text/plain": [
              "[1] 0.1388"
            ]
          },
          "metadata": {}
        }
      ]
    },
    {
      "cell_type": "code",
      "source": [
        "sum(df$Gender == \"Male\" & df$Geography == \"Spain\") / dim(df)[1]"
      ],
      "metadata": {
        "colab": {
          "base_uri": "https://localhost:8080/",
          "height": 34
        },
        "id": "ivVi7PaoKvyr",
        "outputId": "5480b9a3-824c-4897-b7b5-dd92a82d6c0b"
      },
      "execution_count": null,
      "outputs": [
        {
          "output_type": "display_data",
          "data": {
            "text/html": [
              "0.1388"
            ],
            "text/markdown": "0.1388",
            "text/latex": "0.1388",
            "text/plain": [
              "[1] 0.1388"
            ]
          },
          "metadata": {}
        }
      ]
    },
    {
      "cell_type": "markdown",
      "source": [
        "- Unión\n",
        "\n",
        "$P(Spain \\lor Male)$"
      ],
      "metadata": {
        "id": "pWNxZvqKJESx"
      }
    },
    {
      "cell_type": "code",
      "source": [
        "addmargins( table(df$Gender, df$Geography) )"
      ],
      "metadata": {
        "colab": {
          "base_uri": "https://localhost:8080/",
          "height": 161
        },
        "id": "6vhPcPfFIK-R",
        "outputId": "5ea1cb79-423b-49fd-cde6-3a8c1b0df271"
      },
      "execution_count": null,
      "outputs": [
        {
          "output_type": "display_data",
          "data": {
            "text/html": [
              "<table class=\"dataframe\">\n",
              "<caption>A table: 3 × 4 of type dbl</caption>\n",
              "<thead>\n",
              "\t<tr><th></th><th scope=col>France</th><th scope=col>Germany</th><th scope=col>Spain</th><th scope=col>Sum</th></tr>\n",
              "</thead>\n",
              "<tbody>\n",
              "\t<tr><th scope=row>Female</th><td>2261</td><td>1193</td><td>1089</td><td> 4543</td></tr>\n",
              "\t<tr><th scope=row>Male</th><td>2753</td><td>1316</td><td>1388</td><td> 5457</td></tr>\n",
              "\t<tr><th scope=row>Sum</th><td>5014</td><td>2509</td><td>2477</td><td>10000</td></tr>\n",
              "</tbody>\n",
              "</table>\n"
            ],
            "text/markdown": "\nA table: 3 × 4 of type dbl\n\n| <!--/--> | France | Germany | Spain | Sum |\n|---|---|---|---|---|\n| Female | 2261 | 1193 | 1089 |  4543 |\n| Male | 2753 | 1316 | 1388 |  5457 |\n| Sum | 5014 | 2509 | 2477 | 10000 |\n\n",
            "text/latex": "A table: 3 × 4 of type dbl\n\\begin{tabular}{r|llll}\n  & France & Germany & Spain & Sum\\\\\n\\hline\n\tFemale & 2261 & 1193 & 1089 &  4543\\\\\n\tMale & 2753 & 1316 & 1388 &  5457\\\\\n\tSum & 5014 & 2509 & 2477 & 10000\\\\\n\\end{tabular}\n",
            "text/plain": [
              "        \n",
              "         France Germany Spain Sum  \n",
              "  Female 2261   1193    1089   4543\n",
              "  Male   2753   1316    1388   5457\n",
              "  Sum    5014   2509    2477  10000"
            ]
          },
          "metadata": {}
        }
      ]
    },
    {
      "cell_type": "code",
      "source": [
        "(2753 + 1316 + 1388 + 1089) / 10000\n",
        "\n",
        "(5457 + 1089) / 10000"
      ],
      "metadata": {
        "colab": {
          "base_uri": "https://localhost:8080/",
          "height": 52
        },
        "id": "uWJ6s4g0JC_U",
        "outputId": "c6b8a473-5864-460c-d241-f467e526244b"
      },
      "execution_count": null,
      "outputs": [
        {
          "output_type": "display_data",
          "data": {
            "text/html": [
              "0.6546"
            ],
            "text/markdown": "0.6546",
            "text/latex": "0.6546",
            "text/plain": [
              "[1] 0.6546"
            ]
          },
          "metadata": {}
        },
        {
          "output_type": "display_data",
          "data": {
            "text/html": [
              "0.6546"
            ],
            "text/markdown": "0.6546",
            "text/latex": "0.6546",
            "text/plain": [
              "[1] 0.6546"
            ]
          },
          "metadata": {}
        }
      ]
    },
    {
      "cell_type": "code",
      "source": [
        "sum(df$Gender == \"Male\" | df$Geography == \"Spain\") / dim(df)[1]"
      ],
      "metadata": {
        "colab": {
          "base_uri": "https://localhost:8080/",
          "height": 34
        },
        "id": "2LYZueKYKGPd",
        "outputId": "f9ff2735-7d27-4d8e-c699-f97e59fad009"
      },
      "execution_count": null,
      "outputs": [
        {
          "output_type": "display_data",
          "data": {
            "text/html": [
              "0.6546"
            ],
            "text/markdown": "0.6546",
            "text/latex": "0.6546",
            "text/plain": [
              "[1] 0.6546"
            ]
          },
          "metadata": {}
        }
      ]
    },
    {
      "cell_type": "markdown",
      "source": [
        "\n",
        "Como no son eventos independientes, también puedo calcularlo así (Regla de la Adición):\n",
        "\n",
        "$P(Spain \\lor Male) = P(Spain) + P(Male) - P(Spain \\land Male) $\n"
      ],
      "metadata": {
        "id": "1iDqUIQCLoKH"
      }
    },
    {
      "cell_type": "code",
      "source": [
        "p_spain <- sum(df$Geography == \"Spain\") / dim(df)[1]\n",
        "p_male <- sum(df$Gender == \"Male\") / dim(df)[1]\n",
        "p_spain_and_male <- sum(df$Geography == \"Spain\" & df$Gender == \"Male\") / dim(df)[1]\n",
        "\n",
        "p_spain_or_male <- p_spain + p_male - p_spain_and_male\n",
        "p_spain_or_male"
      ],
      "metadata": {
        "colab": {
          "base_uri": "https://localhost:8080/",
          "height": 34
        },
        "id": "tUa00AZ-Mu0E",
        "outputId": "1de87d5c-90f1-4079-9d85-61f51d0dc981"
      },
      "execution_count": null,
      "outputs": [
        {
          "output_type": "display_data",
          "data": {
            "text/html": [
              "0.6546"
            ],
            "text/markdown": "0.6546",
            "text/latex": "0.6546",
            "text/plain": [
              "[1] 0.6546"
            ]
          },
          "metadata": {}
        }
      ]
    },
    {
      "cell_type": "code",
      "source": [
        "(sum(df$Geography == \"Spain\") + sum(df$Gender == \"Male\") - sum(df$Geography == \"Spain\" & df$Gender == \"Male\") ) / dim(df)[1]\n"
      ],
      "metadata": {
        "colab": {
          "base_uri": "https://localhost:8080/",
          "height": 34
        },
        "id": "p6QWMPeDKD1S",
        "outputId": "b035c0fa-a1f3-407d-eaa9-f3afeb852c45"
      },
      "execution_count": null,
      "outputs": [
        {
          "output_type": "display_data",
          "data": {
            "text/html": [
              "0.6546"
            ],
            "text/markdown": "0.6546",
            "text/latex": "0.6546",
            "text/plain": [
              "[1] 0.6546"
            ]
          },
          "metadata": {}
        }
      ]
    },
    {
      "cell_type": "markdown",
      "source": [
        "### Eventos Mutuamente Excluyentes\n",
        "\n",
        "Para la Probabilidad de, digamos, que una persona sea de España o de Alemania.\n",
        "\n",
        "En este Dataset, no tengo doble nacionalidad, así que los eventos son mutuamente excluyentes. ¿Cómo podía calcular la probabilidad en estos casos?"
      ],
      "metadata": {
        "id": "ws9XT2ctK4Z9"
      }
    },
    {
      "cell_type": "markdown",
      "source": [
        "$P(A \\land B) = 0$\n",
        "\n",
        "$P(A \\lor B) = P(A) + P(B)$"
      ],
      "metadata": {
        "id": "WhCsLsYP3uHU"
      }
    },
    {
      "cell_type": "code",
      "source": [
        "p_Espana <- sum(df$Geography == \"Spain\") / dim(df)[1]\n",
        "p_Alemania <- sum(df$Geography == \"Germany\") / dim(df)[1]\n",
        "\n",
        "p_espana_o_alemania <- p_Espana + p_Alemania\n",
        "p_espana_o_alemania"
      ],
      "metadata": {
        "colab": {
          "base_uri": "https://localhost:8080/",
          "height": 34
        },
        "id": "1xdgPMf2KrzW",
        "outputId": "3de6e41b-ca3f-4df1-f9f7-c2a830495b9c"
      },
      "execution_count": null,
      "outputs": [
        {
          "output_type": "display_data",
          "data": {
            "text/html": [
              "0.4986"
            ],
            "text/markdown": "0.4986",
            "text/latex": "0.4986",
            "text/plain": [
              "[1] 0.4986"
            ]
          },
          "metadata": {}
        }
      ]
    },
    {
      "cell_type": "markdown",
      "source": [
        "### Probabilidad Condicional\n",
        "\n",
        "Recuerda que:\n",
        "\n",
        "$P(A|B)=P(A \\land B)/P(B)$\n",
        "\n",
        "Por lo tanto, ¿cómo puedo calcular la Probabilidad de que alguien tenga Tarjeta de Crédito **Dado que** gana más de $100,000 ?\n",
        "\n",
        "\n",
        "$P(TieneTarjeta|Mas\\$100,000)=P(TieneTarjeta \\land Mas\\$100,000)/\n",
        "P(Mas\\$100,000)$\n"
      ],
      "metadata": {
        "id": "1aAEASCtNQPl"
      }
    },
    {
      "cell_type": "code",
      "source": [
        "head( df[, c(\"HasCrCard\", \"EstimatedSalary\")] )"
      ],
      "metadata": {
        "colab": {
          "base_uri": "https://localhost:8080/",
          "height": 286
        },
        "id": "1OufwCA5LVgM",
        "outputId": "53397d7a-37f0-4495-9341-22ae2ebb6555"
      },
      "execution_count": null,
      "outputs": [
        {
          "output_type": "display_data",
          "data": {
            "text/html": [
              "<table class=\"dataframe\">\n",
              "<caption>A data.frame: 6 × 2</caption>\n",
              "<thead>\n",
              "\t<tr><th></th><th scope=col>HasCrCard</th><th scope=col>EstimatedSalary</th></tr>\n",
              "\t<tr><th></th><th scope=col>&lt;int&gt;</th><th scope=col>&lt;dbl&gt;</th></tr>\n",
              "</thead>\n",
              "<tbody>\n",
              "\t<tr><th scope=row>1</th><td>1</td><td>101348.88</td></tr>\n",
              "\t<tr><th scope=row>2</th><td>0</td><td>112542.58</td></tr>\n",
              "\t<tr><th scope=row>3</th><td>1</td><td>113931.57</td></tr>\n",
              "\t<tr><th scope=row>4</th><td>0</td><td> 93826.63</td></tr>\n",
              "\t<tr><th scope=row>5</th><td>1</td><td> 79084.10</td></tr>\n",
              "\t<tr><th scope=row>6</th><td>1</td><td>149756.71</td></tr>\n",
              "</tbody>\n",
              "</table>\n"
            ],
            "text/markdown": "\nA data.frame: 6 × 2\n\n| <!--/--> | HasCrCard &lt;int&gt; | EstimatedSalary &lt;dbl&gt; |\n|---|---|---|\n| 1 | 1 | 101348.88 |\n| 2 | 0 | 112542.58 |\n| 3 | 1 | 113931.57 |\n| 4 | 0 |  93826.63 |\n| 5 | 1 |  79084.10 |\n| 6 | 1 | 149756.71 |\n\n",
            "text/latex": "A data.frame: 6 × 2\n\\begin{tabular}{r|ll}\n  & HasCrCard & EstimatedSalary\\\\\n  & <int> & <dbl>\\\\\n\\hline\n\t1 & 1 & 101348.88\\\\\n\t2 & 0 & 112542.58\\\\\n\t3 & 1 & 113931.57\\\\\n\t4 & 0 &  93826.63\\\\\n\t5 & 1 &  79084.10\\\\\n\t6 & 1 & 149756.71\\\\\n\\end{tabular}\n",
            "text/plain": [
              "  HasCrCard EstimatedSalary\n",
              "1 1         101348.88      \n",
              "2 0         112542.58      \n",
              "3 1         113931.57      \n",
              "4 0          93826.63      \n",
              "5 1          79084.10      \n",
              "6 1         149756.71      "
            ]
          },
          "metadata": {}
        }
      ]
    },
    {
      "cell_type": "code",
      "source": [
        "df[\"Salary_Above_100000\"] <- df[\"EstimatedSalary\"] > 100000\n",
        "\n",
        "head( df[\"Salary_Above_100000\"] )"
      ],
      "metadata": {
        "colab": {
          "base_uri": "https://localhost:8080/",
          "height": 286
        },
        "id": "7n2xy0mShBXf",
        "outputId": "e00326e1-bbac-4152-eb7b-9fd417d0c6bb"
      },
      "execution_count": null,
      "outputs": [
        {
          "output_type": "display_data",
          "data": {
            "text/html": [
              "<table class=\"dataframe\">\n",
              "<caption>A data.frame: 6 × 1</caption>\n",
              "<thead>\n",
              "\t<tr><th></th><th scope=col>Salary_Above_100000</th></tr>\n",
              "\t<tr><th></th><th scope=col>&lt;lgl[,1]&gt;</th></tr>\n",
              "</thead>\n",
              "<tbody>\n",
              "\t<tr><th scope=row>1</th><td> TRUE</td></tr>\n",
              "\t<tr><th scope=row>2</th><td> TRUE</td></tr>\n",
              "\t<tr><th scope=row>3</th><td> TRUE</td></tr>\n",
              "\t<tr><th scope=row>4</th><td>FALSE</td></tr>\n",
              "\t<tr><th scope=row>5</th><td>FALSE</td></tr>\n",
              "\t<tr><th scope=row>6</th><td> TRUE</td></tr>\n",
              "</tbody>\n",
              "</table>\n"
            ],
            "text/markdown": "\nA data.frame: 6 × 1\n\n| <!--/--> | Salary_Above_100000 &lt;lgl[,1]&gt; |\n|---|---|\n| 1 |  TRUE |\n| 2 |  TRUE |\n| 3 |  TRUE |\n| 4 | FALSE |\n| 5 | FALSE |\n| 6 |  TRUE |\n\n",
            "text/latex": "A data.frame: 6 × 1\n\\begin{tabular}{r|l}\n  & Salary\\_Above\\_100000\\\\\n  & <lgl{[},1{]}>\\\\\n\\hline\n\t1 &  TRUE\\\\\n\t2 &  TRUE\\\\\n\t3 &  TRUE\\\\\n\t4 & FALSE\\\\\n\t5 & FALSE\\\\\n\t6 &  TRUE\\\\\n\\end{tabular}\n",
            "text/plain": [
              "  Salary_Above_100000\n",
              "1  TRUE              \n",
              "2  TRUE              \n",
              "3  TRUE              \n",
              "4 FALSE              \n",
              "5 FALSE              \n",
              "6  TRUE              "
            ]
          },
          "metadata": {}
        }
      ]
    },
    {
      "cell_type": "markdown",
      "source": [
        "Por cierto, recuerda que en prácticamente todos los Lenguajes de Programación, los TRUE equivalen a un 1, y los FALSE, a un 0.\n",
        "\n",
        "Esto queda más claro cuando decido, por ejemplo, sumar 0 a todos los resultados."
      ],
      "metadata": {
        "id": "Vkv2P_N5id5k"
      }
    },
    {
      "cell_type": "code",
      "source": [
        "df[\"Salary_Above_100000\"] <- df[\"Salary_Above_100000\"] + 0\n",
        "head( df[\"Salary_Above_100000\"] )"
      ],
      "metadata": {
        "colab": {
          "base_uri": "https://localhost:8080/",
          "height": 286
        },
        "id": "VvlcZkH3iQQn",
        "outputId": "cfe4b2d6-b40e-4402-f0e7-c280f906f898"
      },
      "execution_count": null,
      "outputs": [
        {
          "output_type": "display_data",
          "data": {
            "text/html": [
              "<table class=\"dataframe\">\n",
              "<caption>A data.frame: 6 × 1</caption>\n",
              "<thead>\n",
              "\t<tr><th></th><th scope=col>Salary_Above_100000</th></tr>\n",
              "\t<tr><th></th><th scope=col>&lt;dbl&gt;</th></tr>\n",
              "</thead>\n",
              "<tbody>\n",
              "\t<tr><th scope=row>1</th><td>1</td></tr>\n",
              "\t<tr><th scope=row>2</th><td>1</td></tr>\n",
              "\t<tr><th scope=row>3</th><td>1</td></tr>\n",
              "\t<tr><th scope=row>4</th><td>0</td></tr>\n",
              "\t<tr><th scope=row>5</th><td>0</td></tr>\n",
              "\t<tr><th scope=row>6</th><td>1</td></tr>\n",
              "</tbody>\n",
              "</table>\n"
            ],
            "text/markdown": "\nA data.frame: 6 × 1\n\n| <!--/--> | Salary_Above_100000 &lt;dbl&gt; |\n|---|---|\n| 1 | 1 |\n| 2 | 1 |\n| 3 | 1 |\n| 4 | 0 |\n| 5 | 0 |\n| 6 | 1 |\n\n",
            "text/latex": "A data.frame: 6 × 1\n\\begin{tabular}{r|l}\n  & Salary\\_Above\\_100000\\\\\n  & <dbl>\\\\\n\\hline\n\t1 & 1\\\\\n\t2 & 1\\\\\n\t3 & 1\\\\\n\t4 & 0\\\\\n\t5 & 0\\\\\n\t6 & 1\\\\\n\\end{tabular}\n",
            "text/plain": [
              "  Salary_Above_100000\n",
              "1 1                  \n",
              "2 1                  \n",
              "3 1                  \n",
              "4 0                  \n",
              "5 0                  \n",
              "6 1                  "
            ]
          },
          "metadata": {}
        }
      ]
    },
    {
      "cell_type": "markdown",
      "source": [
        "Ahora sí, ¿cómo calculo esto?\n",
        "\n",
        "$ P(TieneTarjeta \\land Mas\\$100,000) $"
      ],
      "metadata": {
        "id": "OF0OWMK5izOD"
      }
    },
    {
      "cell_type": "code",
      "source": [
        "p_tarjeta_y_mas100000 <- sum( df[\"HasCrCard\"] & df[\"Salary_Above_100000\"] ) / dim(df)[1]\n",
        "p_tarjeta_y_mas100000"
      ],
      "metadata": {
        "colab": {
          "base_uri": "https://localhost:8080/",
          "height": 34
        },
        "id": "AZf6lYXQiZb8",
        "outputId": "00156ace-b0a2-4c4c-81e1-acd672963730"
      },
      "execution_count": null,
      "outputs": [
        {
          "output_type": "display_data",
          "data": {
            "text/html": [
              "0.351"
            ],
            "text/markdown": "0.351",
            "text/latex": "0.351",
            "text/plain": [
              "[1] 0.351"
            ]
          },
          "metadata": {}
        }
      ]
    },
    {
      "cell_type": "code",
      "source": [
        "p_mas100000 <- sum( df[\"Salary_Above_100000\"] ) / dim(df)[1]\n",
        "p_mas100000"
      ],
      "metadata": {
        "colab": {
          "base_uri": "https://localhost:8080/",
          "height": 34
        },
        "id": "IiFxouzKi9Ky",
        "outputId": "fd21aa7f-4ccc-4e28-fff9-6c9be56ca813"
      },
      "execution_count": null,
      "outputs": [
        {
          "output_type": "display_data",
          "data": {
            "text/html": [
              "0.501"
            ],
            "text/markdown": "0.501",
            "text/latex": "0.501",
            "text/plain": [
              "[1] 0.501"
            ]
          },
          "metadata": {}
        }
      ]
    },
    {
      "cell_type": "code",
      "source": [
        "p_tarjeta_dado_mas100000 <- p_tarjeta_y_mas100000 / p_mas100000\n",
        "p_tarjeta_dado_mas100000"
      ],
      "metadata": {
        "colab": {
          "base_uri": "https://localhost:8080/",
          "height": 34
        },
        "id": "reFti6j-j_kf",
        "outputId": "3aad486c-2d7b-46d1-c13a-b28057a3cf1d"
      },
      "execution_count": null,
      "outputs": [
        {
          "output_type": "display_data",
          "data": {
            "text/html": [
              "0.70059880239521"
            ],
            "text/markdown": "0.70059880239521",
            "text/latex": "0.70059880239521",
            "text/plain": [
              "[1] 0.7005988"
            ]
          },
          "metadata": {}
        }
      ]
    },
    {
      "cell_type": "markdown",
      "source": [
        "Es decir, 70.06 % Aproximadamente."
      ],
      "metadata": {
        "id": "n8mS0eOLkL8e"
      }
    },
    {
      "cell_type": "code",
      "source": [
        "addmargins( table(df$HasCrCard, df$Salary_Above_100000) )"
      ],
      "metadata": {
        "colab": {
          "base_uri": "https://localhost:8080/",
          "height": 161
        },
        "id": "3tsgcBwOkINa",
        "outputId": "fa9aa156-72fe-48d0-c237-8eae915e5767"
      },
      "execution_count": null,
      "outputs": [
        {
          "output_type": "display_data",
          "data": {
            "text/html": [
              "<table class=\"dataframe\">\n",
              "<caption>A table: 3 × 3 of type dbl</caption>\n",
              "<thead>\n",
              "\t<tr><th></th><th scope=col>0</th><th scope=col>1</th><th scope=col>Sum</th></tr>\n",
              "</thead>\n",
              "<tbody>\n",
              "\t<tr><th scope=row>0</th><td>1445</td><td>1500</td><td> 2945</td></tr>\n",
              "\t<tr><th scope=row>1</th><td>3545</td><td>3510</td><td> 7055</td></tr>\n",
              "\t<tr><th scope=row>Sum</th><td>4990</td><td>5010</td><td>10000</td></tr>\n",
              "</tbody>\n",
              "</table>\n"
            ],
            "text/markdown": "\nA table: 3 × 3 of type dbl\n\n| <!--/--> | 0 | 1 | Sum |\n|---|---|---|---|\n| 0 | 1445 | 1500 |  2945 |\n| 1 | 3545 | 3510 |  7055 |\n| Sum | 4990 | 5010 | 10000 |\n\n",
            "text/latex": "A table: 3 × 3 of type dbl\n\\begin{tabular}{r|lll}\n  & 0 & 1 & Sum\\\\\n\\hline\n\t0 & 1445 & 1500 &  2945\\\\\n\t1 & 3545 & 3510 &  7055\\\\\n\tSum & 4990 & 5010 & 10000\\\\\n\\end{tabular}\n",
            "text/plain": [
              "     \n",
              "      0    1    Sum  \n",
              "  0   1445 1500  2945\n",
              "  1   3545 3510  7055\n",
              "  Sum 4990 5010 10000"
            ]
          },
          "metadata": {}
        }
      ]
    },
    {
      "cell_type": "code",
      "source": [
        "3510/5010"
      ],
      "metadata": {
        "colab": {
          "base_uri": "https://localhost:8080/",
          "height": 34
        },
        "id": "UiClle9NknuQ",
        "outputId": "d1c81872-cbc1-44ca-a5bf-74fb0617d850"
      },
      "execution_count": null,
      "outputs": [
        {
          "output_type": "display_data",
          "data": {
            "text/html": [
              "0.70059880239521"
            ],
            "text/markdown": "0.70059880239521",
            "text/latex": "0.70059880239521",
            "text/plain": [
              "[1] 0.7005988"
            ]
          },
          "metadata": {}
        }
      ]
    },
    {
      "cell_type": "markdown",
      "source": [
        "¡Ojo!\n",
        "\n",
        "Recuerda que:\n",
        "\n",
        "$ P(A|B) \\neq P(B|A) $\n",
        "\n",
        "y que dos eventos son **Independientes** si y solo si,\n",
        "\n",
        "$ P(A|B) = P(A) $\n",
        "\n",
        "Además, la independencia no es lo mismo que dos eventos sean mutuamente excluyentes.\n",
        "\n",
        "Cuando dos eventos son independientes, tenemos que:\n",
        "\n",
        "$ P(A \\land B) = P(A)P(B) $\n",
        "\n",
        "Pregunta:\n",
        "\n",
        "¿Que una persona tenga tarjeta de crédito es independiente de que gane más de $100,000?\n",
        "\n",
        "Entonces, hay otra forma de calcular esto:\n",
        "\n",
        "$ P(TieneTarjeta \\land Mas\\$100,000) $\n"
      ],
      "metadata": {
        "id": "xWA4kn7_lg25"
      }
    },
    {
      "cell_type": "code",
      "source": [
        "# Hace rato\n",
        "\n",
        "p_tarjeta_y_mas100000 <- sum( df[\"HasCrCard\"] & df[\"Salary_Above_100000\"] ) / dim(df)[1]\n",
        "p_tarjeta_y_mas100000"
      ],
      "metadata": {
        "colab": {
          "base_uri": "https://localhost:8080/",
          "height": 34
        },
        "id": "wFtPNov6lCxy",
        "outputId": "57dc470d-4765-4cf0-bb26-06b5d53e04f6"
      },
      "execution_count": null,
      "outputs": [
        {
          "output_type": "display_data",
          "data": {
            "text/html": [
              "0.351"
            ],
            "text/markdown": "0.351",
            "text/latex": "0.351",
            "text/plain": [
              "[1] 0.351"
            ]
          },
          "metadata": {}
        }
      ]
    },
    {
      "cell_type": "code",
      "source": [
        "p_tarjeta"
      ],
      "metadata": {
        "colab": {
          "base_uri": "https://localhost:8080/",
          "height": 34
        },
        "id": "2oY_uV3M7KJO",
        "outputId": "4f30baec-33d7-4ac9-da70-5bd0e48c87d1"
      },
      "execution_count": null,
      "outputs": [
        {
          "output_type": "display_data",
          "data": {
            "text/html": [
              "0.7055"
            ],
            "text/markdown": "0.7055",
            "text/latex": "0.7055",
            "text/plain": [
              "[1] 0.7055"
            ]
          },
          "metadata": {}
        }
      ]
    },
    {
      "cell_type": "code",
      "source": [
        "p_mas100000"
      ],
      "metadata": {
        "colab": {
          "base_uri": "https://localhost:8080/",
          "height": 34
        },
        "id": "28UDXQvi7KMz",
        "outputId": "0710c308-5fca-4d71-cbdb-ccb46a464d13"
      },
      "execution_count": null,
      "outputs": [
        {
          "output_type": "display_data",
          "data": {
            "text/html": [
              "0.501"
            ],
            "text/markdown": "0.501",
            "text/latex": "0.501",
            "text/plain": [
              "[1] 0.501"
            ]
          },
          "metadata": {}
        }
      ]
    },
    {
      "cell_type": "code",
      "source": [
        "p_tarjeta * p_mas100000"
      ],
      "metadata": {
        "colab": {
          "base_uri": "https://localhost:8080/",
          "height": 34
        },
        "id": "fPK875Z77Up8",
        "outputId": "3f5e0166-9bf6-40aa-8430-610531aa141e"
      },
      "execution_count": null,
      "outputs": [
        {
          "output_type": "display_data",
          "data": {
            "text/html": [
              "0.3534555"
            ],
            "text/markdown": "0.3534555",
            "text/latex": "0.3534555",
            "text/plain": [
              "[1] 0.3534555"
            ]
          },
          "metadata": {}
        }
      ]
    },
    {
      "cell_type": "markdown",
      "source": [
        "$ P(A \\land B) \\neq P(A)P(B) $\n",
        "\n",
        "Entonces los eventos no fueron independientes."
      ],
      "metadata": {
        "id": "5afrA6c-7uWl"
      }
    },
    {
      "cell_type": "markdown",
      "source": [
        "Incluso, podemos usar R a nuestro favor para confirmar cosas más complejas.\n",
        "\n",
        "Por ejemplo, el Teorema de la Probabilidad Total.\n",
        "\n",
        "$ 𝑃 (𝐵) = \\sum P(A_i \\land B) $\n",
        "\n",
        "$ 𝑃 (𝐵) = \\sum P(B|A_i)P(A_i) $\n",
        "\n",
        "\n",
        "Vamos a calcular de esta manera:\n",
        "\n",
        "$P(B)$\n",
        "\n",
        "Dado que:\n",
        "\n",
        "$A_1$ = La persona es de España\n",
        "\n",
        "$A_2$ = La persona es de Francia\n",
        "\n",
        "$A_3$ = La persona es de Alemania\n",
        "\n",
        "$B$ = La persona gana más de $100,000"
      ],
      "metadata": {
        "id": "Xp_LrsQZpVXd"
      }
    },
    {
      "cell_type": "code",
      "source": [
        "p_mas100000"
      ],
      "metadata": {
        "colab": {
          "base_uri": "https://localhost:8080/",
          "height": 34
        },
        "id": "PtbIWsZPn8wK",
        "outputId": "ac7a3ccf-4095-4d47-b3a7-31f385ec395c"
      },
      "execution_count": null,
      "outputs": [
        {
          "output_type": "display_data",
          "data": {
            "text/html": [
              "0.501"
            ],
            "text/markdown": "0.501",
            "text/latex": "0.501",
            "text/plain": [
              "[1] 0.501"
            ]
          },
          "metadata": {}
        }
      ]
    },
    {
      "cell_type": "code",
      "source": [
        "espana <- df[\"Geography\"] == \"Spain\"\n",
        "p_espana_y_mas100000 <- sum(espana & df[\"Salary_Above_100000\"] ) / dim(df)[1]\n",
        "p_espana_y_mas100000"
      ],
      "metadata": {
        "colab": {
          "base_uri": "https://localhost:8080/",
          "height": 34
        },
        "id": "4iAUiYdEqwKu",
        "outputId": "0a374394-0982-4c1d-c31c-baba3b416780"
      },
      "execution_count": null,
      "outputs": [
        {
          "output_type": "display_data",
          "data": {
            "text/html": [
              "0.1238"
            ],
            "text/markdown": "0.1238",
            "text/latex": "0.1238",
            "text/plain": [
              "[1] 0.1238"
            ]
          },
          "metadata": {}
        }
      ]
    },
    {
      "cell_type": "code",
      "source": [
        "francia <- df[\"Geography\"] == \"France\"\n",
        "p_francia_y_mas100000 <- sum(francia & df[\"Salary_Above_100000\"] ) / dim(df)[1]\n",
        "p_francia_y_mas100000\n",
        "\n",
        "alemania <- df[\"Geography\"] == \"Germany\"\n",
        "p_alemania_y_mas100000 <- sum(alemania & df[\"Salary_Above_100000\"] ) / dim(df)[1]\n",
        "p_alemania_y_mas100000"
      ],
      "metadata": {
        "colab": {
          "base_uri": "https://localhost:8080/",
          "height": 52
        },
        "id": "yLG4KQZNq_cJ",
        "outputId": "ba67a544-af9e-4b75-918f-d500e444f91f"
      },
      "execution_count": null,
      "outputs": [
        {
          "output_type": "display_data",
          "data": {
            "text/html": [
              "0.2495"
            ],
            "text/markdown": "0.2495",
            "text/latex": "0.2495",
            "text/plain": [
              "[1] 0.2495"
            ]
          },
          "metadata": {}
        },
        {
          "output_type": "display_data",
          "data": {
            "text/html": [
              "0.1277"
            ],
            "text/markdown": "0.1277",
            "text/latex": "0.1277",
            "text/plain": [
              "[1] 0.1277"
            ]
          },
          "metadata": {}
        }
      ]
    },
    {
      "cell_type": "code",
      "source": [
        "p_espana_y_mas100000 + p_francia_y_mas100000 + p_alemania_y_mas100000"
      ],
      "metadata": {
        "colab": {
          "base_uri": "https://localhost:8080/",
          "height": 34
        },
        "id": "9q-rtngXrhiZ",
        "outputId": "58070ad1-0406-42ae-ed6f-0b4add8ef959"
      },
      "execution_count": null,
      "outputs": [
        {
          "output_type": "display_data",
          "data": {
            "text/html": [
              "0.501"
            ],
            "text/markdown": "0.501",
            "text/latex": "0.501",
            "text/plain": [
              "[1] 0.501"
            ]
          },
          "metadata": {}
        }
      ]
    },
    {
      "cell_type": "code",
      "source": [],
      "metadata": {
        "id": "g5wMFcMprnDc"
      },
      "execution_count": null,
      "outputs": []
    }
  ]
}