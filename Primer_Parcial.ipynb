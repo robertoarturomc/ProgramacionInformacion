{
  "nbformat": 4,
  "nbformat_minor": 0,
  "metadata": {
    "colab": {
      "provenance": [],
      "authorship_tag": "ABX9TyNj3yVG03gQK77wQXcjAd6P",
      "include_colab_link": true
    },
    "kernelspec": {
      "name": "python3",
      "display_name": "Python 3"
    },
    "language_info": {
      "name": "python"
    }
  },
  "cells": [
    {
      "cell_type": "markdown",
      "metadata": {
        "id": "view-in-github",
        "colab_type": "text"
      },
      "source": [
        "<a href=\"https://colab.research.google.com/github/robertoarturomc/ProgramacionInformacion/blob/main/Primer_Parcial.ipynb\" target=\"_parent\"><img src=\"https://colab.research.google.com/assets/colab-badge.svg\" alt=\"Open In Colab\"/></a>"
      ]
    },
    {
      "cell_type": "markdown",
      "source": [
        "### Programacion de la Informacion\n",
        "# Primer Parcial\n",
        "\n",
        "Contesta este cuaderno. El trabajo es **INDIVIDUAL**, pero puedes utilizar la herramienta en tu computadora que creas necesario.\n",
        "\n",
        "Al finalizar, ve a `Archivo -> Descargar` y comparte el archivo en formato `.ipynb` en el espacio correspondiente en Brightspace. No es necesario que agregues tu nombre.\n",
        "\n",
        "Exito!"
      ],
      "metadata": {
        "id": "4CUE5v7w2Po6"
      }
    },
    {
      "cell_type": "markdown",
      "source": [
        "## 1. (2 puntos) Comentarios\n",
        "\n",
        "Veamos si aprendiste a ocupar los comentarios. Contesta las siguientes preguntas. Antes de tu respuesta, coloca el símbolo necesario, para que tu respuesta quede como comentario de Python.\n",
        "### ¿Cuál es la diferencia entre un algoritmo y un programa?"
      ],
      "metadata": {
        "id": "iNhlq9eyL47h"
      }
    },
    {
      "cell_type": "code",
      "source": [],
      "metadata": {
        "id": "f3b6E276L2tC"
      },
      "execution_count": null,
      "outputs": []
    },
    {
      "cell_type": "markdown",
      "source": [
        "### ¿Por qué la necesidad de tantos lenguajes de programación?"
      ],
      "metadata": {
        "id": "kCYJfl6JMAuD"
      }
    },
    {
      "cell_type": "code",
      "source": [],
      "metadata": {
        "id": "VJ0b82gOMA6H"
      },
      "execution_count": null,
      "outputs": []
    },
    {
      "cell_type": "markdown",
      "source": [
        "## 2. (2 Puntos) Ocupa la operación correspondiente para saber si lo siguiente se cumple:\n",
        "\n",
        "(Tip: no usar la división \"normal\" -> `/`)\n",
        "\n",
        "### 2577 es divisible entre 7"
      ],
      "metadata": {
        "id": "UQpg2HCuUhH7"
      }
    },
    {
      "cell_type": "code",
      "source": [],
      "metadata": {
        "id": "w1Ithhh-XKUu"
      },
      "execution_count": null,
      "outputs": []
    },
    {
      "cell_type": "markdown",
      "source": [
        "### 13521 es divisible entre 3"
      ],
      "metadata": {
        "id": "FudlsG-_We3l"
      }
    },
    {
      "cell_type": "code",
      "source": [],
      "metadata": {
        "id": "5YozM428W4Zd"
      },
      "execution_count": null,
      "outputs": []
    },
    {
      "cell_type": "markdown",
      "source": [
        "## 3. (2 puntos) Guarda los siguientes valores en variables.\n",
        "Ocupa el nombre que prefieras, mientras sea un nombre válido.\n",
        "\n",
        "### ¿Cuantos años tienes?"
      ],
      "metadata": {
        "id": "hbcGE2wFXt6z"
      }
    },
    {
      "cell_type": "code",
      "source": [],
      "metadata": {
        "id": "lEbDhfylY1b8"
      },
      "execution_count": null,
      "outputs": []
    },
    {
      "cell_type": "markdown",
      "source": [
        "### Tu lugar de nacimiento."
      ],
      "metadata": {
        "id": "NxiMCUNFY47i"
      }
    },
    {
      "cell_type": "code",
      "source": [],
      "metadata": {
        "id": "EEmmHkyjZAxH"
      },
      "execution_count": null,
      "outputs": []
    },
    {
      "cell_type": "markdown",
      "source": [
        "## 4. (2 puntos) Resuelve los siguientes problemas.\n",
        "\n",
        "Usa Python para los cálculos que necesites.\n",
        "\n",
        "### 20 panes cuestan 60 pesos. ¿Cuántos panes puedo comprar con 144 pesos?"
      ],
      "metadata": {
        "id": "Gk0DrrQWZBah"
      }
    },
    {
      "cell_type": "code",
      "source": [],
      "metadata": {
        "id": "N9pHTi_BZadA"
      },
      "execution_count": null,
      "outputs": []
    },
    {
      "cell_type": "markdown",
      "source": [
        "### Tengo un negocio. Los ingresos brutos en julio fueron de 110,000 pesos y en agosto, de 85,000. ¿Cuánto debo pagar en total por IVA?\n",
        "\n",
        "Recordatorio: el IVA es del 16%. "
      ],
      "metadata": {
        "id": "Cr-tST-RZjsw"
      }
    },
    {
      "cell_type": "code",
      "source": [],
      "metadata": {
        "id": "XgIHP_WAZi7e"
      },
      "execution_count": null,
      "outputs": []
    },
    {
      "cell_type": "markdown",
      "source": [
        "## 5. (2 puntos) Corre las siguientes celdas. Lee y trata de interpretar el error. Después, corrige el código para que ya no arroje error."
      ],
      "metadata": {
        "id": "4g3bRi4LZkjw"
      }
    },
    {
      "cell_type": "code",
      "source": [
        "calificacion_deseada = 10\n",
        " print(calificacion_deseada)"
      ],
      "metadata": {
        "id": "n0qH30p2ZlrT"
      },
      "execution_count": null,
      "outputs": []
    },
    {
      "cell_type": "code",
      "source": [
        "1var = Spotify"
      ],
      "metadata": {
        "id": "P4Svn9bAdNLI"
      },
      "execution_count": null,
      "outputs": []
    },
    {
      "cell_type": "markdown",
      "source": [
        "## Extra (1 punto) Responde en forma de comentario\n",
        "¿Cual es tu opinión sobre el articulo platicado en la clase del martes?\n"
      ],
      "metadata": {
        "id": "6PMg_MFSZmhX"
      }
    },
    {
      "cell_type": "code",
      "source": [],
      "metadata": {
        "id": "00Fke6i1aEvF"
      },
      "execution_count": null,
      "outputs": []
    }
  ]
}