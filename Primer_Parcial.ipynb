{
  "nbformat": 4,
  "nbformat_minor": 0,
  "metadata": {
    "colab": {
      "name": "Primer Parcial.ipynb",
      "provenance": [],
      "authorship_tag": "ABX9TyOBT9PQ/xtpvlUpt4L3+MYs",
      "include_colab_link": true
    },
    "kernelspec": {
      "name": "python3",
      "display_name": "Python 3"
    },
    "language_info": {
      "name": "python"
    }
  },
  "cells": [
    {
      "cell_type": "markdown",
      "metadata": {
        "id": "view-in-github",
        "colab_type": "text"
      },
      "source": [
        "<a href=\"https://colab.research.google.com/github/robertoarturomc/ProgramacionInformacion/blob/main/Primer_Parcial.ipynb\" target=\"_parent\"><img src=\"https://colab.research.google.com/assets/colab-badge.svg\" alt=\"Open In Colab\"/></a>"
      ]
    },
    {
      "cell_type": "markdown",
      "source": [
        "### Programacion de la Informacion\n",
        "# Primer Parcial\n",
        "\n",
        "Contesta este cuaderno. El trabajo es individual, pero puedes utilizar la herramienta en tu computadora que creas necesario.\n",
        "\n",
        "Al finalizar, descarga el una copia del archivo en formato `.ipynb` y subelo en el espacio correspondiente en Brighstpace. No es necesario que agregues tu nombre.\n",
        "\n",
        "Exito!"
      ],
      "metadata": {
        "id": "4CUE5v7w2Po6"
      }
    }
  ]
}