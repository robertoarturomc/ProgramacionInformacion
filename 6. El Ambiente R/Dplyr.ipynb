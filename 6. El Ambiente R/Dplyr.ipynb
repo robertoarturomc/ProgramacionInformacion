{
 "cells": [
  {
   "cell_type": "markdown",
   "metadata": {},
   "source": [
    "# 6.3 Dplyr\n",
    "\n",
    "Dplyr es uno de los paquetes más importantes dentro del universo Tidyverse, y, a su vez, de R. Nos permite manipular datos de forma muy sencilla, ya que utiliza una lógica muy similar a la de SQL. \n",
    "\n",
    "Además, es muy sencillo usar dplyr con otros paquetes del universo, como ggplot, lo que permite, por ejemplo, hacer gráficos muy chulos de forma sencilla y sin tener que haber creado objetos intermedios."
   ]
  },
  {
   "cell_type": "code",
   "execution_count": null,
   "metadata": {},
   "outputs": [],
   "source": []
  }
 ],
 "metadata": {
  "kernelspec": {
   "display_name": "Python 3",
   "language": "python",
   "name": "python3"
  },
  "language_info": {
   "codemirror_mode": {
    "name": "ipython",
    "version": 3
   },
   "file_extension": ".py",
   "mimetype": "text/x-python",
   "name": "python",
   "nbconvert_exporter": "python",
   "pygments_lexer": "ipython3",
   "version": "3.7.3"
  }
 },
 "nbformat": 4,
 "nbformat_minor": 2
}
