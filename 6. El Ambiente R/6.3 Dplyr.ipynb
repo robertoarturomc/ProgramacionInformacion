{
 "cells": [
  {
   "cell_type": "markdown",
   "metadata": {},
   "source": [
    "# 6.3 Dplyr\n",
    "\n",
    "Dplyr es uno de los paquetes más importantes dentro del universo Tidyverse, y, a su vez, de R. Nos permite manipular datos de forma muy sencilla, ya que utiliza una lógica muy similar a la de SQL. \n",
    "\n",
    "Además, es muy sencillo usar dplyr con otros paquetes del universo, como ggplot, lo que permite, por ejemplo, hacer gráficos muy chulos de forma sencilla y sin tener que haber creado objetos intermedios"
   ]
  },
  {
   "cell_type": "code",
   "execution_count": 1,
   "metadata": {},
   "outputs": [
    {
     "name": "stderr",
     "output_type": "stream",
     "text": [
      "\n",
      "Attaching package: 'dplyr'\n",
      "\n",
      "The following objects are masked from 'package:stats':\n",
      "\n",
      "    filter, lag\n",
      "\n",
      "The following objects are masked from 'package:base':\n",
      "\n",
      "    intersect, setdiff, setequal, union\n",
      "\n"
     ]
    }
   ],
   "source": [
    "# Cargando la librería\n",
    "library(dplyr)"
   ]
  },
  {
   "cell_type": "markdown",
   "metadata": {},
   "source": [
    "Nota: el nombre \"tidyverse\" proviene de las _tidy tables_, que es el formato más común (y hay quienes dicen, que mejor), para trabajar en análisis.\n",
    "Las características son:\n",
    "1. Cada columna corresponde a una variabla distinta.\n",
    "2. Cada renglón corresponde a un registro distinto (una persona, un país, etc.)\n",
    "\n",
    "Y sí; hasta ahora, sólo hemos trabajado con _tidy tables_.\n",
    "\n",
    "# Piping\n",
    "La forma más sencilla de trabajar con dplyr es usando _pipes_. Este es un _operador_ (un símbolo especial en programación, como: `+, >, &`).\n",
    "\n",
    "¿Cómo se ve el _pipe_? Presiona las siguientes teclas al mismo tiempo:\n",
    "\n",
    "* Ctrl\n",
    "* Shift \n",
    "* m"
   ]
  },
  {
   "cell_type": "code",
   "execution_count": null,
   "metadata": {},
   "outputs": [],
   "source": []
  },
  {
   "cell_type": "markdown",
   "metadata": {},
   "source": [
    "O puedes escribirlo directamente; como te acomodes mejor.\n",
    "\n",
    "¿Para qué sirve?\n",
    "\n",
    "¿Recuerdas los _argumentos_ de las funciones?\n",
    "\n",
    "Aquí hay una, para que te acuerdes:\n",
    "\n",
    "```\n",
    "filter(tabla, condicion)\n",
    "```\n",
    "\n",
    "Pues bueno, los pipes **insertan** lo que se encuentra a la izquierda, como **primer argumento** de la función de la derecha.\n",
    "\n",
    "Aquí hay un ejemplo de dos códigos que funcionan igual:"
   ]
  },
  {
   "cell_type": "code",
   "execution_count": 6,
   "metadata": {},
   "outputs": [
    {
     "data": {
      "text/html": [
       "<table>\n",
       "<caption>A data.frame: 14 × 11</caption>\n",
       "<thead>\n",
       "\t<tr><th scope=col>mpg</th><th scope=col>cyl</th><th scope=col>disp</th><th scope=col>hp</th><th scope=col>drat</th><th scope=col>wt</th><th scope=col>qsec</th><th scope=col>vs</th><th scope=col>am</th><th scope=col>gear</th><th scope=col>carb</th></tr>\n",
       "\t<tr><th scope=col>&lt;dbl&gt;</th><th scope=col>&lt;dbl&gt;</th><th scope=col>&lt;dbl&gt;</th><th scope=col>&lt;dbl&gt;</th><th scope=col>&lt;dbl&gt;</th><th scope=col>&lt;dbl&gt;</th><th scope=col>&lt;dbl&gt;</th><th scope=col>&lt;dbl&gt;</th><th scope=col>&lt;dbl&gt;</th><th scope=col>&lt;dbl&gt;</th><th scope=col>&lt;dbl&gt;</th></tr>\n",
       "</thead>\n",
       "<tbody>\n",
       "\t<tr><td>18.7</td><td>8</td><td>360.0</td><td>175</td><td>3.15</td><td>3.440</td><td>17.02</td><td>0</td><td>0</td><td>3</td><td>2</td></tr>\n",
       "\t<tr><td>14.3</td><td>8</td><td>360.0</td><td>245</td><td>3.21</td><td>3.570</td><td>15.84</td><td>0</td><td>0</td><td>3</td><td>4</td></tr>\n",
       "\t<tr><td>16.4</td><td>8</td><td>275.8</td><td>180</td><td>3.07</td><td>4.070</td><td>17.40</td><td>0</td><td>0</td><td>3</td><td>3</td></tr>\n",
       "\t<tr><td>17.3</td><td>8</td><td>275.8</td><td>180</td><td>3.07</td><td>3.730</td><td>17.60</td><td>0</td><td>0</td><td>3</td><td>3</td></tr>\n",
       "\t<tr><td>15.2</td><td>8</td><td>275.8</td><td>180</td><td>3.07</td><td>3.780</td><td>18.00</td><td>0</td><td>0</td><td>3</td><td>3</td></tr>\n",
       "\t<tr><td>10.4</td><td>8</td><td>472.0</td><td>205</td><td>2.93</td><td>5.250</td><td>17.98</td><td>0</td><td>0</td><td>3</td><td>4</td></tr>\n",
       "\t<tr><td>10.4</td><td>8</td><td>460.0</td><td>215</td><td>3.00</td><td>5.424</td><td>17.82</td><td>0</td><td>0</td><td>3</td><td>4</td></tr>\n",
       "\t<tr><td>14.7</td><td>8</td><td>440.0</td><td>230</td><td>3.23</td><td>5.345</td><td>17.42</td><td>0</td><td>0</td><td>3</td><td>4</td></tr>\n",
       "\t<tr><td>15.5</td><td>8</td><td>318.0</td><td>150</td><td>2.76</td><td>3.520</td><td>16.87</td><td>0</td><td>0</td><td>3</td><td>2</td></tr>\n",
       "\t<tr><td>15.2</td><td>8</td><td>304.0</td><td>150</td><td>3.15</td><td>3.435</td><td>17.30</td><td>0</td><td>0</td><td>3</td><td>2</td></tr>\n",
       "\t<tr><td>13.3</td><td>8</td><td>350.0</td><td>245</td><td>3.73</td><td>3.840</td><td>15.41</td><td>0</td><td>0</td><td>3</td><td>4</td></tr>\n",
       "\t<tr><td>19.2</td><td>8</td><td>400.0</td><td>175</td><td>3.08</td><td>3.845</td><td>17.05</td><td>0</td><td>0</td><td>3</td><td>2</td></tr>\n",
       "\t<tr><td>15.8</td><td>8</td><td>351.0</td><td>264</td><td>4.22</td><td>3.170</td><td>14.50</td><td>0</td><td>1</td><td>5</td><td>4</td></tr>\n",
       "\t<tr><td>15.0</td><td>8</td><td>301.0</td><td>335</td><td>3.54</td><td>3.570</td><td>14.60</td><td>0</td><td>1</td><td>5</td><td>8</td></tr>\n",
       "</tbody>\n",
       "</table>\n"
      ],
      "text/latex": [
       "A data.frame: 14 × 11\n",
       "\\begin{tabular}{r|lllllllllll}\n",
       " mpg & cyl & disp & hp & drat & wt & qsec & vs & am & gear & carb\\\\\n",
       " <dbl> & <dbl> & <dbl> & <dbl> & <dbl> & <dbl> & <dbl> & <dbl> & <dbl> & <dbl> & <dbl>\\\\\n",
       "\\hline\n",
       "\t 18.7 & 8 & 360.0 & 175 & 3.15 & 3.440 & 17.02 & 0 & 0 & 3 & 2\\\\\n",
       "\t 14.3 & 8 & 360.0 & 245 & 3.21 & 3.570 & 15.84 & 0 & 0 & 3 & 4\\\\\n",
       "\t 16.4 & 8 & 275.8 & 180 & 3.07 & 4.070 & 17.40 & 0 & 0 & 3 & 3\\\\\n",
       "\t 17.3 & 8 & 275.8 & 180 & 3.07 & 3.730 & 17.60 & 0 & 0 & 3 & 3\\\\\n",
       "\t 15.2 & 8 & 275.8 & 180 & 3.07 & 3.780 & 18.00 & 0 & 0 & 3 & 3\\\\\n",
       "\t 10.4 & 8 & 472.0 & 205 & 2.93 & 5.250 & 17.98 & 0 & 0 & 3 & 4\\\\\n",
       "\t 10.4 & 8 & 460.0 & 215 & 3.00 & 5.424 & 17.82 & 0 & 0 & 3 & 4\\\\\n",
       "\t 14.7 & 8 & 440.0 & 230 & 3.23 & 5.345 & 17.42 & 0 & 0 & 3 & 4\\\\\n",
       "\t 15.5 & 8 & 318.0 & 150 & 2.76 & 3.520 & 16.87 & 0 & 0 & 3 & 2\\\\\n",
       "\t 15.2 & 8 & 304.0 & 150 & 3.15 & 3.435 & 17.30 & 0 & 0 & 3 & 2\\\\\n",
       "\t 13.3 & 8 & 350.0 & 245 & 3.73 & 3.840 & 15.41 & 0 & 0 & 3 & 4\\\\\n",
       "\t 19.2 & 8 & 400.0 & 175 & 3.08 & 3.845 & 17.05 & 0 & 0 & 3 & 2\\\\\n",
       "\t 15.8 & 8 & 351.0 & 264 & 4.22 & 3.170 & 14.50 & 0 & 1 & 5 & 4\\\\\n",
       "\t 15.0 & 8 & 301.0 & 335 & 3.54 & 3.570 & 14.60 & 0 & 1 & 5 & 8\\\\\n",
       "\\end{tabular}\n"
      ],
      "text/markdown": [
       "\n",
       "A data.frame: 14 × 11\n",
       "\n",
       "| mpg &lt;dbl&gt; | cyl &lt;dbl&gt; | disp &lt;dbl&gt; | hp &lt;dbl&gt; | drat &lt;dbl&gt; | wt &lt;dbl&gt; | qsec &lt;dbl&gt; | vs &lt;dbl&gt; | am &lt;dbl&gt; | gear &lt;dbl&gt; | carb &lt;dbl&gt; |\n",
       "|---|---|---|---|---|---|---|---|---|---|---|\n",
       "| 18.7 | 8 | 360.0 | 175 | 3.15 | 3.440 | 17.02 | 0 | 0 | 3 | 2 |\n",
       "| 14.3 | 8 | 360.0 | 245 | 3.21 | 3.570 | 15.84 | 0 | 0 | 3 | 4 |\n",
       "| 16.4 | 8 | 275.8 | 180 | 3.07 | 4.070 | 17.40 | 0 | 0 | 3 | 3 |\n",
       "| 17.3 | 8 | 275.8 | 180 | 3.07 | 3.730 | 17.60 | 0 | 0 | 3 | 3 |\n",
       "| 15.2 | 8 | 275.8 | 180 | 3.07 | 3.780 | 18.00 | 0 | 0 | 3 | 3 |\n",
       "| 10.4 | 8 | 472.0 | 205 | 2.93 | 5.250 | 17.98 | 0 | 0 | 3 | 4 |\n",
       "| 10.4 | 8 | 460.0 | 215 | 3.00 | 5.424 | 17.82 | 0 | 0 | 3 | 4 |\n",
       "| 14.7 | 8 | 440.0 | 230 | 3.23 | 5.345 | 17.42 | 0 | 0 | 3 | 4 |\n",
       "| 15.5 | 8 | 318.0 | 150 | 2.76 | 3.520 | 16.87 | 0 | 0 | 3 | 2 |\n",
       "| 15.2 | 8 | 304.0 | 150 | 3.15 | 3.435 | 17.30 | 0 | 0 | 3 | 2 |\n",
       "| 13.3 | 8 | 350.0 | 245 | 3.73 | 3.840 | 15.41 | 0 | 0 | 3 | 4 |\n",
       "| 19.2 | 8 | 400.0 | 175 | 3.08 | 3.845 | 17.05 | 0 | 0 | 3 | 2 |\n",
       "| 15.8 | 8 | 351.0 | 264 | 4.22 | 3.170 | 14.50 | 0 | 1 | 5 | 4 |\n",
       "| 15.0 | 8 | 301.0 | 335 | 3.54 | 3.570 | 14.60 | 0 | 1 | 5 | 8 |\n",
       "\n"
      ],
      "text/plain": [
       "   mpg  cyl disp  hp  drat wt    qsec  vs am gear carb\n",
       "1  18.7 8   360.0 175 3.15 3.440 17.02 0  0  3    2   \n",
       "2  14.3 8   360.0 245 3.21 3.570 15.84 0  0  3    4   \n",
       "3  16.4 8   275.8 180 3.07 4.070 17.40 0  0  3    3   \n",
       "4  17.3 8   275.8 180 3.07 3.730 17.60 0  0  3    3   \n",
       "5  15.2 8   275.8 180 3.07 3.780 18.00 0  0  3    3   \n",
       "6  10.4 8   472.0 205 2.93 5.250 17.98 0  0  3    4   \n",
       "7  10.4 8   460.0 215 3.00 5.424 17.82 0  0  3    4   \n",
       "8  14.7 8   440.0 230 3.23 5.345 17.42 0  0  3    4   \n",
       "9  15.5 8   318.0 150 2.76 3.520 16.87 0  0  3    2   \n",
       "10 15.2 8   304.0 150 3.15 3.435 17.30 0  0  3    2   \n",
       "11 13.3 8   350.0 245 3.73 3.840 15.41 0  0  3    4   \n",
       "12 19.2 8   400.0 175 3.08 3.845 17.05 0  0  3    2   \n",
       "13 15.8 8   351.0 264 4.22 3.170 14.50 0  1  5    4   \n",
       "14 15.0 8   301.0 335 3.54 3.570 14.60 0  1  5    8   "
      ]
     },
     "metadata": {},
     "output_type": "display_data"
    }
   ],
   "source": [
    "filter(mtcars,  cyl==8)"
   ]
  },
  {
   "cell_type": "code",
   "execution_count": 7,
   "metadata": {},
   "outputs": [
    {
     "data": {
      "text/html": [
       "<table>\n",
       "<caption>A data.frame: 14 × 11</caption>\n",
       "<thead>\n",
       "\t<tr><th scope=col>mpg</th><th scope=col>cyl</th><th scope=col>disp</th><th scope=col>hp</th><th scope=col>drat</th><th scope=col>wt</th><th scope=col>qsec</th><th scope=col>vs</th><th scope=col>am</th><th scope=col>gear</th><th scope=col>carb</th></tr>\n",
       "\t<tr><th scope=col>&lt;dbl&gt;</th><th scope=col>&lt;dbl&gt;</th><th scope=col>&lt;dbl&gt;</th><th scope=col>&lt;dbl&gt;</th><th scope=col>&lt;dbl&gt;</th><th scope=col>&lt;dbl&gt;</th><th scope=col>&lt;dbl&gt;</th><th scope=col>&lt;dbl&gt;</th><th scope=col>&lt;dbl&gt;</th><th scope=col>&lt;dbl&gt;</th><th scope=col>&lt;dbl&gt;</th></tr>\n",
       "</thead>\n",
       "<tbody>\n",
       "\t<tr><td>18.7</td><td>8</td><td>360.0</td><td>175</td><td>3.15</td><td>3.440</td><td>17.02</td><td>0</td><td>0</td><td>3</td><td>2</td></tr>\n",
       "\t<tr><td>14.3</td><td>8</td><td>360.0</td><td>245</td><td>3.21</td><td>3.570</td><td>15.84</td><td>0</td><td>0</td><td>3</td><td>4</td></tr>\n",
       "\t<tr><td>16.4</td><td>8</td><td>275.8</td><td>180</td><td>3.07</td><td>4.070</td><td>17.40</td><td>0</td><td>0</td><td>3</td><td>3</td></tr>\n",
       "\t<tr><td>17.3</td><td>8</td><td>275.8</td><td>180</td><td>3.07</td><td>3.730</td><td>17.60</td><td>0</td><td>0</td><td>3</td><td>3</td></tr>\n",
       "\t<tr><td>15.2</td><td>8</td><td>275.8</td><td>180</td><td>3.07</td><td>3.780</td><td>18.00</td><td>0</td><td>0</td><td>3</td><td>3</td></tr>\n",
       "\t<tr><td>10.4</td><td>8</td><td>472.0</td><td>205</td><td>2.93</td><td>5.250</td><td>17.98</td><td>0</td><td>0</td><td>3</td><td>4</td></tr>\n",
       "\t<tr><td>10.4</td><td>8</td><td>460.0</td><td>215</td><td>3.00</td><td>5.424</td><td>17.82</td><td>0</td><td>0</td><td>3</td><td>4</td></tr>\n",
       "\t<tr><td>14.7</td><td>8</td><td>440.0</td><td>230</td><td>3.23</td><td>5.345</td><td>17.42</td><td>0</td><td>0</td><td>3</td><td>4</td></tr>\n",
       "\t<tr><td>15.5</td><td>8</td><td>318.0</td><td>150</td><td>2.76</td><td>3.520</td><td>16.87</td><td>0</td><td>0</td><td>3</td><td>2</td></tr>\n",
       "\t<tr><td>15.2</td><td>8</td><td>304.0</td><td>150</td><td>3.15</td><td>3.435</td><td>17.30</td><td>0</td><td>0</td><td>3</td><td>2</td></tr>\n",
       "\t<tr><td>13.3</td><td>8</td><td>350.0</td><td>245</td><td>3.73</td><td>3.840</td><td>15.41</td><td>0</td><td>0</td><td>3</td><td>4</td></tr>\n",
       "\t<tr><td>19.2</td><td>8</td><td>400.0</td><td>175</td><td>3.08</td><td>3.845</td><td>17.05</td><td>0</td><td>0</td><td>3</td><td>2</td></tr>\n",
       "\t<tr><td>15.8</td><td>8</td><td>351.0</td><td>264</td><td>4.22</td><td>3.170</td><td>14.50</td><td>0</td><td>1</td><td>5</td><td>4</td></tr>\n",
       "\t<tr><td>15.0</td><td>8</td><td>301.0</td><td>335</td><td>3.54</td><td>3.570</td><td>14.60</td><td>0</td><td>1</td><td>5</td><td>8</td></tr>\n",
       "</tbody>\n",
       "</table>\n"
      ],
      "text/latex": [
       "A data.frame: 14 × 11\n",
       "\\begin{tabular}{r|lllllllllll}\n",
       " mpg & cyl & disp & hp & drat & wt & qsec & vs & am & gear & carb\\\\\n",
       " <dbl> & <dbl> & <dbl> & <dbl> & <dbl> & <dbl> & <dbl> & <dbl> & <dbl> & <dbl> & <dbl>\\\\\n",
       "\\hline\n",
       "\t 18.7 & 8 & 360.0 & 175 & 3.15 & 3.440 & 17.02 & 0 & 0 & 3 & 2\\\\\n",
       "\t 14.3 & 8 & 360.0 & 245 & 3.21 & 3.570 & 15.84 & 0 & 0 & 3 & 4\\\\\n",
       "\t 16.4 & 8 & 275.8 & 180 & 3.07 & 4.070 & 17.40 & 0 & 0 & 3 & 3\\\\\n",
       "\t 17.3 & 8 & 275.8 & 180 & 3.07 & 3.730 & 17.60 & 0 & 0 & 3 & 3\\\\\n",
       "\t 15.2 & 8 & 275.8 & 180 & 3.07 & 3.780 & 18.00 & 0 & 0 & 3 & 3\\\\\n",
       "\t 10.4 & 8 & 472.0 & 205 & 2.93 & 5.250 & 17.98 & 0 & 0 & 3 & 4\\\\\n",
       "\t 10.4 & 8 & 460.0 & 215 & 3.00 & 5.424 & 17.82 & 0 & 0 & 3 & 4\\\\\n",
       "\t 14.7 & 8 & 440.0 & 230 & 3.23 & 5.345 & 17.42 & 0 & 0 & 3 & 4\\\\\n",
       "\t 15.5 & 8 & 318.0 & 150 & 2.76 & 3.520 & 16.87 & 0 & 0 & 3 & 2\\\\\n",
       "\t 15.2 & 8 & 304.0 & 150 & 3.15 & 3.435 & 17.30 & 0 & 0 & 3 & 2\\\\\n",
       "\t 13.3 & 8 & 350.0 & 245 & 3.73 & 3.840 & 15.41 & 0 & 0 & 3 & 4\\\\\n",
       "\t 19.2 & 8 & 400.0 & 175 & 3.08 & 3.845 & 17.05 & 0 & 0 & 3 & 2\\\\\n",
       "\t 15.8 & 8 & 351.0 & 264 & 4.22 & 3.170 & 14.50 & 0 & 1 & 5 & 4\\\\\n",
       "\t 15.0 & 8 & 301.0 & 335 & 3.54 & 3.570 & 14.60 & 0 & 1 & 5 & 8\\\\\n",
       "\\end{tabular}\n"
      ],
      "text/markdown": [
       "\n",
       "A data.frame: 14 × 11\n",
       "\n",
       "| mpg &lt;dbl&gt; | cyl &lt;dbl&gt; | disp &lt;dbl&gt; | hp &lt;dbl&gt; | drat &lt;dbl&gt; | wt &lt;dbl&gt; | qsec &lt;dbl&gt; | vs &lt;dbl&gt; | am &lt;dbl&gt; | gear &lt;dbl&gt; | carb &lt;dbl&gt; |\n",
       "|---|---|---|---|---|---|---|---|---|---|---|\n",
       "| 18.7 | 8 | 360.0 | 175 | 3.15 | 3.440 | 17.02 | 0 | 0 | 3 | 2 |\n",
       "| 14.3 | 8 | 360.0 | 245 | 3.21 | 3.570 | 15.84 | 0 | 0 | 3 | 4 |\n",
       "| 16.4 | 8 | 275.8 | 180 | 3.07 | 4.070 | 17.40 | 0 | 0 | 3 | 3 |\n",
       "| 17.3 | 8 | 275.8 | 180 | 3.07 | 3.730 | 17.60 | 0 | 0 | 3 | 3 |\n",
       "| 15.2 | 8 | 275.8 | 180 | 3.07 | 3.780 | 18.00 | 0 | 0 | 3 | 3 |\n",
       "| 10.4 | 8 | 472.0 | 205 | 2.93 | 5.250 | 17.98 | 0 | 0 | 3 | 4 |\n",
       "| 10.4 | 8 | 460.0 | 215 | 3.00 | 5.424 | 17.82 | 0 | 0 | 3 | 4 |\n",
       "| 14.7 | 8 | 440.0 | 230 | 3.23 | 5.345 | 17.42 | 0 | 0 | 3 | 4 |\n",
       "| 15.5 | 8 | 318.0 | 150 | 2.76 | 3.520 | 16.87 | 0 | 0 | 3 | 2 |\n",
       "| 15.2 | 8 | 304.0 | 150 | 3.15 | 3.435 | 17.30 | 0 | 0 | 3 | 2 |\n",
       "| 13.3 | 8 | 350.0 | 245 | 3.73 | 3.840 | 15.41 | 0 | 0 | 3 | 4 |\n",
       "| 19.2 | 8 | 400.0 | 175 | 3.08 | 3.845 | 17.05 | 0 | 0 | 3 | 2 |\n",
       "| 15.8 | 8 | 351.0 | 264 | 4.22 | 3.170 | 14.50 | 0 | 1 | 5 | 4 |\n",
       "| 15.0 | 8 | 301.0 | 335 | 3.54 | 3.570 | 14.60 | 0 | 1 | 5 | 8 |\n",
       "\n"
      ],
      "text/plain": [
       "   mpg  cyl disp  hp  drat wt    qsec  vs am gear carb\n",
       "1  18.7 8   360.0 175 3.15 3.440 17.02 0  0  3    2   \n",
       "2  14.3 8   360.0 245 3.21 3.570 15.84 0  0  3    4   \n",
       "3  16.4 8   275.8 180 3.07 4.070 17.40 0  0  3    3   \n",
       "4  17.3 8   275.8 180 3.07 3.730 17.60 0  0  3    3   \n",
       "5  15.2 8   275.8 180 3.07 3.780 18.00 0  0  3    3   \n",
       "6  10.4 8   472.0 205 2.93 5.250 17.98 0  0  3    4   \n",
       "7  10.4 8   460.0 215 3.00 5.424 17.82 0  0  3    4   \n",
       "8  14.7 8   440.0 230 3.23 5.345 17.42 0  0  3    4   \n",
       "9  15.5 8   318.0 150 2.76 3.520 16.87 0  0  3    2   \n",
       "10 15.2 8   304.0 150 3.15 3.435 17.30 0  0  3    2   \n",
       "11 13.3 8   350.0 245 3.73 3.840 15.41 0  0  3    4   \n",
       "12 19.2 8   400.0 175 3.08 3.845 17.05 0  0  3    2   \n",
       "13 15.8 8   351.0 264 4.22 3.170 14.50 0  1  5    4   \n",
       "14 15.0 8   301.0 335 3.54 3.570 14.60 0  1  5    8   "
      ]
     },
     "metadata": {},
     "output_type": "display_data"
    }
   ],
   "source": [
    "mtcars %>% filter(cyl==8)"
   ]
  },
  {
   "cell_type": "markdown",
   "metadata": {},
   "source": [
    "Bueno, pero, si hacen lo mismo, ¿para qué ocupar los _pipes_?\n",
    "\n",
    "Imagínate que tienes que usar todos estos cambios:\n",
    "\n",
    "1. Seleccionar unas columnas\n",
    "2. Filtrar ciertos valores\n",
    "3. Ordenar la tabla resultante.\n",
    "\n",
    "Con funciones de dplyr (ahorita hablamos de ellas), se vería así:"
   ]
  },
  {
   "cell_type": "code",
   "execution_count": 12,
   "metadata": {},
   "outputs": [
    {
     "data": {
      "text/html": [
       "<table>\n",
       "<caption>A data.frame: 7 × 3</caption>\n",
       "<thead>\n",
       "\t<tr><th scope=col>mpg</th><th scope=col>hp</th><th scope=col>wt</th></tr>\n",
       "\t<tr><th scope=col>&lt;dbl&gt;</th><th scope=col>&lt;dbl&gt;</th><th scope=col>&lt;dbl&gt;</th></tr>\n",
       "</thead>\n",
       "<tbody>\n",
       "\t<tr><td>15.8</td><td>264</td><td>3.170</td></tr>\n",
       "\t<tr><td>14.3</td><td>245</td><td>3.570</td></tr>\n",
       "\t<tr><td>15.0</td><td>335</td><td>3.570</td></tr>\n",
       "\t<tr><td>13.3</td><td>245</td><td>3.840</td></tr>\n",
       "\t<tr><td>10.4</td><td>205</td><td>5.250</td></tr>\n",
       "\t<tr><td>14.7</td><td>230</td><td>5.345</td></tr>\n",
       "\t<tr><td>10.4</td><td>215</td><td>5.424</td></tr>\n",
       "</tbody>\n",
       "</table>\n"
      ],
      "text/latex": [
       "A data.frame: 7 × 3\n",
       "\\begin{tabular}{r|lll}\n",
       " mpg & hp & wt\\\\\n",
       " <dbl> & <dbl> & <dbl>\\\\\n",
       "\\hline\n",
       "\t 15.8 & 264 & 3.170\\\\\n",
       "\t 14.3 & 245 & 3.570\\\\\n",
       "\t 15.0 & 335 & 3.570\\\\\n",
       "\t 13.3 & 245 & 3.840\\\\\n",
       "\t 10.4 & 205 & 5.250\\\\\n",
       "\t 14.7 & 230 & 5.345\\\\\n",
       "\t 10.4 & 215 & 5.424\\\\\n",
       "\\end{tabular}\n"
      ],
      "text/markdown": [
       "\n",
       "A data.frame: 7 × 3\n",
       "\n",
       "| mpg &lt;dbl&gt; | hp &lt;dbl&gt; | wt &lt;dbl&gt; |\n",
       "|---|---|---|\n",
       "| 15.8 | 264 | 3.170 |\n",
       "| 14.3 | 245 | 3.570 |\n",
       "| 15.0 | 335 | 3.570 |\n",
       "| 13.3 | 245 | 3.840 |\n",
       "| 10.4 | 205 | 5.250 |\n",
       "| 14.7 | 230 | 5.345 |\n",
       "| 10.4 | 215 | 5.424 |\n",
       "\n"
      ],
      "text/plain": [
       "  mpg  hp  wt   \n",
       "1 15.8 264 3.170\n",
       "2 14.3 245 3.570\n",
       "3 15.0 335 3.570\n",
       "4 13.3 245 3.840\n",
       "5 10.4 205 5.250\n",
       "6 14.7 230 5.345\n",
       "7 10.4 215 5.424"
      ]
     },
     "metadata": {},
     "output_type": "display_data"
    }
   ],
   "source": [
    "arrange(filter(select(mtcars, mpg, hp, wt), hp>200), wt)"
   ]
  },
  {
   "cell_type": "markdown",
   "metadata": {},
   "source": [
    "En cambio, con las mismas funciones, pero usando el _pipe_, se vería así:"
   ]
  },
  {
   "cell_type": "code",
   "execution_count": 15,
   "metadata": {},
   "outputs": [
    {
     "data": {
      "text/html": [
       "<table>\n",
       "<caption>A data.frame: 7 × 3</caption>\n",
       "<thead>\n",
       "\t<tr><th scope=col>mpg</th><th scope=col>hp</th><th scope=col>wt</th></tr>\n",
       "\t<tr><th scope=col>&lt;dbl&gt;</th><th scope=col>&lt;dbl&gt;</th><th scope=col>&lt;dbl&gt;</th></tr>\n",
       "</thead>\n",
       "<tbody>\n",
       "\t<tr><td>15.8</td><td>264</td><td>3.170</td></tr>\n",
       "\t<tr><td>14.3</td><td>245</td><td>3.570</td></tr>\n",
       "\t<tr><td>15.0</td><td>335</td><td>3.570</td></tr>\n",
       "\t<tr><td>13.3</td><td>245</td><td>3.840</td></tr>\n",
       "\t<tr><td>10.4</td><td>205</td><td>5.250</td></tr>\n",
       "\t<tr><td>14.7</td><td>230</td><td>5.345</td></tr>\n",
       "\t<tr><td>10.4</td><td>215</td><td>5.424</td></tr>\n",
       "</tbody>\n",
       "</table>\n"
      ],
      "text/latex": [
       "A data.frame: 7 × 3\n",
       "\\begin{tabular}{r|lll}\n",
       " mpg & hp & wt\\\\\n",
       " <dbl> & <dbl> & <dbl>\\\\\n",
       "\\hline\n",
       "\t 15.8 & 264 & 3.170\\\\\n",
       "\t 14.3 & 245 & 3.570\\\\\n",
       "\t 15.0 & 335 & 3.570\\\\\n",
       "\t 13.3 & 245 & 3.840\\\\\n",
       "\t 10.4 & 205 & 5.250\\\\\n",
       "\t 14.7 & 230 & 5.345\\\\\n",
       "\t 10.4 & 215 & 5.424\\\\\n",
       "\\end{tabular}\n"
      ],
      "text/markdown": [
       "\n",
       "A data.frame: 7 × 3\n",
       "\n",
       "| mpg &lt;dbl&gt; | hp &lt;dbl&gt; | wt &lt;dbl&gt; |\n",
       "|---|---|---|\n",
       "| 15.8 | 264 | 3.170 |\n",
       "| 14.3 | 245 | 3.570 |\n",
       "| 15.0 | 335 | 3.570 |\n",
       "| 13.3 | 245 | 3.840 |\n",
       "| 10.4 | 205 | 5.250 |\n",
       "| 14.7 | 230 | 5.345 |\n",
       "| 10.4 | 215 | 5.424 |\n",
       "\n"
      ],
      "text/plain": [
       "  mpg  hp  wt   \n",
       "1 15.8 264 3.170\n",
       "2 14.3 245 3.570\n",
       "3 15.0 335 3.570\n",
       "4 13.3 245 3.840\n",
       "5 10.4 205 5.250\n",
       "6 14.7 230 5.345\n",
       "7 10.4 215 5.424"
      ]
     },
     "metadata": {},
     "output_type": "display_data"
    }
   ],
   "source": [
    "mtcars %>% \n",
    "    select(mpg, hp, wt) %>% \n",
    "    filter(hp>200) %>% \n",
    "    arrange(wt)"
   ]
  },
  {
   "cell_type": "markdown",
   "metadata": {},
   "source": [
    "Mismo resultado, pero ¡código más claro!\n",
    "\n",
    "Por ello, las funciones de dplyr están pensadas para ser usadas con pipes (aunque no es forzoso).\n",
    "\n",
    "Por cierto, _pipes_: tuberías. _Piping_: \"conectar tuberías\".\n",
    "\n",
    "Ahora sí, algunas de las funciones más importantes de dplyr son:"
   ]
  },
  {
   "cell_type": "markdown",
   "metadata": {},
   "source": [
    "## Select\n",
    "\n",
    "¿Qué columnas de la tabla quiero conservar?\n",
    "\n",
    "```\n",
    "tabla  %>% select(columna1, columna2, columna3)\n",
    "```\n",
    "\n",
    "También, puedo especificar qué columnas _no_ quiero conservar:\n",
    "\n",
    "```\n",
    "tabla  %>% select(-columna4, -columna5)\n",
    "```"
   ]
  },
  {
   "cell_type": "code",
   "execution_count": 21,
   "metadata": {},
   "outputs": [
    {
     "data": {
      "text/html": [
       "<table>\n",
       "<caption>A data.frame: 6 × 3</caption>\n",
       "<thead>\n",
       "\t<tr><th></th><th scope=col>mpg</th><th scope=col>hp</th><th scope=col>wt</th></tr>\n",
       "\t<tr><th></th><th scope=col>&lt;dbl&gt;</th><th scope=col>&lt;dbl&gt;</th><th scope=col>&lt;dbl&gt;</th></tr>\n",
       "</thead>\n",
       "<tbody>\n",
       "\t<tr><th scope=row>Mazda RX4</th><td>21.0</td><td>110</td><td>2.620</td></tr>\n",
       "\t<tr><th scope=row>Mazda RX4 Wag</th><td>21.0</td><td>110</td><td>2.875</td></tr>\n",
       "\t<tr><th scope=row>Datsun 710</th><td>22.8</td><td> 93</td><td>2.320</td></tr>\n",
       "\t<tr><th scope=row>Hornet 4 Drive</th><td>21.4</td><td>110</td><td>3.215</td></tr>\n",
       "\t<tr><th scope=row>Hornet Sportabout</th><td>18.7</td><td>175</td><td>3.440</td></tr>\n",
       "\t<tr><th scope=row>Valiant</th><td>18.1</td><td>105</td><td>3.460</td></tr>\n",
       "</tbody>\n",
       "</table>\n"
      ],
      "text/latex": [
       "A data.frame: 6 × 3\n",
       "\\begin{tabular}{r|lll}\n",
       "  & mpg & hp & wt\\\\\n",
       "  & <dbl> & <dbl> & <dbl>\\\\\n",
       "\\hline\n",
       "\tMazda RX4 & 21.0 & 110 & 2.620\\\\\n",
       "\tMazda RX4 Wag & 21.0 & 110 & 2.875\\\\\n",
       "\tDatsun 710 & 22.8 &  93 & 2.320\\\\\n",
       "\tHornet 4 Drive & 21.4 & 110 & 3.215\\\\\n",
       "\tHornet Sportabout & 18.7 & 175 & 3.440\\\\\n",
       "\tValiant & 18.1 & 105 & 3.460\\\\\n",
       "\\end{tabular}\n"
      ],
      "text/markdown": [
       "\n",
       "A data.frame: 6 × 3\n",
       "\n",
       "| <!--/--> | mpg &lt;dbl&gt; | hp &lt;dbl&gt; | wt &lt;dbl&gt; |\n",
       "|---|---|---|---|\n",
       "| Mazda RX4 | 21.0 | 110 | 2.620 |\n",
       "| Mazda RX4 Wag | 21.0 | 110 | 2.875 |\n",
       "| Datsun 710 | 22.8 |  93 | 2.320 |\n",
       "| Hornet 4 Drive | 21.4 | 110 | 3.215 |\n",
       "| Hornet Sportabout | 18.7 | 175 | 3.440 |\n",
       "| Valiant | 18.1 | 105 | 3.460 |\n",
       "\n"
      ],
      "text/plain": [
       "                  mpg  hp  wt   \n",
       "Mazda RX4         21.0 110 2.620\n",
       "Mazda RX4 Wag     21.0 110 2.875\n",
       "Datsun 710        22.8  93 2.320\n",
       "Hornet 4 Drive    21.4 110 3.215\n",
       "Hornet Sportabout 18.7 175 3.440\n",
       "Valiant           18.1 105 3.460"
      ]
     },
     "metadata": {},
     "output_type": "display_data"
    }
   ],
   "source": [
    "mtcars %>% \n",
    "    select(mpg, hp, wt) %>% \n",
    "    head()"
   ]
  },
  {
   "cell_type": "markdown",
   "metadata": {},
   "source": [
    "## Filtrar\n",
    "\n",
    "Cuando quiero conservar sólo algunos registros (renglones) según alguna condición:\n",
    "\n",
    "```\n",
    "tabla  %>% filter(condicion1, condicion2, ...)\n",
    "```\n",
    "\n",
    "La tabla puede ser alguna que en la que ya haya seleccionado columnas:\n",
    "\n",
    "```\n",
    "tabla  %>% \n",
    "    select(columna1, columna2, ...)\n",
    "    filter(condicion1, condicion2, ...)\n",
    "```\n"
   ]
  },
  {
   "cell_type": "code",
   "execution_count": 23,
   "metadata": {},
   "outputs": [
    {
     "data": {
      "text/html": [
       "<table>\n",
       "<caption>A data.frame: 6 × 3</caption>\n",
       "<thead>\n",
       "\t<tr><th scope=col>mpg</th><th scope=col>hp</th><th scope=col>wt</th></tr>\n",
       "\t<tr><th scope=col>&lt;dbl&gt;</th><th scope=col>&lt;dbl&gt;</th><th scope=col>&lt;dbl&gt;</th></tr>\n",
       "</thead>\n",
       "<tbody>\n",
       "\t<tr><td>14.3</td><td>245</td><td>3.570</td></tr>\n",
       "\t<tr><td>10.4</td><td>205</td><td>5.250</td></tr>\n",
       "\t<tr><td>10.4</td><td>215</td><td>5.424</td></tr>\n",
       "\t<tr><td>14.7</td><td>230</td><td>5.345</td></tr>\n",
       "\t<tr><td>13.3</td><td>245</td><td>3.840</td></tr>\n",
       "\t<tr><td>15.8</td><td>264</td><td>3.170</td></tr>\n",
       "</tbody>\n",
       "</table>\n"
      ],
      "text/latex": [
       "A data.frame: 6 × 3\n",
       "\\begin{tabular}{r|lll}\n",
       " mpg & hp & wt\\\\\n",
       " <dbl> & <dbl> & <dbl>\\\\\n",
       "\\hline\n",
       "\t 14.3 & 245 & 3.570\\\\\n",
       "\t 10.4 & 205 & 5.250\\\\\n",
       "\t 10.4 & 215 & 5.424\\\\\n",
       "\t 14.7 & 230 & 5.345\\\\\n",
       "\t 13.3 & 245 & 3.840\\\\\n",
       "\t 15.8 & 264 & 3.170\\\\\n",
       "\\end{tabular}\n"
      ],
      "text/markdown": [
       "\n",
       "A data.frame: 6 × 3\n",
       "\n",
       "| mpg &lt;dbl&gt; | hp &lt;dbl&gt; | wt &lt;dbl&gt; |\n",
       "|---|---|---|\n",
       "| 14.3 | 245 | 3.570 |\n",
       "| 10.4 | 205 | 5.250 |\n",
       "| 10.4 | 215 | 5.424 |\n",
       "| 14.7 | 230 | 5.345 |\n",
       "| 13.3 | 245 | 3.840 |\n",
       "| 15.8 | 264 | 3.170 |\n",
       "\n"
      ],
      "text/plain": [
       "  mpg  hp  wt   \n",
       "1 14.3 245 3.570\n",
       "2 10.4 205 5.250\n",
       "3 10.4 215 5.424\n",
       "4 14.7 230 5.345\n",
       "5 13.3 245 3.840\n",
       "6 15.8 264 3.170"
      ]
     },
     "metadata": {},
     "output_type": "display_data"
    }
   ],
   "source": [
    "mtcars %>% \n",
    "    select(mpg, hp, wt) %>% \n",
    "    filter(hp>200)  %>% \n",
    "    head()"
   ]
  },
  {
   "cell_type": "markdown",
   "metadata": {},
   "source": [
    "## Ordenar\n",
    "\n",
    "Puedo acomodar mis datos según orden alfabético, o de menor/mayor (dependiendo el tipo de dato):\n",
    "\n",
    "```\n",
    "tabla  %>% arrrange(columna1, columna2, ...)\n",
    "```\n",
    "O también, podría hacer alguna en orden _descendiente_:\n",
    "\n",
    "```\n",
    "tabla  %>% arrrange(desc(columna1), columna2, ...)\n",
    "```"
   ]
  },
  {
   "cell_type": "code",
   "execution_count": 25,
   "metadata": {},
   "outputs": [
    {
     "data": {
      "text/html": [
       "<table>\n",
       "<caption>A data.frame: 6 × 3</caption>\n",
       "<thead>\n",
       "\t<tr><th scope=col>mpg</th><th scope=col>hp</th><th scope=col>wt</th></tr>\n",
       "\t<tr><th scope=col>&lt;dbl&gt;</th><th scope=col>&lt;dbl&gt;</th><th scope=col>&lt;dbl&gt;</th></tr>\n",
       "</thead>\n",
       "<tbody>\n",
       "\t<tr><td>15.8</td><td>264</td><td>3.170</td></tr>\n",
       "\t<tr><td>14.3</td><td>245</td><td>3.570</td></tr>\n",
       "\t<tr><td>15.0</td><td>335</td><td>3.570</td></tr>\n",
       "\t<tr><td>13.3</td><td>245</td><td>3.840</td></tr>\n",
       "\t<tr><td>10.4</td><td>205</td><td>5.250</td></tr>\n",
       "\t<tr><td>14.7</td><td>230</td><td>5.345</td></tr>\n",
       "</tbody>\n",
       "</table>\n"
      ],
      "text/latex": [
       "A data.frame: 6 × 3\n",
       "\\begin{tabular}{r|lll}\n",
       " mpg & hp & wt\\\\\n",
       " <dbl> & <dbl> & <dbl>\\\\\n",
       "\\hline\n",
       "\t 15.8 & 264 & 3.170\\\\\n",
       "\t 14.3 & 245 & 3.570\\\\\n",
       "\t 15.0 & 335 & 3.570\\\\\n",
       "\t 13.3 & 245 & 3.840\\\\\n",
       "\t 10.4 & 205 & 5.250\\\\\n",
       "\t 14.7 & 230 & 5.345\\\\\n",
       "\\end{tabular}\n"
      ],
      "text/markdown": [
       "\n",
       "A data.frame: 6 × 3\n",
       "\n",
       "| mpg &lt;dbl&gt; | hp &lt;dbl&gt; | wt &lt;dbl&gt; |\n",
       "|---|---|---|\n",
       "| 15.8 | 264 | 3.170 |\n",
       "| 14.3 | 245 | 3.570 |\n",
       "| 15.0 | 335 | 3.570 |\n",
       "| 13.3 | 245 | 3.840 |\n",
       "| 10.4 | 205 | 5.250 |\n",
       "| 14.7 | 230 | 5.345 |\n",
       "\n"
      ],
      "text/plain": [
       "  mpg  hp  wt   \n",
       "1 15.8 264 3.170\n",
       "2 14.3 245 3.570\n",
       "3 15.0 335 3.570\n",
       "4 13.3 245 3.840\n",
       "5 10.4 205 5.250\n",
       "6 14.7 230 5.345"
      ]
     },
     "metadata": {},
     "output_type": "display_data"
    }
   ],
   "source": [
    "mtcars %>% \n",
    "    select(mpg, hp, wt) %>% \n",
    "    filter(hp>200) %>% \n",
    "    arrange(wt) %>% \n",
    "    head()"
   ]
  },
  {
   "cell_type": "markdown",
   "metadata": {},
   "source": [
    "## Agregar nuevas columnas\n",
    "\n",
    "Sí, se pueden calcular nuevas columnas a la forma antigua. Pero, para agregarlos a un _pipeline_, dplyr también nos proporciona una forma.\n",
    "\n",
    "En vez de:\n",
    "\n",
    "```\n",
    "tabla[\"nueva_columna1\"] = nuevos_valores1\n",
    "tabla[\"nueva_columna2\"] = nuevos_valores2\n",
    "```\n",
    "\n",
    "Con dplyr se puede hacer así:\n",
    "\n",
    "```\n",
    "tabla %>% mutate(nueva_columna1 = nuevos_valores1,\n",
    "                 nueva_columna1 = nuevos_valores2...)\n",
    "```\n"
   ]
  },
  {
   "cell_type": "code",
   "execution_count": 30,
   "metadata": {},
   "outputs": [
    {
     "data": {
      "text/html": [
       "<table>\n",
       "<caption>A data.frame: 6 × 4</caption>\n",
       "<thead>\n",
       "\t<tr><th scope=col>mpg</th><th scope=col>hp</th><th scope=col>wt</th><th scope=col>hp_wt</th></tr>\n",
       "\t<tr><th scope=col>&lt;dbl&gt;</th><th scope=col>&lt;dbl&gt;</th><th scope=col>&lt;dbl&gt;</th><th scope=col>&lt;dbl&gt;</th></tr>\n",
       "</thead>\n",
       "<tbody>\n",
       "\t<tr><td>15.8</td><td>264</td><td>3.170</td><td> 836.88</td></tr>\n",
       "\t<tr><td>14.3</td><td>245</td><td>3.570</td><td> 874.65</td></tr>\n",
       "\t<tr><td>15.0</td><td>335</td><td>3.570</td><td>1195.95</td></tr>\n",
       "\t<tr><td>13.3</td><td>245</td><td>3.840</td><td> 940.80</td></tr>\n",
       "\t<tr><td>10.4</td><td>205</td><td>5.250</td><td>1076.25</td></tr>\n",
       "\t<tr><td>14.7</td><td>230</td><td>5.345</td><td>1229.35</td></tr>\n",
       "</tbody>\n",
       "</table>\n"
      ],
      "text/latex": [
       "A data.frame: 6 × 4\n",
       "\\begin{tabular}{r|llll}\n",
       " mpg & hp & wt & hp\\_wt\\\\\n",
       " <dbl> & <dbl> & <dbl> & <dbl>\\\\\n",
       "\\hline\n",
       "\t 15.8 & 264 & 3.170 &  836.88\\\\\n",
       "\t 14.3 & 245 & 3.570 &  874.65\\\\\n",
       "\t 15.0 & 335 & 3.570 & 1195.95\\\\\n",
       "\t 13.3 & 245 & 3.840 &  940.80\\\\\n",
       "\t 10.4 & 205 & 5.250 & 1076.25\\\\\n",
       "\t 14.7 & 230 & 5.345 & 1229.35\\\\\n",
       "\\end{tabular}\n"
      ],
      "text/markdown": [
       "\n",
       "A data.frame: 6 × 4\n",
       "\n",
       "| mpg &lt;dbl&gt; | hp &lt;dbl&gt; | wt &lt;dbl&gt; | hp_wt &lt;dbl&gt; |\n",
       "|---|---|---|---|\n",
       "| 15.8 | 264 | 3.170 |  836.88 |\n",
       "| 14.3 | 245 | 3.570 |  874.65 |\n",
       "| 15.0 | 335 | 3.570 | 1195.95 |\n",
       "| 13.3 | 245 | 3.840 |  940.80 |\n",
       "| 10.4 | 205 | 5.250 | 1076.25 |\n",
       "| 14.7 | 230 | 5.345 | 1229.35 |\n",
       "\n"
      ],
      "text/plain": [
       "  mpg  hp  wt    hp_wt  \n",
       "1 15.8 264 3.170  836.88\n",
       "2 14.3 245 3.570  874.65\n",
       "3 15.0 335 3.570 1195.95\n",
       "4 13.3 245 3.840  940.80\n",
       "5 10.4 205 5.250 1076.25\n",
       "6 14.7 230 5.345 1229.35"
      ]
     },
     "metadata": {},
     "output_type": "display_data"
    }
   ],
   "source": [
    "mtcars %>% \n",
    "    select(mpg, hp, wt) %>% \n",
    "    filter(hp>200) %>% \n",
    "    arrange(wt) %>% \n",
    "    mutate(hp_wt = hp * wt)  %>% # Nota cómo sólo especificamos el nombre de columna y sin comillas.\n",
    "    head()"
   ]
  },
  {
   "cell_type": "markdown",
   "metadata": {},
   "source": [
    "## Resumir\n",
    "También, podemos sacar algunas métricas de resumen. Por ejemplo, el valor promedio, máximos, mínimos, etc.\n",
    "\n",
    "```\n",
    "tabla %>% summarise(resumida1 = metrica1(columna1),\n",
    "                    resumida1 = metrica2(columna2))\n",
    "```\n",
    "\n",
    "Nota: _summarise_ y _summarize_ hacen lo mismo."
   ]
  },
  {
   "cell_type": "code",
   "execution_count": 31,
   "metadata": {},
   "outputs": [
    {
     "data": {
      "text/html": [
       "<table>\n",
       "<caption>A data.frame: 1 × 3</caption>\n",
       "<thead>\n",
       "\t<tr><th scope=col>mean_hp</th><th scope=col>max_weight</th><th scope=col>var_hp_wt</th></tr>\n",
       "\t<tr><th scope=col>&lt;dbl&gt;</th><th scope=col>&lt;dbl&gt;</th><th scope=col>&lt;dbl&gt;</th></tr>\n",
       "</thead>\n",
       "<tbody>\n",
       "\t<tr><td>248.4286</td><td>5.424</td><td>25935.7</td></tr>\n",
       "</tbody>\n",
       "</table>\n"
      ],
      "text/latex": [
       "A data.frame: 1 × 3\n",
       "\\begin{tabular}{r|lll}\n",
       " mean\\_hp & max\\_weight & var\\_hp\\_wt\\\\\n",
       " <dbl> & <dbl> & <dbl>\\\\\n",
       "\\hline\n",
       "\t 248.4286 & 5.424 & 25935.7\\\\\n",
       "\\end{tabular}\n"
      ],
      "text/markdown": [
       "\n",
       "A data.frame: 1 × 3\n",
       "\n",
       "| mean_hp &lt;dbl&gt; | max_weight &lt;dbl&gt; | var_hp_wt &lt;dbl&gt; |\n",
       "|---|---|---|\n",
       "| 248.4286 | 5.424 | 25935.7 |\n",
       "\n"
      ],
      "text/plain": [
       "  mean_hp  max_weight var_hp_wt\n",
       "1 248.4286 5.424      25935.7  "
      ]
     },
     "metadata": {},
     "output_type": "display_data"
    }
   ],
   "source": [
    "mtcars %>% \n",
    "    select(mpg, hp, wt) %>% \n",
    "    filter(hp>200) %>% \n",
    "    arrange(wt) %>% \n",
    "    mutate(hp_wt = hp * wt)  %>% \n",
    "    summarise(mean_hp = mean(hp),\n",
    "              max_weight = max(wt),\n",
    "              var_hp_wt = var(hp_wt))"
   ]
  },
  {
   "cell_type": "markdown",
   "metadata": {},
   "source": [
    "Es especialmente útil cuando agrupamos según categorías... así como lo hacíamos con Pandas.\n",
    "\n",
    "```\n",
    "tabla %>% \n",
    "    group_by(columna_categorica)  %>% \n",
    "    summarise(resumida1 = metrica1(columna1),\n",
    "                    resumida1 = metrica2(columna2))\n",
    "                    \n",
    "```"
   ]
  },
  {
   "cell_type": "code",
   "execution_count": 33,
   "metadata": {},
   "outputs": [
    {
     "data": {
      "text/html": [
       "<table>\n",
       "<caption>A data.frame: 6 × 5</caption>\n",
       "<thead>\n",
       "\t<tr><th scope=col>Sepal.Length</th><th scope=col>Sepal.Width</th><th scope=col>Petal.Length</th><th scope=col>Petal.Width</th><th scope=col>Species</th></tr>\n",
       "\t<tr><th scope=col>&lt;dbl&gt;</th><th scope=col>&lt;dbl&gt;</th><th scope=col>&lt;dbl&gt;</th><th scope=col>&lt;dbl&gt;</th><th scope=col>&lt;fct&gt;</th></tr>\n",
       "</thead>\n",
       "<tbody>\n",
       "\t<tr><td>5.1</td><td>3.5</td><td>1.4</td><td>0.2</td><td>setosa</td></tr>\n",
       "\t<tr><td>4.9</td><td>3.0</td><td>1.4</td><td>0.2</td><td>setosa</td></tr>\n",
       "\t<tr><td>4.7</td><td>3.2</td><td>1.3</td><td>0.2</td><td>setosa</td></tr>\n",
       "\t<tr><td>4.6</td><td>3.1</td><td>1.5</td><td>0.2</td><td>setosa</td></tr>\n",
       "\t<tr><td>5.0</td><td>3.6</td><td>1.4</td><td>0.2</td><td>setosa</td></tr>\n",
       "\t<tr><td>5.4</td><td>3.9</td><td>1.7</td><td>0.4</td><td>setosa</td></tr>\n",
       "</tbody>\n",
       "</table>\n"
      ],
      "text/latex": [
       "A data.frame: 6 × 5\n",
       "\\begin{tabular}{r|lllll}\n",
       " Sepal.Length & Sepal.Width & Petal.Length & Petal.Width & Species\\\\\n",
       " <dbl> & <dbl> & <dbl> & <dbl> & <fct>\\\\\n",
       "\\hline\n",
       "\t 5.1 & 3.5 & 1.4 & 0.2 & setosa\\\\\n",
       "\t 4.9 & 3.0 & 1.4 & 0.2 & setosa\\\\\n",
       "\t 4.7 & 3.2 & 1.3 & 0.2 & setosa\\\\\n",
       "\t 4.6 & 3.1 & 1.5 & 0.2 & setosa\\\\\n",
       "\t 5.0 & 3.6 & 1.4 & 0.2 & setosa\\\\\n",
       "\t 5.4 & 3.9 & 1.7 & 0.4 & setosa\\\\\n",
       "\\end{tabular}\n"
      ],
      "text/markdown": [
       "\n",
       "A data.frame: 6 × 5\n",
       "\n",
       "| Sepal.Length &lt;dbl&gt; | Sepal.Width &lt;dbl&gt; | Petal.Length &lt;dbl&gt; | Petal.Width &lt;dbl&gt; | Species &lt;fct&gt; |\n",
       "|---|---|---|---|---|\n",
       "| 5.1 | 3.5 | 1.4 | 0.2 | setosa |\n",
       "| 4.9 | 3.0 | 1.4 | 0.2 | setosa |\n",
       "| 4.7 | 3.2 | 1.3 | 0.2 | setosa |\n",
       "| 4.6 | 3.1 | 1.5 | 0.2 | setosa |\n",
       "| 5.0 | 3.6 | 1.4 | 0.2 | setosa |\n",
       "| 5.4 | 3.9 | 1.7 | 0.4 | setosa |\n",
       "\n"
      ],
      "text/plain": [
       "  Sepal.Length Sepal.Width Petal.Length Petal.Width Species\n",
       "1 5.1          3.5         1.4          0.2         setosa \n",
       "2 4.9          3.0         1.4          0.2         setosa \n",
       "3 4.7          3.2         1.3          0.2         setosa \n",
       "4 4.6          3.1         1.5          0.2         setosa \n",
       "5 5.0          3.6         1.4          0.2         setosa \n",
       "6 5.4          3.9         1.7          0.4         setosa "
      ]
     },
     "metadata": {},
     "output_type": "display_data"
    }
   ],
   "source": [
    "head(iris)"
   ]
  },
  {
   "cell_type": "code",
   "execution_count": 40,
   "metadata": {},
   "outputs": [
    {
     "data": {
      "text/html": [
       "<table>\n",
       "<caption>A tibble: 3 × 3</caption>\n",
       "<thead>\n",
       "\t<tr><th scope=col>Species</th><th scope=col>mean_s_len</th><th scope=col>min_p_width</th></tr>\n",
       "\t<tr><th scope=col>&lt;fct&gt;</th><th scope=col>&lt;dbl&gt;</th><th scope=col>&lt;dbl&gt;</th></tr>\n",
       "</thead>\n",
       "<tbody>\n",
       "\t<tr><td>setosa    </td><td>5.006</td><td>0.1</td></tr>\n",
       "\t<tr><td>versicolor</td><td>5.936</td><td>1.0</td></tr>\n",
       "\t<tr><td>virginica </td><td>6.588</td><td>1.4</td></tr>\n",
       "</tbody>\n",
       "</table>\n"
      ],
      "text/latex": [
       "A tibble: 3 × 3\n",
       "\\begin{tabular}{r|lll}\n",
       " Species & mean\\_s\\_len & min\\_p\\_width\\\\\n",
       " <fct> & <dbl> & <dbl>\\\\\n",
       "\\hline\n",
       "\t setosa     & 5.006 & 0.1\\\\\n",
       "\t versicolor & 5.936 & 1.0\\\\\n",
       "\t virginica  & 6.588 & 1.4\\\\\n",
       "\\end{tabular}\n"
      ],
      "text/markdown": [
       "\n",
       "A tibble: 3 × 3\n",
       "\n",
       "| Species &lt;fct&gt; | mean_s_len &lt;dbl&gt; | min_p_width &lt;dbl&gt; |\n",
       "|---|---|---|\n",
       "| setosa     | 5.006 | 0.1 |\n",
       "| versicolor | 5.936 | 1.0 |\n",
       "| virginica  | 6.588 | 1.4 |\n",
       "\n"
      ],
      "text/plain": [
       "  Species    mean_s_len min_p_width\n",
       "1 setosa     5.006      0.1        \n",
       "2 versicolor 5.936      1.0        \n",
       "3 virginica  6.588      1.4        "
      ]
     },
     "metadata": {},
     "output_type": "display_data"
    }
   ],
   "source": [
    "iris  %>% \n",
    "    group_by(Species) %>% \n",
    "    summarize(mean_s_len = mean(Sepal.Length), \n",
    "              min_p_width = min(Petal.Width))"
   ]
  },
  {
   "cell_type": "markdown",
   "metadata": {},
   "source": [
    "Faltaría ver los _joins_, para combinar más de una tabla. Estas funciones básicas de SQL se pueden hacer en dplyr y en Pandas, pero quedarán pendiente para otra ocasión."
   ]
  },
  {
   "cell_type": "markdown",
   "metadata": {},
   "source": [
    "## Bonus: Relación con SQL\n",
    "\n",
    "¿Recuerdas este código de dplyr?\n",
    "\n",
    "```\n",
    "mtcars %>% \n",
    "    select(mpg, hp, wt) %>% \n",
    "    filter(hp > 200) %>% \n",
    "    arrange(wt)\n",
    "```\n",
    "\n",
    "Bueno...el equivalente en SQL es muy parecido:\n",
    "\n",
    "```\n",
    "SELECT mpg, hp, wt\n",
    "FROM mtcars\n",
    "WHERE hp > 200\n",
    "ORDER BY wt\n",
    "```\n",
    "\n"
   ]
  },
  {
   "cell_type": "markdown",
   "metadata": {},
   "source": [
    "También, el último código en dplyr:\n",
    "\n",
    "```\n",
    "iris  %>% \n",
    "    group_by(Species) %>% \n",
    "    summarize(mean_s_len = mean(Sepal.Length), \n",
    "              min_p_width = min(Petal.Width))\n",
    "```\n",
    "\n",
    "Se vería así en SQL:\n",
    "\n",
    "```\n",
    "SELECT\n",
    "    mean(Sepal.Length) AS mean_s_len,\n",
    "    min(Petal.Width) AS min_p_width\n",
    "FROM iris\n",
    "GROUP BY Species\n",
    "```"
   ]
  },
  {
   "cell_type": "code",
   "execution_count": null,
   "metadata": {},
   "outputs": [],
   "source": []
  }
 ],
 "metadata": {
  "kernelspec": {
   "display_name": "R",
   "language": "R",
   "name": "ir"
  },
  "language_info": {
   "codemirror_mode": "r",
   "file_extension": ".r",
   "mimetype": "text/x-r-source",
   "name": "R",
   "pygments_lexer": "r",
   "version": "3.5.3"
  }
 },
 "nbformat": 4,
 "nbformat_minor": 2
}
