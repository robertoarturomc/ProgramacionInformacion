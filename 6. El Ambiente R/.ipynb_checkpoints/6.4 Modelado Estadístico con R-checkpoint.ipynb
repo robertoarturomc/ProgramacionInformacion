{
 "cells": [
  {
   "cell_type": "markdown",
   "metadata": {},
   "source": [
    "# 6.4 Modelado Estadístico con R\n",
    "\n",
    "Tanto R, como Python, tienen paquetes que nos serán útiles para *modelar*; es decir, para crear versiones más sencillas de los sucesos a analizar. Por ejemplo, crear un mapa = crear un modelo sobre una región.\n",
    "\n",
    "Eso sí; como son versiones simplificadas, nunca serán del todo correctas.\n",
    "\n",
    "\"Todos los modelos están equiovcados...pero algunos son útiles\" - George Box.\n",
    "\n",
    "Creamos modelos estadísticos por varias razones:\n",
    "\n",
    "* Para analizar la relación entre variables.\n",
    "* Para generar predicciones.\n",
    "* Para tomar decisiones más informadas.\n",
    "Etc.\n",
    "\n",
    "Existen un sinfin de formas de modelar. Para cada una de ellas existen distintos algoritmos (¿Recuerdas? Algoritmo = serie de pasos). Por fortuna, los paquetes de R y Python simplifican el proceso para que, con el uso de unas pocas funciones, se puedan generar los modelos.\n",
    "\n",
    "¿Cuál es la diferencia entre ambos lenguajes? Normalmente, hay mayor capacidad de manipulación en los paquetes existentes en R, así como mayor facilidad para obtener información estadística. "
   ]
  },
  {
   "cell_type": "markdown",
   "metadata": {},
   "source": [
    "## La regresión lineal\n",
    "\n",
    "Vamos a conocer uno de los modelos estadísticos más básicos: la Regresión Lineal. De hecho, de ella, se desprenden muchos otros algoritmos.\n",
    "\n",
    "Una **regresión lineal** es un modelo estadístico que analiza la relación entre una variable respuesta (llamada Y, o variable dependiente) y una o varias variables (llamadas X, o variables independientes/predictoras). \n",
    "\n",
    "Es muy similar a la forma en la que el ser humano suele crear relaciones. Por ejemplo, al calcular la edad en \"años perro\" de tu mascota.\n",
    "\n",
    "$\\hat{Y} = \\hat{\\beta}_{0} + \\sum \\limits _{j=1} ^{p} X_{j}\\hat{\\beta}_{j} $\n",
    "\n",
    "Donde:\n",
    "\n",
    "$\\hat{Y}$ representa mi variable dependiente o respuesta.\n",
    "\n",
    "$\\hat{\\beta}_{0}$ representa el _intercepto_ o valor de $\\hat{Y}$ cuando la(s) variable(s) independiente(s) son igual a 0.\n",
    "\n",
    "$ X_{j}$ son mis distintas variables independientes.\n",
    "\n",
    "$\\hat{\\beta}_{j}$ son los pesos de cada una de esas variables predictoras.\n",
    "\n",
    "Al correr el código que veremos a continuación, la computadora busca los mejores valores para las _beta_ de tal manera que el error (la diferencia entre los valores reales y los predichos con esta fórmula), sea lo menor posible."
   ]
  },
  {
   "cell_type": "markdown",
   "metadata": {},
   "source": [
    "## Regresión lineal en R\n",
    "\n",
    "Para este ejercicio, dividiremos nuestros datos en dos partes: un set para entrenar nuestra Regresión Lineal, y un set separado para probar que el modelado fue bueno."
   ]
  },
  {
   "cell_type": "code",
   "execution_count": 4,
   "metadata": {},
   "outputs": [
    {
     "name": "stderr",
     "output_type": "stream",
     "text": [
      "-- \u001b[1mAttaching packages\u001b[22m --------------------------------------- tidyverse 1.2.1 --\n",
      "\u001b[32mv\u001b[39m \u001b[34mggplot2\u001b[39m 3.1.0     \u001b[32mv\u001b[39m \u001b[34mreadr  \u001b[39m 1.3.1\n",
      "\u001b[32mv\u001b[39m \u001b[34mtibble \u001b[39m 2.1.1     \u001b[32mv\u001b[39m \u001b[34mpurrr  \u001b[39m 0.3.2\n",
      "\u001b[32mv\u001b[39m \u001b[34mtidyr  \u001b[39m 0.8.3     \u001b[32mv\u001b[39m \u001b[34mstringr\u001b[39m 1.4.0\n",
      "\u001b[32mv\u001b[39m \u001b[34mggplot2\u001b[39m 3.1.0     \u001b[32mv\u001b[39m \u001b[34mforcats\u001b[39m 0.4.0\n",
      "-- \u001b[1mConflicts\u001b[22m ------------------------------------------ tidyverse_conflicts() --\n",
      "\u001b[31mx\u001b[39m \u001b[34mdplyr\u001b[39m::\u001b[32mfilter()\u001b[39m masks \u001b[34mstats\u001b[39m::filter()\n",
      "\u001b[31mx\u001b[39m \u001b[34mdplyr\u001b[39m::\u001b[32mlag()\u001b[39m    masks \u001b[34mstats\u001b[39m::lag()\n"
     ]
    }
   ],
   "source": [
    "library(tidyverse)"
   ]
  },
  {
   "cell_type": "code",
   "execution_count": 43,
   "metadata": {},
   "outputs": [
    {
     "name": "stderr",
     "output_type": "stream",
     "text": [
      "Parsed with column specification:\n",
      "cols(\n",
      "  longitude = \u001b[32mcol_double()\u001b[39m,\n",
      "  latitude = \u001b[32mcol_double()\u001b[39m,\n",
      "  housing_median_age = \u001b[32mcol_double()\u001b[39m,\n",
      "  total_rooms = \u001b[32mcol_double()\u001b[39m,\n",
      "  total_bedrooms = \u001b[32mcol_double()\u001b[39m,\n",
      "  population = \u001b[32mcol_double()\u001b[39m,\n",
      "  households = \u001b[32mcol_double()\u001b[39m,\n",
      "  median_income = \u001b[32mcol_double()\u001b[39m,\n",
      "  median_house_value = \u001b[32mcol_double()\u001b[39m\n",
      ")\n",
      "Parsed with column specification:\n",
      "cols(\n",
      "  longitude = \u001b[32mcol_double()\u001b[39m,\n",
      "  latitude = \u001b[32mcol_double()\u001b[39m,\n",
      "  housing_median_age = \u001b[32mcol_double()\u001b[39m,\n",
      "  total_rooms = \u001b[32mcol_double()\u001b[39m,\n",
      "  total_bedrooms = \u001b[32mcol_double()\u001b[39m,\n",
      "  population = \u001b[32mcol_double()\u001b[39m,\n",
      "  households = \u001b[32mcol_double()\u001b[39m,\n",
      "  median_income = \u001b[32mcol_double()\u001b[39m,\n",
      "  median_house_value = \u001b[32mcol_double()\u001b[39m\n",
      ")\n"
     ]
    },
    {
     "data": {
      "text/html": [
       "<table>\n",
       "<caption>A tibble: 6 × 9</caption>\n",
       "<thead>\n",
       "\t<tr><th scope=col>longitude</th><th scope=col>latitude</th><th scope=col>housing_median_age</th><th scope=col>total_rooms</th><th scope=col>total_bedrooms</th><th scope=col>population</th><th scope=col>households</th><th scope=col>median_income</th><th scope=col>median_house_value</th></tr>\n",
       "\t<tr><th scope=col>&lt;dbl&gt;</th><th scope=col>&lt;dbl&gt;</th><th scope=col>&lt;dbl&gt;</th><th scope=col>&lt;dbl&gt;</th><th scope=col>&lt;dbl&gt;</th><th scope=col>&lt;dbl&gt;</th><th scope=col>&lt;dbl&gt;</th><th scope=col>&lt;dbl&gt;</th><th scope=col>&lt;dbl&gt;</th></tr>\n",
       "</thead>\n",
       "<tbody>\n",
       "\t<tr><td>-114.31</td><td>34.19</td><td>15</td><td>5612</td><td>1283</td><td>1015</td><td>472</td><td>1.4936</td><td>66900</td></tr>\n",
       "\t<tr><td>-114.47</td><td>34.40</td><td>19</td><td>7650</td><td>1901</td><td>1129</td><td>463</td><td>1.8200</td><td>80100</td></tr>\n",
       "\t<tr><td>-114.56</td><td>33.69</td><td>17</td><td> 720</td><td> 174</td><td> 333</td><td>117</td><td>1.6509</td><td>85700</td></tr>\n",
       "\t<tr><td>-114.57</td><td>33.64</td><td>14</td><td>1501</td><td> 337</td><td> 515</td><td>226</td><td>3.1917</td><td>73400</td></tr>\n",
       "\t<tr><td>-114.57</td><td>33.57</td><td>20</td><td>1454</td><td> 326</td><td> 624</td><td>262</td><td>1.9250</td><td>65500</td></tr>\n",
       "\t<tr><td>-114.58</td><td>33.63</td><td>29</td><td>1387</td><td> 236</td><td> 671</td><td>239</td><td>3.3438</td><td>74000</td></tr>\n",
       "</tbody>\n",
       "</table>\n"
      ],
      "text/latex": [
       "A tibble: 6 × 9\n",
       "\\begin{tabular}{r|lllllllll}\n",
       " longitude & latitude & housing\\_median\\_age & total\\_rooms & total\\_bedrooms & population & households & median\\_income & median\\_house\\_value\\\\\n",
       " <dbl> & <dbl> & <dbl> & <dbl> & <dbl> & <dbl> & <dbl> & <dbl> & <dbl>\\\\\n",
       "\\hline\n",
       "\t -114.31 & 34.19 & 15 & 5612 & 1283 & 1015 & 472 & 1.4936 & 66900\\\\\n",
       "\t -114.47 & 34.40 & 19 & 7650 & 1901 & 1129 & 463 & 1.8200 & 80100\\\\\n",
       "\t -114.56 & 33.69 & 17 &  720 &  174 &  333 & 117 & 1.6509 & 85700\\\\\n",
       "\t -114.57 & 33.64 & 14 & 1501 &  337 &  515 & 226 & 3.1917 & 73400\\\\\n",
       "\t -114.57 & 33.57 & 20 & 1454 &  326 &  624 & 262 & 1.9250 & 65500\\\\\n",
       "\t -114.58 & 33.63 & 29 & 1387 &  236 &  671 & 239 & 3.3438 & 74000\\\\\n",
       "\\end{tabular}\n"
      ],
      "text/markdown": [
       "\n",
       "A tibble: 6 × 9\n",
       "\n",
       "| longitude &lt;dbl&gt; | latitude &lt;dbl&gt; | housing_median_age &lt;dbl&gt; | total_rooms &lt;dbl&gt; | total_bedrooms &lt;dbl&gt; | population &lt;dbl&gt; | households &lt;dbl&gt; | median_income &lt;dbl&gt; | median_house_value &lt;dbl&gt; |\n",
       "|---|---|---|---|---|---|---|---|---|\n",
       "| -114.31 | 34.19 | 15 | 5612 | 1283 | 1015 | 472 | 1.4936 | 66900 |\n",
       "| -114.47 | 34.40 | 19 | 7650 | 1901 | 1129 | 463 | 1.8200 | 80100 |\n",
       "| -114.56 | 33.69 | 17 |  720 |  174 |  333 | 117 | 1.6509 | 85700 |\n",
       "| -114.57 | 33.64 | 14 | 1501 |  337 |  515 | 226 | 3.1917 | 73400 |\n",
       "| -114.57 | 33.57 | 20 | 1454 |  326 |  624 | 262 | 1.9250 | 65500 |\n",
       "| -114.58 | 33.63 | 29 | 1387 |  236 |  671 | 239 | 3.3438 | 74000 |\n",
       "\n"
      ],
      "text/plain": [
       "  longitude latitude housing_median_age total_rooms total_bedrooms population\n",
       "1 -114.31   34.19    15                 5612        1283           1015      \n",
       "2 -114.47   34.40    19                 7650        1901           1129      \n",
       "3 -114.56   33.69    17                  720         174            333      \n",
       "4 -114.57   33.64    14                 1501         337            515      \n",
       "5 -114.57   33.57    20                 1454         326            624      \n",
       "6 -114.58   33.63    29                 1387         236            671      \n",
       "  households median_income median_house_value\n",
       "1 472        1.4936        66900             \n",
       "2 463        1.8200        80100             \n",
       "3 117        1.6509        85700             \n",
       "4 226        3.1917        73400             \n",
       "5 262        1.9250        65500             \n",
       "6 239        3.3438        74000             "
      ]
     },
     "metadata": {},
     "output_type": "display_data"
    }
   ],
   "source": [
    "# read.csv también es una opción, pero se recomienda más read_csv, que pertenece a readr (del tidyverse)\n",
    "\n",
    "train <- read_csv(\"sample_data/california_housing_train.csv\")\n",
    "test <- read_csv(\"sample_data/california_housing_test.csv\")\n",
    "\n",
    "train %>% head()"
   ]
  },
  {
   "cell_type": "markdown",
   "metadata": {},
   "source": [
    "Supongamos que ya limpiamos nuestros datos y la única manipulación necesaria es la siguiente: *median_income* necesita ser multiplicado por 10,000 para tener el valor real. "
   ]
  },
  {
   "cell_type": "code",
   "execution_count": 102,
   "metadata": {},
   "outputs": [],
   "source": [
    "train[\"median_income\"] = train[\"median_income\"] * 10000 \n",
    "test[\"median_income\"] = test[\"median_income\"] * 10000 "
   ]
  },
  {
   "cell_type": "markdown",
   "metadata": {},
   "source": [
    "Vamos a tratar de estimar cuál es el valor medio de las casas (*median_house_value*), usando la demás información a nuestro alcance.\n",
    "\n",
    "Antes de empezar, veamos cuál es la correlación lineal entre esa y las demás variables."
   ]
  },
  {
   "cell_type": "code",
   "execution_count": 46,
   "metadata": {},
   "outputs": [
    {
     "data": {
      "text/html": [
       "<table>\n",
       "<caption>A matrix: 9 × 9 of type dbl</caption>\n",
       "<thead>\n",
       "\t<tr><th></th><th scope=col>longitude</th><th scope=col>latitude</th><th scope=col>housing_median_age</th><th scope=col>total_rooms</th><th scope=col>total_bedrooms</th><th scope=col>population</th><th scope=col>households</th><th scope=col>median_income</th><th scope=col>median_house_value</th></tr>\n",
       "</thead>\n",
       "<tbody>\n",
       "\t<tr><th scope=row>longitude</th><td> 1.00000000</td><td>-0.92520828</td><td>-0.1142503</td><td> 0.04701044</td><td> 0.07180196</td><td> 0.1016742646</td><td> 0.059627704</td><td>-0.0154849614</td><td>-0.04498170</td></tr>\n",
       "\t<tr><th scope=row>latitude</th><td>-0.92520828</td><td> 1.00000000</td><td> 0.0164539</td><td>-0.03877257</td><td>-0.06937292</td><td>-0.1112613615</td><td>-0.074902297</td><td>-0.0803030138</td><td>-0.14491672</td></tr>\n",
       "\t<tr><th scope=row>housing_median_age</th><td>-0.11425031</td><td> 0.01645390</td><td> 1.0000000</td><td>-0.36098417</td><td>-0.32043408</td><td>-0.2958898054</td><td>-0.302754191</td><td>-0.1159316246</td><td> 0.10675771</td></tr>\n",
       "\t<tr><th scope=row>total_rooms</th><td> 0.04701044</td><td>-0.03877257</td><td>-0.3609842</td><td> 1.00000000</td><td> 0.92840299</td><td> 0.8601703408</td><td> 0.919018298</td><td> 0.1953828074</td><td> 0.13099147</td></tr>\n",
       "\t<tr><th scope=row>total_bedrooms</th><td> 0.07180196</td><td>-0.06937292</td><td>-0.3204341</td><td> 0.92840299</td><td> 1.00000000</td><td> 0.8811685744</td><td> 0.980920092</td><td>-0.0134946823</td><td> 0.04578305</td></tr>\n",
       "\t<tr><th scope=row>population</th><td> 0.10167426</td><td>-0.11126136</td><td>-0.2958898</td><td> 0.86017034</td><td> 0.88116857</td><td> 1.0000000000</td><td> 0.909246530</td><td>-0.0006376291</td><td>-0.02785006</td></tr>\n",
       "\t<tr><th scope=row>households</th><td> 0.05962770</td><td>-0.07490230</td><td>-0.3027542</td><td> 0.91901830</td><td> 0.98092009</td><td> 0.9092465299</td><td> 1.000000000</td><td> 0.0076437162</td><td> 0.06103063</td></tr>\n",
       "\t<tr><th scope=row>median_income</th><td>-0.01548496</td><td>-0.08030301</td><td>-0.1159316</td><td> 0.19538281</td><td>-0.01349468</td><td>-0.0006376291</td><td> 0.007643716</td><td> 1.0000000000</td><td> 0.69187060</td></tr>\n",
       "\t<tr><th scope=row>median_house_value</th><td>-0.04498170</td><td>-0.14491672</td><td> 0.1067577</td><td> 0.13099147</td><td> 0.04578305</td><td>-0.0278500611</td><td> 0.061030634</td><td> 0.6918706038</td><td> 1.00000000</td></tr>\n",
       "</tbody>\n",
       "</table>\n"
      ],
      "text/latex": [
       "A matrix: 9 × 9 of type dbl\n",
       "\\begin{tabular}{r|lllllllll}\n",
       "  & longitude & latitude & housing\\_median\\_age & total\\_rooms & total\\_bedrooms & population & households & median\\_income & median\\_house\\_value\\\\\n",
       "\\hline\n",
       "\tlongitude &  1.00000000 & -0.92520828 & -0.1142503 &  0.04701044 &  0.07180196 &  0.1016742646 &  0.059627704 & -0.0154849614 & -0.04498170\\\\\n",
       "\tlatitude & -0.92520828 &  1.00000000 &  0.0164539 & -0.03877257 & -0.06937292 & -0.1112613615 & -0.074902297 & -0.0803030138 & -0.14491672\\\\\n",
       "\thousing\\_median\\_age & -0.11425031 &  0.01645390 &  1.0000000 & -0.36098417 & -0.32043408 & -0.2958898054 & -0.302754191 & -0.1159316246 &  0.10675771\\\\\n",
       "\ttotal\\_rooms &  0.04701044 & -0.03877257 & -0.3609842 &  1.00000000 &  0.92840299 &  0.8601703408 &  0.919018298 &  0.1953828074 &  0.13099147\\\\\n",
       "\ttotal\\_bedrooms &  0.07180196 & -0.06937292 & -0.3204341 &  0.92840299 &  1.00000000 &  0.8811685744 &  0.980920092 & -0.0134946823 &  0.04578305\\\\\n",
       "\tpopulation &  0.10167426 & -0.11126136 & -0.2958898 &  0.86017034 &  0.88116857 &  1.0000000000 &  0.909246530 & -0.0006376291 & -0.02785006\\\\\n",
       "\thouseholds &  0.05962770 & -0.07490230 & -0.3027542 &  0.91901830 &  0.98092009 &  0.9092465299 &  1.000000000 &  0.0076437162 &  0.06103063\\\\\n",
       "\tmedian\\_income & -0.01548496 & -0.08030301 & -0.1159316 &  0.19538281 & -0.01349468 & -0.0006376291 &  0.007643716 &  1.0000000000 &  0.69187060\\\\\n",
       "\tmedian\\_house\\_value & -0.04498170 & -0.14491672 &  0.1067577 &  0.13099147 &  0.04578305 & -0.0278500611 &  0.061030634 &  0.6918706038 &  1.00000000\\\\\n",
       "\\end{tabular}\n"
      ],
      "text/markdown": [
       "\n",
       "A matrix: 9 × 9 of type dbl\n",
       "\n",
       "| <!--/--> | longitude | latitude | housing_median_age | total_rooms | total_bedrooms | population | households | median_income | median_house_value |\n",
       "|---|---|---|---|---|---|---|---|---|---|\n",
       "| longitude |  1.00000000 | -0.92520828 | -0.1142503 |  0.04701044 |  0.07180196 |  0.1016742646 |  0.059627704 | -0.0154849614 | -0.04498170 |\n",
       "| latitude | -0.92520828 |  1.00000000 |  0.0164539 | -0.03877257 | -0.06937292 | -0.1112613615 | -0.074902297 | -0.0803030138 | -0.14491672 |\n",
       "| housing_median_age | -0.11425031 |  0.01645390 |  1.0000000 | -0.36098417 | -0.32043408 | -0.2958898054 | -0.302754191 | -0.1159316246 |  0.10675771 |\n",
       "| total_rooms |  0.04701044 | -0.03877257 | -0.3609842 |  1.00000000 |  0.92840299 |  0.8601703408 |  0.919018298 |  0.1953828074 |  0.13099147 |\n",
       "| total_bedrooms |  0.07180196 | -0.06937292 | -0.3204341 |  0.92840299 |  1.00000000 |  0.8811685744 |  0.980920092 | -0.0134946823 |  0.04578305 |\n",
       "| population |  0.10167426 | -0.11126136 | -0.2958898 |  0.86017034 |  0.88116857 |  1.0000000000 |  0.909246530 | -0.0006376291 | -0.02785006 |\n",
       "| households |  0.05962770 | -0.07490230 | -0.3027542 |  0.91901830 |  0.98092009 |  0.9092465299 |  1.000000000 |  0.0076437162 |  0.06103063 |\n",
       "| median_income | -0.01548496 | -0.08030301 | -0.1159316 |  0.19538281 | -0.01349468 | -0.0006376291 |  0.007643716 |  1.0000000000 |  0.69187060 |\n",
       "| median_house_value | -0.04498170 | -0.14491672 |  0.1067577 |  0.13099147 |  0.04578305 | -0.0278500611 |  0.061030634 |  0.6918706038 |  1.00000000 |\n",
       "\n"
      ],
      "text/plain": [
       "                   longitude   latitude    housing_median_age total_rooms\n",
       "longitude           1.00000000 -0.92520828 -0.1142503          0.04701044\n",
       "latitude           -0.92520828  1.00000000  0.0164539         -0.03877257\n",
       "housing_median_age -0.11425031  0.01645390  1.0000000         -0.36098417\n",
       "total_rooms         0.04701044 -0.03877257 -0.3609842          1.00000000\n",
       "total_bedrooms      0.07180196 -0.06937292 -0.3204341          0.92840299\n",
       "population          0.10167426 -0.11126136 -0.2958898          0.86017034\n",
       "households          0.05962770 -0.07490230 -0.3027542          0.91901830\n",
       "median_income      -0.01548496 -0.08030301 -0.1159316          0.19538281\n",
       "median_house_value -0.04498170 -0.14491672  0.1067577          0.13099147\n",
       "                   total_bedrooms population    households   median_income\n",
       "longitude           0.07180196     0.1016742646  0.059627704 -0.0154849614\n",
       "latitude           -0.06937292    -0.1112613615 -0.074902297 -0.0803030138\n",
       "housing_median_age -0.32043408    -0.2958898054 -0.302754191 -0.1159316246\n",
       "total_rooms         0.92840299     0.8601703408  0.919018298  0.1953828074\n",
       "total_bedrooms      1.00000000     0.8811685744  0.980920092 -0.0134946823\n",
       "population          0.88116857     1.0000000000  0.909246530 -0.0006376291\n",
       "households          0.98092009     0.9092465299  1.000000000  0.0076437162\n",
       "median_income      -0.01349468    -0.0006376291  0.007643716  1.0000000000\n",
       "median_house_value  0.04578305    -0.0278500611  0.061030634  0.6918706038\n",
       "                   median_house_value\n",
       "longitude          -0.04498170       \n",
       "latitude           -0.14491672       \n",
       "housing_median_age  0.10675771       \n",
       "total_rooms         0.13099147       \n",
       "total_bedrooms      0.04578305       \n",
       "population         -0.02785006       \n",
       "households          0.06103063       \n",
       "median_income       0.69187060       \n",
       "median_house_value  1.00000000       "
      ]
     },
     "metadata": {},
     "output_type": "display_data"
    }
   ],
   "source": [
    "train %>% cor()"
   ]
  },
  {
   "cell_type": "markdown",
   "metadata": {},
   "source": [
    "Si te fijas, *median_income* es la variable con la mejor correlación lineal, con respecto a nuestra variable respuesta (*median_house_value*).\n",
    "\n",
    "Entonces, esa variable es _candidata_ a ser una buena variable estimadora.\n",
    "\n",
    "¿Cómo se hace una regresión lineal en R, entonces?\n",
    "\n",
    "Usando la siguiente función:\n",
    "\n",
    "```\n",
    "lm(<variable dependiente> ~ <variable independiente1> +  <variable independiente2> + ..., data=<dataFrame>) \n",
    "```"
   ]
  },
  {
   "cell_type": "code",
   "execution_count": 56,
   "metadata": {},
   "outputs": [
    {
     "data": {
      "text/plain": [
       "\n",
       "Call:\n",
       "lm(formula = median_house_value ~ median_income, data = train)\n",
       "\n",
       "Coefficients:\n",
       "  (Intercept)  median_income  \n",
       "    4.398e+04      4.205e-04  \n"
      ]
     },
     "metadata": {},
     "output_type": "display_data"
    }
   ],
   "source": [
    "model <- lm(median_house_value ~ median_income, data=train)\n",
    "model"
   ]
  },
  {
   "cell_type": "markdown",
   "metadata": {},
   "source": [
    "¡Tenemos nuestro primer modelo! De momento, nuestra estimación quedaría así:\n",
    "\n",
    "\n",
    "\n",
    "$medianhousevalue =  43981 + 4.205 (median income) $\n",
    "\n",
    "Es decir; el precio estimado de las casas es de 43981 + 4.2054 por el valor medio de los ingresos en esa región.\n",
    "\n",
    "Dicho de otra forma, el valor inicial de las casas es de 4,3981 USD, y por cada dólar extra de los ingresos medios, el valor de las casas se incrementa en 4.205 USD.\n",
    "\n",
    "Si quiero ver información estadística extra, basta con usar la función `summary()`"
   ]
  },
  {
   "cell_type": "code",
   "execution_count": 48,
   "metadata": {},
   "outputs": [
    {
     "data": {
      "text/plain": [
       "\n",
       "Call:\n",
       "lm(formula = median_house_value ~ median_income, data = train)\n",
       "\n",
       "Residuals:\n",
       "    Min      1Q  Median      3Q     Max \n",
       "-543496  -55851  -17276   36878  434998 \n",
       "\n",
       "Coefficients:\n",
       "               Estimate Std. Error t value Pr(>|t|)    \n",
       "(Intercept)   4.398e+04  1.457e+03    30.2   <2e-16 ***\n",
       "median_income 4.205e-04  3.366e-06   124.9   <2e-16 ***\n",
       "---\n",
       "Signif. codes:  0 '***' 0.001 '**' 0.01 '*' 0.05 '.' 0.1 ' ' 1\n",
       "\n",
       "Residual standard error: 83750 on 16998 degrees of freedom\n",
       "Multiple R-squared:  0.4787,\tAdjusted R-squared:  0.4787 \n",
       "F-statistic: 1.561e+04 on 1 and 16998 DF,  p-value: < 2.2e-16\n"
      ]
     },
     "metadata": {},
     "output_type": "display_data"
    }
   ],
   "source": [
    "summary(model)"
   ]
  },
  {
   "cell_type": "markdown",
   "metadata": {},
   "source": [
    "La más importante es, posiblemente, el valor de la $R^2$ = 0.4787. Eso significa que, por sí sóla, *median_income* explica el 47.87% de la variabilidad de *median_house_value*.\n",
    "\n",
    "Por cierto, ¿recuerdas cuál era la correlación entre las dos variables?"
   ]
  },
  {
   "cell_type": "code",
   "execution_count": 49,
   "metadata": {},
   "outputs": [
    {
     "data": {
      "text/html": [
       "<table>\n",
       "<caption>A matrix: 2 × 2 of type dbl</caption>\n",
       "<thead>\n",
       "\t<tr><th></th><th scope=col>median_income</th><th scope=col>median_house_value</th></tr>\n",
       "</thead>\n",
       "<tbody>\n",
       "\t<tr><th scope=row>median_income</th><td>1.0000000</td><td>0.6918706</td></tr>\n",
       "\t<tr><th scope=row>median_house_value</th><td>0.6918706</td><td>1.0000000</td></tr>\n",
       "</tbody>\n",
       "</table>\n"
      ],
      "text/latex": [
       "A matrix: 2 × 2 of type dbl\n",
       "\\begin{tabular}{r|ll}\n",
       "  & median\\_income & median\\_house\\_value\\\\\n",
       "\\hline\n",
       "\tmedian\\_income & 1.0000000 & 0.6918706\\\\\n",
       "\tmedian\\_house\\_value & 0.6918706 & 1.0000000\\\\\n",
       "\\end{tabular}\n"
      ],
      "text/markdown": [
       "\n",
       "A matrix: 2 × 2 of type dbl\n",
       "\n",
       "| <!--/--> | median_income | median_house_value |\n",
       "|---|---|---|\n",
       "| median_income | 1.0000000 | 0.6918706 |\n",
       "| median_house_value | 0.6918706 | 1.0000000 |\n",
       "\n"
      ],
      "text/plain": [
       "                   median_income median_house_value\n",
       "median_income      1.0000000     0.6918706         \n",
       "median_house_value 0.6918706     1.0000000         "
      ]
     },
     "metadata": {},
     "output_type": "display_data"
    }
   ],
   "source": [
    "train %>% select(median_income, median_house_value)  %>% cor()"
   ]
  },
  {
   "cell_type": "code",
   "execution_count": 50,
   "metadata": {},
   "outputs": [
    {
     "data": {
      "text/html": [
       "0.47868493821429"
      ],
      "text/latex": [
       "0.47868493821429"
      ],
      "text/markdown": [
       "0.47868493821429"
      ],
      "text/plain": [
       "[1] 0.4786849"
      ]
     },
     "metadata": {},
     "output_type": "display_data"
    }
   ],
   "source": [
    "0.691870608 * 0.691870608 "
   ]
  },
  {
   "cell_type": "markdown",
   "metadata": {},
   "source": [
    "## Prediciendo con valores nuevos.\n",
    "\n",
    "¿Qué pasa si quiero tener una estimación del valor de las casas en un vecindario nuevo, donde el ingreso medio es de $21,000?\n",
    "\n",
    "Bueno, podría probar reemplazando en mi fórmula...\n",
    "\n",
    "$medianhousevalue =  43981 + 4.205 (21000) $"
   ]
  },
  {
   "cell_type": "code",
   "execution_count": 51,
   "metadata": {},
   "outputs": [
    {
     "data": {
      "text/html": [
       "132294.4"
      ],
      "text/latex": [
       "132294.4"
      ],
      "text/markdown": [
       "132294.4"
      ],
      "text/plain": [
       "[1] 132294.4"
      ]
     },
     "metadata": {},
     "output_type": "display_data"
    }
   ],
   "source": [
    "prediccion <- 43981 + 4.2054 * 21000\n",
    "prediccion"
   ]
  },
  {
   "cell_type": "markdown",
   "metadata": {},
   "source": [
    "Aunque es más exacto (y más sencillo, con modelos más complejos) si usamos la función `predict()`..."
   ]
  },
  {
   "cell_type": "code",
   "execution_count": 52,
   "metadata": {},
   "outputs": [
    {
     "data": {
      "text/html": [
       "<strong>1:</strong> 43989.4595120198"
      ],
      "text/latex": [
       "\\textbf{1:} 43989.4595120198"
      ],
      "text/markdown": [
       "**1:** 43989.4595120198"
      ],
      "text/plain": [
       "       1 \n",
       "43989.46 "
      ]
     },
     "metadata": {},
     "output_type": "display_data"
    }
   ],
   "source": [
    "new_data <- data_frame(median_income=21000)\n",
    "\n",
    "predict(model, new_data)"
   ]
  },
  {
   "cell_type": "markdown",
   "metadata": {},
   "source": [
    "## Midiendo la efectividad\n",
    "\n",
    "Dependiendo del tipo de problema, hay un sinfin de métricas que se pueden usar para determinar si nuestro modelo es bueno.\n",
    "En el caso de la regresión, el Error Cuadrático Medio (RMSE), el F1 score y la R^2 son de las más comunes, mas no las únicas. \n",
    "\n",
    "Cada métrica tiene sus distintas ventajas y desventas, por lo que escoger una depende de haber entendido la meta en el problema concreto. En caso de poner a comparar distintos modelos, difícilmente uno será el mejor en tooodas las métricas.\n",
    "\n",
    "¿Recuerdas?\n",
    "\n",
    "Todos los modelos están equivocados, pero algunos son útiles...\n",
    "\n",
    "Por cierto; las métricas se calculan sobre datos distintos a los de entrenamiento. ¿Qué chiste tendría evaluar sobre los datos originales? Por ello, a veces se dividen en un 50%-80% para entrenar, y 20%-50% para evaluar.\n",
    "\n",
    "Suponiendo que la R2 es mi métrica escogida:"
   ]
  },
  {
   "cell_type": "code",
   "execution_count": 53,
   "metadata": {},
   "outputs": [],
   "source": [
    "# caret tiene funciones que me ayudan a calcular el resultado de las métricas\n",
    "library(caret)"
   ]
  },
  {
   "cell_type": "code",
   "execution_count": 69,
   "metadata": {},
   "outputs": [
    {
     "data": {
      "text/html": [
       "<table>\n",
       "<caption>A matrix: 1 × 1 of type dbl</caption>\n",
       "<thead>\n",
       "\t<tr><th scope=col>median_house_value</th></tr>\n",
       "</thead>\n",
       "<tbody>\n",
       "\t<tr><td>0.4525188</td></tr>\n",
       "</tbody>\n",
       "</table>\n"
      ],
      "text/latex": [
       "A matrix: 1 × 1 of type dbl\n",
       "\\begin{tabular}{l}\n",
       " median\\_house\\_value\\\\\n",
       "\\hline\n",
       "\t 0.4525188\\\\\n",
       "\\end{tabular}\n"
      ],
      "text/markdown": [
       "\n",
       "A matrix: 1 × 1 of type dbl\n",
       "\n",
       "| median_house_value |\n",
       "|---|\n",
       "| 0.4525188 |\n",
       "\n"
      ],
      "text/plain": [
       "     median_house_value\n",
       "[1,] 0.4525188         "
      ]
     },
     "metadata": {},
     "output_type": "display_data"
    }
   ],
   "source": [
    "predicciones_test <- predict(model, test[\"median_income\"]) \n",
    " \n",
    "# R2 mide, en cierta forma, qué tanto se separan mis predicciones de los valores reales.\n",
    "evalua <- R2(test[\"median_house_value\"], predicciones_test) \n",
    "evalua"
   ]
  },
  {
   "cell_type": "markdown",
   "metadata": {},
   "source": [
    "## Modelos más complejos\n",
    "La regresión lineal, al ser un modelo simple, permite agregar un poco de complejidad para mejorar nuestro modelo.\n",
    "\n",
    "Sólo recuerda: modelos demasiado complejos tampoco son buena idea."
   ]
  },
  {
   "cell_type": "code",
   "execution_count": 107,
   "metadata": {},
   "outputs": [
    {
     "data": {
      "text/plain": [
       "\n",
       "Call:\n",
       "lm(formula = median_house_value ~ median_income + total_rooms, \n",
       "    data = train)\n",
       "\n",
       "Residuals:\n",
       "    Min      1Q  Median      3Q     Max \n",
       "-544632  -55892  -17312   36982  434615 \n",
       "\n",
       "Coefficients:\n",
       "                Estimate Std. Error t value Pr(>|t|)    \n",
       "(Intercept)    4.439e+04  1.551e+03  28.616   <2e-16 ***\n",
       "median_income  4.211e-08  3.432e-10 122.673   <2e-16 ***\n",
       "total_rooms   -2.317e-01  3.004e-01  -0.771    0.441    \n",
       "---\n",
       "Signif. codes:  0 '***' 0.001 '**' 0.01 '*' 0.05 '.' 0.1 ' ' 1\n",
       "\n",
       "Residual standard error: 83750 on 16997 degrees of freedom\n",
       "Multiple R-squared:  0.4787,\tAdjusted R-squared:  0.4786 \n",
       "F-statistic:  7804 on 2 and 16997 DF,  p-value: < 2.2e-16\n"
      ]
     },
     "metadata": {},
     "output_type": "display_data"
    }
   ],
   "source": [
    "# Puedo crear un segundo modelo con una variable extra...\n",
    "model2 <- lm(median_house_value ~ median_income + total_rooms, data=train)\n",
    "summary(model2)"
   ]
  },
  {
   "cell_type": "code",
   "execution_count": 109,
   "metadata": {},
   "outputs": [
    {
     "data": {
      "text/plain": [
       "\n",
       "Call:\n",
       "lm(formula = median_house_value ~ ., data = train)\n",
       "\n",
       "Residuals:\n",
       "    Min      1Q  Median      3Q     Max \n",
       "-565474  -43649  -11525   30220  801097 \n",
       "\n",
       "Coefficients:\n",
       "                     Estimate Std. Error t value Pr(>|t|)    \n",
       "(Intercept)        -3.621e+06  6.921e+04 -52.312  < 2e-16 ***\n",
       "longitude          -4.314e+04  7.896e+02 -54.637  < 2e-16 ***\n",
       "latitude           -4.293e+04  7.458e+02 -57.556  < 2e-16 ***\n",
       "housing_median_age  1.151e+03  4.758e+01  24.186  < 2e-16 ***\n",
       "total_rooms        -8.378e+00  8.628e-01  -9.711  < 2e-16 ***\n",
       "total_bedrooms      1.176e+02  7.687e+00  15.305  < 2e-16 ***\n",
       "population         -3.849e+01  1.186e+00 -32.456  < 2e-16 ***\n",
       "households          4.544e+01  8.445e+00   5.380 7.54e-08 ***\n",
       "median_income       4.051e-08  3.682e-10 110.022  < 2e-16 ***\n",
       "---\n",
       "Signif. codes:  0 '***' 0.001 '**' 0.01 '*' 0.05 '.' 0.1 ' ' 1\n",
       "\n",
       "Residual standard error: 69480 on 16991 degrees of freedom\n",
       "Multiple R-squared:  0.6413,\tAdjusted R-squared:  0.6412 \n",
       "F-statistic:  3798 on 8 and 16991 DF,  p-value: < 2.2e-16\n"
      ]
     },
     "metadata": {},
     "output_type": "display_data"
    }
   ],
   "source": [
    "# E incluso, ¡con todas!\n",
    "model3 <- lm(median_house_value ~ ., data=train)\n",
    "summary(model3)"
   ]
  },
  {
   "cell_type": "code",
   "execution_count": 111,
   "metadata": {},
   "outputs": [
    {
     "data": {
      "text/plain": [
       "\n",
       "Call:\n",
       "lm(formula = median_house_value ~ . - total_rooms, data = train)\n",
       "\n",
       "Residuals:\n",
       "    Min      1Q  Median      3Q     Max \n",
       "-543195  -44143  -11693   30585  858678 \n",
       "\n",
       "Coefficients:\n",
       "                     Estimate Std. Error t value Pr(>|t|)    \n",
       "(Intercept)        -3.725e+06  6.857e+04 -54.321  < 2e-16 ***\n",
       "longitude          -4.458e+04  7.776e+02 -57.329  < 2e-16 ***\n",
       "latitude           -4.464e+04  7.267e+02 -61.421  < 2e-16 ***\n",
       "housing_median_age  1.179e+03  4.762e+01  24.764  < 2e-16 ***\n",
       "total_bedrooms      8.277e+01  6.815e+00  12.146  < 2e-16 ***\n",
       "population         -4.176e+01  1.140e+00 -36.624  < 2e-16 ***\n",
       "households          4.826e+01  8.463e+00   5.702  1.2e-08 ***\n",
       "median_income       3.837e-08  2.961e-10 129.585  < 2e-16 ***\n",
       "---\n",
       "Signif. codes:  0 '***' 0.001 '**' 0.01 '*' 0.05 '.' 0.1 ' ' 1\n",
       "\n",
       "Residual standard error: 69670 on 16992 degrees of freedom\n",
       "Multiple R-squared:  0.6393,\tAdjusted R-squared:  0.6392 \n",
       "F-statistic:  4303 on 7 and 16992 DF,  p-value: < 2.2e-16\n"
      ]
     },
     "metadata": {},
     "output_type": "display_data"
    }
   ],
   "source": [
    "# O a lo mejor, con todas excepto total_rooms\n",
    "model4 <- lm(median_house_value ~ .-total_rooms, data=train)\n",
    "summary(model4)"
   ]
  },
  {
   "cell_type": "markdown",
   "metadata": {},
   "source": [
    "Y, ¿por qué no? También se puede modelar con variables transformadas, si creemos que la relación es más compleja..."
   ]
  },
  {
   "cell_type": "code",
   "execution_count": 113,
   "metadata": {},
   "outputs": [
    {
     "data": {
      "text/plain": [
       "\n",
       "Call:\n",
       "lm(formula = median_house_value ~ median_income + log(population), \n",
       "    data = train)\n",
       "\n",
       "Residuals:\n",
       "    Min      1Q  Median      3Q     Max \n",
       "-551579  -55768  -17240   37197  429314 \n",
       "\n",
       "Coefficients:\n",
       "                  Estimate Std. Error t value Pr(>|t|)    \n",
       "(Intercept)      6.317e+04  6.343e+03   9.959  < 2e-16 ***\n",
       "median_income    4.204e-08  3.366e-10 124.917  < 2e-16 ***\n",
       "log(population) -2.723e+03  8.762e+02  -3.108  0.00189 ** \n",
       "---\n",
       "Signif. codes:  0 '***' 0.001 '**' 0.01 '*' 0.05 '.' 0.1 ' ' 1\n",
       "\n",
       "Residual standard error: 83720 on 16997 degrees of freedom\n",
       "Multiple R-squared:  0.479,\tAdjusted R-squared:  0.4789 \n",
       "F-statistic:  7813 on 2 and 16997 DF,  p-value: < 2.2e-16\n"
      ]
     },
     "metadata": {},
     "output_type": "display_data"
    }
   ],
   "source": [
    "model5 <- lm(median_house_value ~ median_income + log(population), data=train)\n",
    "summary(model5)"
   ]
  },
  {
   "cell_type": "markdown",
   "metadata": {},
   "source": [
    "El determinar qué variables ocupar es un tema qué requiere más horas de estudio, pero que es vital para volverse un buen modelador estadístico."
   ]
  },
  {
   "cell_type": "code",
   "execution_count": null,
   "metadata": {},
   "outputs": [],
   "source": []
  }
 ],
 "metadata": {
  "kernelspec": {
   "display_name": "R",
   "language": "R",
   "name": "ir"
  },
  "language_info": {
   "codemirror_mode": "r",
   "file_extension": ".r",
   "mimetype": "text/x-r-source",
   "name": "R",
   "pygments_lexer": "r",
   "version": "3.5.3"
  }
 },
 "nbformat": 4,
 "nbformat_minor": 2
}
