{
 "cells": [
  {
   "cell_type": "markdown",
   "metadata": {},
   "source": [
    "# Ejercicio Extra 2: Practicando con Dplyr."
   ]
  },
  {
   "cell_type": "code",
   "execution_count": 3,
   "metadata": {},
   "outputs": [
    {
     "name": "stderr",
     "output_type": "stream",
     "text": [
      "\n",
      "Attaching package: 'dplyr'\n",
      "\n",
      "The following objects are masked from 'package:stats':\n",
      "\n",
      "    filter, lag\n",
      "\n",
      "The following objects are masked from 'package:base':\n",
      "\n",
      "    intersect, setdiff, setequal, union\n",
      "\n"
     ]
    }
   ],
   "source": [
    "library(dplyr)"
   ]
  },
  {
   "cell_type": "code",
   "execution_count": 5,
   "metadata": {},
   "outputs": [
    {
     "name": "stdout",
     "output_type": "stream",
     "text": [
      "Observations: 32\n",
      "Variables: 11\n",
      "$ mpg  \u001b[3m\u001b[90m<dbl>\u001b[39m\u001b[23m 21.0, 21.0, 22.8, 21.4, 18.7, 18.1, 14.3, 24.4, 22.8, 19.2, 17...\n",
      "$ cyl  \u001b[3m\u001b[90m<dbl>\u001b[39m\u001b[23m 6, 6, 4, 6, 8, 6, 8, 4, 4, 6, 6, 8, 8, 8, 8, 8, 8, 4, 4, 4, 4,...\n",
      "$ disp \u001b[3m\u001b[90m<dbl>\u001b[39m\u001b[23m 160.0, 160.0, 108.0, 258.0, 360.0, 225.0, 360.0, 146.7, 140.8,...\n",
      "$ hp   \u001b[3m\u001b[90m<dbl>\u001b[39m\u001b[23m 110, 110, 93, 110, 175, 105, 245, 62, 95, 123, 123, 180, 180, ...\n",
      "$ drat \u001b[3m\u001b[90m<dbl>\u001b[39m\u001b[23m 3.90, 3.90, 3.85, 3.08, 3.15, 2.76, 3.21, 3.69, 3.92, 3.92, 3....\n",
      "$ wt   \u001b[3m\u001b[90m<dbl>\u001b[39m\u001b[23m 2.620, 2.875, 2.320, 3.215, 3.440, 3.460, 3.570, 3.190, 3.150,...\n",
      "$ qsec \u001b[3m\u001b[90m<dbl>\u001b[39m\u001b[23m 16.46, 17.02, 18.61, 19.44, 17.02, 20.22, 15.84, 20.00, 22.90,...\n",
      "$ vs   \u001b[3m\u001b[90m<dbl>\u001b[39m\u001b[23m 0, 0, 1, 1, 0, 1, 0, 1, 1, 1, 1, 0, 0, 0, 0, 0, 0, 1, 1, 1, 1,...\n",
      "$ am   \u001b[3m\u001b[90m<dbl>\u001b[39m\u001b[23m 1, 1, 1, 0, 0, 0, 0, 0, 0, 0, 0, 0, 0, 0, 0, 0, 0, 1, 1, 1, 0,...\n",
      "$ gear \u001b[3m\u001b[90m<dbl>\u001b[39m\u001b[23m 4, 4, 4, 3, 3, 3, 3, 4, 4, 4, 4, 3, 3, 3, 3, 3, 3, 4, 4, 4, 3,...\n",
      "$ carb \u001b[3m\u001b[90m<dbl>\u001b[39m\u001b[23m 4, 4, 1, 1, 2, 1, 4, 2, 2, 4, 4, 3, 3, 3, 4, 4, 4, 1, 2, 1, 1,...\n"
     ]
    }
   ],
   "source": [
    "# En vez de _head()_, los usuarios de dplyr suelen usar la función _glimpse()_, porque también incluye el tamaño de la tabla.\n",
    "glimpse(mtcars)"
   ]
  },
  {
   "cell_type": "markdown",
   "metadata": {},
   "source": [
    "### 1. Selecciona toda las columnas de mtcars EXCEPTO hp."
   ]
  },
  {
   "cell_type": "code",
   "execution_count": null,
   "metadata": {},
   "outputs": [],
   "source": []
  },
  {
   "cell_type": "markdown",
   "metadata": {},
   "source": [
    "### 2. Seleciona las columnas `mpg, hp, vs, am, gear, carb`.\n",
    "Tip: Usa el símbolo `:` para simplificar; recuerda que `a:d` = \"de la 'a' a la 'd' = `a, b, c, d` \n",
    "\n"
   ]
  },
  {
   "cell_type": "code",
   "execution_count": null,
   "metadata": {},
   "outputs": [],
   "source": []
  },
  {
   "cell_type": "markdown",
   "metadata": {},
   "source": [
    "### 3. Crea una nueva variable llamada _km_per_litre_ usando la función mutate(). \n",
    "Tip: 1 mpg = 0.425 km/l "
   ]
  },
  {
   "cell_type": "code",
   "execution_count": null,
   "metadata": {},
   "outputs": [],
   "source": []
  },
  {
   "cell_type": "markdown",
   "metadata": {},
   "source": [
    "### 4. Imprime los renglones que tienen mpg>20, hp>100 y vs==0"
   ]
  },
  {
   "cell_type": "code",
   "execution_count": null,
   "metadata": {},
   "outputs": [],
   "source": []
  },
  {
   "cell_type": "markdown",
   "metadata": {},
   "source": [
    "### 5. Libre: haz tu propia manipulación de datos; utiliza al menos 3 funciones distintas en el mismo _pipeline_."
   ]
  },
  {
   "cell_type": "code",
   "execution_count": null,
   "metadata": {},
   "outputs": [],
   "source": []
  }
 ],
 "metadata": {
  "kernelspec": {
   "display_name": "R",
   "language": "R",
   "name": "ir"
  },
  "language_info": {
   "codemirror_mode": "r",
   "file_extension": ".r",
   "mimetype": "text/x-r-source",
   "name": "R",
   "pygments_lexer": "r",
   "version": "3.5.3"
  }
 },
 "nbformat": 4,
 "nbformat_minor": 2
}
