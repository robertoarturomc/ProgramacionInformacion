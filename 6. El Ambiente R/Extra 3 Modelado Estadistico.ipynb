{
 "cells": [
  {
   "cell_type": "markdown",
   "metadata": {},
   "source": [
    "# Extra 3: Modelado Estadistico\n",
    "\n",
    "Vamos a practicar el desarrollo de algunos modelos sencillos."
   ]
  },
  {
   "cell_type": "code",
   "execution_count": 1,
   "metadata": {},
   "outputs": [
    {
     "name": "stderr",
     "output_type": "stream",
     "text": [
      "\n",
      "Attaching package: 'dplyr'\n",
      "\n",
      "The following objects are masked from 'package:stats':\n",
      "\n",
      "    filter, lag\n",
      "\n",
      "The following objects are masked from 'package:base':\n",
      "\n",
      "    intersect, setdiff, setequal, union\n",
      "\n"
     ]
    }
   ],
   "source": [
    "library(dplyr)"
   ]
  },
  {
   "cell_type": "markdown",
   "metadata": {},
   "source": [
    "Supón que vas a abrir un negocio de pizzas. \n",
    "\n",
    "Como eres nuevo en la ciudad, no estás seguro de cuánto deberías cobrar por pizza, pero como eres un economista con conocimientos Estadísticos, decides recabar datos yendo a pizzerias de la competencia y generar un Modelo que te ayude a decidir. "
   ]
  },
  {
   "cell_type": "code",
   "execution_count": 31,
   "metadata": {},
   "outputs": [
    {
     "data": {
      "text/html": [
       "<table>\n",
       "<caption>A tibble: 6 × 4</caption>\n",
       "<thead>\n",
       "\t<tr><th scope=col>precio</th><th scope=col>radio</th><th scope=col>ingredientes</th><th scope=col>entrega</th></tr>\n",
       "\t<tr><th scope=col>&lt;dbl&gt;</th><th scope=col>&lt;dbl&gt;</th><th scope=col>&lt;dbl&gt;</th><th scope=col>&lt;dbl&gt;</th></tr>\n",
       "</thead>\n",
       "<tbody>\n",
       "\t<tr><td>136</td><td>21</td><td>3</td><td>1</td></tr>\n",
       "\t<tr><td> 98</td><td>19</td><td>1</td><td>1</td></tr>\n",
       "\t<tr><td>117</td><td>19</td><td>4</td><td>1</td></tr>\n",
       "\t<tr><td>135</td><td>24</td><td>4</td><td>0</td></tr>\n",
       "\t<tr><td>138</td><td>24</td><td>3</td><td>0</td></tr>\n",
       "\t<tr><td> 98</td><td>15</td><td>4</td><td>1</td></tr>\n",
       "</tbody>\n",
       "</table>\n"
      ],
      "text/latex": [
       "A tibble: 6 × 4\n",
       "\\begin{tabular}{r|llll}\n",
       " precio & radio & ingredientes & entrega\\\\\n",
       " <dbl> & <dbl> & <dbl> & <dbl>\\\\\n",
       "\\hline\n",
       "\t 136 & 21 & 3 & 1\\\\\n",
       "\t  98 & 19 & 1 & 1\\\\\n",
       "\t 117 & 19 & 4 & 1\\\\\n",
       "\t 135 & 24 & 4 & 0\\\\\n",
       "\t 138 & 24 & 3 & 0\\\\\n",
       "\t  98 & 15 & 4 & 1\\\\\n",
       "\\end{tabular}\n"
      ],
      "text/markdown": [
       "\n",
       "A tibble: 6 × 4\n",
       "\n",
       "| precio &lt;dbl&gt; | radio &lt;dbl&gt; | ingredientes &lt;dbl&gt; | entrega &lt;dbl&gt; |\n",
       "|---|---|---|---|\n",
       "| 136 | 21 | 3 | 1 |\n",
       "|  98 | 19 | 1 | 1 |\n",
       "| 117 | 19 | 4 | 1 |\n",
       "| 135 | 24 | 4 | 0 |\n",
       "| 138 | 24 | 3 | 0 |\n",
       "|  98 | 15 | 4 | 1 |\n",
       "\n"
      ],
      "text/plain": [
       "  precio radio ingredientes entrega\n",
       "1 136    21    3            1      \n",
       "2  98    19    1            1      \n",
       "3 117    19    4            1      \n",
       "4 135    24    4            0      \n",
       "5 138    24    3            0      \n",
       "6  98    15    4            1      "
      ]
     },
     "metadata": {},
     "output_type": "display_data"
    }
   ],
   "source": [
    "pizzas <- data_frame(precio = c(136,98,117,135,138,98,92,104,109,130,116,136,112,124,90,82,116,107,130,83,141,126,148,106,131,131,148,96,152,87,110,124,107,130,135,127,101,147,95,95,112,102,102,131,122,120,147,141,115,128,146,138,91,131,116,113,110,129,125,106,110,81,156,110,126,118,144,83,109,139,144,113,117,115,138,149,104,111,112,149,96,128,110,107,132,130,142,115,138,128,143,107,105,123,108,115,109,119,116,99,121,121,91,124,132,112,132,157,122,94,144,150,84,150,124,103,141,107,119,119,123,127,128,134,133,111,136,93,106,146,91,143,105,126,159,132,132,143,121,102,130,129,135,117,151,125,119,100,142,109), \n",
    "                    radio = c(21,19,19,24,24,15,15,15,18,20,18,21,19,19,15,15,19,19,25,15,25,18,23,18,22,19,25,15,24,15,16,19,17,25,22,21,15,25,16,15,18,15,15,20,19,23,24,22,18,20,25,25,17,21,19,22,17,22,21,17,15,15,25,18,24,19,24,15,16,22,24,19,21,20,25,25,17,21,20,25,17,21,18,18,24,24,24,20,21,19,24,15,20,23,18,22,17,21,19,18,18,20,16,24,22,19,22,25,19,17,22,23,15,23,23,16,24,19,21,23,18,23,21,22,21,19,21,16,17,23,17,23,15,19,25,22,23,23,19,18,21,22,23,19,24,23,23,16,24,16),\n",
    "                    ingredientes = c(3,1,4,4,3,4,1,4,1,3,2,1,1,1,1,2,4,1,2,4,1,4,4,4,4,4,1,1,4,1,1,2,3,1,3,4,2,4,4,2,4,3,4,3,4,1,3,1,3,4,3,2,1,2,3,1,1,2,3,2,4,1,2,4,1,2,2,3,3,4,1,4,3,1,2,2,2,2,2,3,2,4,3,3,3,3,4,2,3,3,3,3,1,4,1,2,2,4,3,2,4,4,2,1,3,4,3,4,3,3,3,4,2,4,4,1,1,1,2,1,2,4,3,4,1,3,3,3,4,4,3,2,2,2,4,2,1,4,2,4,1,1,1,2,2,2,1,4,2,4),\n",
    "                    entrega = c(1,1,1,0,0,1,0,1,1,1,1,0,1,1,0,1,0,1,1,0,1,0,1,0,0,0,1,1,1,1,0,1,0,1,1,0,0,0,1,0,0,0,0,0,0,0,1,1,1,0,0,0,0,1,0,1,1,0,0,1,1,1,0,0,1,1,0,0,1,0,0,0,1,0,0,1,0,0,1,0,1,0,0,0,1,0,1,0,1,1,0,0,0,0,1,0,1,0,0,1,1,0,0,1,0,0,1,0,0,1,1,0,0,1,1,0,0,0,0,1,1,1,1,0,1,0,1,1,1,0,1,0,0,1,0,1,0,1,1,1,0,1,0,0,0,0,0,0,1,1))\n",
    "\n",
    "pizzas %>% head()"
   ]
  },
  {
   "cell_type": "markdown",
   "metadata": {},
   "source": [
    "Vamos a separar en un set de entrenamiento y uno de prueba."
   ]
  },
  {
   "cell_type": "code",
   "execution_count": 32,
   "metadata": {},
   "outputs": [],
   "source": [
    "train_id <- sample(150, size = 100)\n",
    "\n",
    "train <- pizzas[train_id, ]\n",
    "test <- pizzas[-train_id, ]"
   ]
  },
  {
   "cell_type": "markdown",
   "metadata": {},
   "source": [
    "## 1. Crea las siguientes regresiones lineales usando los datos de _train_. \n",
    "### a) Estima el precio usando sólo el radio de la pizza. Guárdala como _modelo1_."
   ]
  },
  {
   "cell_type": "code",
   "execution_count": null,
   "metadata": {},
   "outputs": [],
   "source": []
  },
  {
   "cell_type": "markdown",
   "metadata": {},
   "source": [
    "### b) Estima el precio usando todas las demás variables. Guárdala como _modelo2_."
   ]
  },
  {
   "cell_type": "code",
   "execution_count": null,
   "metadata": {},
   "outputs": [],
   "source": []
  },
  {
   "cell_type": "markdown",
   "metadata": {},
   "source": [
    "### c) Estima el precio usando log(radio). Guárdala como _modelo3_."
   ]
  },
  {
   "cell_type": "code",
   "execution_count": null,
   "metadata": {},
   "outputs": [],
   "source": []
  },
  {
   "cell_type": "markdown",
   "metadata": {},
   "source": [
    "### 2. Para los 3 modelos, calcula la $R^2$ sobre el set de test. Observa cuál es el modelo que te dió el valor más alto."
   ]
  },
  {
   "cell_type": "code",
   "execution_count": null,
   "metadata": {},
   "outputs": [],
   "source": []
  },
  {
   "cell_type": "code",
   "execution_count": null,
   "metadata": {},
   "outputs": [],
   "source": []
  },
  {
   "cell_type": "code",
   "execution_count": null,
   "metadata": {},
   "outputs": [],
   "source": []
  },
  {
   "cell_type": "markdown",
   "metadata": {},
   "source": [
    "### 3. Tus pizzas medirán 20 centímetros, tendrán 2 ingredientes y no haces entrega a domicilio. Si escoges el modelo con la $R^2$ más alta, ¿cuánto deberías cobrar?"
   ]
  },
  {
   "cell_type": "code",
   "execution_count": null,
   "metadata": {},
   "outputs": [],
   "source": []
  }
 ],
 "metadata": {
  "kernelspec": {
   "display_name": "R",
   "language": "R",
   "name": "ir"
  },
  "language_info": {
   "codemirror_mode": "r",
   "file_extension": ".r",
   "mimetype": "text/x-r-source",
   "name": "R",
   "pygments_lexer": "r",
   "version": "3.5.3"
  }
 },
 "nbformat": 4,
 "nbformat_minor": 2
}
