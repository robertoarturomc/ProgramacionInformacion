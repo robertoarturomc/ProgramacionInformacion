{
  "nbformat": 4,
  "nbformat_minor": 0,
  "metadata": {
    "colab": {
      "name": "5.2 TIpos de Graficos.ipynb",
      "provenance": []
    },
    "kernelspec": {
      "name": "python3",
      "display_name": "Python 3"
    },
    "language_info": {
      "name": "python"
    }
  },
  "cells": [
    {
      "cell_type": "code",
      "metadata": {
        "id": "3yQ1N83Jcs-7"
      },
      "source": [
        "import pandas as pd\n",
        "import numpy as np\n",
        "import matplotlib.pyplot as plt"
      ],
      "execution_count": null,
      "outputs": []
    },
    {
      "cell_type": "code",
      "metadata": {
        "colab": {
          "base_uri": "https://localhost:8080/",
          "height": 225
        },
        "id": "RHMB5HBOcbai",
        "outputId": "9b01e19d-8799-4865-db73-3afb97481205"
      },
      "source": [
        "df =  pd.read_csv(\"sample_data/california_housing_train.csv\")\n",
        "df.head()"
      ],
      "execution_count": null,
      "outputs": [
        {
          "output_type": "execute_result",
          "data": {
            "text/html": [
              "<div>\n",
              "<style scoped>\n",
              "    .dataframe tbody tr th:only-of-type {\n",
              "        vertical-align: middle;\n",
              "    }\n",
              "\n",
              "    .dataframe tbody tr th {\n",
              "        vertical-align: top;\n",
              "    }\n",
              "\n",
              "    .dataframe thead th {\n",
              "        text-align: right;\n",
              "    }\n",
              "</style>\n",
              "<table border=\"1\" class=\"dataframe\">\n",
              "  <thead>\n",
              "    <tr style=\"text-align: right;\">\n",
              "      <th></th>\n",
              "      <th>longitude</th>\n",
              "      <th>latitude</th>\n",
              "      <th>housing_median_age</th>\n",
              "      <th>total_rooms</th>\n",
              "      <th>total_bedrooms</th>\n",
              "      <th>population</th>\n",
              "      <th>households</th>\n",
              "      <th>median_income</th>\n",
              "      <th>median_house_value</th>\n",
              "    </tr>\n",
              "  </thead>\n",
              "  <tbody>\n",
              "    <tr>\n",
              "      <th>0</th>\n",
              "      <td>-114.31</td>\n",
              "      <td>34.19</td>\n",
              "      <td>15.0</td>\n",
              "      <td>5612.0</td>\n",
              "      <td>1283.0</td>\n",
              "      <td>1015.0</td>\n",
              "      <td>472.0</td>\n",
              "      <td>1.4936</td>\n",
              "      <td>66900.0</td>\n",
              "    </tr>\n",
              "    <tr>\n",
              "      <th>1</th>\n",
              "      <td>-114.47</td>\n",
              "      <td>34.40</td>\n",
              "      <td>19.0</td>\n",
              "      <td>7650.0</td>\n",
              "      <td>1901.0</td>\n",
              "      <td>1129.0</td>\n",
              "      <td>463.0</td>\n",
              "      <td>1.8200</td>\n",
              "      <td>80100.0</td>\n",
              "    </tr>\n",
              "    <tr>\n",
              "      <th>2</th>\n",
              "      <td>-114.56</td>\n",
              "      <td>33.69</td>\n",
              "      <td>17.0</td>\n",
              "      <td>720.0</td>\n",
              "      <td>174.0</td>\n",
              "      <td>333.0</td>\n",
              "      <td>117.0</td>\n",
              "      <td>1.6509</td>\n",
              "      <td>85700.0</td>\n",
              "    </tr>\n",
              "    <tr>\n",
              "      <th>3</th>\n",
              "      <td>-114.57</td>\n",
              "      <td>33.64</td>\n",
              "      <td>14.0</td>\n",
              "      <td>1501.0</td>\n",
              "      <td>337.0</td>\n",
              "      <td>515.0</td>\n",
              "      <td>226.0</td>\n",
              "      <td>3.1917</td>\n",
              "      <td>73400.0</td>\n",
              "    </tr>\n",
              "    <tr>\n",
              "      <th>4</th>\n",
              "      <td>-114.57</td>\n",
              "      <td>33.57</td>\n",
              "      <td>20.0</td>\n",
              "      <td>1454.0</td>\n",
              "      <td>326.0</td>\n",
              "      <td>624.0</td>\n",
              "      <td>262.0</td>\n",
              "      <td>1.9250</td>\n",
              "      <td>65500.0</td>\n",
              "    </tr>\n",
              "  </tbody>\n",
              "</table>\n",
              "</div>"
            ],
            "text/plain": [
              "   longitude  latitude  ...  median_income  median_house_value\n",
              "0    -114.31     34.19  ...         1.4936             66900.0\n",
              "1    -114.47     34.40  ...         1.8200             80100.0\n",
              "2    -114.56     33.69  ...         1.6509             85700.0\n",
              "3    -114.57     33.64  ...         3.1917             73400.0\n",
              "4    -114.57     33.57  ...         1.9250             65500.0\n",
              "\n",
              "[5 rows x 9 columns]"
            ]
          },
          "metadata": {},
          "execution_count": 3
        }
      ]
    },
    {
      "cell_type": "markdown",
      "metadata": {
        "id": "lOo-39ZocY-0"
      },
      "source": [
        "# Tipos de Gráficos\n",
        "\n",
        "Existen varios tipos de Gráficos; hoy veremos los principales.\n",
        "\n",
        "Lo ideal es escoger aquella que se pueda entender en menos de 10 segundos.\n",
        "\n",
        "**Una buena gráfica es como un chiste: si la tengo que explicar, no sirve.**\n",
        "\n",
        "## Histogramas\n",
        "\n",
        "Permiten darnos cuenta de dónde se concentran los datos de **una** sola variable."
      ]
    },
    {
      "cell_type": "code",
      "metadata": {
        "colab": {
          "base_uri": "https://localhost:8080/",
          "height": 265
        },
        "id": "TF_1_zmadJZf",
        "outputId": "ff0c62b3-b643-417e-a2b5-c8ef69828061"
      },
      "source": [
        "plt.hist(df.housing_median_age)\n",
        "plt.show()"
      ],
      "execution_count": null,
      "outputs": [
        {
          "output_type": "display_data",
          "data": {
            "image/png": "[encoded data removed]",
            "text/plain": [
              "<Figure size 432x288 with 1 Axes>"
            ]
          },
          "metadata": {
            "needs_background": "light"
          }
        }
      ]
    },
    {
      "cell_type": "code",
      "metadata": {
        "colab": {
          "base_uri": "https://localhost:8080/",
          "height": 265
        },
        "id": "Ugd49kbUdYSb",
        "outputId": "be11b66e-16ca-4ebc-adfd-d932dd43242b"
      },
      "source": [
        "# Por default, Python crea 10 grupos. Peeeero, este número se puede modificar.\n",
        "plt.hist(df.housing_median_age, bins=5)\n",
        "plt.show()"
      ],
      "execution_count": null,
      "outputs": [
        {
          "output_type": "display_data",
          "data": {
            "image/png": "[encoded data removed]",
            "text/plain": [
              "<Figure size 432x288 with 1 Axes>"
            ]
          },
          "metadata": {
            "needs_background": "light"
          }
        }
      ]
    },
    {
      "cell_type": "markdown",
      "metadata": {
        "id": "FYatNkiieJvp"
      },
      "source": [
        "No necesitan que hagamos cálculos! Son muy prácticos especialmente al principio del análisis, ya que podemos conocer las distribuciones\n",
        "\n",
        "En el eje X se encuentran los intervalos. En el eje Y, qué tan frecuente es que un valor esté en ese intervalo.\n",
        "\n",
        "## Dispersión/Puntos (Scatterplot)\n",
        "\n",
        "Son el equivalente de Histogramas, pero para **parejas** de variables. Me dan una observación rápida de mis datos."
      ]
    },
    {
      "cell_type": "code",
      "metadata": {
        "colab": {
          "base_uri": "https://localhost:8080/",
          "height": 265
        },
        "id": "dbfK00_Ndold",
        "outputId": "938259f3-a396-4277-8792-b4e388ee6f0a"
      },
      "source": [
        "plt.scatter(df[\"population\"],\tdf[\"total_bedrooms\"])\n",
        "plt.show()"
      ],
      "execution_count": null,
      "outputs": [
        {
          "output_type": "display_data",
          "data": {
            "image/png": "[encoded data removed]",
            "text/plain": [
              "<Figure size 432x288 with 1 Axes>"
            ]
          },
          "metadata": {
            "needs_background": "light"
          }
        }
      ]
    },
    {
      "cell_type": "markdown",
      "metadata": {
        "id": "7HNSXZlmfQhF"
      },
      "source": [
        "¡Los puntos están más o menos sobre una misma línea! Eso significa que existe una alta correlación entre ambos valores (y puedo comprobarlo calculando alguna medida).\n",
        "\n",
        "Recordatorio: ¡correlación no implica causalidad!"
      ]
    },
    {
      "cell_type": "code",
      "metadata": {
        "colab": {
          "base_uri": "https://localhost:8080/",
          "height": 112
        },
        "id": "6yuef6tpeyvT",
        "outputId": "f8ed88c9-4dda-4138-c278-45393864379c"
      },
      "source": [
        "df[[\"population\", \"total_bedrooms\"]].corr()"
      ],
      "execution_count": null,
      "outputs": [
        {
          "output_type": "execute_result",
          "data": {
            "text/html": [
              "<div>\n",
              "<style scoped>\n",
              "    .dataframe tbody tr th:only-of-type {\n",
              "        vertical-align: middle;\n",
              "    }\n",
              "\n",
              "    .dataframe tbody tr th {\n",
              "        vertical-align: top;\n",
              "    }\n",
              "\n",
              "    .dataframe thead th {\n",
              "        text-align: right;\n",
              "    }\n",
              "</style>\n",
              "<table border=\"1\" class=\"dataframe\">\n",
              "  <thead>\n",
              "    <tr style=\"text-align: right;\">\n",
              "      <th></th>\n",
              "      <th>population</th>\n",
              "      <th>total_bedrooms</th>\n",
              "    </tr>\n",
              "  </thead>\n",
              "  <tbody>\n",
              "    <tr>\n",
              "      <th>population</th>\n",
              "      <td>1.000000</td>\n",
              "      <td>0.881169</td>\n",
              "    </tr>\n",
              "    <tr>\n",
              "      <th>total_bedrooms</th>\n",
              "      <td>0.881169</td>\n",
              "      <td>1.000000</td>\n",
              "    </tr>\n",
              "  </tbody>\n",
              "</table>\n",
              "</div>"
            ],
            "text/plain": [
              "                population  total_bedrooms\n",
              "population        1.000000        0.881169\n",
              "total_bedrooms    0.881169        1.000000"
            ]
          },
          "metadata": {},
          "execution_count": 23
        }
      ]
    },
    {
      "cell_type": "markdown",
      "metadata": {
        "id": "LohX5KYufwS_"
      },
      "source": [
        "Nota: ese tipo de gráficos son muy valiosos para detectar puntos con valores atípicos; estos pudieran ser debido a un error de medición, o ser valores reales, pero poco comunes.\n",
        "\n",
        "Es parte del analista el decidir qué hacer con ellos. ¿hago como que no existen, y los borro? ¿Los reemplazo por algún valor que haga más sentido?\n",
        "\n",
        "Todo depende del tipo de problema.\n",
        "\n",
        "(Y por eso, es muy importante entender primero el problema, antes de aventarme a analizarlo).\n",
        "\n",
        "## Gráfico de Barras (columnas)\n",
        "\n",
        "Especialmente útiles cuando queremos comparar cantidades en términos absolutos. Sobretodo, a través de varios grupos o categorías."
      ]
    },
    {
      "cell_type": "code",
      "metadata": {
        "id": "zob0MjxQgh9U",
        "colab": {
          "base_uri": "https://localhost:8080/",
          "height": 143
        },
        "outputId": "75f0add3-7e8b-49e7-bea2-a35b0b71d81e"
      },
      "source": [
        "df2=pd.read_csv(\"https://gist.githubusercontent.com/armgilles/194bcff35001e7eb53a2a8b441e8b2c6/raw/92200bc0a673d5ce2110aaad4544ed6c4010f687/pokemon.csv\")\n",
        "df2.head(3)"
      ],
      "execution_count": 24,
      "outputs": [
        {
          "output_type": "execute_result",
          "data": {
            "text/html": [
              "<div>\n",
              "<style scoped>\n",
              "    .dataframe tbody tr th:only-of-type {\n",
              "        vertical-align: middle;\n",
              "    }\n",
              "\n",
              "    .dataframe tbody tr th {\n",
              "        vertical-align: top;\n",
              "    }\n",
              "\n",
              "    .dataframe thead th {\n",
              "        text-align: right;\n",
              "    }\n",
              "</style>\n",
              "<table border=\"1\" class=\"dataframe\">\n",
              "  <thead>\n",
              "    <tr style=\"text-align: right;\">\n",
              "      <th></th>\n",
              "      <th>#</th>\n",
              "      <th>Name</th>\n",
              "      <th>Type 1</th>\n",
              "      <th>Type 2</th>\n",
              "      <th>Total</th>\n",
              "      <th>HP</th>\n",
              "      <th>Attack</th>\n",
              "      <th>Defense</th>\n",
              "      <th>Sp. Atk</th>\n",
              "      <th>Sp. Def</th>\n",
              "      <th>Speed</th>\n",
              "      <th>Generation</th>\n",
              "      <th>Legendary</th>\n",
              "    </tr>\n",
              "  </thead>\n",
              "  <tbody>\n",
              "    <tr>\n",
              "      <th>0</th>\n",
              "      <td>1</td>\n",
              "      <td>Bulbasaur</td>\n",
              "      <td>Grass</td>\n",
              "      <td>Poison</td>\n",
              "      <td>318</td>\n",
              "      <td>45</td>\n",
              "      <td>49</td>\n",
              "      <td>49</td>\n",
              "      <td>65</td>\n",
              "      <td>65</td>\n",
              "      <td>45</td>\n",
              "      <td>1</td>\n",
              "      <td>False</td>\n",
              "    </tr>\n",
              "    <tr>\n",
              "      <th>1</th>\n",
              "      <td>2</td>\n",
              "      <td>Ivysaur</td>\n",
              "      <td>Grass</td>\n",
              "      <td>Poison</td>\n",
              "      <td>405</td>\n",
              "      <td>60</td>\n",
              "      <td>62</td>\n",
              "      <td>63</td>\n",
              "      <td>80</td>\n",
              "      <td>80</td>\n",
              "      <td>60</td>\n",
              "      <td>1</td>\n",
              "      <td>False</td>\n",
              "    </tr>\n",
              "    <tr>\n",
              "      <th>2</th>\n",
              "      <td>3</td>\n",
              "      <td>Venusaur</td>\n",
              "      <td>Grass</td>\n",
              "      <td>Poison</td>\n",
              "      <td>525</td>\n",
              "      <td>80</td>\n",
              "      <td>82</td>\n",
              "      <td>83</td>\n",
              "      <td>100</td>\n",
              "      <td>100</td>\n",
              "      <td>80</td>\n",
              "      <td>1</td>\n",
              "      <td>False</td>\n",
              "    </tr>\n",
              "  </tbody>\n",
              "</table>\n",
              "</div>"
            ],
            "text/plain": [
              "   #       Name Type 1  Type 2  ...  Sp. Def  Speed  Generation  Legendary\n",
              "0  1  Bulbasaur  Grass  Poison  ...       65     45           1      False\n",
              "1  2    Ivysaur  Grass  Poison  ...       80     60           1      False\n",
              "2  3   Venusaur  Grass  Poison  ...      100     80           1      False\n",
              "\n",
              "[3 rows x 13 columns]"
            ]
          },
          "metadata": {},
          "execution_count": 24
        }
      ]
    },
    {
      "cell_type": "code",
      "metadata": {
        "colab": {
          "base_uri": "https://localhost:8080/",
          "height": 143
        },
        "id": "pe6KqremnIbl",
        "outputId": "91e1d9b0-1d95-4f11-8d0b-1177e87cff10"
      },
      "source": [
        "legendarios=df2.groupby(\"Legendary\").mean()\n",
        "legendarios"
      ],
      "execution_count": 36,
      "outputs": [
        {
          "output_type": "execute_result",
          "data": {
            "text/html": [
              "<div>\n",
              "<style scoped>\n",
              "    .dataframe tbody tr th:only-of-type {\n",
              "        vertical-align: middle;\n",
              "    }\n",
              "\n",
              "    .dataframe tbody tr th {\n",
              "        vertical-align: top;\n",
              "    }\n",
              "\n",
              "    .dataframe thead th {\n",
              "        text-align: right;\n",
              "    }\n",
              "</style>\n",
              "<table border=\"1\" class=\"dataframe\">\n",
              "  <thead>\n",
              "    <tr style=\"text-align: right;\">\n",
              "      <th></th>\n",
              "      <th>#</th>\n",
              "      <th>Total</th>\n",
              "      <th>HP</th>\n",
              "      <th>Attack</th>\n",
              "      <th>Defense</th>\n",
              "      <th>Sp. Atk</th>\n",
              "      <th>Sp. Def</th>\n",
              "      <th>Speed</th>\n",
              "      <th>Generation</th>\n",
              "    </tr>\n",
              "    <tr>\n",
              "      <th>Legendary</th>\n",
              "      <th></th>\n",
              "      <th></th>\n",
              "      <th></th>\n",
              "      <th></th>\n",
              "      <th></th>\n",
              "      <th></th>\n",
              "      <th></th>\n",
              "      <th></th>\n",
              "      <th></th>\n",
              "    </tr>\n",
              "  </thead>\n",
              "  <tbody>\n",
              "    <tr>\n",
              "      <th>False</th>\n",
              "      <td>353.315646</td>\n",
              "      <td>417.213605</td>\n",
              "      <td>67.182313</td>\n",
              "      <td>75.669388</td>\n",
              "      <td>71.559184</td>\n",
              "      <td>68.454422</td>\n",
              "      <td>68.892517</td>\n",
              "      <td>65.455782</td>\n",
              "      <td>3.284354</td>\n",
              "    </tr>\n",
              "    <tr>\n",
              "      <th>True</th>\n",
              "      <td>470.215385</td>\n",
              "      <td>637.384615</td>\n",
              "      <td>92.738462</td>\n",
              "      <td>116.676923</td>\n",
              "      <td>99.661538</td>\n",
              "      <td>122.184615</td>\n",
              "      <td>105.938462</td>\n",
              "      <td>100.184615</td>\n",
              "      <td>3.769231</td>\n",
              "    </tr>\n",
              "  </tbody>\n",
              "</table>\n",
              "</div>"
            ],
            "text/plain": [
              "                    #       Total  ...       Speed  Generation\n",
              "Legendary                          ...                        \n",
              "False      353.315646  417.213605  ...   65.455782    3.284354\n",
              "True       470.215385  637.384615  ...  100.184615    3.769231\n",
              "\n",
              "[2 rows x 9 columns]"
            ]
          },
          "metadata": {},
          "execution_count": 36
        }
      ]
    },
    {
      "cell_type": "code",
      "metadata": {
        "colab": {
          "base_uri": "https://localhost:8080/",
          "height": 265
        },
        "id": "VfMnIIddnQ8N",
        "outputId": "5c229974-54fa-4b7a-91a0-eb46ebdaa6ec"
      },
      "source": [
        "# Nota: si usé un groupby, debo usar .index como primer argumento.\n",
        "plt.bar(legendarios.index, legendarios[\"Speed\"])\n",
        "plt.show()"
      ],
      "execution_count": 37,
      "outputs": [
        {
          "output_type": "display_data",
          "data": {
            "image/png": "[encoded data removed]",
            "text/plain": [
              "<Figure size 432x288 with 1 Axes>"
            ]
          },
          "metadata": {
            "needs_background": "light"
          }
        }
      ]
    },
    {
      "cell_type": "markdown",
      "metadata": {
        "id": "2_bH2rSqoIKw"
      },
      "source": [
        "¡De esta forma, es más fácil saber qué tanto más rápido son, en promedio, los Pokémon legendarios!\n",
        "\n",
        "Lástima que la utilidad de estas gráficas se pierde un poco cuando uso muchas categorías...\n"
      ]
    },
    {
      "cell_type": "code",
      "metadata": {
        "colab": {
          "base_uri": "https://localhost:8080/",
          "height": 265
        },
        "id": "1MS8QdTvnZqT",
        "outputId": "487344ea-4dc5-41b8-a27e-7678ff607857"
      },
      "source": [
        "tipo1=df2.groupby(\"Type 1\").mean()\n",
        "plt.bar(tipo1.index, tipo1[\"Speed\"])\n",
        "plt.show()"
      ],
      "execution_count": 38,
      "outputs": [
        {
          "output_type": "display_data",
          "data": {
            "image/png": "[encoded data removed]",
            "text/plain": [
              "<Figure size 432x288 with 1 Axes>"
            ]
          },
          "metadata": {
            "needs_background": "light"
          }
        }
      ]
    },
    {
      "cell_type": "markdown",
      "metadata": {
        "id": "snMPJJ4YokH8"
      },
      "source": [
        "Podría intentar girar los textos, para que se muestren de manera vertical.\n",
        "\n",
        "*Spoiler Alert: si se puede, pero rara vez es buena idea *\n",
        "\n",
        "Recuerda:\n",
        "Lo ideal que las gráficas se puedan entender en menos de 10 segundos.\n",
        "\n",
        "¿Qué podría convenirme?"
      ]
    },
    {
      "cell_type": "code",
      "metadata": {
        "colab": {
          "base_uri": "https://localhost:8080/",
          "height": 265
        },
        "id": "ju5-Odk_oa3z",
        "outputId": "b9f9d071-e9f1-4fc3-c015-bd5fd640d11f"
      },
      "source": [
        "plt.barh(tipo1.index, tipo1[\"Speed\"])\n",
        "plt.show()"
      ],
      "execution_count": 39,
      "outputs": [
        {
          "output_type": "display_data",
          "data": {
            "image/png": "[encoded data removed]",
            "text/plain": [
              "<Figure size 432x288 with 1 Axes>"
            ]
          },
          "metadata": {
            "needs_background": "light"
          }
        }
      ]
    },
    {
      "cell_type": "markdown",
      "metadata": {
        "id": "dlZMFZiUpDib"
      },
      "source": [
        "¡Ah! Mucho más agradable a la vista...\n",
        "\n",
        "## Gráficas de Líneas.\n",
        "\n",
        "Algunas veces, tendremos datos que corresponden van relacionados con alguna unidad de tiempo.\n",
        "\n",
        "Ahí, la típica de gráficas de Barras puede ser útil para ver altos y bajos, pero puesto que los datos van ordenados, puedo hacer una gráfica de líneas para analizar tendencias."
      ]
    },
    {
      "cell_type": "code",
      "metadata": {
        "colab": {
          "base_uri": "https://localhost:8080/",
          "height": 268
        },
        "id": "ztvHAB-SpAD1",
        "outputId": "a85230df-3af6-424a-c1dc-9cc215a7ca63"
      },
      "source": [
        "generaciones = df2[df2[\"Type 1\"]==\"Bug\"].groupby(\"Generation\").mean()\n",
        "generaciones"
      ],
      "execution_count": 43,
      "outputs": [
        {
          "output_type": "execute_result",
          "data": {
            "text/html": [
              "<div>\n",
              "<style scoped>\n",
              "    .dataframe tbody tr th:only-of-type {\n",
              "        vertical-align: middle;\n",
              "    }\n",
              "\n",
              "    .dataframe tbody tr th {\n",
              "        vertical-align: top;\n",
              "    }\n",
              "\n",
              "    .dataframe thead th {\n",
              "        text-align: right;\n",
              "    }\n",
              "</style>\n",
              "<table border=\"1\" class=\"dataframe\">\n",
              "  <thead>\n",
              "    <tr style=\"text-align: right;\">\n",
              "      <th></th>\n",
              "      <th>#</th>\n",
              "      <th>Total</th>\n",
              "      <th>HP</th>\n",
              "      <th>Attack</th>\n",
              "      <th>Defense</th>\n",
              "      <th>Sp. Atk</th>\n",
              "      <th>Sp. Def</th>\n",
              "      <th>Speed</th>\n",
              "      <th>Legendary</th>\n",
              "    </tr>\n",
              "    <tr>\n",
              "      <th>Generation</th>\n",
              "      <th></th>\n",
              "      <th></th>\n",
              "      <th></th>\n",
              "      <th></th>\n",
              "      <th></th>\n",
              "      <th></th>\n",
              "      <th></th>\n",
              "      <th></th>\n",
              "      <th></th>\n",
              "    </tr>\n",
              "  </thead>\n",
              "  <tbody>\n",
              "    <tr>\n",
              "      <th>1</th>\n",
              "      <td>46.928571</td>\n",
              "      <td>366.428571</td>\n",
              "      <td>56.785714</td>\n",
              "      <td>76.428571</td>\n",
              "      <td>60.357143</td>\n",
              "      <td>46.428571</td>\n",
              "      <td>59.642857</td>\n",
              "      <td>66.785714</td>\n",
              "      <td>False</td>\n",
              "    </tr>\n",
              "    <tr>\n",
              "      <th>2</th>\n",
              "      <td>194.416667</td>\n",
              "      <td>428.750000</td>\n",
              "      <td>59.583333</td>\n",
              "      <td>85.416667</td>\n",
              "      <td>93.750000</td>\n",
              "      <td>47.916667</td>\n",
              "      <td>86.666667</td>\n",
              "      <td>55.416667</td>\n",
              "      <td>False</td>\n",
              "    </tr>\n",
              "    <tr>\n",
              "      <th>3</th>\n",
              "      <td>283.500000</td>\n",
              "      <td>318.833333</td>\n",
              "      <td>49.833333</td>\n",
              "      <td>55.833333</td>\n",
              "      <td>54.083333</td>\n",
              "      <td>48.333333</td>\n",
              "      <td>51.166667</td>\n",
              "      <td>59.583333</td>\n",
              "      <td>False</td>\n",
              "    </tr>\n",
              "    <tr>\n",
              "      <th>4</th>\n",
              "      <td>416.800000</td>\n",
              "      <td>373.100000</td>\n",
              "      <td>59.000000</td>\n",
              "      <td>62.600000</td>\n",
              "      <td>70.200000</td>\n",
              "      <td>63.600000</td>\n",
              "      <td>67.200000</td>\n",
              "      <td>50.500000</td>\n",
              "      <td>False</td>\n",
              "    </tr>\n",
              "    <tr>\n",
              "      <th>5</th>\n",
              "      <td>584.722222</td>\n",
              "      <td>416.111111</td>\n",
              "      <td>59.111111</td>\n",
              "      <td>77.611111</td>\n",
              "      <td>78.277778</td>\n",
              "      <td>62.888889</td>\n",
              "      <td>66.944444</td>\n",
              "      <td>71.277778</td>\n",
              "      <td>False</td>\n",
              "    </tr>\n",
              "    <tr>\n",
              "      <th>6</th>\n",
              "      <td>665.000000</td>\n",
              "      <td>274.666667</td>\n",
              "      <td>54.333333</td>\n",
              "      <td>36.333333</td>\n",
              "      <td>50.000000</td>\n",
              "      <td>48.000000</td>\n",
              "      <td>35.000000</td>\n",
              "      <td>51.000000</td>\n",
              "      <td>False</td>\n",
              "    </tr>\n",
              "  </tbody>\n",
              "</table>\n",
              "</div>"
            ],
            "text/plain": [
              "                     #       Total         HP  ...    Sp. Def      Speed  Legendary\n",
              "Generation                                     ...                                 \n",
              "1            46.928571  366.428571  56.785714  ...  59.642857  66.785714      False\n",
              "2           194.416667  428.750000  59.583333  ...  86.666667  55.416667      False\n",
              "3           283.500000  318.833333  49.833333  ...  51.166667  59.583333      False\n",
              "4           416.800000  373.100000  59.000000  ...  67.200000  50.500000      False\n",
              "5           584.722222  416.111111  59.111111  ...  66.944444  71.277778      False\n",
              "6           665.000000  274.666667  54.333333  ...  35.000000  51.000000      False\n",
              "\n",
              "[6 rows x 9 columns]"
            ]
          },
          "metadata": {},
          "execution_count": 43
        }
      ]
    },
    {
      "cell_type": "code",
      "metadata": {
        "colab": {
          "base_uri": "https://localhost:8080/",
          "height": 265
        },
        "id": "qcAzd-uDqbeb",
        "outputId": "65c076a4-7cf9-49d4-e0fa-534c8c3a82b0"
      },
      "source": [
        "plt.plot(generaciones.index, generaciones[\"Sp. Atk\"])\n",
        "plt.show()"
      ],
      "execution_count": 45,
      "outputs": [
        {
          "output_type": "display_data",
          "data": {
            "image/png": "[encoded data removed]",
            "text/plain": [
              "<Figure size 432x288 with 1 Axes>"
            ]
          },
          "metadata": {
            "needs_background": "light"
          }
        }
      ]
    },
    {
      "cell_type": "markdown",
      "metadata": {
        "id": "zxZiL6wirJ1I"
      },
      "source": [
        "## Gráfico Circular (de Pastel).\n",
        ".\n",
        "\n",
        ".\n",
        "\n",
        ".\n",
        "\n",
        ".\n",
        "\n",
        ".\n",
        "\n",
        "**Jamás** realicen gráficos circulares.\n",
        "\n",
        ".\n",
        "\n",
        "El ser humano es pésimo para distinguir ángulos. Eso sí, somos buenos para distinguir qué elemento es más ancho, largo, etc, o qué color es más oscuro. Es por eso que siempre tendremos mejores alternativas.\n"
      ]
    },
    {
      "cell_type": "code",
      "metadata": {
        "id": "6vRrVApYq0DZ"
      },
      "source": [
        ""
      ],
      "execution_count": null,
      "outputs": []
    }
  ]
}