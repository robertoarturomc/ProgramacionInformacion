{
 "cells": [
  {
   "cell_type": "markdown",
   "metadata": {
    "id": "QhEQiZbj0mRC"
   },
   "source": [
    "# Principios de visualización"
   ]
  },
  {
   "cell_type": "code",
   "execution_count": null,
   "metadata": {
    "id": "Zm1P4qLXXSnG"
   },
   "outputs": [],
   "source": [
    "import numpy as np\n",
    "import pandas as pd\n",
    "import seaborn as sns\n",
    "import matplotlib.pyplot as plt"
   ]
  },
  {
   "cell_type": "markdown",
   "metadata": {
    "id": "XzTDKkm201OP"
   },
   "source": [
    "Bien, ya empezamos a hacer algunos análisis. No osbtante, es muy importante aprender cómo compartir esos resultados. Sobretodo, por dos razones:\n",
    "\n",
    "1.  Para los demás: para poder compartir con alguien más mis resultados.\n",
    "2. Para mí mismo: para poder descubrir nuevos patrones e información valiosa en los datos.\n",
    "\n",
    "Visualización no sólo es desarrollar gráficos; a veces, la mejor visualización puede ser una buena tabla.\n",
    "\n",
    "## Group By\n",
    "\n",
    "Hace algunos temas aprendimos a calcular valores que nos sirvieran para resumir nuestros datos. Aprendimos a calcular sumas, promedios, varianzas, etc. Todos ellos aportaban información valiosa del contenido de * toda * mi tabla.\n",
    "\n",
    "Pero, ¿y si no necesito el resumen de toda mi tabla?\n",
    "\n",
    "O mejor aún, ¿qué tal que quiero ver ese resumen, pero dividido según algunos valores en mi tabla?\n",
    "\n",
    "Veamos algunos ejemplos:"
   ]
  },
  {
   "cell_type": "code",
   "execution_count": null,
   "metadata": {
    "colab": {
     "base_uri": "https://localhost:8080/",
     "height": 206
    },
    "id": "CREhef22cPSN",
    "outputId": "5a2b6ec1-d7a6-4f5f-dc26-a2695e3add5f"
   },
   "outputs": [],
   "source": [
    "data = sns.load_dataset('iris')\n",
    "data.head()"
   ]
  },
  {
   "cell_type": "markdown",
   "metadata": {
    "id": "n_6gv4r43tIk"
   },
   "source": [
    "Supongamos que quiero saber las medidas promedio de aquellas plantas que pertenecen a la especie _setosa_. Para ello, tengo que filtrar mi tabla para quedarme con sólo aquellos \"species\" es igual a \"setosa\"."
   ]
  },
  {
   "cell_type": "code",
   "execution_count": null,
   "metadata": {
    "colab": {
     "base_uri": "https://localhost:8080/",
     "height": 206
    },
    "id": "GUNZkqt3eyp2",
    "outputId": "ded7aae9-b5b1-43b8-8286-646b096705cf"
   },
   "outputs": [],
   "source": [
    "setosas= data.loc[data[\"species\"]==\"setosa\", :]\n",
    "setosas.head()"
   ]
  },
  {
   "cell_type": "code",
   "execution_count": null,
   "metadata": {
    "colab": {
     "base_uri": "https://localhost:8080/"
    },
    "id": "P78Cl9DQfFkQ",
    "outputId": "0bf9b12f-5864-4634-ab6f-e32bd334d174"
   },
   "outputs": [],
   "source": [
    "setosas.mean()"
   ]
  },
  {
   "cell_type": "markdown",
   "metadata": {
    "id": "4NFakG3_4AAH"
   },
   "source": [
    "¿Y si quisiera ver la misma información, pero con los datos de la especie \"versicolor\"? Bueno, repito el mismo código...\n",
    "\n",
    "¿Y para la especie \"virginica\"? Repito nuevamente, y actualizo la especie...\n",
    "\n",
    "Por fortuna, sólo hay tres especies en esta tabla. Pero...¿y si tuviera 100 especies?\n",
    "\n",
    "¿Tendría que correr el mismo código 100 veces? Bueno, crear una función y/o utilizar un ciclo _for_ podría ayudarme a automatizar esa tarea...\n",
    "\n",
    "Pero, como ser humano, después tendría que **visualizar** 100 tablas, una por una...\n",
    "\n",
    "Si tan sólo existiera la forma de ver todo ese resumen en una sola tabla..."
   ]
  },
  {
   "cell_type": "code",
   "execution_count": null,
   "metadata": {
    "colab": {
     "base_uri": "https://localhost:8080/"
    },
    "id": "j_zbQ8KmdXjk",
    "outputId": "42444e18-1402-4a84-e034-a1d8eb8edc03"
   },
   "outputs": [],
   "source": [
    "agrupado=data.groupby(\"species\")\n",
    "agrupado"
   ]
  },
  {
   "cell_type": "code",
   "execution_count": null,
   "metadata": {
    "colab": {
     "base_uri": "https://localhost:8080/",
     "height": 175
    },
    "id": "igTdFyc-esaN",
    "outputId": "c2c2c149-3c7d-4993-84d7-d37a6e4d52f7"
   },
   "outputs": [],
   "source": [
    "agrupado.mean()"
   ]
  },
  {
   "cell_type": "markdown",
   "metadata": {
    "id": "HbLK5Pq05T1p"
   },
   "source": [
    "Por fortuna, existe el método `.groupby(<columna>)`, que _agrupa_ mis datos según alguna variable _categórica_, para después realizar un cálculo sobre cada uno de esos grupos.\n",
    "\n",
    "El cálculo anterior incluso se puede hacer directo, en un sólo paso..."
   ]
  },
  {
   "cell_type": "code",
   "execution_count": null,
   "metadata": {
    "colab": {
     "base_uri": "https://localhost:8080/",
     "height": 175
    },
    "id": "gjAV6-2M6JUH",
    "outputId": "993d855d-888c-485f-d4f2-413b014eca21"
   },
   "outputs": [],
   "source": [
    "data.groupby(\"species\").mean()"
   ]
  },
  {
   "cell_type": "code",
   "execution_count": null,
   "metadata": {
    "colab": {
     "base_uri": "https://localhost:8080/",
     "height": 206
    },
    "id": "_kSv4BbKXYuq",
    "outputId": "341ffcac-ff78-428d-83bc-a691706ae8a0"
   },
   "outputs": [],
   "source": [
    "df = pd.read_json(\"sample_data/anscombe.json\")\n",
    "df.head()"
   ]
  },
  {
   "cell_type": "code",
   "execution_count": null,
   "metadata": {
    "colab": {
     "base_uri": "https://localhost:8080/",
     "height": 206
    },
    "id": "x2Ctip-ZamEY",
    "outputId": "9dfa0461-96d7-41ba-e40e-018f8b9725bc"
   },
   "outputs": [],
   "source": [
    "uno = df.loc[df[\"Series\"]==\"I\", :]\n",
    "dos = df.loc[df[\"Series\"]==\"II\", :]\n",
    "tres = df.loc[df[\"Series\"]==\"III\", :]\n",
    "cuatro = df.loc[df[\"Series\"]==\"IV\", :]\n",
    "cuatro.head()"
   ]
  },
  {
   "cell_type": "code",
   "execution_count": null,
   "metadata": {
    "colab": {
     "base_uri": "https://localhost:8080/"
    },
    "id": "FScW7yDrYGYA",
    "outputId": "4741e82f-68ae-4671-c8c1-cc6c38ea80a2"
   },
   "outputs": [],
   "source": [
    "agrupada=df.groupby(\"Series\")\n",
    "agrupada"
   ]
  },
  {
   "cell_type": "code",
   "execution_count": null,
   "metadata": {
    "colab": {
     "base_uri": "https://localhost:8080/",
     "height": 206
    },
    "id": "69OpK4m8bbXh",
    "outputId": "10abe049-44ef-4fda-eb1d-cb17fc738a44"
   },
   "outputs": [],
   "source": [
    "agrupada.mean()"
   ]
  },
  {
   "cell_type": "code",
   "execution_count": null,
   "metadata": {
    "colab": {
     "base_uri": "https://localhost:8080/",
     "height": 206
    },
    "id": "KctlkDmybhz6",
    "outputId": "8a6359ff-b9c5-4378-a667-1a893c03d6c0"
   },
   "outputs": [],
   "source": [
    "agrupada.var()"
   ]
  },
  {
   "cell_type": "code",
   "execution_count": null,
   "metadata": {
    "colab": {
     "base_uri": "https://localhost:8080/",
     "height": 331
    },
    "id": "wNnPH1XCeJVZ",
    "outputId": "6368587d-f620-4a3b-9802-7701f7abadae"
   },
   "outputs": [],
   "source": [
    "agrupada.corr()"
   ]
  },
  {
   "cell_type": "code",
   "execution_count": null,
   "metadata": {
    "colab": {
     "base_uri": "https://localhost:8080/",
     "height": 265
    },
    "id": "ZmNbkceAd8vp",
    "outputId": "140b069c-726d-4263-94c7-5da2eb901c90"
   },
   "outputs": [],
   "source": [
    "plt.scatter(uno[\"X\"], uno[\"Y\"])\n",
    "plt.show()"
   ]
  },
  {
   "cell_type": "code",
   "execution_count": null,
   "metadata": {
    "colab": {
     "base_uri": "https://localhost:8080/",
     "height": 265
    },
    "id": "qmLXAZc5djj4",
    "outputId": "cfee615f-4e28-4826-a0b6-6e8a572e172a"
   },
   "outputs": [],
   "source": [
    "plt.scatter(dos[\"X\"], dos[\"Y\"])\n",
    "plt.show()"
   ]
  },
  {
   "cell_type": "code",
   "execution_count": null,
   "metadata": {
    "colab": {
     "base_uri": "https://localhost:8080/",
     "height": 266
    },
    "id": "L4SPWEPKd21Q",
    "outputId": "2aa83937-a5b2-48a8-e4ef-147ff168f7b3"
   },
   "outputs": [],
   "source": [
    "plt.scatter(tres[\"X\"], tres[\"Y\"])\n",
    "plt.show()"
   ]
  },
  {
   "cell_type": "code",
   "execution_count": null,
   "metadata": {
    "colab": {
     "base_uri": "https://localhost:8080/",
     "height": 265
    },
    "id": "W6PXUccUbqiK",
    "outputId": "ad63811b-51b1-48c9-9900-ebe5179afb07"
   },
   "outputs": [],
   "source": [
    "plt.scatter(cuatro[\"X\"], cuatro[\"Y\"])\n",
    "plt.show()"
   ]
  },
  {
   "cell_type": "code",
   "execution_count": null,
   "metadata": {
    "id": "2QFtm8oueCOl"
   },
   "outputs": [],
   "source": []
  },
  {
   "cell_type": "code",
   "execution_count": null,
   "metadata": {},
   "outputs": [],
   "source": []
  },
  {
   "cell_type": "code",
   "execution_count": null,
   "metadata": {},
   "outputs": [],
   "source": []
  },
  {
   "cell_type": "code",
   "execution_count": null,
   "metadata": {},
   "outputs": [],
   "source": []
  }
 ],
 "metadata": {
  "colab": {
   "name": "Untitled3.ipynb",
   "provenance": []
  },
  "kernelspec": {
   "display_name": "Python 3",
   "language": "python",
   "name": "python3"
  },
  "language_info": {
   "codemirror_mode": {
    "name": "ipython",
    "version": 3
   },
   "file_extension": ".py",
   "mimetype": "text/x-python",
   "name": "python",
   "nbconvert_exporter": "python",
   "pygments_lexer": "ipython3",
   "version": "3.7.3"
  }
 },
 "nbformat": 4,
 "nbformat_minor": 1
}
