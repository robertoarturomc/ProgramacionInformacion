{
  "nbformat": 4,
  "nbformat_minor": 0,
  "metadata": {
    "colab": {
      "name": "5.3 Mejorando las Visualizaciones.ipynb",
      "provenance": []
    },
    "kernelspec": {
      "name": "python3",
      "display_name": "Python 3"
    },
    "language_info": {
      "name": "python"
    }
  },
  "cells": [
    {
      "cell_type": "code",
      "metadata": {
        "id": "zjVHjE9gycq_"
      },
      "source": [
        "import pandas as pd\n",
        "import numpy as np\n",
        "import matplotlib.pyplot as plt\n",
        "import seaborn as sns"
      ],
      "execution_count": null,
      "outputs": []
    },
    {
      "cell_type": "markdown",
      "metadata": {
        "id": "_oCWIaSzxjbT"
      },
      "source": [
        "# 5.3 Mejorando Nuestras Visualizaciones\n",
        "\n",
        "Conforme vaya generando mis análisis, iré encontrando insights; descubrimientos importantes para poder resolver mi problema. \n",
        "\n",
        "De poco me sirven si no soy capaz de identificarlos o recordarlos a mitad de mi proceso.\n",
        "\n",
        "Mucho menos si soy incapaz de comunicárselo a los stakeholders de mi problema.\n",
        "\n",
        "Para generar mejores visualizaciones, echaré mano del **Principio KISS**.\n",
        "\n",
        "En Economía: “La mejor solución no es la más elaborada o compleja, sino la más simple”. (Navaja de Ockham).\n",
        "\n",
        "La **simpleza** (pero efectiva) como base en nuestra presentación de resultados.\n",
        "\n",
        "¿Cómo puedo aplicarlo para mejorar mis tablas y gráficas?"
      ]
    },
    {
      "cell_type": "code",
      "metadata": {
        "colab": {
          "base_uri": "https://localhost:8080/",
          "height": 205
        },
        "id": "nkQUxxY5zMzl",
        "outputId": "7f2d5a81-94bf-4f35-f546-3103f6ac7de4"
      },
      "source": [
        "df = sns.load_dataset('iris')\n",
        "df.head()"
      ],
      "execution_count": null,
      "outputs": [
        {
          "output_type": "execute_result",
          "data": {
            "text/html": [
              "<div>\n",
              "<style scoped>\n",
              "    .dataframe tbody tr th:only-of-type {\n",
              "        vertical-align: middle;\n",
              "    }\n",
              "\n",
              "    .dataframe tbody tr th {\n",
              "        vertical-align: top;\n",
              "    }\n",
              "\n",
              "    .dataframe thead th {\n",
              "        text-align: right;\n",
              "    }\n",
              "</style>\n",
              "<table border=\"1\" class=\"dataframe\">\n",
              "  <thead>\n",
              "    <tr style=\"text-align: right;\">\n",
              "      <th></th>\n",
              "      <th>sepal_length</th>\n",
              "      <th>sepal_width</th>\n",
              "      <th>petal_length</th>\n",
              "      <th>petal_width</th>\n",
              "      <th>species</th>\n",
              "    </tr>\n",
              "  </thead>\n",
              "  <tbody>\n",
              "    <tr>\n",
              "      <th>0</th>\n",
              "      <td>5.1</td>\n",
              "      <td>3.5</td>\n",
              "      <td>1.4</td>\n",
              "      <td>0.2</td>\n",
              "      <td>setosa</td>\n",
              "    </tr>\n",
              "    <tr>\n",
              "      <th>1</th>\n",
              "      <td>4.9</td>\n",
              "      <td>3.0</td>\n",
              "      <td>1.4</td>\n",
              "      <td>0.2</td>\n",
              "      <td>setosa</td>\n",
              "    </tr>\n",
              "    <tr>\n",
              "      <th>2</th>\n",
              "      <td>4.7</td>\n",
              "      <td>3.2</td>\n",
              "      <td>1.3</td>\n",
              "      <td>0.2</td>\n",
              "      <td>setosa</td>\n",
              "    </tr>\n",
              "    <tr>\n",
              "      <th>3</th>\n",
              "      <td>4.6</td>\n",
              "      <td>3.1</td>\n",
              "      <td>1.5</td>\n",
              "      <td>0.2</td>\n",
              "      <td>setosa</td>\n",
              "    </tr>\n",
              "    <tr>\n",
              "      <th>4</th>\n",
              "      <td>5.0</td>\n",
              "      <td>3.6</td>\n",
              "      <td>1.4</td>\n",
              "      <td>0.2</td>\n",
              "      <td>setosa</td>\n",
              "    </tr>\n",
              "  </tbody>\n",
              "</table>\n",
              "</div>"
            ],
            "text/plain": [
              "   sepal_length  sepal_width  petal_length  petal_width species\n",
              "0           5.1          3.5           1.4          0.2  setosa\n",
              "1           4.9          3.0           1.4          0.2  setosa\n",
              "2           4.7          3.2           1.3          0.2  setosa\n",
              "3           4.6          3.1           1.5          0.2  setosa\n",
              "4           5.0          3.6           1.4          0.2  setosa"
            ]
          },
          "metadata": {},
          "execution_count": 12
        }
      ]
    },
    {
      "cell_type": "markdown",
      "metadata": {
        "id": "eaMUI-7NyXmX"
      },
      "source": [
        "## Conservar sólo lo necesario\n",
        "Después de realizar los cálculos y gráficos necesarios, conservar sólo los mejores.\n",
        "\n",
        "## Títulos\n",
        "Ubicar rápidamente a qué se refiere cada tabla o gráfico. También, claridad en los títulos de columnas y de ejes.\n"
      ]
    },
    {
      "cell_type": "code",
      "metadata": {
        "colab": {
          "base_uri": "https://localhost:8080/",
          "height": 281
        },
        "id": "uSkj6o_iyMEi",
        "outputId": "d2ca2524-a1d5-486c-99f3-45bd3740fd0d"
      },
      "source": [
        "plt.scatter(df[\"petal_length\"], df[\"petal_width\"])\n",
        "\n",
        "# Después de generar el gráfico, pero antes del plt.show()\n",
        "plt.title(\"Longitud de Pétalos vs Ancho de Pétalos\")\n",
        "plt.show()"
      ],
      "execution_count": null,
      "outputs": [
        {
          "output_type": "display_data",
          "data": {
            "image/png": "[encoded data removed]",
            "text/plain": [
              "<Figure size 432x288 with 1 Axes>"
            ]
          },
          "metadata": {
            "needs_background": "light"
          }
        }
      ]
    },
    {
      "cell_type": "markdown",
      "metadata": {
        "id": "TxxBBVdQz7dk"
      },
      "source": [
        "¡Un buen título debe tener la menor cantidad de palabras posibles, pero que por sí sólo, expliquen la principal idea de lo que se está mostrando!\n",
        "\n",
        "Esa idea también incluye mis subtítulos.\n",
        "\n",
        "### En tablas:\n",
        "Los títulos de las columnas son mis subtítulos. Deben de ayudar a explicar correctamente qué datos están incluidos en cada columna y, de preferencia, indicar las *unidades* de medida (cm, $, etc.). "
      ]
    },
    {
      "cell_type": "code",
      "metadata": {
        "colab": {
          "base_uri": "https://localhost:8080/",
          "height": 205
        },
        "id": "N64VdVaQzwg_",
        "outputId": "72a17e9e-1f92-4a5a-903f-4ff1683eefcb"
      },
      "source": [
        "# .rename me ayuda a poner mejores nombres. ¡Ojo! Al renombrar, estoy creando una copia temporal de mi tabla.¡Necesito guardarla!\n",
        "df2 = df.rename(columns={\"sepal_length\": \"Largo sépalo (in)\",\n",
        "                        \"sepal_width\": \"Ancho sépalo (in)\",\n",
        "                        \"petal_length\": \"Largo pétalo (in)\",\n",
        "                        \"petal_width\": \"Ancho pétalo (in)\",\n",
        "                        \"species\": \"Especie\"})\n",
        "\n",
        "df2.head()"
      ],
      "execution_count": null,
      "outputs": [
        {
          "output_type": "execute_result",
          "data": {
            "text/html": [
              "<div>\n",
              "<style scoped>\n",
              "    .dataframe tbody tr th:only-of-type {\n",
              "        vertical-align: middle;\n",
              "    }\n",
              "\n",
              "    .dataframe tbody tr th {\n",
              "        vertical-align: top;\n",
              "    }\n",
              "\n",
              "    .dataframe thead th {\n",
              "        text-align: right;\n",
              "    }\n",
              "</style>\n",
              "<table border=\"1\" class=\"dataframe\">\n",
              "  <thead>\n",
              "    <tr style=\"text-align: right;\">\n",
              "      <th></th>\n",
              "      <th>Largo sépalo (in)</th>\n",
              "      <th>Ancho sépalo (in)</th>\n",
              "      <th>Largo pétalo (in)</th>\n",
              "      <th>Ancho pétalo (in)</th>\n",
              "      <th>Especie</th>\n",
              "    </tr>\n",
              "  </thead>\n",
              "  <tbody>\n",
              "    <tr>\n",
              "      <th>0</th>\n",
              "      <td>5.1</td>\n",
              "      <td>3.5</td>\n",
              "      <td>1.4</td>\n",
              "      <td>0.2</td>\n",
              "      <td>setosa</td>\n",
              "    </tr>\n",
              "    <tr>\n",
              "      <th>1</th>\n",
              "      <td>4.9</td>\n",
              "      <td>3.0</td>\n",
              "      <td>1.4</td>\n",
              "      <td>0.2</td>\n",
              "      <td>setosa</td>\n",
              "    </tr>\n",
              "    <tr>\n",
              "      <th>2</th>\n",
              "      <td>4.7</td>\n",
              "      <td>3.2</td>\n",
              "      <td>1.3</td>\n",
              "      <td>0.2</td>\n",
              "      <td>setosa</td>\n",
              "    </tr>\n",
              "    <tr>\n",
              "      <th>3</th>\n",
              "      <td>4.6</td>\n",
              "      <td>3.1</td>\n",
              "      <td>1.5</td>\n",
              "      <td>0.2</td>\n",
              "      <td>setosa</td>\n",
              "    </tr>\n",
              "    <tr>\n",
              "      <th>4</th>\n",
              "      <td>5.0</td>\n",
              "      <td>3.6</td>\n",
              "      <td>1.4</td>\n",
              "      <td>0.2</td>\n",
              "      <td>setosa</td>\n",
              "    </tr>\n",
              "  </tbody>\n",
              "</table>\n",
              "</div>"
            ],
            "text/plain": [
              "   Largo sépalo (in)  Ancho sépalo (in)  ...  Ancho pétalo (in)  Especie\n",
              "0                5.1                3.5  ...                0.2   setosa\n",
              "1                4.9                3.0  ...                0.2   setosa\n",
              "2                4.7                3.2  ...                0.2   setosa\n",
              "3                4.6                3.1  ...                0.2   setosa\n",
              "4                5.0                3.6  ...                0.2   setosa\n",
              "\n",
              "[5 rows x 5 columns]"
            ]
          },
          "metadata": {},
          "execution_count": 16
        }
      ]
    },
    {
      "cell_type": "code",
      "metadata": {
        "colab": {
          "base_uri": "https://localhost:8080/",
          "height": 205
        },
        "id": "lIO-Bj1Szmfl",
        "outputId": "f98ad405-b781-48e5-e654-75c9026b2922"
      },
      "source": [
        "# Alternativamente...\n",
        "df3 = df.rename({\"sepal_length\": \"Largo sépalo (in)\",\n",
        "                 \"sepal_width\": \"Ancho sépalo (in)\",\n",
        "                 \"petal_length\": \"Largo pétalo (in)\",\n",
        "                 \"petal_width\": \"Ancho pétalo (in)\",\n",
        "                 \"species\": \"Especie\"}, axis=1)\n",
        "\n",
        "df3.head()"
      ],
      "execution_count": null,
      "outputs": [
        {
          "output_type": "execute_result",
          "data": {
            "text/html": [
              "<div>\n",
              "<style scoped>\n",
              "    .dataframe tbody tr th:only-of-type {\n",
              "        vertical-align: middle;\n",
              "    }\n",
              "\n",
              "    .dataframe tbody tr th {\n",
              "        vertical-align: top;\n",
              "    }\n",
              "\n",
              "    .dataframe thead th {\n",
              "        text-align: right;\n",
              "    }\n",
              "</style>\n",
              "<table border=\"1\" class=\"dataframe\">\n",
              "  <thead>\n",
              "    <tr style=\"text-align: right;\">\n",
              "      <th></th>\n",
              "      <th>Largo sépalo (in)</th>\n",
              "      <th>Ancho sépalo (in)</th>\n",
              "      <th>Largo pétalo (in)</th>\n",
              "      <th>Ancho pétalo (in)</th>\n",
              "      <th>Especie</th>\n",
              "    </tr>\n",
              "  </thead>\n",
              "  <tbody>\n",
              "    <tr>\n",
              "      <th>0</th>\n",
              "      <td>5.1</td>\n",
              "      <td>3.5</td>\n",
              "      <td>1.4</td>\n",
              "      <td>0.2</td>\n",
              "      <td>setosa</td>\n",
              "    </tr>\n",
              "    <tr>\n",
              "      <th>1</th>\n",
              "      <td>4.9</td>\n",
              "      <td>3.0</td>\n",
              "      <td>1.4</td>\n",
              "      <td>0.2</td>\n",
              "      <td>setosa</td>\n",
              "    </tr>\n",
              "    <tr>\n",
              "      <th>2</th>\n",
              "      <td>4.7</td>\n",
              "      <td>3.2</td>\n",
              "      <td>1.3</td>\n",
              "      <td>0.2</td>\n",
              "      <td>setosa</td>\n",
              "    </tr>\n",
              "    <tr>\n",
              "      <th>3</th>\n",
              "      <td>4.6</td>\n",
              "      <td>3.1</td>\n",
              "      <td>1.5</td>\n",
              "      <td>0.2</td>\n",
              "      <td>setosa</td>\n",
              "    </tr>\n",
              "    <tr>\n",
              "      <th>4</th>\n",
              "      <td>5.0</td>\n",
              "      <td>3.6</td>\n",
              "      <td>1.4</td>\n",
              "      <td>0.2</td>\n",
              "      <td>setosa</td>\n",
              "    </tr>\n",
              "  </tbody>\n",
              "</table>\n",
              "</div>"
            ],
            "text/plain": [
              "   Largo sépalo (in)  Ancho sépalo (in)  ...  Ancho pétalo (in)  Especie\n",
              "0                5.1                3.5  ...                0.2   setosa\n",
              "1                4.9                3.0  ...                0.2   setosa\n",
              "2                4.7                3.2  ...                0.2   setosa\n",
              "3                4.6                3.1  ...                0.2   setosa\n",
              "4                5.0                3.6  ...                0.2   setosa\n",
              "\n",
              "[5 rows x 5 columns]"
            ]
          },
          "metadata": {},
          "execution_count": 17
        }
      ]
    },
    {
      "cell_type": "code",
      "metadata": {
        "colab": {
          "base_uri": "https://localhost:8080/",
          "height": 205
        },
        "id": "giFcagec5APH",
        "outputId": "491785e1-656e-4961-9a33-bfe3c5481185"
      },
      "source": [
        "df.rename({\"sepal_length\": \"Largo sépalo (in)\",\n",
        "           \"sepal_width\": \"Ancho sépalo (in)\",\n",
        "           \"petal_length\": \"Largo pétalo (in)\",\n",
        "           \"petal_width\": \"Ancho pétalo (in)\",\n",
        "           \"species\": \"Especie\"}, axis=1,\n",
        "          inplace=True)\n",
        "\n",
        "df.head()"
      ],
      "execution_count": null,
      "outputs": [
        {
          "output_type": "execute_result",
          "data": {
            "text/html": [
              "<div>\n",
              "<style scoped>\n",
              "    .dataframe tbody tr th:only-of-type {\n",
              "        vertical-align: middle;\n",
              "    }\n",
              "\n",
              "    .dataframe tbody tr th {\n",
              "        vertical-align: top;\n",
              "    }\n",
              "\n",
              "    .dataframe thead th {\n",
              "        text-align: right;\n",
              "    }\n",
              "</style>\n",
              "<table border=\"1\" class=\"dataframe\">\n",
              "  <thead>\n",
              "    <tr style=\"text-align: right;\">\n",
              "      <th></th>\n",
              "      <th>Largo sépalo (in)</th>\n",
              "      <th>Ancho sépalo (in)</th>\n",
              "      <th>Largo pétalo (in)</th>\n",
              "      <th>Ancho pétalo (in)</th>\n",
              "      <th>Especie</th>\n",
              "    </tr>\n",
              "  </thead>\n",
              "  <tbody>\n",
              "    <tr>\n",
              "      <th>0</th>\n",
              "      <td>5.1</td>\n",
              "      <td>3.5</td>\n",
              "      <td>1.4</td>\n",
              "      <td>0.2</td>\n",
              "      <td>setosa</td>\n",
              "    </tr>\n",
              "    <tr>\n",
              "      <th>1</th>\n",
              "      <td>4.9</td>\n",
              "      <td>3.0</td>\n",
              "      <td>1.4</td>\n",
              "      <td>0.2</td>\n",
              "      <td>setosa</td>\n",
              "    </tr>\n",
              "    <tr>\n",
              "      <th>2</th>\n",
              "      <td>4.7</td>\n",
              "      <td>3.2</td>\n",
              "      <td>1.3</td>\n",
              "      <td>0.2</td>\n",
              "      <td>setosa</td>\n",
              "    </tr>\n",
              "    <tr>\n",
              "      <th>3</th>\n",
              "      <td>4.6</td>\n",
              "      <td>3.1</td>\n",
              "      <td>1.5</td>\n",
              "      <td>0.2</td>\n",
              "      <td>setosa</td>\n",
              "    </tr>\n",
              "    <tr>\n",
              "      <th>4</th>\n",
              "      <td>5.0</td>\n",
              "      <td>3.6</td>\n",
              "      <td>1.4</td>\n",
              "      <td>0.2</td>\n",
              "      <td>setosa</td>\n",
              "    </tr>\n",
              "  </tbody>\n",
              "</table>\n",
              "</div>"
            ],
            "text/plain": [
              "   Largo sépalo (in)  Ancho sépalo (in)  ...  Ancho pétalo (in)  Especie\n",
              "0                5.1                3.5  ...                0.2   setosa\n",
              "1                4.9                3.0  ...                0.2   setosa\n",
              "2                4.7                3.2  ...                0.2   setosa\n",
              "3                4.6                3.1  ...                0.2   setosa\n",
              "4                5.0                3.6  ...                0.2   setosa\n",
              "\n",
              "[5 rows x 5 columns]"
            ]
          },
          "metadata": {},
          "execution_count": 18
        }
      ]
    },
    {
      "cell_type": "markdown",
      "metadata": {
        "id": "j8qMZYfs5Upd"
      },
      "source": [
        "En el caso de mis gráficas, puedo agregar títulos a los ejes *X* y *Y*. Esto es especialmente valioso para recordar _qué significa_ eso que estoy graficando."
      ]
    },
    {
      "cell_type": "code",
      "metadata": {
        "colab": {
          "base_uri": "https://localhost:8080/",
          "height": 296
        },
        "id": "lSWjrdRU5OIc",
        "outputId": "1895c680-d17d-41e6-edbb-72dde528bcec"
      },
      "source": [
        "plt.scatter(df[\"Largo pétalo (in)\"], df[\"Ancho pétalo (in)\"])\n",
        "plt.title(\"Longitud de Pétalos vs Ancho de Pétalos\")\n",
        "\n",
        "# Otra vez, todos los cambios/agregados van antes del plt.show()\n",
        "plt.xlabel(\"Largo pétalo (in)\")\n",
        "plt.ylabel(\"Ancho pétalo (in)\")\n",
        "plt.show()"
      ],
      "execution_count": null,
      "outputs": [
        {
          "output_type": "display_data",
          "data": {
            "image/png": "[encoded data removed]",
            "text/plain": [
              "<Figure size 432x288 with 1 Axes>"
            ]
          },
          "metadata": {
            "needs_background": "light"
          }
        }
      ]
    },
    {
      "cell_type": "markdown",
      "metadata": {
        "id": "5ZiI5fRh7aAA"
      },
      "source": [
        "## Orden de los datos.\n",
        "Para hacer más evidente cuál es el valor más alto o el menor, es buena idea reordenarlos según necesario.\n",
        "Tanto en tablas, como en gráficos (especialmente, de barras)."
      ]
    },
    {
      "cell_type": "code",
      "metadata": {
        "colab": {
          "base_uri": "https://localhost:8080/",
          "height": 260
        },
        "id": "mc6zV-3Q7q6b",
        "outputId": "8cbba5c1-0719-4c71-fcb6-186103abd730"
      },
      "source": [
        "pokemon=pd.read_csv(\"https://gist.githubusercontent.com/armgilles/194bcff35001e7eb53a2a8b441e8b2c6/raw/92200bc0a673d5ce2110aaad4544ed6c4010f687/pokemon.csv\")\n",
        "pokemon.head()"
      ],
      "execution_count": null,
      "outputs": [
        {
          "output_type": "execute_result",
          "data": {
            "text/html": [
              "<div>\n",
              "<style scoped>\n",
              "    .dataframe tbody tr th:only-of-type {\n",
              "        vertical-align: middle;\n",
              "    }\n",
              "\n",
              "    .dataframe tbody tr th {\n",
              "        vertical-align: top;\n",
              "    }\n",
              "\n",
              "    .dataframe thead th {\n",
              "        text-align: right;\n",
              "    }\n",
              "</style>\n",
              "<table border=\"1\" class=\"dataframe\">\n",
              "  <thead>\n",
              "    <tr style=\"text-align: right;\">\n",
              "      <th></th>\n",
              "      <th>#</th>\n",
              "      <th>Name</th>\n",
              "      <th>Type 1</th>\n",
              "      <th>Type 2</th>\n",
              "      <th>Total</th>\n",
              "      <th>HP</th>\n",
              "      <th>Attack</th>\n",
              "      <th>Defense</th>\n",
              "      <th>Sp. Atk</th>\n",
              "      <th>Sp. Def</th>\n",
              "      <th>Speed</th>\n",
              "      <th>Generation</th>\n",
              "      <th>Legendary</th>\n",
              "    </tr>\n",
              "  </thead>\n",
              "  <tbody>\n",
              "    <tr>\n",
              "      <th>0</th>\n",
              "      <td>1</td>\n",
              "      <td>Bulbasaur</td>\n",
              "      <td>Grass</td>\n",
              "      <td>Poison</td>\n",
              "      <td>318</td>\n",
              "      <td>45</td>\n",
              "      <td>49</td>\n",
              "      <td>49</td>\n",
              "      <td>65</td>\n",
              "      <td>65</td>\n",
              "      <td>45</td>\n",
              "      <td>1</td>\n",
              "      <td>False</td>\n",
              "    </tr>\n",
              "    <tr>\n",
              "      <th>1</th>\n",
              "      <td>2</td>\n",
              "      <td>Ivysaur</td>\n",
              "      <td>Grass</td>\n",
              "      <td>Poison</td>\n",
              "      <td>405</td>\n",
              "      <td>60</td>\n",
              "      <td>62</td>\n",
              "      <td>63</td>\n",
              "      <td>80</td>\n",
              "      <td>80</td>\n",
              "      <td>60</td>\n",
              "      <td>1</td>\n",
              "      <td>False</td>\n",
              "    </tr>\n",
              "    <tr>\n",
              "      <th>2</th>\n",
              "      <td>3</td>\n",
              "      <td>Venusaur</td>\n",
              "      <td>Grass</td>\n",
              "      <td>Poison</td>\n",
              "      <td>525</td>\n",
              "      <td>80</td>\n",
              "      <td>82</td>\n",
              "      <td>83</td>\n",
              "      <td>100</td>\n",
              "      <td>100</td>\n",
              "      <td>80</td>\n",
              "      <td>1</td>\n",
              "      <td>False</td>\n",
              "    </tr>\n",
              "    <tr>\n",
              "      <th>3</th>\n",
              "      <td>3</td>\n",
              "      <td>VenusaurMega Venusaur</td>\n",
              "      <td>Grass</td>\n",
              "      <td>Poison</td>\n",
              "      <td>625</td>\n",
              "      <td>80</td>\n",
              "      <td>100</td>\n",
              "      <td>123</td>\n",
              "      <td>122</td>\n",
              "      <td>120</td>\n",
              "      <td>80</td>\n",
              "      <td>1</td>\n",
              "      <td>False</td>\n",
              "    </tr>\n",
              "    <tr>\n",
              "      <th>4</th>\n",
              "      <td>4</td>\n",
              "      <td>Charmander</td>\n",
              "      <td>Fire</td>\n",
              "      <td>NaN</td>\n",
              "      <td>309</td>\n",
              "      <td>39</td>\n",
              "      <td>52</td>\n",
              "      <td>43</td>\n",
              "      <td>60</td>\n",
              "      <td>50</td>\n",
              "      <td>65</td>\n",
              "      <td>1</td>\n",
              "      <td>False</td>\n",
              "    </tr>\n",
              "  </tbody>\n",
              "</table>\n",
              "</div>"
            ],
            "text/plain": [
              "   #                   Name Type 1  ... Speed  Generation  Legendary\n",
              "0  1              Bulbasaur  Grass  ...    45           1      False\n",
              "1  2                Ivysaur  Grass  ...    60           1      False\n",
              "2  3               Venusaur  Grass  ...    80           1      False\n",
              "3  3  VenusaurMega Venusaur  Grass  ...    80           1      False\n",
              "4  4             Charmander   Fire  ...    65           1      False\n",
              "\n",
              "[5 rows x 13 columns]"
            ]
          },
          "metadata": {},
          "execution_count": 22
        }
      ]
    },
    {
      "cell_type": "code",
      "metadata": {
        "colab": {
          "base_uri": "https://localhost:8080/",
          "height": 236
        },
        "id": "sdbS7RvG7zdB",
        "outputId": "a09694f9-ba29-46f7-f27c-6759f482e19a"
      },
      "source": [
        "tipo1 = pokemon.groupby(\"Type 1\").mean()[[\"Speed\"]]\n",
        "tipo1.head()"
      ],
      "execution_count": null,
      "outputs": [
        {
          "output_type": "execute_result",
          "data": {
            "text/html": [
              "<div>\n",
              "<style scoped>\n",
              "    .dataframe tbody tr th:only-of-type {\n",
              "        vertical-align: middle;\n",
              "    }\n",
              "\n",
              "    .dataframe tbody tr th {\n",
              "        vertical-align: top;\n",
              "    }\n",
              "\n",
              "    .dataframe thead th {\n",
              "        text-align: right;\n",
              "    }\n",
              "</style>\n",
              "<table border=\"1\" class=\"dataframe\">\n",
              "  <thead>\n",
              "    <tr style=\"text-align: right;\">\n",
              "      <th></th>\n",
              "      <th>Speed</th>\n",
              "    </tr>\n",
              "    <tr>\n",
              "      <th>Type 1</th>\n",
              "      <th></th>\n",
              "    </tr>\n",
              "  </thead>\n",
              "  <tbody>\n",
              "    <tr>\n",
              "      <th>Bug</th>\n",
              "      <td>61.681159</td>\n",
              "    </tr>\n",
              "    <tr>\n",
              "      <th>Dark</th>\n",
              "      <td>76.161290</td>\n",
              "    </tr>\n",
              "    <tr>\n",
              "      <th>Dragon</th>\n",
              "      <td>83.031250</td>\n",
              "    </tr>\n",
              "    <tr>\n",
              "      <th>Electric</th>\n",
              "      <td>84.500000</td>\n",
              "    </tr>\n",
              "    <tr>\n",
              "      <th>Fairy</th>\n",
              "      <td>48.588235</td>\n",
              "    </tr>\n",
              "  </tbody>\n",
              "</table>\n",
              "</div>"
            ],
            "text/plain": [
              "              Speed\n",
              "Type 1             \n",
              "Bug       61.681159\n",
              "Dark      76.161290\n",
              "Dragon    83.031250\n",
              "Electric  84.500000\n",
              "Fairy     48.588235"
            ]
          },
          "metadata": {},
          "execution_count": 27
        }
      ]
    },
    {
      "cell_type": "code",
      "metadata": {
        "colab": {
          "base_uri": "https://localhost:8080/",
          "height": 236
        },
        "id": "QpvKWbu874aW",
        "outputId": "64853cd2-2fc9-4bc3-81dc-f769a78dda6a"
      },
      "source": [
        "tipo1.sort_values(\"Speed\", # ¿Qué columna usaré para reordenar?\n",
        "                  ascending=False, # ¿Orden ascendiente o descendiente?\n",
        "                  inplace=True) # Guarda la tabla reordenada con el nombre tipo1, nuevamente.\n",
        "\n",
        "tipo1.head()"
      ],
      "execution_count": null,
      "outputs": [
        {
          "output_type": "execute_result",
          "data": {
            "text/html": [
              "<div>\n",
              "<style scoped>\n",
              "    .dataframe tbody tr th:only-of-type {\n",
              "        vertical-align: middle;\n",
              "    }\n",
              "\n",
              "    .dataframe tbody tr th {\n",
              "        vertical-align: top;\n",
              "    }\n",
              "\n",
              "    .dataframe thead th {\n",
              "        text-align: right;\n",
              "    }\n",
              "</style>\n",
              "<table border=\"1\" class=\"dataframe\">\n",
              "  <thead>\n",
              "    <tr style=\"text-align: right;\">\n",
              "      <th></th>\n",
              "      <th>Speed</th>\n",
              "    </tr>\n",
              "    <tr>\n",
              "      <th>Type 1</th>\n",
              "      <th></th>\n",
              "    </tr>\n",
              "  </thead>\n",
              "  <tbody>\n",
              "    <tr>\n",
              "      <th>Flying</th>\n",
              "      <td>102.500000</td>\n",
              "    </tr>\n",
              "    <tr>\n",
              "      <th>Electric</th>\n",
              "      <td>84.500000</td>\n",
              "    </tr>\n",
              "    <tr>\n",
              "      <th>Dragon</th>\n",
              "      <td>83.031250</td>\n",
              "    </tr>\n",
              "    <tr>\n",
              "      <th>Psychic</th>\n",
              "      <td>81.491228</td>\n",
              "    </tr>\n",
              "    <tr>\n",
              "      <th>Dark</th>\n",
              "      <td>76.161290</td>\n",
              "    </tr>\n",
              "  </tbody>\n",
              "</table>\n",
              "</div>"
            ],
            "text/plain": [
              "               Speed\n",
              "Type 1              \n",
              "Flying    102.500000\n",
              "Electric   84.500000\n",
              "Dragon     83.031250\n",
              "Psychic    81.491228\n",
              "Dark       76.161290"
            ]
          },
          "metadata": {},
          "execution_count": 31
        }
      ]
    },
    {
      "cell_type": "markdown",
      "metadata": {
        "id": "LU6rt8mw8pmd"
      },
      "source": [
        "Si los datos están ordenados en mi Data Frame, estarán ordenados en mi gráfica ¡y tendré mejores visualizaciones!"
      ]
    },
    {
      "cell_type": "code",
      "metadata": {
        "colab": {
          "base_uri": "https://localhost:8080/",
          "height": 295
        },
        "id": "J1R011908n5d",
        "outputId": "041e4472-0881-4f11-f5a1-c15a1f27bc60"
      },
      "source": [
        "plt.barh(tipo1.index, tipo1[\"Speed\"])\n",
        "plt.title(\"Velocidad de Pokémon, según Tipo\")\n",
        "plt.xlabel(\"Stat Velocidad\")\n",
        "plt.ylabel(\"Tipo Principal de Pokémon\")\n",
        "plt.show()"
      ],
      "execution_count": null,
      "outputs": [
        {
          "output_type": "display_data",
          "data": {
            "image/png": "[encoded data removed]",
            "text/plain": [
              "<Figure size 432x288 with 1 Axes>"
            ]
          },
          "metadata": {
            "needs_background": "light"
          }
        }
      ]
    },
    {
      "cell_type": "markdown",
      "metadata": {
        "id": "PmaeoChm6suj"
      },
      "source": [
        "## Colores\n",
        "¡Nunca saturarlos! Pero, tampoco, ser monocromáticos.\n",
        "\n",
        "Una buena idea es usar distintos colores cuando tenga distintas características..."
      ]
    },
    {
      "cell_type": "code",
      "metadata": {
        "colab": {
          "base_uri": "https://localhost:8080/",
          "height": 296
        },
        "id": "tu89B0YX6rJR",
        "outputId": "c36750fd-45be-4787-c90c-90e3fc108db1"
      },
      "source": [
        "# Por cierto; puedo agregar cada set de datos de manera independiente. Pyplot agregará colores distintos para cada uno.\n",
        "\n",
        "plt.scatter(df.loc[df[\"Especie\"] == \"setosa\", \"Largo pétalo (in)\"], \n",
        "            df.loc[df[\"Especie\"] == \"setosa\", \"Ancho pétalo (in)\"])\n",
        "plt.scatter(df.loc[df[\"Especie\"] == \"versicolor\", \"Largo pétalo (in)\"], \n",
        "            df.loc[df[\"Especie\"] == \"versicolor\", \"Ancho pétalo (in)\"])\n",
        "plt.scatter(df.loc[df[\"Especie\"] == \"virginica\", \"Largo pétalo (in)\"], \n",
        "            df.loc[df[\"Especie\"] == \"virginica\", \"Ancho pétalo (in)\"])\n",
        "\n",
        "plt.title(\"Longitud de Pétalos vs Ancho de Pétalos\")\n",
        "plt.xlabel(\"Largo pétalo (in)\")\n",
        "plt.ylabel(\"Ancho pétalo (in)\")\n",
        "\n",
        "plt.show()"
      ],
      "execution_count": null,
      "outputs": [
        {
          "output_type": "display_data",
          "data": {
            "image/png": "[encoded data removed]",
            "text/plain": [
              "<Figure size 432x288 with 1 Axes>"
            ]
          },
          "metadata": {
            "needs_background": "light"
          }
        }
      ]
    },
    {
      "cell_type": "markdown",
      "metadata": {
        "id": "T-mqT6GEAu5K"
      },
      "source": [
        "¡Ojo! Cuidado con los colores verde y el rojo.\n",
        "\n",
        "Mucha gente los relaciona con algo positivo o negativo...como en un semáforo.\n",
        "\n",
        "Para no mandar un mensaje equivocado, a veces puede ser buena idea usar otros colores.\n",
        "(o al revés, usar verde /rojo a propósito, para mejorar el impacto de mi mensaje.)"
      ]
    },
    {
      "cell_type": "code",
      "metadata": {
        "colab": {
          "base_uri": "https://localhost:8080/",
          "height": 296
        },
        "id": "LaRgL3pMAOnB",
        "outputId": "25d655a1-1474-4324-c105-d545a7460977"
      },
      "source": [
        "plt.scatter(df.loc[df[\"Especie\"] == \"setosa\", \"Largo pétalo (in)\"], \n",
        "            df.loc[df[\"Especie\"] == \"setosa\", \"Ancho pétalo (in)\"],\n",
        "            c=\"purple\") # Nombre del color\n",
        "plt.scatter(df.loc[df[\"Especie\"] == \"versicolor\", \"Largo pétalo (in)\"], \n",
        "            df.loc[df[\"Especie\"] == \"versicolor\", \"Ancho pétalo (in)\"],\n",
        "            c=\"#bcbd22\") # Hexadecimal\n",
        "plt.scatter(df.loc[df[\"Especie\"] == \"virginica\", \"Largo pétalo (in)\"], \n",
        "            df.loc[df[\"Especie\"] == \"virginica\", \"Ancho pétalo (in)\"],\n",
        "            c=\"orange\")\n",
        "\n",
        "plt.title(\"Longitud de Pétalos vs Ancho de Pétalos\")\n",
        "plt.xlabel(\"Largo pétalo (in)\")\n",
        "plt.ylabel(\"Ancho pétalo (in)\")\n",
        "\n",
        "plt.show()\n"
      ],
      "execution_count": null,
      "outputs": [
        {
          "output_type": "display_data",
          "data": {
            "image/png": "[encoded data removed]",
            "text/plain": [
              "<Figure size 432x288 with 1 Axes>"
            ]
          },
          "metadata": {
            "needs_background": "light"
          }
        }
      ]
    },
    {
      "cell_type": "markdown",
      "metadata": {
        "id": "yEPw9-MX9sbJ"
      },
      "source": [
        "\n",
        "## Autoexplicativo\n",
        "Por sí sola, la idea principal de la tabla o gráfica debería entenderse. Puedo agregar ideas de apoyo, pero sólo como extra.\n",
        "\n",
        "En el caso de gráficas, puedo agregar leyendas, que me ayudan a entender mejor el gráfico..."
      ]
    },
    {
      "cell_type": "code",
      "metadata": {
        "colab": {
          "base_uri": "https://localhost:8080/",
          "height": 296
        },
        "id": "HWpXr7zE9Pug",
        "outputId": "ca8842f1-d974-45af-c1d2-3dc30ad235a5"
      },
      "source": [
        "plt.scatter(df.loc[df[\"Especie\"] == \"setosa\", \"Largo pétalo (in)\"], \n",
        "            df.loc[df[\"Especie\"] == \"setosa\", \"Ancho pétalo (in)\"])\n",
        "plt.scatter(df.loc[df[\"Especie\"] == \"versicolor\", \"Largo pétalo (in)\"], \n",
        "            df.loc[df[\"Especie\"] == \"versicolor\", \"Ancho pétalo (in)\"])\n",
        "plt.scatter(df.loc[df[\"Especie\"] == \"virginica\", \"Largo pétalo (in)\"], \n",
        "            df.loc[df[\"Especie\"] == \"virginica\", \"Ancho pétalo (in)\"])\n",
        "\n",
        "plt.title(\"Longitud de Pétalos vs Ancho de Pétalos\")\n",
        "plt.xlabel(\"Largo pétalo (in)\")\n",
        "plt.ylabel(\"Ancho pétalo (in)\")\n",
        "\n",
        "# El orden corresponde a el orden en que agregué mis datos.\n",
        "plt.legend([\"Setosa\", \"Versicolor\", \"Virginica\"])\n",
        "\n",
        "plt.show()"
      ],
      "execution_count": null,
      "outputs": [
        {
          "output_type": "display_data",
          "data": {
            "image/png": "[encoded data removed]",
            "text/plain": [
              "<Figure size 432x288 with 1 Axes>"
            ]
          },
          "metadata": {
            "needs_background": "light"
          }
        }
      ]
    },
    {
      "cell_type": "markdown",
      "metadata": {
        "id": "0ifGIJWP_Sk0"
      },
      "source": [
        "## Números al mínimo\n",
        "¡Hasta las personas más acostumbradas a ver cifras pueden marearse! De ser necesario, es buena idea redondear (¡para visualizar, no para hacer cálculos!).\n"
      ]
    },
    {
      "cell_type": "code",
      "metadata": {
        "id": "U26JCvg_-HQk"
      },
      "source": [
        ""
      ],
      "execution_count": null,
      "outputs": []
    }
  ]
}