{
 "cells": [
  {
   "cell_type": "markdown",
   "metadata": {},
   "source": [
    "# Ejercicios de Repaso - R\n",
    "\n",
    "## Heroes de RPymoli\n",
    "Trabajaremos con un set de datos que contiene información de usuarios que juegan online, y las compras de objetos que estos han realizado dentro del videojuego."
   ]
  },
  {
   "cell_type": "code",
   "execution_count": 1,
   "metadata": {},
   "outputs": [
    {
     "name": "stderr",
     "output_type": "stream",
     "text": [
      "-- \u001b[1mAttaching packages\u001b[22m --------------------------------------- tidyverse 1.2.1 --\n",
      "\u001b[32mv\u001b[39m \u001b[34mggplot2\u001b[39m 3.1.0     \u001b[32mv\u001b[39m \u001b[34mpurrr  \u001b[39m 0.3.2\n",
      "\u001b[32mv\u001b[39m \u001b[34mtibble \u001b[39m 2.1.1     \u001b[32mv\u001b[39m \u001b[34mdplyr  \u001b[39m 0.8.3\n",
      "\u001b[32mv\u001b[39m \u001b[34mtidyr  \u001b[39m 0.8.3     \u001b[32mv\u001b[39m \u001b[34mstringr\u001b[39m 1.4.0\n",
      "\u001b[32mv\u001b[39m \u001b[34mreadr  \u001b[39m 1.3.1     \u001b[32mv\u001b[39m \u001b[34mforcats\u001b[39m 0.4.0\n",
      "-- \u001b[1mConflicts\u001b[22m ------------------------------------------ tidyverse_conflicts() --\n",
      "\u001b[31mx\u001b[39m \u001b[34mdplyr\u001b[39m::\u001b[32mfilter()\u001b[39m masks \u001b[34mstats\u001b[39m::filter()\n",
      "\u001b[31mx\u001b[39m \u001b[34mdplyr\u001b[39m::\u001b[32mlag()\u001b[39m    masks \u001b[34mstats\u001b[39m::lag()\n"
     ]
    }
   ],
   "source": [
    "library(tidyverse)"
   ]
  },
  {
   "cell_type": "code",
   "execution_count": 2,
   "metadata": {},
   "outputs": [
    {
     "name": "stderr",
     "output_type": "stream",
     "text": [
      "Parsed with column specification:\n",
      "cols(\n",
      "  `Purchase ID` = \u001b[32mcol_double()\u001b[39m,\n",
      "  SN = \u001b[31mcol_character()\u001b[39m,\n",
      "  Age = \u001b[32mcol_double()\u001b[39m,\n",
      "  Gender = \u001b[31mcol_character()\u001b[39m,\n",
      "  `Item ID` = \u001b[32mcol_double()\u001b[39m,\n",
      "  `Item Name` = \u001b[31mcol_character()\u001b[39m,\n",
      "  Price = \u001b[32mcol_double()\u001b[39m\n",
      ")\n"
     ]
    },
    {
     "data": {
      "text/html": [
       "<table>\n",
       "<caption>A tibble: 6 × 7</caption>\n",
       "<thead>\n",
       "\t<tr><th scope=col>Purchase ID</th><th scope=col>SN</th><th scope=col>Age</th><th scope=col>Gender</th><th scope=col>Item ID</th><th scope=col>Item Name</th><th scope=col>Price</th></tr>\n",
       "\t<tr><th scope=col>&lt;dbl&gt;</th><th scope=col>&lt;chr&gt;</th><th scope=col>&lt;dbl&gt;</th><th scope=col>&lt;chr&gt;</th><th scope=col>&lt;dbl&gt;</th><th scope=col>&lt;chr&gt;</th><th scope=col>&lt;dbl&gt;</th></tr>\n",
       "</thead>\n",
       "<tbody>\n",
       "\t<tr><td>0</td><td>Lisim78      </td><td>20</td><td>Male</td><td>108</td><td>Extraction, Quickblade Of Trembling Hands</td><td>3.53</td></tr>\n",
       "\t<tr><td>1</td><td>Lisovynya38  </td><td>40</td><td>Male</td><td>143</td><td>Frenzied Scimitar                        </td><td>1.56</td></tr>\n",
       "\t<tr><td>2</td><td>Ithergue48   </td><td>24</td><td>Male</td><td> 92</td><td>Final Critic                             </td><td>4.88</td></tr>\n",
       "\t<tr><td>3</td><td>Chamassasya86</td><td>24</td><td>Male</td><td>100</td><td>Blindscythe                              </td><td>3.27</td></tr>\n",
       "\t<tr><td>4</td><td>Iskosia90    </td><td>23</td><td>Male</td><td>131</td><td>Fury                                     </td><td>1.44</td></tr>\n",
       "\t<tr><td>5</td><td>Yalae81      </td><td>22</td><td>Male</td><td> 81</td><td>Dreamkiss                                </td><td>3.61</td></tr>\n",
       "</tbody>\n",
       "</table>\n"
      ],
      "text/latex": [
       "A tibble: 6 × 7\n",
       "\\begin{tabular}{r|lllllll}\n",
       " Purchase ID & SN & Age & Gender & Item ID & Item Name & Price\\\\\n",
       " <dbl> & <chr> & <dbl> & <chr> & <dbl> & <chr> & <dbl>\\\\\n",
       "\\hline\n",
       "\t 0 & Lisim78       & 20 & Male & 108 & Extraction, Quickblade Of Trembling Hands & 3.53\\\\\n",
       "\t 1 & Lisovynya38   & 40 & Male & 143 & Frenzied Scimitar                         & 1.56\\\\\n",
       "\t 2 & Ithergue48    & 24 & Male &  92 & Final Critic                              & 4.88\\\\\n",
       "\t 3 & Chamassasya86 & 24 & Male & 100 & Blindscythe                               & 3.27\\\\\n",
       "\t 4 & Iskosia90     & 23 & Male & 131 & Fury                                      & 1.44\\\\\n",
       "\t 5 & Yalae81       & 22 & Male &  81 & Dreamkiss                                 & 3.61\\\\\n",
       "\\end{tabular}\n"
      ],
      "text/markdown": [
       "\n",
       "A tibble: 6 × 7\n",
       "\n",
       "| Purchase ID &lt;dbl&gt; | SN &lt;chr&gt; | Age &lt;dbl&gt; | Gender &lt;chr&gt; | Item ID &lt;dbl&gt; | Item Name &lt;chr&gt; | Price &lt;dbl&gt; |\n",
       "|---|---|---|---|---|---|---|\n",
       "| 0 | Lisim78       | 20 | Male | 108 | Extraction, Quickblade Of Trembling Hands | 3.53 |\n",
       "| 1 | Lisovynya38   | 40 | Male | 143 | Frenzied Scimitar                         | 1.56 |\n",
       "| 2 | Ithergue48    | 24 | Male |  92 | Final Critic                              | 4.88 |\n",
       "| 3 | Chamassasya86 | 24 | Male | 100 | Blindscythe                               | 3.27 |\n",
       "| 4 | Iskosia90     | 23 | Male | 131 | Fury                                      | 1.44 |\n",
       "| 5 | Yalae81       | 22 | Male |  81 | Dreamkiss                                 | 3.61 |\n",
       "\n"
      ],
      "text/plain": [
       "  Purchase ID SN            Age Gender Item ID\n",
       "1 0           Lisim78       20  Male   108    \n",
       "2 1           Lisovynya38   40  Male   143    \n",
       "3 2           Ithergue48    24  Male    92    \n",
       "4 3           Chamassasya86 24  Male   100    \n",
       "5 4           Iskosia90     23  Male   131    \n",
       "6 5           Yalae81       22  Male    81    \n",
       "  Item Name                                 Price\n",
       "1 Extraction, Quickblade Of Trembling Hands 3.53 \n",
       "2 Frenzied Scimitar                         1.56 \n",
       "3 Final Critic                              4.88 \n",
       "4 Blindscythe                               3.27 \n",
       "5 Fury                                      1.44 \n",
       "6 Dreamkiss                                 3.61 "
      ]
     },
     "metadata": {},
     "output_type": "display_data"
    }
   ],
   "source": [
    "# Cargar archivo\n",
    "file_to_load <- \"https://raw.githubusercontent.com/robertoarturomc/ProgramacionInformacion/main/resources/purchase_data.csv\"\n",
    "\n",
    "# Leer archivo y guardarlo en un Pandas data frame\n",
    "purchase_data <- read_csv(file_to_load)\n",
    "\n",
    "purchase_data %>% head()"
   ]
  },
  {
   "cell_type": "markdown",
   "metadata": {},
   "source": [
    "### 1. Conteo de Compras\n",
    "Muestra cuántos compras hubo en total."
   ]
  },
  {
   "cell_type": "code",
   "execution_count": null,
   "metadata": {},
   "outputs": [],
   "source": []
  },
  {
   "cell_type": "markdown",
   "metadata": {},
   "source": [
    "### 2. Calcula la edad promedio y la mediana de precios\n",
    "Guarda esos valores en variables."
   ]
  },
  {
   "cell_type": "code",
   "execution_count": null,
   "metadata": {},
   "outputs": [],
   "source": []
  },
  {
   "cell_type": "markdown",
   "metadata": {},
   "source": [
    "### 3. Calcula el porcentaje y conteo de cada uno de los valores distintos que aparezcan en \"Gender\""
   ]
  },
  {
   "cell_type": "code",
   "execution_count": null,
   "metadata": {},
   "outputs": [],
   "source": []
  },
  {
   "cell_type": "markdown",
   "metadata": {},
   "source": [
    "### 4. Calcula: ¿qué cinco usuarios (_SN_) gastaron más en total?"
   ]
  },
  {
   "cell_type": "code",
   "execution_count": null,
   "metadata": {},
   "outputs": [],
   "source": []
  },
  {
   "cell_type": "markdown",
   "metadata": {},
   "source": [
    "### 5. ¿Qué 10 _items_ fueron los más comprados por las mujeres?"
   ]
  },
  {
   "cell_type": "code",
   "execution_count": null,
   "metadata": {},
   "outputs": [],
   "source": []
  },
  {
   "cell_type": "markdown",
   "metadata": {},
   "source": [
    "### 6. Crea una nueva columna: calcula la edad, pero en meses."
   ]
  },
  {
   "cell_type": "code",
   "execution_count": null,
   "metadata": {},
   "outputs": [],
   "source": []
  },
  {
   "cell_type": "markdown",
   "metadata": {},
   "source": [
    "### 7. Los usuarios con mayor edad, ¿compran cosas más caras?\n",
    "* a) Agrupa según edad, calcula el promedio gastado por cada edad y en tu tabla que resulte, calcula una regresión lineal: gasto vs edad."
   ]
  },
  {
   "cell_type": "code",
   "execution_count": null,
   "metadata": {},
   "outputs": [],
   "source": []
  },
  {
   "cell_type": "markdown",
   "metadata": {},
   "source": [
    "\n",
    "* b) Interpreta el coeficiente de edad: por cada año nuevo cumplido, ¿cuánto más se espera que gasten?\n"
   ]
  },
  {
   "cell_type": "code",
   "execution_count": null,
   "metadata": {},
   "outputs": [],
   "source": []
  },
  {
   "cell_type": "markdown",
   "metadata": {},
   "source": [
    "* c) Revisa $R^2$. ¿Es un buen modelo? Para este caso, definamos \"bueno\" como aquel que el valor es mayor a 0.5"
   ]
  },
  {
   "cell_type": "code",
   "execution_count": null,
   "metadata": {},
   "outputs": [],
   "source": []
  },
  {
   "cell_type": "markdown",
   "metadata": {},
   "source": [
    "### 8. Filtra: observa solamente el valor de la décima hilera y segunda columna."
   ]
  },
  {
   "cell_type": "code",
   "execution_count": null,
   "metadata": {},
   "outputs": [],
   "source": []
  }
 ],
 "metadata": {
  "kernelspec": {
   "display_name": "R",
   "language": "R",
   "name": "ir"
  },
  "language_info": {
   "codemirror_mode": "r",
   "file_extension": ".r",
   "mimetype": "text/x-r-source",
   "name": "R",
   "pygments_lexer": "r",
   "version": "3.5.3"
  }
 },
 "nbformat": 4,
 "nbformat_minor": 2
}
