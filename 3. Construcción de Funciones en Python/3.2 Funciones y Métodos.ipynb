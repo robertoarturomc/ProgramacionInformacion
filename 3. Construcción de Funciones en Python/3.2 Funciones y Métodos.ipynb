{
  "cells": [
    {
      "cell_type": "markdown",
      "metadata": {
        "id": "y7HjmoEuLe-N"
      },
      "source": [
        "# 3.2 Funciones y Métodos\n",
        "\n",
        "¿Recuerdas las funciones en Matemáticas? En general, las funciones son relaciones entre los elementos de dos conjuntos. Estas relaciones suelen realizarse a través de una serie de operaciones matemáticas.\n",
        "\n",
        "En programación, el concepto es un poco más amplio. Una **función** es una serie de operaciones o transformaciones que pretendemos realizar, pero que resumimos con algún nombre clave.\n",
        "\n",
        "No necesariamente son cálculos matemáticos, sino que pueden ser otras tareas de programación que quiero realizar. Es decir, me pueden ayudar a resumir instrucciones.\n",
        "\n",
        "Las funciones en Python se ven más o menos así:\n",
        "\n",
        "`nombreFuncion(argumento_1, argumento_2, ... argumento_n)`"
      ]
    },
    {
      "cell_type": "markdown",
      "metadata": {
        "id": "0BY1auSzLe-T"
      },
      "source": [
        "Si prestas atención, verás que ya has usado funciones:"
      ]
    },
    {
      "cell_type": "code",
      "execution_count": null,
      "metadata": {
        "id": "BFryPtR5Le-T",
        "outputId": "d232763e-a7f9-4553-f833-40b8a87ece77",
        "colab": {
          "base_uri": "https://localhost:8080/"
        }
      },
      "outputs": [
        {
          "output_type": "stream",
          "name": "stdout",
          "text": [
            "Esta función sirve para imprimir un texto  Otro texto\n"
          ]
        }
      ],
      "source": [
        "print(\"Esta función sirve para imprimir un texto\", \" Otro texto\")"
      ]
    },
    {
      "cell_type": "code",
      "execution_count": null,
      "metadata": {
        "id": "VrDNNegKLe-U",
        "outputId": "b0447c36-0eb5-41f6-957f-f7149be5bc6d",
        "colab": {
          "base_uri": "https://localhost:8080/"
        }
      },
      "outputs": [
        {
          "output_type": "stream",
          "name": "stdout",
          "text": [
            "Y se puede usar  con varios argumentos\n"
          ]
        }
      ],
      "source": [
        "arg1 = \"con varios\"\n",
        "print(\"Y se puede usar \", arg1, \"argumentos\")"
      ]
    },
    {
      "cell_type": "markdown",
      "metadata": {
        "id": "qAYxWgVvLe-U"
      },
      "source": [
        "Los programadores tenemos un acrónimo **DRY:** Don't Repeat Yourself. En general, debemos evitar repetir líneas parecidas. Para eso nos ayudan las funciones.\n",
        "\n",
        "## Obteniendo información sobre una función\n",
        "Vamos a introducir la función `max`. Suena a que podría ser útil para obtener el valor más grande de...una lista, por ejemplo. ¿Será cierto? ¿Cómo lo confirmo?\n",
        "\n",
        "En google, puedes buscar fácilmente la documentación de las funciones de Python.\n",
        "\n",
        "Alternativamente, si estás trabajando con Notebooks, puedes escribir un signo de interrogación, seguido del nombre de la función, para que veas más información sobre la misma, pero directamente sobre la ventana de Notebook."
      ]
    },
    {
      "cell_type": "code",
      "execution_count": null,
      "metadata": {
        "id": "3PiZ7O0ILe-U"
      },
      "outputs": [],
      "source": [
        "max?"
      ]
    },
    {
      "cell_type": "markdown",
      "metadata": {
        "id": "4_gG7kfgLe-V"
      },
      "source": [
        "Antes de ponerla en acción, veamos cómo tendría que calcular el valor más grande de una lista:"
      ]
    },
    {
      "cell_type": "code",
      "execution_count": null,
      "metadata": {
        "id": "eBQ_107ELe-V"
      },
      "outputs": [],
      "source": [
        "lista1 = [5, 7, 10, 13, 6]"
      ]
    },
    {
      "cell_type": "code",
      "execution_count": null,
      "metadata": {
        "id": "dP5m_DsvLe-V",
        "outputId": "657a70e8-d37a-4a21-d6d1-08716978c21c",
        "colab": {
          "base_uri": "https://localhost:8080/"
        }
      },
      "outputs": [
        {
          "output_type": "execute_result",
          "data": {
            "text/plain": [
              "13"
            ]
          },
          "metadata": {},
          "execution_count": 13
        }
      ],
      "source": [
        "# max1 empieza siendo 0. Si encuentro un valor más grande, max va a tomar ese valor.\n",
        "max1 = 0\n",
        "for i in lista1:\n",
        "    if i>max1:\n",
        "        max1=i\n",
        "\n",
        "max1"
      ]
    },
    {
      "cell_type": "markdown",
      "metadata": {
        "id": "tmtRCxVpLe-W"
      },
      "source": [
        "Relativamente fácil, ¿no? A ver, calculemos el valor máximo de cada una de las siguientes listas:\n"
      ]
    },
    {
      "cell_type": "code",
      "execution_count": null,
      "metadata": {
        "id": "79UlcRb5Le-X"
      },
      "outputs": [],
      "source": [
        "lista2 = [9.9, 9.8, 9.4, 9.33, 8.75, 7.65]\n",
        "lista3 = [6, 9, 25, 16, 49, 64, 23.4]\n",
        "lista4 = [10, 5, 11, 11/3, 0.1, 25/2, 18]\n",
        "lista5 = [20, 3, 75/5, 16, 6, 25.3, 3, 8, 25]"
      ]
    },
    {
      "cell_type": "markdown",
      "metadata": {
        "id": "B6C-TH8jLe-X"
      },
      "source": [
        "Usando nuestro snippet anterior, tendríamos que hacer algo así:"
      ]
    },
    {
      "cell_type": "code",
      "execution_count": null,
      "metadata": {
        "id": "q4qS5WtELe-Y",
        "outputId": "a17d1bf0-c9f9-49e8-b1f1-94a3b3596bd3",
        "colab": {
          "base_uri": "https://localhost:8080/"
        }
      },
      "outputs": [
        {
          "output_type": "stream",
          "name": "stdout",
          "text": [
            "9.9\n",
            "64\n",
            "18\n",
            "25.3\n"
          ]
        }
      ],
      "source": [
        "max2=0\n",
        "max3=0\n",
        "max4=0\n",
        "max5=0\n",
        "\n",
        "for i in lista2:\n",
        "    if i>max2:\n",
        "        max2=i\n",
        "\n",
        "for i in lista3:\n",
        "    if i>max3:\n",
        "        max3=i\n",
        "\n",
        "for i in lista4:\n",
        "    if i>max4:\n",
        "        max4=i\n",
        "\n",
        "for i in lista5:\n",
        "    if i>max5:\n",
        "        max5=i\n",
        "        \n",
        "print(max2)\n",
        "print(max3)\n",
        "print(max4)\n",
        "print(max5)"
      ]
    },
    {
      "cell_type": "markdown",
      "metadata": {
        "id": "hX4jMOSVLe-Y"
      },
      "source": [
        "¡Es cansado copiar y pegar! Además es muy probable que, al ser una tarea tan repetitiva, tenga un error humano al copiar y pegar, o al modificar lo que tenga que modificar (como los nombres de las variables).\n",
        "\n",
        "En cambio, usando funciones..."
      ]
    },
    {
      "cell_type": "code",
      "execution_count": null,
      "metadata": {
        "id": "6FyT9wgvLe-Y",
        "outputId": "2aec23e5-3b34-44ae-b8ad-ccf6fd4916ca",
        "colab": {
          "base_uri": "https://localhost:8080/"
        }
      },
      "outputs": [
        {
          "output_type": "stream",
          "name": "stdout",
          "text": [
            "9.9\n",
            "64\n",
            "18\n",
            "25.3\n"
          ]
        }
      ],
      "source": [
        "print(max(lista2))\n",
        "print(max(lista3))\n",
        "print(max(lista4))\n",
        "print(max(lista5))"
      ]
    },
    {
      "cell_type": "code",
      "source": [
        "for x in [lista2, lista3, lista4, lista5]:\n",
        "  print(max(x))\n",
        "\n"
      ],
      "metadata": {
        "id": "724kMEqlWJEa",
        "outputId": "e67b2726-558e-4169-e6a6-4d7a3df9f5c2",
        "colab": {
          "base_uri": "https://localhost:8080/"
        }
      },
      "execution_count": null,
      "outputs": [
        {
          "output_type": "stream",
          "name": "stdout",
          "text": [
            "9.9\n",
            "64\n",
            "18\n",
            "25.3\n"
          ]
        }
      ]
    },
    {
      "cell_type": "code",
      "source": [
        "max?"
      ],
      "metadata": {
        "id": "9W9a4NC4W2OE"
      },
      "execution_count": null,
      "outputs": []
    },
    {
      "cell_type": "markdown",
      "metadata": {
        "id": "KN3wf73ZLe-Y"
      },
      "source": [
        "¡Fue muchísimo más rápido! Además, mi código quedo más limpio y fácil de entender.\n",
        "\n",
        "Eso, sin contar que me ahorré tiempo, puesto que no tuve que pensar en el algoritmo (los pasos que se necesitan) para calcular el valor máximo. "
      ]
    },
    {
      "cell_type": "markdown",
      "metadata": {
        "id": "TSM58hdSLe-Y"
      },
      "source": [
        "## Métodos en Python "
      ]
    },
    {
      "cell_type": "markdown",
      "metadata": {
        "id": "NAw1_pmtLe-Z"
      },
      "source": [
        "Normalmente, las **funciones** se pueden ocupar en más de un tipo de dato o estructura de datos. Algunos, bajo ciertas condiciones. Por ejemplo:"
      ]
    },
    {
      "cell_type": "code",
      "execution_count": null,
      "metadata": {
        "id": "XBZuo7NMLe-Z",
        "outputId": "b0812a1d-2951-4b6b-8894-8151e5bc6f18",
        "colab": {
          "base_uri": "https://localhost:8080/"
        }
      },
      "outputs": [
        {
          "output_type": "stream",
          "name": "stdout",
          "text": [
            "1\n",
            "Johnny, la gente está muy loca\n",
            "Hoy cumplimos  3  años\n",
            "{'Nivel de Inglés': 'Avanzado', 'Nivel de Francés': 'Básico'}\n"
          ]
        }
      ],
      "source": [
        "# Con enteros\n",
        "print(1)\n",
        "\n",
        "# Con strings\n",
        "print(\"Johnny, la gente está muy loca\")\n",
        "\n",
        "# Con más de un **argumento**\n",
        "print(\"Hoy cumplimos \", 3, \" años\")\n",
        "\n",
        "# Con estructuras de datos\n",
        "diccionario= {\"Nivel de Inglés\": \"Avanzado\",\n",
        "              \"Nivel de Francés\": \"Básico\"}\n",
        "print(diccionario)"
      ]
    },
    {
      "cell_type": "markdown",
      "metadata": {
        "id": "eDGEG5pTLe-Z"
      },
      "source": [
        "A veces tienen algunas limitantes, como al tratar de calcular el mínimo de una lista con texto y números a la vez..."
      ]
    },
    {
      "cell_type": "code",
      "execution_count": null,
      "metadata": {
        "id": "2jk75YBrLe-Z",
        "outputId": "b14b872b-aca9-42e2-8457-3af22dcc7f7c",
        "colab": {
          "base_uri": "https://localhost:8080/",
          "height": 35
        }
      },
      "outputs": [
        {
          "output_type": "execute_result",
          "data": {
            "text/plain": [
              "'25'"
            ],
            "application/vnd.google.colaboratory.intrinsic+json": {
              "type": "string"
            }
          },
          "metadata": {},
          "execution_count": 35
        }
      ],
      "source": [
        "min((\"Katy\", \"Gaga\", \"25\", \"750\", \"Miley\"))"
      ]
    },
    {
      "cell_type": "markdown",
      "metadata": {
        "id": "l2Xf4M06Le-Z"
      },
      "source": [
        "Pero esos son casos particulares, En general, las funciones tienen varios usos.\n",
        "\n",
        "En cambio, a veces queremos tener la usabilidad de una función, pero aplicada a sólo un dato o estructura en específico. \n",
        "\n",
        "Por ejemplo, para redondear un número. ¡No puedo sacar el valor redondeado de un texto! Por ejemplo, ¿Recuerdas la diferencia entre diccionarios y listas? ¡Las listas no tienen llaves! Por eso, si trato de sacar esto, tendré un error:"
      ]
    },
    {
      "cell_type": "code",
      "execution_count": null,
      "metadata": {
        "id": "4y0UNdl2Le-a",
        "outputId": "9fa71c00-e926-4920-85c2-95ea9d818542",
        "colab": {
          "base_uri": "https://localhost:8080/"
        }
      },
      "outputs": [
        {
          "output_type": "execute_result",
          "data": {
            "text/plain": [
              "dict_keys(['Nivel de Inglés', 'Nivel de Francés'])"
            ]
          },
          "metadata": {},
          "execution_count": 36
        }
      ],
      "source": [
        "# Con un diccionario, puedo ver la lista de llaves incluidas:\n",
        "diccionario.keys() # Metodo\n"
      ]
    },
    {
      "cell_type": "code",
      "source": [
        "lista1"
      ],
      "metadata": {
        "id": "2pF8G759aCe5",
        "outputId": "d9577dbc-def6-4968-c0c6-85fa893145bc",
        "colab": {
          "base_uri": "https://localhost:8080/"
        }
      },
      "execution_count": null,
      "outputs": [
        {
          "output_type": "execute_result",
          "data": {
            "text/plain": [
              "[5, 7, 10, 13, 6]"
            ]
          },
          "metadata": {},
          "execution_count": 39
        }
      ]
    },
    {
      "cell_type": "code",
      "execution_count": null,
      "metadata": {
        "id": "YGYiE-CvLe-a",
        "outputId": "1bac08e9-3ccd-488c-fe07-ca3751fed0f2",
        "colab": {
          "base_uri": "https://localhost:8080/",
          "height": 187
        }
      },
      "outputs": [
        {
          "output_type": "error",
          "ename": "AttributeError",
          "evalue": "ignored",
          "traceback": [
            "\u001b[0;31m---------------------------------------------------------------------------\u001b[0m",
            "\u001b[0;31mAttributeError\u001b[0m                            Traceback (most recent call last)",
            "\u001b[0;32m<ipython-input-40-84cff18e39bf>\u001b[0m in \u001b[0;36m<module>\u001b[0;34m\u001b[0m\n\u001b[1;32m      1\u001b[0m \u001b[0;31m# ¡Pero si lo intento con una lista, tendré un error!\u001b[0m\u001b[0;34m\u001b[0m\u001b[0;34m\u001b[0m\u001b[0;34m\u001b[0m\u001b[0m\n\u001b[0;32m----> 2\u001b[0;31m \u001b[0mlista1\u001b[0m\u001b[0;34m.\u001b[0m\u001b[0mkeys\u001b[0m\u001b[0;34m(\u001b[0m\u001b[0;34m)\u001b[0m\u001b[0;34m\u001b[0m\u001b[0;34m\u001b[0m\u001b[0m\n\u001b[0m",
            "\u001b[0;31mAttributeError\u001b[0m: 'list' object has no attribute 'keys'"
          ]
        }
      ],
      "source": [
        "# ¡Pero si lo intento con una lista, tendré un error!\n",
        "lista1.keys()"
      ]
    },
    {
      "cell_type": "markdown",
      "metadata": {
        "id": "bbm7ThKuLe-a"
      },
      "source": [
        "A `.keys()` se le conoce como **método**. \n",
        "\n",
        "Son muy, pero muy parecidas a las funciones. Su principal diferencia es que estos son específicos a cada tipo de datos o de estructura. Por eso, se usan ligeramente diferente: se escribe el objeto al que se va a aplicar, seguido de un punto y del nombre del método a usar. Es importante abrir y cerrar paréntesis; incluso, si mi método no tiene *argumentos*.\n",
        "\n",
        "Un argumento, por cierto, es lo que va adentro de los paréntesis y sirve para especificar cambios o formas de usar una función.\n",
        "\n",
        "Ya hemos estudiado varios ejemplos de métodos. Por ejemplo, ¿se te hace conocido esto?"
      ]
    },
    {
      "cell_type": "code",
      "execution_count": null,
      "metadata": {
        "id": "ztcjx1EELe-a",
        "outputId": "9a294f21-cb40-4f92-9114-df9586c5e239",
        "colab": {
          "base_uri": "https://localhost:8080/"
        }
      },
      "outputs": [
        {
          "output_type": "stream",
          "name": "stdout",
          "text": [
            "[5, 7, 10, 13, 6]\n",
            "[5, 7, 10, 13, 6, '3.14']\n"
          ]
        }
      ],
      "source": [
        "print(lista1)\n",
        "\n",
        "lista1.append(\"3.14\")\n",
        "\n",
        "print(lista1)"
      ]
    },
    {
      "cell_type": "markdown",
      "metadata": {
        "id": "i-mhr-FILe-a"
      },
      "source": [
        "Pero no puedo ocupar `.append(\"algo\")` con enteros, ni con tuplas o diccionarios..."
      ]
    },
    {
      "cell_type": "code",
      "execution_count": null,
      "metadata": {
        "id": "3KxVlIX2Le-b",
        "outputId": "a2452014-512b-47b4-b627-9acc1289313e",
        "colab": {
          "base_uri": "https://localhost:8080/",
          "height": 169
        }
      },
      "outputs": [
        {
          "output_type": "error",
          "ename": "AttributeError",
          "evalue": "ignored",
          "traceback": [
            "\u001b[0;31m---------------------------------------------------------------------------\u001b[0m",
            "\u001b[0;31mAttributeError\u001b[0m                            Traceback (most recent call last)",
            "\u001b[0;32m<ipython-input-42-a890239a92f6>\u001b[0m in \u001b[0;36m<module>\u001b[0;34m\u001b[0m\n\u001b[0;32m----> 1\u001b[0;31m \u001b[0mdiccionario\u001b[0m\u001b[0;34m.\u001b[0m\u001b[0mappend\u001b[0m\u001b[0;34m(\u001b[0m\u001b[0;34m\"Nivel de Portugués\"\u001b[0m\u001b[0;34m)\u001b[0m\u001b[0;34m\u001b[0m\u001b[0;34m\u001b[0m\u001b[0m\n\u001b[0m",
            "\u001b[0;31mAttributeError\u001b[0m: 'dict' object has no attribute 'append'"
          ]
        }
      ],
      "source": [
        "diccionario.append(\"Nivel de Portugués\")"
      ]
    },
    {
      "cell_type": "markdown",
      "metadata": {
        "id": "3CNkWs5lLe-b"
      },
      "source": [
        "En resumen: un método no es más que una función específica para un tipo o estructura de datos."
      ]
    },
    {
      "cell_type": "code",
      "execution_count": null,
      "metadata": {
        "id": "baDIgiTJLe-b"
      },
      "outputs": [],
      "source": [
        "# Nota: para pedir ayuda en un método, tienes que escribir el nombre completo.\n",
        "list.append?"
      ]
    },
    {
      "cell_type": "code",
      "execution_count": null,
      "metadata": {
        "id": "1IoE9xDfLe-c"
      },
      "outputs": [],
      "source": []
    }
  ],
  "metadata": {
    "kernelspec": {
      "display_name": "Python 3",
      "language": "python",
      "name": "python3"
    },
    "language_info": {
      "codemirror_mode": {
        "name": "ipython",
        "version": 3
      },
      "file_extension": ".py",
      "mimetype": "text/x-python",
      "name": "python",
      "nbconvert_exporter": "python",
      "pygments_lexer": "ipython3",
      "version": "3.7.3"
    },
    "colab": {
      "provenance": []
    }
  },
  "nbformat": 4,
  "nbformat_minor": 0
}