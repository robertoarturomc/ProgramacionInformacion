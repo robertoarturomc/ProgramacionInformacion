{
 "cells": [
  {
   "cell_type": "markdown",
   "metadata": {},
   "source": [
    "# 3.2 Funciones y Métodos\n",
    "\n",
    "¿Recuerdas las funciones en Matemáticas? En general, las funciones son relaciones entre los elementos de dos conjuntos. Estas relaciones suelen realizarse a través de una serie de operaciones matemáticas.\n",
    "\n",
    "En programación, el concepto es un poco más amplio. Una **función** es una serie de operaciones o transformaciones que pretendemos realizar, pero que resumimos con algún nombre clave.\n",
    "\n",
    "No necesariamente son cálculos matemáticos, sino que pueden ser otras tareas de programación que quiero realizar. Es decir, me pueden ayudar a resumir instrucciones.\n",
    "\n",
    "Las funciones en Python se ven más o menos así:\n",
    "\n",
    "`nombreFuncion(argumento_1, argumento_2, ... argumento_n)`"
   ]
  },
  {
   "cell_type": "markdown",
   "metadata": {},
   "source": [
    "Si prestas atención, verás que ya has usado funciones:"
   ]
  },
  {
   "cell_type": "code",
   "execution_count": null,
   "metadata": {},
   "outputs": [],
   "source": [
    "print(\"Esta función sirve para imprimir un texto\")"
   ]
  },
  {
   "cell_type": "code",
   "execution_count": null,
   "metadata": {},
   "outputs": [],
   "source": [
    "arg1 = \"con varios\"\n",
    "print(\"Y se puede usar \", arg1, \"argumentos\")"
   ]
  },
  {
   "cell_type": "markdown",
   "metadata": {},
   "source": [
    "Los programadores tenemos un acrónimo **DRY:** Don't Repeat Yourself. En general, debemos evitar repetir líneas parecidas. Para eso nos ayudan las funciones.\n",
    "\n",
    "## Obteniendo información sobre una función\n",
    "Vamos a introducir la función `max`. Suena a que podría ser útil para obtener el valor más grande de...una lista, por ejemplo. ¿Será cierto? ¿Cómo lo confirmo?\n",
    "\n",
    "En google, puedes buscar fácilmente la documentación de las funciones de Python.\n",
    "\n",
    "Alternativamente, si estás trabajando con Notebooks, puedes escribir un signo de interrogación, seguido del nombre de la función, para que veas más información sobre la misma, pero directamente sobre la ventana de Notebook."
   ]
  },
  {
   "cell_type": "code",
   "execution_count": null,
   "metadata": {},
   "outputs": [],
   "source": [
    "?max"
   ]
  },
  {
   "cell_type": "markdown",
   "metadata": {},
   "source": [
    "Antes de ponerla en acción, veamos cómo tendría que calcular el valor más grande de una lista:"
   ]
  },
  {
   "cell_type": "code",
   "execution_count": null,
   "metadata": {},
   "outputs": [],
   "source": [
    "lista1 = [5, 7, 10, 13, 6]"
   ]
  },
  {
   "cell_type": "code",
   "execution_count": null,
   "metadata": {},
   "outputs": [],
   "source": [
    "# max empieza siendo 0. Si encuentro un valor más grande, max va a tomar ese valor.\n",
    "max1=0\n",
    "for i in lista1:\n",
    "    if i>max1:\n",
    "        max1=i\n",
    "\n",
    "max"
   ]
  },
  {
   "cell_type": "markdown",
   "metadata": {},
   "source": [
    "Relativamente fácil, ¿no? A ver, calculemos el valor máximo de cada una de las siguientes listas:\n"
   ]
  },
  {
   "cell_type": "code",
   "execution_count": null,
   "metadata": {},
   "outputs": [],
   "source": [
    "lista2 = [9.9, 9.8, 9.4, 9.33, 8.75, 7.65]\n",
    "lista3 = [6, 9, 25, 16, 49, 64, 23.4]\n",
    "lista4 = [10, 5, 11, 11/3, 0.1, 25/2, 18]\n",
    "lista5 = [20, 3, 75/5, 16, 6, 25.3, 3, 8, 25]"
   ]
  },
  {
   "cell_type": "markdown",
   "metadata": {},
   "source": [
    "Usando nuestro snippet anterior, tendríamos que hacer algo así:"
   ]
  },
  {
   "cell_type": "code",
   "execution_count": null,
   "metadata": {},
   "outputs": [],
   "source": [
    "max2=0\n",
    "max3=0\n",
    "max4=0\n",
    "max5=0\n",
    "\n",
    "for i in lista2:\n",
    "    if i>max2:\n",
    "        max2=i\n",
    "\n",
    "for i in lista3:\n",
    "    if i>max3:\n",
    "        max3=i\n",
    "\n",
    "for i in lista4:\n",
    "    if i>max4:\n",
    "        max4=i\n",
    "\n",
    "for i in lista5:\n",
    "    if i>max5:\n",
    "        max5=i\n",
    "        \n",
    "print(max2)\n",
    "print(max3)\n",
    "print(max4)\n",
    "print(max5)"
   ]
  },
  {
   "cell_type": "markdown",
   "metadata": {},
   "source": [
    "¡Es cansado copiar y pegar! Además es muy probable que, al ser una tarea tan repetitiva, tenga un error humano al copiar y pegar, o al modificar lo que tenga que modificar (como los nombres de las variables).\n",
    "\n",
    "En cambio, usando funciones..."
   ]
  },
  {
   "cell_type": "code",
   "execution_count": null,
   "metadata": {},
   "outputs": [],
   "source": [
    "print(max(lista2))\n",
    "print(max(lista3))\n",
    "print(max(lista4))\n",
    "print(max(lista5))"
   ]
  },
  {
   "cell_type": "markdown",
   "metadata": {},
   "source": [
    "¡Fue muchísimo más rápido! Además, mi código quedo más limpio y fácil de entender.\n",
    "\n",
    "Eso, sin contar que me ahorré tiempo, puesto que no tuve que pensar en el algoritmo (los pasos que se necesitan) para calcular el valor máximo. "
   ]
  },
  {
   "cell_type": "markdown",
   "metadata": {},
   "source": [
    "## Métodos en Python "
   ]
  },
  {
   "cell_type": "markdown",
   "metadata": {},
   "source": [
    "Normalmente, las **funciones** se pueden ocupar en más de un tipo de dato o estructura de datos. Algunos, bajo ciertas condiciones. Por ejemplo:"
   ]
  },
  {
   "cell_type": "code",
   "execution_count": null,
   "metadata": {},
   "outputs": [],
   "source": [
    "# Con enteros\n",
    "print(1)\n",
    "\n",
    "# Con strings\n",
    "print(\"Johnny, la gente está muy loca\")\n",
    "\n",
    "# Con más de un **argumento**\n",
    "print(\"Hoy cumplimos \", str(3), \" años\")\n",
    "\n",
    "# Con estructuras de datos\n",
    "diccionario= {\"Nivel de Inglés\": \"Avanzado\",\n",
    "              \"Nivel de Francés\": \"Básico\"}\n",
    "print(diccionario)"
   ]
  },
  {
   "cell_type": "markdown",
   "metadata": {},
   "source": [
    "A veces tienen algunas limitantes, como al tratar de calcular el mínimo de una lista con texto y números a la vez..."
   ]
  },
  {
   "cell_type": "code",
   "execution_count": null,
   "metadata": {},
   "outputs": [],
   "source": [
    "min([\"Katy\", \"Gaga\", 25, 750, \"Miley\"])"
   ]
  },
  {
   "cell_type": "markdown",
   "metadata": {},
   "source": [
    "Pero esos son casos particulares, En general, las funciones tienen varios usos.\n",
    "\n",
    "En cambio, a veces queremos tener la usabilidad de una función, pero aplicada a sólo un dato o estructura en específico. \n",
    "\n",
    "Por ejemplo, para redondear un número. ¡No puedo sacar el valor redondeado de un texto! Por ejemplo, ¿Recuerdas la diferencia entre diccionarios y listas? ¡Las listas no tienen llaves! Por eso, si trato de sacar esto, tendré un error:"
   ]
  },
  {
   "cell_type": "code",
   "execution_count": null,
   "metadata": {},
   "outputs": [],
   "source": [
    "# Con un diccionario, puedo ver la lista de llaves incluidas:\n",
    "diccionario.keys()"
   ]
  },
  {
   "cell_type": "code",
   "execution_count": null,
   "metadata": {},
   "outputs": [],
   "source": [
    "# ¡Pero si lo intento con una lista, tendré un error!\n",
    "lista1.keys()"
   ]
  },
  {
   "cell_type": "markdown",
   "metadata": {},
   "source": [
    "A `.keys()` se le conoce como **método**. \n",
    "\n",
    "Son muy, pero muy parecidas a las funciones. Su principal diferencia es que estos son específicos a cada tipo de datos o de estructura. Por eso, se usan ligeramente diferente: se escribe el objeto al que se va a aplicar, seguido de un punto y del nombre del método a usar. Es importante abrir y cerrar paréntesis; incluso, si mi método no tiene *argumentos*.\n",
    "\n",
    "Un argumento, por cierto, es lo que va adentro de los paréntesis y sirve para especificar cambios o formas de usar una función.\n",
    "\n",
    "Ya hemos estudiado varios ejemplos de métodos. Por ejemplo, ¿se te hace conocido esto?"
   ]
  },
  {
   "cell_type": "code",
   "execution_count": null,
   "metadata": {},
   "outputs": [],
   "source": [
    "print(lista1)\n",
    "\n",
    "lista1.append(\"3.14\")\n",
    "\n",
    "print(lista1)"
   ]
  },
  {
   "cell_type": "markdown",
   "metadata": {},
   "source": [
    "Pero no puedo ocupar `.append(\"algo\")` con enteros, ni con tuplas o diccionarios..."
   ]
  },
  {
   "cell_type": "code",
   "execution_count": null,
   "metadata": {},
   "outputs": [],
   "source": [
    "diccionario.append(\"Nivel de Portugués\")"
   ]
  },
  {
   "cell_type": "markdown",
   "metadata": {},
   "source": [
    "En resumen: un método no es más que una función específica para un tipo o estructura de datos."
   ]
  },
  {
   "cell_type": "code",
   "execution_count": 5,
   "metadata": {},
   "outputs": [],
   "source": [
    "# Nota: para pedir ayuda en un método, tienes que escribir el nombre completo.\n",
    "?list.append"
   ]
  },
  {
   "cell_type": "markdown",
   "metadata": {},
   "source": []
  },
  {
   "cell_type": "code",
   "execution_count": null,
   "metadata": {},
   "outputs": [],
   "source": []
  }
 ],
 "metadata": {
  "kernelspec": {
   "display_name": "Python 3",
   "language": "python",
   "name": "python3"
  },
  "language_info": {
   "codemirror_mode": {
    "name": "ipython",
    "version": 3
   },
   "file_extension": ".py",
   "mimetype": "text/x-python",
   "name": "python",
   "nbconvert_exporter": "python",
   "pygments_lexer": "ipython3",
   "version": "3.7.3"
  }
 },
 "nbformat": 4,
 "nbformat_minor": 2
}
