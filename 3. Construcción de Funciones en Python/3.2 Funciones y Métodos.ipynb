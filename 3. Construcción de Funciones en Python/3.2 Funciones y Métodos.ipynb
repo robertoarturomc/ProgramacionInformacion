{
 "cells": [
  {
   "cell_type": "markdown",
   "metadata": {},
   "source": [
    "# 3.2 Funciones y Métodos\n",
    "\n",
    "¿Recuerdas las funciones en Matemáticas? En general, las funciones son relaciones entre los elementos de dos conjuntos. Estas relaciones suelen realizarse a través de una serie de operaciones matemáticas.\n",
    "\n",
    "En programación, el concepto es un poco más amplio. Una **función** es una serie de operaciones o transformaciones que pretendemos realizar, pero que resumimos con algún nombre clave.\n",
    "\n",
    "No necesariamente son cálculos matemáticos, sino que pueden ser otras tareas de programación que quiero realizar. Es decir, me pueden ayudar a resumir instrucciones.\n",
    "\n",
    "Las funciones en Python se ven más o menos así:\n",
    "\n",
    "`nombreFuncion(argumento_1, argumento_2, ... argumento_n)`"
   ]
  },
  {
   "cell_type": "markdown",
   "metadata": {},
   "source": [
    "Si prestas atención, verás que ya has usado funciones:"
   ]
  },
  {
   "cell_type": "code",
   "execution_count": 2,
   "metadata": {},
   "outputs": [
    {
     "name": "stdout",
     "output_type": "stream",
     "text": [
      "Esta función sirve para imprimir un texto\n"
     ]
    }
   ],
   "source": [
    "print(\"Esta función sirve para imprimir un texto\")"
   ]
  },
  {
   "cell_type": "code",
   "execution_count": 3,
   "metadata": {},
   "outputs": [
    {
     "name": "stdout",
     "output_type": "stream",
     "text": [
      "Y se puede usar  con varios argumentos\n"
     ]
    }
   ],
   "source": [
    "arg1 = \"con varios\"\n",
    "print(\"Y se puede usar \", arg1, \"argumentos\")"
   ]
  },
  {
   "cell_type": "markdown",
   "metadata": {},
   "source": [
    "## Obteniendo información sobre una función\n",
    "Vamos a introducir la función `max`. Suena a que podría ser útil para obtener el valor más grande de...una lista, por ejemplo. ¿Será cierto? ¿Cómo lo confirmo?\n",
    "\n",
    "En google, puedes buscar fácilmente la documentación de las funciones de Python.\n",
    "\n",
    "Alternativamente, si estás trabajando con Notebooks, puedes escribir un signo de interrogación, seguido del nombre de la función, para que veas más información sobre la misma, pero directamente sobre la ventana de Notebook."
   ]
  },
  {
   "cell_type": "code",
   "execution_count": 8,
   "metadata": {},
   "outputs": [],
   "source": [
    "?max"
   ]
  },
  {
   "cell_type": "code",
   "execution_count": null,
   "metadata": {},
   "outputs": [],
   "source": []
  }
 ],
 "metadata": {
  "kernelspec": {
   "display_name": "Python 3",
   "language": "python",
   "name": "python3"
  },
  "language_info": {
   "codemirror_mode": {
    "name": "ipython",
    "version": 3
   },
   "file_extension": ".py",
   "mimetype": "text/x-python",
   "name": "python",
   "nbconvert_exporter": "python",
   "pygments_lexer": "ipython3",
   "version": "3.7.3"
  }
 },
 "nbformat": 4,
 "nbformat_minor": 2
}
