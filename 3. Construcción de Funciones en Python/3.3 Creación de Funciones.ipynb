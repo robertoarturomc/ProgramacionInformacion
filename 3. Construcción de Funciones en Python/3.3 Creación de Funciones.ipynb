{
 "cells": [
  {
   "cell_type": "markdown",
   "metadata": {},
   "source": [
    "# 3.3 Creación de Nuevas Funciones\n",
    "\n",
    "Ok, ya entendimos cómo se ocupa una función. Pero, se supone que las funciones me pueden ayudar a resumir una tarea, ¿no? Eso significa que, en teoría, debería ser capaz de crear funciones según me convenga...\n",
    "\n",
    "¡Eso es posible!\n",
    "\n",
    "Para crear una nueva función, necesito escribir `def nombreFuncion(argumento_1, argumento_2, ... argumento_n):`, seguido de las líneas de código que pienso automatizar con el uso de esa función.\n",
    "\n",
    "Los argumentos son opcionales, y puedo usar tantos como necesite. \n",
    "\n",
    "Lo que sí no es opcional, es que todas las líneas que pertenezcan a la función deben estar indentadas (¡usar la tecla Tab!)"
   ]
  },
  {
   "cell_type": "code",
   "execution_count": null,
   "metadata": {},
   "outputs": [],
   "source": [
    "# Por ejemplo, digamos que tengo que imprimir \"Hola\" varias veces. Antes, lo hacía así:\n",
    "print(\"¡Hola!\")\n",
    "print(\"¡Hola!\")\n",
    "print(\"¡Hola!\")\n",
    "print(\"¡Hola!\")"
   ]
  },
  {
   "cell_type": "code",
   "execution_count": null,
   "metadata": {},
   "outputs": [],
   "source": [
    "# ¡Pero también puedo programar una función que haga eso en automático!\n",
    "def printHola():\n",
    "    print(\"¡Hola!\")"
   ]
  },
  {
   "cell_type": "code",
   "execution_count": null,
   "metadata": {},
   "outputs": [],
   "source": [
    "printHola()\n",
    "printHola()\n",
    "printHola()\n",
    "printHola()"
   ]
  },
  {
   "cell_type": "code",
   "execution_count": null,
   "metadata": {},
   "outputs": [],
   "source": [
    "# Ok, quizá aún no veas la ventaja de programar tus propias funciones. Pero veamos qué pasa cuando subimos la dificultad...\n",
    "def printName(name):\n",
    "    print(\"¡Hola \" + name + \"!\")"
   ]
  },
  {
   "cell_type": "code",
   "execution_count": null,
   "metadata": {},
   "outputs": [],
   "source": [
    "printName(\"Diego\")\n",
    "printName(\"María de la Concepción\")\n",
    "printName(\"Juan Nepomuceno\")\n",
    "printName(\"Estanislao\")"
   ]
  },
  {
   "cell_type": "markdown",
   "metadata": {},
   "source": [
    "¡Las funciones me ayudan a tener un código más limpio! Ahora, sólo necesito especificar cuál es el cambio!\n",
    "Piensa que, en vez de hacer copy-paste de todo el código, sólo vas a copiar y pegar el nombre de la función. \n",
    "\n",
    "El uso principal de las funciones es cuando uno piensa correr el mismo código, pero para distintos sets de datos."
   ]
  },
  {
   "cell_type": "code",
   "execution_count": null,
   "metadata": {},
   "outputs": [],
   "source": [
    "listOne = [1, 2, 3, 4, 5, 6, 7, 8, 9, 10]\n",
    "listTwo = [11, 12, 13, 14, 15]\n",
    "\n",
    "\n",
    "def infoLista(listaNormal):\n",
    "    print(\"Los valores en la lista son:\")\n",
    "    for value in listaNormal:\n",
    "        print(value)\n",
    "    print(\"El largo de esta lista es:\" + str(len(listaNormal)))\n",
    "\n",
    "\n",
    "infoLista(listOne)\n",
    "infoLista(listTwo)"
   ]
  },
  {
   "cell_type": "markdown",
   "metadata": {},
   "source": [
    "## Argumentos con valores por default\n",
    "Vamos a programar una función que nos ayude a elevar a una potencia todos los números de una lista. Pero, que por default, los eleve al cuadrado. ¿Se puede?\n",
    "\n",
    "¡Claro!\n",
    "\n",
    "Sólo hay que poner un signo de igual, seguido de el valor por default. Algo así:\n",
    "\n",
    "`def nombreFuncion(argumento_1=<Valor default>, ...):`"
   ]
  },
  {
   "cell_type": "code",
   "execution_count": null,
   "metadata": {},
   "outputs": [],
   "source": [
    "# Antes que nada, recuerda que no se pueden hacer operaciones directas con listas:\n",
    "lista1 = [5, 6, 7, 8, 9, 10]\n",
    "\n",
    "lista1 ** 2"
   ]
  },
  {
   "cell_type": "code",
   "execution_count": null,
   "metadata": {},
   "outputs": [],
   "source": [
    "# ¡Tengo que elevar valor por valor a la potencia! Pero esto podría solucionarlo con una función.\n",
    "def listaPotencia(lista, pot=2):\n",
    "    listaNew=[]      # aquí pegaremos los valores elevados a la potencia <pot>\n",
    "    for i in lista:\n",
    "        listaNew.append(i ** pot)\n",
    "    return listaNew"
   ]
  },
  {
   "cell_type": "markdown",
   "metadata": {},
   "source": [
    "**Nota:** observa bien y ve que, usando el _return_, especificamos qué valor(es) queremos que nos regrese una función.\n",
    "\n",
    "Ahora sí, vamos a probar mi función:"
   ]
  },
  {
   "cell_type": "code",
   "execution_count": null,
   "metadata": {},
   "outputs": [],
   "source": [
    "# Vamos a especificar que quiero cada valor de la lista al cubo (tercera potencia)\n",
    "listaPotencia(lista1, 3)"
   ]
  },
  {
   "cell_type": "code",
   "execution_count": null,
   "metadata": {},
   "outputs": [],
   "source": [
    "# Pero, si no especifico el segundo parámetro, ¡toma el valor por default!\n",
    "listaPotencia(lista1)"
   ]
  },
  {
   "cell_type": "code",
   "execution_count": null,
   "metadata": {},
   "outputs": [],
   "source": [
    "# Y ese resultado, lo puedo guardar en una nueva variable:\n",
    "listaGrande = listaPotencia(lista1, 4)\n",
    "listaGrande"
   ]
  },
  {
   "cell_type": "markdown",
   "metadata": {},
   "source": [
    "**Nota:** las variables nuevas que definamos dentro de una función, **sólo** viven dentro de la función. ¿Recuerdas _listaNew_?"
   ]
  },
  {
   "cell_type": "code",
   "execution_count": null,
   "metadata": {},
   "outputs": [],
   "source": [
    "listaNew"
   ]
  },
  {
   "cell_type": "markdown",
   "metadata": {},
   "source": [
    "Varias de las funciones (¡y métodos!) que hemos visto hasta el momento, tienen valores por default. ¿Recuerdas cuando usabas `Range(0, 10)` en un ciclo, y no definías cada cuanto querías que hiciera los brincos? El valor predeterminado, era que fueran de uno en uno... "
   ]
  },
  {
   "cell_type": "code",
   "execution_count": null,
   "metadata": {},
   "outputs": [],
   "source": [
    "for i in range(0, 10):\n",
    "    print(i)"
   ]
  },
  {
   "cell_type": "markdown",
   "metadata": {},
   "source": [
    "Pero también tenías la opción de hacerlo de dos en dos, de tres en tres, etc."
   ]
  },
  {
   "cell_type": "code",
   "execution_count": null,
   "metadata": {},
   "outputs": [],
   "source": [
    "for i in range(0, 10, 2):\n",
    "    print(i)"
   ]
  },
  {
   "cell_type": "code",
   "execution_count": null,
   "metadata": {},
   "outputs": [],
   "source": [
    "for i in range(0, 10, 3):\n",
    "    print(i)"
   ]
  },
  {
   "cell_type": "markdown",
   "metadata": {},
   "source": [
    "¡El valor predeterminado era de 1! ¿Cómo puedo confirmar si la función a usar tiene un valor así? Para eso, existe la documentación..."
   ]
  },
  {
   "cell_type": "code",
   "execution_count": null,
   "metadata": {},
   "outputs": [],
   "source": [
    "?range"
   ]
  },
  {
   "cell_type": "markdown",
   "metadata": {},
   "source": [
    "¡Ve bien el tercer argumento! (step)...así es como nos indican que es un argumento opcional (¡no siempre se tiene que especificar!), y que hay un valor por default que va a usar si no lo especificamos..."
   ]
  },
  {
   "cell_type": "markdown",
   "metadata": {},
   "source": [
    "## Argumentos en desorden\n",
    "\n",
    "¿Recuerdas la función _round_? Nos ayudaba a redondear un número, y podemos especificar cuántos valores decimales queremos conservar..."
   ]
  },
  {
   "cell_type": "code",
   "execution_count": null,
   "metadata": {},
   "outputs": [],
   "source": [
    "pi1 = round(3.141592, 1)\n",
    "pi1"
   ]
  },
  {
   "cell_type": "code",
   "execution_count": null,
   "metadata": {},
   "outputs": [],
   "source": [
    "pi2 = round(3.141592, 2)\n",
    "pi2"
   ]
  },
  {
   "cell_type": "markdown",
   "metadata": {},
   "source": [
    "Ve la documentación de _round_...."
   ]
  },
  {
   "cell_type": "code",
   "execution_count": null,
   "metadata": {},
   "outputs": [],
   "source": [
    "?round"
   ]
  },
  {
   "cell_type": "markdown",
   "metadata": {},
   "source": [
    "¡Los argumentos se llaman _number_ y _ndigits_! Sabiendo eso, vamos a ver otras formas de aplicar funciones:"
   ]
  },
  {
   "cell_type": "code",
   "execution_count": null,
   "metadata": {},
   "outputs": [],
   "source": [
    "# Así, no queda duda de qué significan lo de adentro del paréntesis, por si alguien más tiene que revisar tu código\n",
    "round(number=3.141592, ndigits=3)"
   ]
  },
  {
   "cell_type": "code",
   "execution_count": null,
   "metadata": {},
   "outputs": [],
   "source": [
    "# Si escribo completo, no necesito ponerlos en orden necesariamente...\n",
    "round(ndigits=4, number=3.141592)"
   ]
  },
  {
   "cell_type": "code",
   "execution_count": null,
   "metadata": {},
   "outputs": [],
   "source": [
    "# Pero, si no especifico el nombre de cada argumento, Python los aplicará en orden. Incluso, se puede hacer una mezcla de las dos formas.\n",
    "round(3.141592, ndigits=5)"
   ]
  },
  {
   "cell_type": "markdown",
   "metadata": {},
   "source": [
    "## Importar funciones extras."
   ]
  },
  {
   "cell_type": "markdown",
   "metadata": {},
   "source": [
    "Por suerte, no es necesario que todo el tiempo esté programando funciones. La popularidad de Python se debe, justamente, a que la gente ha creado funciones de todo tipo, y las ha compartido con el mundo.\n",
    "\n",
    "¡Es posible usarlas! No obstante, primero hay que cargarlas en nuestro espacio de trabajo.\n",
    "\n",
    "¿Por qué no vienen precargadas? Bueno, la respuesta es sencilla: porque ocupa menos espacio, y tus programas correrán más rápido, si sólo cargas lo que verdaderamente vas a usar..."
   ]
  },
  {
   "cell_type": "markdown",
   "metadata": {},
   "source": [
    "Por ejemplo, la librería __math__ tiene muchísimas operaciones matemáticas; Python sólo trae por default las operaciones básicas, pero con __math__ puedo usar aquellas que vienen en una calculadora científica.\n",
    "\n",
    "Por cierto, una librería, paquete, módulo...se refieren a este conjunto de funciones con tareas y funcionamiento similar, que alguien decidió compartir.\n",
    "\n",
    "Para cargarlas en nuestro espacio de trabajo, tenemos dos maneras:\n",
    "\n",
    "* Trayendo TODAS las funciones de la librería,"
   ]
  },
  {
   "cell_type": "code",
   "execution_count": null,
   "metadata": {},
   "outputs": [],
   "source": [
    "import math"
   ]
  },
  {
   "cell_type": "code",
   "execution_count": null,
   "metadata": {},
   "outputs": [],
   "source": [
    "# Ahora, ¡ya puedo usar las funciones de esa librería! Pero tengo que especificar de qué libería vienen...\n",
    "math.sqrt(25)"
   ]
  },
  {
   "cell_type": "markdown",
   "metadata": {},
   "source": [
    "* Alternativamente, trayendo función por función."
   ]
  },
  {
   "cell_type": "code",
   "execution_count": null,
   "metadata": {},
   "outputs": [],
   "source": [
    "# Es más tardado, pero ¡así ya no tengo que especificar de qué librería vienen!\n",
    "from math import log"
   ]
  },
  {
   "cell_type": "code",
   "execution_count": null,
   "metadata": {},
   "outputs": [],
   "source": [
    "log(123)"
   ]
  },
  {
   "cell_type": "markdown",
   "metadata": {},
   "source": [
    "**Nota:** varias librerías necesitan ser descargadas antes de poder usarlas. Eso es un paso complicado, y una desventaja de Python frente a R. Por fortuna, Google Colab ya tiene descargadas las librerías importantes de antemano.\n",
    "    \n",
    "    \n",
    "A partir de ahora, notarás que **TODOS** los notebooks de Python comenzarán con unas líneas muy interesantes. Es más; es es poco común que un programa que haga un Análisis de datos no las traiga..."
   ]
  },
  {
   "cell_type": "code",
   "execution_count": null,
   "metadata": {},
   "outputs": [],
   "source": [
    "import numpy as np\n",
    "import pandas as pd"
   ]
  }
 ],
 "metadata": {
  "kernelspec": {
   "display_name": "Python 3",
   "language": "python",
   "name": "python3"
  },
  "language_info": {
   "codemirror_mode": {
    "name": "ipython",
    "version": 3
   },
   "file_extension": ".py",
   "mimetype": "text/x-python",
   "name": "python",
   "nbconvert_exporter": "python",
   "pygments_lexer": "ipython3",
   "version": "3.7.3"
  }
 },
 "nbformat": 4,
 "nbformat_minor": 2
}
