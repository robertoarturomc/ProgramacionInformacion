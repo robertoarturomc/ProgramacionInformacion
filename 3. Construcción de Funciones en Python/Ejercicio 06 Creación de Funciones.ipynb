{
 "cells": [
  {
   "cell_type": "markdown",
   "metadata": {},
   "source": [
    "# Ejercicio 6: Creación de Funciones\n",
    "#### Para este ejercicio, vamos a creas y practicar distintas funciones.\n",
    "\n",
    "## Instrucciones\n",
    "\n",
    "### 1.\n",
    "\n",
    "Completa la función que calcule los beneficios totales, si tienes a la mano el precio, la cantidad y los costos. Recuerda que la fórmula es:\n",
    "\n",
    "`beneficiosTotales = ingresosTotales - costosTotales`\n",
    "\n",
    "`beneficiosTotales = (precio * cantidad) - (costosFijos + costosVariables)`\n"
   ]
  },
  {
   "cell_type": "code",
   "execution_count": 14,
   "metadata": {},
   "outputs": [],
   "source": [
    "def beneficiosTotales(precio, cantidad, costosFijos, costosVariables):\n",
    "    beneficios = ...\n",
    "    return beneficios"
   ]
  },
  {
   "cell_type": "code",
   "execution_count": 16,
   "metadata": {},
   "outputs": [
    {
     "data": {
      "text/plain": [
       "425"
      ]
     },
     "execution_count": 16,
     "metadata": {},
     "output_type": "execute_result"
    }
   ],
   "source": [
    "# Si tu formula funciona, este resultado debe ser igual a 425\n",
    "beneficiosTotales(5, 100, 25, 50)"
   ]
  },
  {
   "cell_type": "markdown",
   "metadata": {},
   "source": [
    "### 2.\n",
    "Crea una función que calcule la tasa de desempleo. Recuerda que la fórmula es:\n",
    "\n",
    "`tasaDesempleo = desempleados / empleados`"
   ]
  },
  {
   "cell_type": "code",
   "execution_count": 6,
   "metadata": {},
   "outputs": [],
   "source": [
    "def tasaDesempleo...\n"
   ]
  },
  {
   "cell_type": "markdown",
   "metadata": {},
   "source": [
    "### 3. \n",
    "Ocupa tu fórmula para calcular las tasas de desempleo de los siguientes dos países:"
   ]
  },
  {
   "cell_type": "code",
   "execution_count": 10,
   "metadata": {},
   "outputs": [
    {
     "data": {
      "text/plain": [
       "0.0625"
      ]
     },
     "execution_count": 10,
     "metadata": {},
     "output_type": "execute_result"
    }
   ],
   "source": [
    "wakanda={\"des\":125,\n",
    "         \"emp\":15625}\n",
    "sokovia={\"des\":1024,\n",
    "         \"emp\":16384}"
   ]
  },
  {
   "cell_type": "code",
   "execution_count": null,
   "metadata": {},
   "outputs": [],
   "source": [
    "tasaDesempleo()"
   ]
  },
  {
   "cell_type": "code",
   "execution_count": null,
   "metadata": {},
   "outputs": [],
   "source": [
    "tasaDesempleo()"
   ]
  },
  {
   "cell_type": "markdown",
   "metadata": {},
   "source": [
    "### 4.\n",
    "Importa el módulo math, usando la siguiente celda. A continuación, calcula lo que se te pide. Investiga el nombre de la función, de ser necesario."
   ]
  },
  {
   "cell_type": "code",
   "execution_count": 17,
   "metadata": {},
   "outputs": [],
   "source": [
    "import math"
   ]
  },
  {
   "cell_type": "code",
   "execution_count": 21,
   "metadata": {},
   "outputs": [
    {
     "data": {
      "text/plain": [
       "-0.9999999999730151"
      ]
     },
     "execution_count": 21,
     "metadata": {},
     "output_type": "execute_result"
    }
   ],
   "source": [
    "# Coseno de 3.1416 radianes. Por cierto, math trabaja con radianes por default...\n"
   ]
  },
  {
   "cell_type": "code",
   "execution_count": 24,
   "metadata": {},
   "outputs": [
    {
     "data": {
      "text/plain": [
       "20.085536923187668"
      ]
     },
     "execution_count": 24,
     "metadata": {},
     "output_type": "execute_result"
    }
   ],
   "source": [
    "# e elevado al cubo.\n"
   ]
  },
  {
   "cell_type": "code",
   "execution_count": 39,
   "metadata": {},
   "outputs": [],
   "source": [
    "# 90 grados convertidos a radianes\n"
   ]
  },
  {
   "cell_type": "code",
   "execution_count": 38,
   "metadata": {},
   "outputs": [],
   "source": [
    "# 9.1 redondeado hacia arriba. Tip: tienes que encontrar el \"techo\".\n"
   ]
  },
  {
   "cell_type": "code",
   "execution_count": null,
   "metadata": {},
   "outputs": [],
   "source": []
  }
 ],
 "metadata": {
  "kernelspec": {
   "display_name": "Python 3",
   "language": "python",
   "name": "python3"
  },
  "language_info": {
   "codemirror_mode": {
    "name": "ipython",
    "version": 3
   },
   "file_extension": ".py",
   "mimetype": "text/x-python",
   "name": "python",
   "nbconvert_exporter": "python",
   "pygments_lexer": "ipython3",
   "version": "3.7.3"
  }
 },
 "nbformat": 4,
 "nbformat_minor": 2
}
