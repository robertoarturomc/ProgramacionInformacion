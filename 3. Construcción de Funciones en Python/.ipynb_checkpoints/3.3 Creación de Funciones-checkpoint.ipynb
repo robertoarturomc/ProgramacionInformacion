{
 "cells": [
  {
   "cell_type": "markdown",
   "metadata": {},
   "source": [
    "To create a new function, simply use def <Function Name>(): and then place the code that you would like to run within the block underneath it."
   ]
  },
  {
   "cell_type": "markdown",
   "metadata": {},
   "source": [
    "# 3.3 Creación de Nuevas Funciones\n",
    "\n",
    "Ok, ya entendimos cómo se ocupa una función. Pero, se supone que las funciones me pueden ayudar a resumir una tarea, ¿no? Eso significa que, en teoría, debería ser capaz de crear funciones según me convenga...\n",
    "\n",
    "¡Eso es posible!\n",
    "\n",
    "Para crear una nueva función, necesito escribir `def nombreFuncion(argumento_1, argumento_2, ... argumento_n):`, seguido de las líneas de código que pienso automatizar con el uso de esa función.\n",
    "\n",
    "Los argumentos son opcionales, y puedo usar tantos como necesite. \n",
    "\n",
    "Lo que sí no es opcional, es que todas las líneas que pertenezcan a la función deben estar indentadas (¡usar la tecla Tab!)"
   ]
  },
  {
   "cell_type": "code",
   "execution_count": 1,
   "metadata": {},
   "outputs": [
    {
     "name": "stdout",
     "output_type": "stream",
     "text": [
      "¡Hola!\n",
      "¡Hola!\n",
      "¡Hola!\n",
      "¡Hola!\n"
     ]
    }
   ],
   "source": [
    "# Por ejemplo, digamos que tengo que imprimir \"Hola\" varias veces. Antes, lo hacía así:\n",
    "print(\"¡Hola!\")\n",
    "print(\"¡Hola!\")\n",
    "print(\"¡Hola!\")\n",
    "print(\"¡Hola!\")"
   ]
  },
  {
   "cell_type": "code",
   "execution_count": 2,
   "metadata": {},
   "outputs": [],
   "source": [
    "# ¡Pero también puedo programar una función que haga eso en automático!\n",
    "def printHola():\n",
    "    print(\"¡Hola!\")"
   ]
  },
  {
   "cell_type": "code",
   "execution_count": 3,
   "metadata": {},
   "outputs": [
    {
     "name": "stdout",
     "output_type": "stream",
     "text": [
      "¡Hola!\n",
      "¡Hola!\n",
      "¡Hola!\n",
      "¡Hola!\n"
     ]
    }
   ],
   "source": [
    "printHola()\n",
    "printHola()\n",
    "printHola()\n",
    "printHola()"
   ]
  },
  {
   "cell_type": "code",
   "execution_count": 7,
   "metadata": {},
   "outputs": [],
   "source": [
    "# Ok, quizá aún no veas la ventaja de programar tus propias funciones. Pero veamos qué pasa cuando subimos la dificultad...\n",
    "def printName(name):\n",
    "    print(\"¡Hola \" + name + \"!\")"
   ]
  },
  {
   "cell_type": "code",
   "execution_count": 8,
   "metadata": {},
   "outputs": [
    {
     "name": "stdout",
     "output_type": "stream",
     "text": [
      "¡Hola Diego!\n",
      "¡Hola María de la Concepción!\n",
      "¡Hola Juan Nepomuceno!\n",
      "¡Hola Estanislao!\n"
     ]
    }
   ],
   "source": [
    "printName(\"Diego\")\n",
    "printName(\"María de la Concepción\")\n",
    "printName(\"Juan Nepomuceno\")\n",
    "printName(\"Estanislao\")"
   ]
  },
  {
   "cell_type": "markdown",
   "metadata": {},
   "source": [
    "¡Las funciones me ayudan a tener un código más limpio! Ahora, sólo necesito especificar cuál es el cambio!\n",
    "Piensa que, en vez de hacer copy-paste de todo el código, sólo vas a copiar y pegar el nombre de la función. \n",
    "\n",
    "El uso principal de las funciones es cuando uno piensa correr el mismo código, pero para distintos sets de datos."
   ]
  },
  {
   "cell_type": "code",
   "execution_count": 10,
   "metadata": {},
   "outputs": [
    {
     "name": "stdout",
     "output_type": "stream",
     "text": [
      "Los valores en la lista son:\n",
      "1\n",
      "2\n",
      "3\n",
      "4\n",
      "5\n",
      "6\n",
      "7\n",
      "8\n",
      "9\n",
      "10\n",
      "El largo de esta lista es:10\n",
      "Los valores en la lista son:\n",
      "11\n",
      "12\n",
      "13\n",
      "14\n",
      "15\n",
      "El largo de esta lista es:5\n"
     ]
    }
   ],
   "source": [
    "listOne = [1, 2, 3, 4, 5, 6, 7, 8, 9, 10]\n",
    "listTwo = [11, 12, 13, 14, 15]\n",
    "\n",
    "\n",
    "def infoLista(listaNormal):\n",
    "    print(\"Los valores en la lista son:\")\n",
    "    for value in listaNormal:\n",
    "        print(value)\n",
    "    print(\"El largo de esta lista es:\" + str(len(listaNormal)))\n",
    "\n",
    "\n",
    "infoLista(listOne)\n",
    "infoLista(listTwo)"
   ]
  },
  {
   "cell_type": "markdown",
   "metadata": {},
   "source": [
    "## Argumentos con valores por default\n",
    "Vamos a programar una función que nos ayude a elevar a una potencia todos los números de una lista. Pero, que por default, los eleve al cuadrado. ¿Se puede?\n",
    "\n",
    "¡Claro!\n",
    "\n",
    "Sólo hay que poner un signo de igual, seguido de el valor por default. Algo así:\n",
    "\n",
    "`def nombreFuncion(argumento_1=<Valor default>, ...):`"
   ]
  },
  {
   "cell_type": "code",
   "execution_count": 12,
   "metadata": {},
   "outputs": [
    {
     "ename": "TypeError",
     "evalue": "unsupported operand type(s) for ** or pow(): 'list' and 'int'",
     "output_type": "error",
     "traceback": [
      "\u001b[1;31m---------------------------------------------------------------------------\u001b[0m",
      "\u001b[1;31mTypeError\u001b[0m                                 Traceback (most recent call last)",
      "\u001b[1;32m<ipython-input-12-45a30b6d7f76>\u001b[0m in \u001b[0;36m<module>\u001b[1;34m\u001b[0m\n\u001b[0;32m      2\u001b[0m \u001b[0mlista1\u001b[0m \u001b[1;33m=\u001b[0m \u001b[1;33m[\u001b[0m\u001b[1;36m5\u001b[0m\u001b[1;33m,\u001b[0m \u001b[1;36m6\u001b[0m\u001b[1;33m,\u001b[0m \u001b[1;36m7\u001b[0m\u001b[1;33m,\u001b[0m \u001b[1;36m8\u001b[0m\u001b[1;33m,\u001b[0m \u001b[1;36m9\u001b[0m\u001b[1;33m,\u001b[0m \u001b[1;36m10\u001b[0m\u001b[1;33m]\u001b[0m\u001b[1;33m\u001b[0m\u001b[1;33m\u001b[0m\u001b[0m\n\u001b[0;32m      3\u001b[0m \u001b[1;33m\u001b[0m\u001b[0m\n\u001b[1;32m----> 4\u001b[1;33m \u001b[0mlista1\u001b[0m \u001b[1;33m**\u001b[0m \u001b[1;36m2\u001b[0m\u001b[1;33m\u001b[0m\u001b[1;33m\u001b[0m\u001b[0m\n\u001b[0m",
      "\u001b[1;31mTypeError\u001b[0m: unsupported operand type(s) for ** or pow(): 'list' and 'int'"
     ]
    }
   ],
   "source": [
    "# Antes que nada, recuerda que no se pueden hacer operaciones directas con listas:\n",
    "lista1 = [5, 6, 7, 8, 9, 10]\n",
    "\n",
    "lista1 ** 2"
   ]
  },
  {
   "cell_type": "code",
   "execution_count": 16,
   "metadata": {},
   "outputs": [],
   "source": [
    "# ¡Tengo que elevar valor por valor a la potencia! Pero esto podría solucionarlo con una función.\n",
    "def listaPotencia(lista, pot=2):\n",
    "    listaNew=[]      # aquí pegaremos los valores elevados a la potencia <pot>\n",
    "    for i in lista:\n",
    "        listaNew.append(i ** pot)\n",
    "    return listaNew"
   ]
  },
  {
   "cell_type": "markdown",
   "metadata": {},
   "source": [
    "**Nota:** observa bien y ve que, usando el _return_, especificamos qué valor(es) queremos que nos regrese una función.\n",
    "\n",
    "Ahora sí, vamos a probar mi función:"
   ]
  },
  {
   "cell_type": "code",
   "execution_count": 17,
   "metadata": {},
   "outputs": [
    {
     "data": {
      "text/plain": [
       "[125, 216, 343, 512, 729, 1000]"
      ]
     },
     "execution_count": 17,
     "metadata": {},
     "output_type": "execute_result"
    }
   ],
   "source": [
    "# Vamos a especificar que quiero cada valor de la lista al cubo (tercera potencia)\n",
    "listaPotencia(lista1, 3)"
   ]
  },
  {
   "cell_type": "code",
   "execution_count": 18,
   "metadata": {},
   "outputs": [
    {
     "data": {
      "text/plain": [
       "[25, 36, 49, 64, 81, 100]"
      ]
     },
     "execution_count": 18,
     "metadata": {},
     "output_type": "execute_result"
    }
   ],
   "source": [
    "# Pero, si no especifico el segundo parámetro, ¡toma el valor por default!\n",
    "listaPotencia(lista1)"
   ]
  },
  {
   "cell_type": "markdown",
   "metadata": {},
   "source": [
    "Varias de las funciones (¡y métodos!) que hemos visto hasta el momento, tienen valores por default. ¿Recuerdas cuando usabas `Range(0, 10)` en un ciclo, y no definías cada cuanto querías que hiciera los brincos? El valor predeterminado, era que fueran de uno en uno... "
   ]
  },
  {
   "cell_type": "code",
   "execution_count": 24,
   "metadata": {},
   "outputs": [
    {
     "name": "stdout",
     "output_type": "stream",
     "text": [
      "0\n",
      "1\n",
      "2\n",
      "3\n",
      "4\n",
      "5\n",
      "6\n",
      "7\n",
      "8\n",
      "9\n"
     ]
    }
   ],
   "source": [
    "for i in range(0, 10):\n",
    "    print(i)"
   ]
  },
  {
   "cell_type": "markdown",
   "metadata": {},
   "source": [
    "**Nota:** las variables nuevas que definamos dentro de una función, **sólo** viven dentro de la función. ¿Recuerdas _listaNew_?"
   ]
  },
  {
   "cell_type": "code",
   "execution_count": 20,
   "metadata": {},
   "outputs": [
    {
     "ename": "NameError",
     "evalue": "name 'listaNew' is not defined",
     "output_type": "error",
     "traceback": [
      "\u001b[1;31m---------------------------------------------------------------------------\u001b[0m",
      "\u001b[1;31mNameError\u001b[0m                                 Traceback (most recent call last)",
      "\u001b[1;32m<ipython-input-20-afb6ec11970d>\u001b[0m in \u001b[0;36m<module>\u001b[1;34m\u001b[0m\n\u001b[1;32m----> 1\u001b[1;33m \u001b[0mlistaNew\u001b[0m\u001b[1;33m\u001b[0m\u001b[1;33m\u001b[0m\u001b[0m\n\u001b[0m",
      "\u001b[1;31mNameError\u001b[0m: name 'listaNew' is not defined"
     ]
    }
   ],
   "source": [
    "listaNew"
   ]
  },
  {
   "cell_type": "code",
   "execution_count": null,
   "metadata": {},
   "outputs": [],
   "source": []
  }
 ],
 "metadata": {
  "kernelspec": {
   "display_name": "Python 3",
   "language": "python",
   "name": "python3"
  },
  "language_info": {
   "codemirror_mode": {
    "name": "ipython",
    "version": 3
   },
   "file_extension": ".py",
   "mimetype": "text/x-python",
   "name": "python",
   "nbconvert_exporter": "python",
   "pygments_lexer": "ipython3",
   "version": "3.7.3"
  }
 },
 "nbformat": 4,
 "nbformat_minor": 2
}
