{
  "cells": [
    {
      "cell_type": "markdown",
      "metadata": {
        "id": "view-in-github",
        "colab_type": "text"
      },
      "source": [
        "<a href=\"https://colab.research.google.com/github/robertoarturomc/ProgramacionInformacion/blob/main/3.%20Construcci%C3%B3n%20de%20Funciones%20en%20Python/Ejercicio%2004%20Estructuras.ipynb\" target=\"_parent\"><img src=\"https://colab.research.google.com/assets/colab-badge.svg\" alt=\"Open In Colab\"/></a>"
      ]
    },
    {
      "cell_type": "markdown",
      "metadata": {
        "id": "V3RaDVACHSew"
      },
      "source": [
        "## Ejercico 4: Estructuras de Datos.\n",
        "\n",
        "Contesta los siguientes ejercicios y sube el archivo en formato .ipynb en donde el profesor te lo indique."
      ]
    },
    {
      "cell_type": "markdown",
      "metadata": {
        "id": "Cnj6j7joHSey"
      },
      "source": [
        "#### 1. Crea una tupla que contenga las materias que cursas este semestre. Ponle el nombre \"materias\"."
      ]
    },
    {
      "cell_type": "code",
      "execution_count": null,
      "metadata": {
        "id": "FHC-yaV8HSey"
      },
      "outputs": [],
      "source": []
    },
    {
      "cell_type": "markdown",
      "metadata": {
        "id": "DDq6vGvpHSez"
      },
      "source": [
        "#### 2. Filtra:\n",
        "* El tercer elemento de lista1\n",
        "* El quinto elemento de lista2\n",
        "* El último elemento de lista3"
      ]
    },
    {
      "cell_type": "code",
      "execution_count": null,
      "metadata": {
        "id": "CCJi6CybHSez"
      },
      "outputs": [],
      "source": [
        "lista1 = [\"Perro\", \"Lobo\", \"Coyote\"]\n",
        "lista2 = [1, \"Juan\", 2, \"Paco\", \"Pedro\"]\n",
        "lista3 = [12, 345, 3, 3, 56]"
      ]
    },
    {
      "cell_type": "code",
      "execution_count": null,
      "metadata": {
        "id": "y0nkad3wHSe0"
      },
      "outputs": [],
      "source": []
    },
    {
      "cell_type": "code",
      "execution_count": null,
      "metadata": {
        "id": "bBOkiABDHSe0"
      },
      "outputs": [],
      "source": []
    },
    {
      "cell_type": "code",
      "execution_count": null,
      "metadata": {
        "id": "DwfB5bO0HSe0"
      },
      "outputs": [],
      "source": []
    },
    {
      "cell_type": "markdown",
      "metadata": {
        "id": "NQF6Mz-wHSe0"
      },
      "source": [
        "Nota: ¡prueba qué pasa si usas `lista3[-1]`"
      ]
    },
    {
      "cell_type": "markdown",
      "metadata": {
        "id": "HIQowGw7HSe1"
      },
      "source": [
        "#### 3. Completa el ciclo for y la condicional, para que **listita** tenga los valores de listota, pero sólo si son menores a 10. "
      ]
    },
    {
      "cell_type": "code",
      "execution_count": null,
      "metadata": {
        "id": "_1XHF6eRHSe1"
      },
      "outputs": [],
      "source": [
        "listota = [5, 13, 25, 18, 2, 34, 1]\n",
        "listita =[]\n",
        "for i in \n"
      ]
    },
    {
      "cell_type": "markdown",
      "metadata": {
        "id": "W_2RpmIYHSe1"
      },
      "source": [
        "#### 4. Modifica el diccionario *mi_perfil* para que tenga lo que se te indica:"
      ]
    },
    {
      "cell_type": "code",
      "execution_count": null,
      "metadata": {
        "id": "fpeW5UunHSe2"
      },
      "outputs": [],
      "source": [
        "mi_perfil = {\"carrera\": \"Economia\",\n",
        "            \"semestre\": \"Cuarto\",\n",
        "            \"contraseña\": \"***\"}"
      ]
    },
    {
      "cell_type": "markdown",
      "metadata": {
        "id": "IdLEPdEaHSe2"
      },
      "source": [
        "a) Corrige tu semestre"
      ]
    },
    {
      "cell_type": "code",
      "execution_count": null,
      "metadata": {
        "id": "7X0xI5ftHSe2"
      },
      "outputs": [],
      "source": []
    },
    {
      "cell_type": "markdown",
      "metadata": {
        "id": "gqH64IiqHSe2"
      },
      "source": [
        "b) Agrega tu ciudad de origen."
      ]
    },
    {
      "cell_type": "code",
      "execution_count": null,
      "metadata": {
        "id": "1piqKdB3HSe3"
      },
      "outputs": [],
      "source": []
    },
    {
      "cell_type": "markdown",
      "metadata": {
        "id": "HA21vxKuHSe3"
      },
      "source": [
        "c) ¡Elimina tu contraseña!"
      ]
    },
    {
      "cell_type": "code",
      "execution_count": null,
      "metadata": {
        "id": "s-LmmOyfHSe3"
      },
      "outputs": [],
      "source": []
    },
    {
      "cell_type": "markdown",
      "metadata": {
        "id": "2KpBvarGHSe3"
      },
      "source": [
        "#### 5. Extrae el apellido del primer jugador de los Rams"
      ]
    },
    {
      "cell_type": "code",
      "execution_count": 1,
      "metadata": {
        "id": "Ty0QmTZhHSe3"
      },
      "outputs": [],
      "source": [
        "superbowl = {\"equipos\":{\"Bengals\":{\"jugadores\": [\"Burrow\", \"Higgins\", \"Chase\"], \"puntos\":20},\n",
        "                        \"Rams\":{\"Jugadores\": [\"Stafford\", \"Kupp\", \"Donald\"], \"puntos\":23}},\n",
        "            \"medio tiempo\": [\"Snoop Dogg\", \"Dr. Dre\", \"Mary J Blige\", \"Eminem\", \"Kendrick Lamar\"]}"
      ]
    },
    {
      "cell_type": "code",
      "execution_count": null,
      "metadata": {
        "id": "cCu3YfBQHSe4"
      },
      "outputs": [],
      "source": []
    }
  ],
  "metadata": {
    "kernelspec": {
      "display_name": "Python 3",
      "language": "python",
      "name": "python3"
    },
    "language_info": {
      "codemirror_mode": {
        "name": "ipython",
        "version": 3
      },
      "file_extension": ".py",
      "mimetype": "text/x-python",
      "name": "python",
      "nbconvert_exporter": "python",
      "pygments_lexer": "ipython3",
      "version": "3.7.3"
    },
    "colab": {
      "provenance": [],
      "include_colab_link": true
    }
  },
  "nbformat": 4,
  "nbformat_minor": 0
}