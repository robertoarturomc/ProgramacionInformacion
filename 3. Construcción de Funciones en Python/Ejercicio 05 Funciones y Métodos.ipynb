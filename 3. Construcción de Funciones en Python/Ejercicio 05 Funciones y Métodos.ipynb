{
  "cells": [
    {
      "cell_type": "markdown",
      "metadata": {
        "id": "IHuOuIdRwL5o"
      },
      "source": [
        "# Ejercicio 5: Funciones y Métodos\n",
        "\n",
        "#### Para este ejercicio, vamos a conocer y practicar distintas funciones y métodos.\n",
        "\n",
        "## Instrucciones\n",
        "\n",
        "Ocupa los siguientes métodos y funciones para realizar a cabo las tareas que se te piden abajo. Si tienes alguna duda sobre su funcionamiento, ocupa el signo de exclamación o googlea el funcionamiento de cada una."
      ]
    },
    {
      "cell_type": "markdown",
      "metadata": {
        "id": "YHgamMB6wL51"
      },
      "source": [
        "* Funciones:\n",
        "\n",
        "`abs()`\n",
        "\n",
        "`round()`\n",
        "\n",
        "`sorted()`\n",
        "    \n",
        "* Métodos:\n",
        "    \n",
        "`.upper()`\n",
        "\n",
        "`.strip()`\n",
        "\n",
        "`.count()`\n",
        "\n",
        "`.replace()`"
      ]
    },
    {
      "cell_type": "code",
      "execution_count": null,
      "metadata": {
        "id": "nE0-P_WtwL52"
      },
      "outputs": [],
      "source": [
        "# 1. Imprime las siguientes variables, pero escritas en mayúsculas:\n",
        "text1 = \"¡Milhouse!\" \n",
        "text2 = \"¿Qué?\"\n",
        "text3 = \"¡Dile a Bart que venga aquí!\""
      ]
    },
    {
      "cell_type": "code",
      "execution_count": null,
      "metadata": {
        "id": "Hvn2mQoIwL53"
      },
      "outputs": [],
      "source": []
    },
    {
      "cell_type": "code",
      "execution_count": null,
      "metadata": {
        "id": "z-ZPMVxDwL53"
      },
      "outputs": [],
      "source": [
        "# 2. Redondea los siguientes valores al entero más cercano:\n",
        "num1 = 1.2\n",
        "num2 = 6.8\n",
        "num3 = 17/3"
      ]
    },
    {
      "cell_type": "code",
      "execution_count": null,
      "metadata": {
        "id": "x8qpEHbvwL53"
      },
      "outputs": [],
      "source": []
    },
    {
      "cell_type": "code",
      "execution_count": null,
      "metadata": {
        "id": "JKhcMfUqwL53",
        "outputId": "0a5848a4-bba7-412e-cd1c-0df85e42c933"
      },
      "outputs": [
        {
          "data": {
            "text/plain": [
              "[-6, 1, 1.5, 5, 23, 98]"
            ]
          },
          "execution_count": 3,
          "metadata": {},
          "output_type": "execute_result"
        }
      ],
      "source": [
        "# 3.  Ordena los valores de las siguientes estructuras:\n",
        "tupla1 = (1, 23, 5, 98, 1.5, -6)\n",
        "lista1 = [\"Beta\", \"Charlie\", \"Alfa\", \"Delta\"]"
      ]
    },
    {
      "cell_type": "code",
      "execution_count": null,
      "metadata": {
        "id": "M_a9aY3HwL54"
      },
      "outputs": [],
      "source": []
    },
    {
      "cell_type": "code",
      "execution_count": null,
      "metadata": {
        "id": "WDgsgj8awL55"
      },
      "outputs": [],
      "source": [
        "# 4. Calcula los valores absolutos de los siguientes números:\n",
        "num4 = -5\n",
        "num5 = 1.666"
      ]
    },
    {
      "cell_type": "code",
      "execution_count": null,
      "metadata": {
        "id": "-ulL2Kd_wL56"
      },
      "outputs": [],
      "source": []
    },
    {
      "cell_type": "code",
      "execution_count": null,
      "metadata": {
        "id": "R1a-ML6CwL56"
      },
      "outputs": [],
      "source": [
        "# 5. Imprime las variables, pero sin el espacio que aparece al principio y al final de los siguientes textos:\n",
        "text4 = \" Aserejé \"\n",
        "text5 = \" Me rehúso \""
      ]
    },
    {
      "cell_type": "code",
      "execution_count": null,
      "metadata": {
        "id": "0QQi3-NuwL56"
      },
      "outputs": [],
      "source": []
    },
    {
      "cell_type": "code",
      "execution_count": null,
      "metadata": {
        "id": "oqfTFzu2wL56"
      },
      "outputs": [],
      "source": [
        "# 6. Cuenta cuantas veces aparece \"Reprobado\" en la siguiente lista\n",
        "list2 = [\"Aprobado\", \"Reprobado\", \"Aprobado\", \"Aprobado\", \"Reprobado\",\"Aprobado\", \"Aprobado\", \"Aprobado\", \"Aprobado\", \"Aprobado\", \"Aprobado\", \"Reprobado\", \"Reprobado\"]"
      ]
    },
    {
      "cell_type": "code",
      "execution_count": null,
      "metadata": {
        "id": "BfSQZIShwL56"
      },
      "outputs": [],
      "source": []
    },
    {
      "cell_type": "code",
      "execution_count": null,
      "metadata": {
        "id": "FbzZuy1LwL57",
        "outputId": "cea490d5-40cc-47d6-bb34-5a080ce8c3b9"
      },
      "outputs": [
        {
          "data": {
            "text/plain": [
              "'El alumno Roberto no pudo asistir a clases debido a que presenta un cuadro grave de calentura. Atte: Dr. Perengano.'"
            ]
          },
          "execution_count": 9,
          "metadata": {},
          "output_type": "execute_result"
        }
      ],
      "source": [
        "# 7. Reemplaza el nombre \"Fulano\" en el siguiente texto, con tu propio nombre:\n",
        "text6 = \"El alumno Fulano no pudo asistir a clases debido a que presenta un cuadro grave de calentura. Atte: Dr. Perengano.\"\n"
      ]
    },
    {
      "cell_type": "code",
      "execution_count": null,
      "metadata": {
        "id": "LaTRVFqwwL57"
      },
      "outputs": [],
      "source": []
    }
  ],
  "metadata": {
    "kernelspec": {
      "display_name": "Python 3",
      "language": "python",
      "name": "python3"
    },
    "language_info": {
      "codemirror_mode": {
        "name": "ipython",
        "version": 3
      },
      "file_extension": ".py",
      "mimetype": "text/x-python",
      "name": "python",
      "nbconvert_exporter": "python",
      "pygments_lexer": "ipython3",
      "version": "3.7.3"
    },
    "colab": {
      "provenance": []
    }
  },
  "nbformat": 4,
  "nbformat_minor": 0
}