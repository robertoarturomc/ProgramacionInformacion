{
 "cells": [
  {
   "cell_type": "markdown",
   "metadata": {},
   "source": [
    "# 3.1 Estructuras de Datos Básicas\n",
    "\n",
    "Muy bonito y todo trabajar con textos y números de manera individual, pero, ¿hay forma de trabajar con más de uno al mismo tiempo?\n",
    "Sí. Pero, para ello, tenemos que conocer las distintas formas en las que podemos almacenar todos esos datos."
   ]
  },
  {
   "cell_type": "markdown",
   "metadata": {},
   "source": [
    "## Tuplas.\n",
    "La forma más básica se llama tupla. Nos permite almacenar varios variables en un sólo objeto. No obstante, una vez crada, **no** se puede modificar.\n",
    "\n",
    "Para crearla, encierro todos los elementos entre paréntesis, y los separo con comas."
   ]
  },
  {
   "cell_type": "code",
   "execution_count": 1,
   "metadata": {},
   "outputs": [
    {
     "data": {
      "text/plain": [
       "('a', 'b', 'c')"
      ]
     },
     "execution_count": 1,
     "metadata": {},
     "output_type": "execute_result"
    }
   ],
   "source": [
    "(\"a\", \"b\", \"c\")"
   ]
  },
  {
   "cell_type": "markdown",
   "metadata": {},
   "source": [
    "Puedo combinar distintos tipos de variables:"
   ]
  },
  {
   "cell_type": "code",
   "execution_count": 2,
   "metadata": {},
   "outputs": [
    {
     "data": {
      "text/plain": [
       "('Perro', 1, True)"
      ]
     },
     "execution_count": 2,
     "metadata": {},
     "output_type": "execute_result"
    }
   ],
   "source": [
    "(\"Perro\", 1, True)"
   ]
  },
  {
   "cell_type": "markdown",
   "metadata": {},
   "source": [
    "Y, al igual que los elementos en solitario, también puedo guardarlos con algún nombre de variable."
   ]
  },
  {
   "cell_type": "code",
   "execution_count": 3,
   "metadata": {},
   "outputs": [
    {
     "data": {
      "text/plain": [
       "(2020, 'Covid')"
      ]
     },
     "execution_count": 3,
     "metadata": {},
     "output_type": "execute_result"
    }
   ],
   "source": [
    "mi_tupla = (2020, \"Covid\")\n",
    "mi_tupla"
   ]
  },
  {
   "cell_type": "markdown",
   "metadata": {},
   "source": [
    "Una vez guardada, puedo recuperar cada uno de los elementos por separado. Para ello, ocupo un índice con corchetes. ¡Recuerda que Python empieza a contar desde 0!"
   ]
  },
  {
   "cell_type": "code",
   "execution_count": 4,
   "metadata": {},
   "outputs": [
    {
     "data": {
      "text/plain": [
       "2020"
      ]
     },
     "execution_count": 4,
     "metadata": {},
     "output_type": "execute_result"
    }
   ],
   "source": [
    "mi_tupla[0]"
   ]
  },
  {
   "cell_type": "code",
   "execution_count": 5,
   "metadata": {},
   "outputs": [
    {
     "data": {
      "text/plain": [
       "'Covid'"
      ]
     },
     "execution_count": 5,
     "metadata": {},
     "output_type": "execute_result"
    }
   ],
   "source": [
    "mi_tupla[1]"
   ]
  },
  {
   "cell_type": "markdown",
   "metadata": {},
   "source": [
    "## Listas\n",
    "\n",
    "No obstante, las tuplas están limitadas, puesto que no puedo modificarlas. Por ello, también existen las **listas**. Estas se crean de forma similar, aunque utilizando corchetes."
   ]
  },
  {
   "cell_type": "code",
   "execution_count": 6,
   "metadata": {},
   "outputs": [
    {
     "data": {
      "text/plain": [
       "[1, 5, 'Leones']"
      ]
     },
     "execution_count": 6,
     "metadata": {},
     "output_type": "execute_result"
    }
   ],
   "source": [
    "[1, 5, \"Leones\"]"
   ]
  },
  {
   "cell_type": "code",
   "execution_count": 7,
   "metadata": {},
   "outputs": [
    {
     "data": {
      "text/plain": [
       "[1, 2, 10]"
      ]
     },
     "execution_count": 7,
     "metadata": {},
     "output_type": "execute_result"
    }
   ],
   "source": [
    "mi_lista = [1, 2, 10]\n",
    "mi_lista"
   ]
  },
  {
   "cell_type": "markdown",
   "metadata": {},
   "source": [
    "Funcionan casi igual que las tuplas..."
   ]
  },
  {
   "cell_type": "code",
   "execution_count": 8,
   "metadata": {},
   "outputs": [
    {
     "data": {
      "text/plain": [
       "10"
      ]
     },
     "execution_count": 8,
     "metadata": {},
     "output_type": "execute_result"
    }
   ],
   "source": [
    "mi_lista[2]"
   ]
  },
  {
   "cell_type": "markdown",
   "metadata": {},
   "source": [
    "¡Pero estas sí las puedo modificar!"
   ]
  },
  {
   "cell_type": "markdown",
   "metadata": {},
   "source": [
    "### Agregar un elemento a la lista.\n",
    "Para hacerlo, agrego un `.append(< nuevo elemento >` después del nombre de la lista."
   ]
  },
  {
   "cell_type": "code",
   "execution_count": 9,
   "metadata": {},
   "outputs": [
    {
     "data": {
      "text/plain": [
       "['Lluvias', 2021, False]"
      ]
     },
     "execution_count": 9,
     "metadata": {},
     "output_type": "execute_result"
    }
   ],
   "source": [
    "lista_nueva = [\"Lluvias\", 2021, False]\n",
    "lista_nueva"
   ]
  },
  {
   "cell_type": "code",
   "execution_count": 10,
   "metadata": {},
   "outputs": [
    {
     "data": {
      "text/plain": [
       "['Lluvias', 2021, False, 3.14]"
      ]
     },
     "execution_count": 10,
     "metadata": {},
     "output_type": "execute_result"
    }
   ],
   "source": [
    "lista_nueva.append(3.14)\n",
    "lista_nueva"
   ]
  },
  {
   "cell_type": "markdown",
   "metadata": {},
   "source": [
    "Es común usar esta propiedad dentro de los ciclos *for:*."
   ]
  },
  {
   "cell_type": "code",
   "execution_count": 11,
   "metadata": {},
   "outputs": [
    {
     "data": {
      "text/plain": [
       "[0, 2, 4, 6, 8, 10, 12, 14, 16, 18]"
      ]
     },
     "execution_count": 11,
     "metadata": {},
     "output_type": "execute_result"
    }
   ],
   "source": [
    "pares = []\n",
    "for i in range(20):\n",
    "    if i % 2 == 0:\n",
    "        pares.append(i)\n",
    "        \n",
    "pares"
   ]
  },
  {
   "cell_type": "markdown",
   "metadata": {},
   "source": [
    "### Eliminar un elemento de una lista.\n",
    "Para hacerlo, agrego un `.remove(< elemento a eliminar >` después del nombre de la lista."
   ]
  },
  {
   "cell_type": "code",
   "execution_count": 12,
   "metadata": {},
   "outputs": [
    {
     "data": {
      "text/plain": [
       "[2, 4, 6, 8, 10, 12, 14, 16, 18]"
      ]
     },
     "execution_count": 12,
     "metadata": {},
     "output_type": "execute_result"
    }
   ],
   "source": [
    "pares.remove(0)\n",
    "pares"
   ]
  },
  {
   "cell_type": "markdown",
   "metadata": {},
   "source": [
    "### Conocer el tamaño de una lista."
   ]
  },
  {
   "cell_type": "code",
   "execution_count": 13,
   "metadata": {},
   "outputs": [
    {
     "data": {
      "text/plain": [
       "9"
      ]
     },
     "execution_count": 13,
     "metadata": {},
     "output_type": "execute_result"
    }
   ],
   "source": [
    "len(pares)"
   ]
  },
  {
   "cell_type": "markdown",
   "metadata": {},
   "source": [
    "### Listas dentro de ciclos for"
   ]
  },
  {
   "cell_type": "code",
   "execution_count": 14,
   "metadata": {},
   "outputs": [
    {
     "name": "stdout",
     "output_type": "stream",
     "text": [
      "Juan\n",
      "Paco\n",
      "Pedro\n"
     ]
    }
   ],
   "source": [
    "for i in [\"Juan\", \"Paco\", \"Pedro\"]:\n",
    "    print(i)"
   ]
  },
  {
   "cell_type": "code",
   "execution_count": 15,
   "metadata": {},
   "outputs": [
    {
     "data": {
      "text/plain": [
       "[4, 8, 12, 16, 20, 24, 28, 32, 36]"
      ]
     },
     "execution_count": 15,
     "metadata": {},
     "output_type": "execute_result"
    }
   ],
   "source": [
    "pares2 = []\n",
    "for i in pares:\n",
    "    pares2.append(i * 2)\n",
    "\n",
    "pares2"
   ]
  },
  {
   "cell_type": "code",
   "execution_count": 16,
   "metadata": {},
   "outputs": [
    {
     "data": {
      "text/plain": [
       "[4, 8, 12, 16, 20, 24, 28, 32, 36, 4, 8, 12, 16, 20, 24, 28, 32, 36]"
      ]
     },
     "execution_count": 16,
     "metadata": {},
     "output_type": "execute_result"
    }
   ],
   "source": [
    "pares2 * 2"
   ]
  },
  {
   "cell_type": "markdown",
   "metadata": {},
   "source": [
    "## Diccionarios\n",
    "La última estructura de datos básica de Python se llaman **Diccionarios**.\n",
    "\n",
    "Son muy útiles cuando necesitamos guardar valores emparejados. Por ejemplo, en la vida real, cuando estamos describiendo algo, frecuentemente usamos el formato *característica-valor:*\n",
    "\n",
    "* Ojos: Negros\n",
    "* Piel: Canela\n",
    "\n",
    "En este ejemplo, a las características que usamos pare describir les llamaremos **llaves** (keys), y a los valores que pueden tomar esa característica...les llamaremos así, **valores** (values).\n",
    "\n",
    "Para definir un diccionario en Python, usaremos las llaves `{}`. Cada entrada tendrá el formato `llave: valor`, y estarán separadas por comas."
   ]
  },
  {
   "cell_type": "code",
   "execution_count": 4,
   "metadata": {},
   "outputs": [
    {
     "data": {
      "text/plain": [
       "{'País': 'Emirato Islámico de Afganistán',\n",
       " 'Capital': 'Kabul',\n",
       " 'Poblacion': 35688822,\n",
       " 'Costa': False}"
      ]
     },
     "execution_count": 4,
     "metadata": {},
     "output_type": "execute_result"
    }
   ],
   "source": [
    "mi_diccionario = {\"País\": \"Emirato Islámico de Afganistán\",\n",
    "                 \"Capital\": \"Kabul\",\n",
    "                 \"Poblacion\": 35688822, \"Costa\":False}\n",
    "\n",
    "mi_diccionario"
   ]
  },
  {
   "cell_type": "markdown",
   "metadata": {},
   "source": [
    "### Recuperando valores de un Diccionario\n",
    "A diferencia de las tuplas y las listas, acá los elementos no vienen ordenados. Para poder acceder a los valores, se ocupan también los corchetes desués del nombre, pero escribiendo la llave en vez de algún índice:"
   ]
  },
  {
   "cell_type": "code",
   "execution_count": 10,
   "metadata": {},
   "outputs": [
    {
     "data": {
      "text/plain": [
       "35688822"
      ]
     },
     "execution_count": 10,
     "metadata": {},
     "output_type": "execute_result"
    }
   ],
   "source": [
    "mi_diccionario[\"Poblacion\"]"
   ]
  },
  {
   "cell_type": "markdown",
   "metadata": {},
   "source": [
    "(Nota: ¡Python distingue entre mayúsculas y minúsculas!)"
   ]
  },
  {
   "cell_type": "code",
   "execution_count": 13,
   "metadata": {},
   "outputs": [
    {
     "ename": "KeyError",
     "evalue": "'poblacion'",
     "output_type": "error",
     "traceback": [
      "\u001b[1;31m---------------------------------------------------------------------------\u001b[0m",
      "\u001b[1;31mKeyError\u001b[0m                                  Traceback (most recent call last)",
      "\u001b[1;32m<ipython-input-13-afe143cc8627>\u001b[0m in \u001b[0;36m<module>\u001b[1;34m\u001b[0m\n\u001b[1;32m----> 1\u001b[1;33m \u001b[0mmi_diccionario\u001b[0m\u001b[1;33m[\u001b[0m\u001b[1;34m\"poblacion\"\u001b[0m\u001b[1;33m]\u001b[0m\u001b[1;33m\u001b[0m\u001b[1;33m\u001b[0m\u001b[0m\n\u001b[0m",
      "\u001b[1;31mKeyError\u001b[0m: 'poblacion'"
     ]
    }
   ],
   "source": [
    "mi_diccionario[\"poblacion\"]"
   ]
  },
  {
   "cell_type": "markdown",
   "metadata": {},
   "source": [
    "Si no recuerdo cómo se llamaban mis llaves, puedo recuperar esa información con un `.keys()` después del nombre de mi diccionario."
   ]
  },
  {
   "cell_type": "code",
   "execution_count": 23,
   "metadata": {},
   "outputs": [
    {
     "data": {
      "text/plain": [
       "dict_keys(['País', 'Capital', 'Poblacion', 'Costa'])"
      ]
     },
     "execution_count": 23,
     "metadata": {},
     "output_type": "execute_result"
    }
   ],
   "source": [
    "mi_diccionario.keys()"
   ]
  },
  {
   "cell_type": "markdown",
   "metadata": {},
   "source": [
    "### Modificando un diccionario\n",
    "\n",
    "Agregar información nueva es muy sencilla. Sólo tengo que seguir este formato:\n",
    "\n",
    "` diccionario[\"nueva llave\"] = \"nuevo valor\" `"
   ]
  },
  {
   "cell_type": "code",
   "execution_count": 24,
   "metadata": {},
   "outputs": [
    {
     "data": {
      "text/plain": [
       "{'País': 'Emirato Islámico de Afganistán',\n",
       " 'Capital': 'Kabul',\n",
       " 'Poblacion': 35688822,\n",
       " 'Costa': False,\n",
       " 'Moneda': 'afgani'}"
      ]
     },
     "execution_count": 24,
     "metadata": {},
     "output_type": "execute_result"
    }
   ],
   "source": [
    "mi_diccionario[\"Moneda\"] = \"afgani\"\n",
    "mi_diccionario"
   ]
  },
  {
   "cell_type": "markdown",
   "metadata": {},
   "source": [
    "Y si quiero sobreescribir algún valor, hago lo mismo, pero con alguna llave ya existente."
   ]
  },
  {
   "cell_type": "code",
   "execution_count": 27,
   "metadata": {},
   "outputs": [
    {
     "data": {
      "text/plain": [
       "{'País': 'Emirato Islámico de Afganistán',\n",
       " 'Capital': 'Kabul',\n",
       " 'Poblacion': 35687123,\n",
       " 'Costa': False,\n",
       " 'Moneda': 'afgani'}"
      ]
     },
     "execution_count": 27,
     "metadata": {},
     "output_type": "execute_result"
    }
   ],
   "source": [
    "mi_diccionario[\"Poblacion\"] = 35687123\n",
    "mi_diccionario"
   ]
  },
  {
   "cell_type": "markdown",
   "metadata": {},
   "source": [
    "Finalmente, para eliminar algún valor, ocupo el método `.pop(llave)`"
   ]
  },
  {
   "cell_type": "code",
   "execution_count": 29,
   "metadata": {},
   "outputs": [
    {
     "data": {
      "text/plain": [
       "{'País': 'Emirato Islámico de Afganistán',\n",
       " 'Poblacion': 35687123,\n",
       " 'Costa': False,\n",
       " 'Moneda': 'afgani'}"
      ]
     },
     "execution_count": 29,
     "metadata": {},
     "output_type": "execute_result"
    }
   ],
   "source": [
    "mi_diccionario.pop(\"Capital\")\n",
    "mi_diccionario"
   ]
  },
  {
   "cell_type": "markdown",
   "metadata": {},
   "source": [
    "## Estructuras complejas"
   ]
  },
  {
   "cell_type": "markdown",
   "metadata": {},
   "source": [
    "Tanto las llaves, como los valores, pueden ser de cualquier tipo de dato. Tradicionalmente, las llaves sólo son _strings_, mientras que los valores, números, strings, e incluso, otra estructura de datos."
   ]
  },
  {
   "cell_type": "code",
   "execution_count": 6,
   "metadata": {},
   "outputs": [
    {
     "data": {
      "text/plain": [
       "{'Miembros': ['Alemania', 'Francia', 'España', 'Grecia', 'Italia', 'Polonia'],\n",
       " 'Moneda': 'Euro',\n",
       " 'Fundacion': 1993,\n",
       " 'Idiomas': {'Francés': ['Francia', 'Bélgica'],\n",
       "  'Alemán': ['Alemania', 'Austria']}}"
      ]
     },
     "execution_count": 6,
     "metadata": {},
     "output_type": "execute_result"
    }
   ],
   "source": [
    "union_europea = {\"Miembros\": [\"Alemania\", \"Francia\", \"España\", \"Grecia\", \"Italia\", \"Polonia\"],\n",
    "                 \"Moneda\": \"Euro\",\n",
    "                 \"Fundacion\": 1993,\n",
    "                 \"Idiomas\": {\"Francés\": [\"Francia\", \"Bélgica\"], \n",
    "                             \"Alemán\": [\"Alemania\", \"Austria\"]} }\n",
    "\n",
    "union_europea"
   ]
  },
  {
   "cell_type": "markdown",
   "metadata": {},
   "source": [
    "Nota: (Esto aplica también para las otras estructuras ya vistas, donde podemos tener listas de listas, tuplas de diccionarios, etc.)"
   ]
  },
  {
   "cell_type": "code",
   "execution_count": 8,
   "metadata": {},
   "outputs": [
    {
     "data": {
      "text/plain": [
       "[{'País': 'Emirato Islámico de Afganistán',\n",
       "  'Capital': 'Kabul',\n",
       "  'Poblacion': 35688822,\n",
       "  'Costa': False},\n",
       " {'Miembros': ['Alemania', 'Francia', 'España', 'Grecia', 'Italia', 'Polonia'],\n",
       "  'Moneda': 'Euro',\n",
       "  'Fundacion': 1993,\n",
       "  'Idiomas': {'Francés': ['Francia', 'Bélgica'],\n",
       "   'Alemán': ['Alemania', 'Austria']}}]"
      ]
     },
     "execution_count": 8,
     "metadata": {},
     "output_type": "execute_result"
    }
   ],
   "source": [
    "lista_de_diccionarios = [mi_diccionario, union_europea]\n",
    "\n",
    "lista_de_diccionarios"
   ]
  },
  {
   "cell_type": "markdown",
   "metadata": {},
   "source": [
    "Y para recuperar información, sólo falta ir subseleccionando uno por uno, tratando por separado cada estructura:"
   ]
  },
  {
   "cell_type": "code",
   "execution_count": 18,
   "metadata": {},
   "outputs": [
    {
     "data": {
      "text/plain": [
       "{'Miembros': ['Alemania', 'Francia', 'España', 'Grecia', 'Italia', 'Polonia'],\n",
       " 'Moneda': 'Euro',\n",
       " 'Fundacion': 1993,\n",
       " 'Idiomas': {'Francés': ['Francia', 'Bélgica'],\n",
       "  'Alemán': ['Alemania', 'Austria']}}"
      ]
     },
     "execution_count": 18,
     "metadata": {},
     "output_type": "execute_result"
    }
   ],
   "source": [
    "lista_de_diccionarios[1]"
   ]
  },
  {
   "cell_type": "code",
   "execution_count": 19,
   "metadata": {},
   "outputs": [
    {
     "data": {
      "text/plain": [
       "{'Francés': ['Francia', 'Bélgica'], 'Alemán': ['Alemania', 'Austria']}"
      ]
     },
     "execution_count": 19,
     "metadata": {},
     "output_type": "execute_result"
    }
   ],
   "source": [
    "lista_de_diccionarios[1][\"Idiomas\"]"
   ]
  },
  {
   "cell_type": "code",
   "execution_count": 20,
   "metadata": {},
   "outputs": [
    {
     "data": {
      "text/plain": [
       "['Alemania', 'Austria']"
      ]
     },
     "execution_count": 20,
     "metadata": {},
     "output_type": "execute_result"
    }
   ],
   "source": [
    "lista_de_diccionarios[1][\"Idiomas\"][\"Alemán\"]"
   ]
  },
  {
   "cell_type": "code",
   "execution_count": 21,
   "metadata": {},
   "outputs": [
    {
     "data": {
      "text/plain": [
       "'Alemania'"
      ]
     },
     "execution_count": 21,
     "metadata": {},
     "output_type": "execute_result"
    }
   ],
   "source": [
    "lista_de_diccionarios[1][\"Idiomas\"][\"Alemán\"][0]"
   ]
  },
  {
   "cell_type": "markdown",
   "metadata": {},
   "source": [
    "Estas estructuras, y sobretodo los diccionarios, son bastante importantes, puesto que el formato casi universal entre distintos lenguajes de programación. No por ello, varias formas de compartir datos vienen en formatos parecidos: las *API*, los formatos *.json*, las bases de datos NoSQL, etc."
   ]
  },
  {
   "cell_type": "markdown",
   "metadata": {},
   "source": [
    "Tip: en Notebook, si se te olvidó abrir y cerrar paréntesis, sólo tienes que seleccionar el texto y, ya que lo tienes seleccionado, dar clicl en la tecla que abre paréntesis. En automático, el texto seleccionado, ¡estará rodeado de paréntesis! Funciona también con comillas, corchetes y llaves."
   ]
  },
  {
   "cell_type": "code",
   "execution_count": 31,
   "metadata": {},
   "outputs": [
    {
     "ename": "NameError",
     "evalue": "name 'abrigo' is not defined",
     "output_type": "error",
     "traceback": [
      "\u001b[1;31m---------------------------------------------------------------------------\u001b[0m",
      "\u001b[1;31mNameError\u001b[0m                                 Traceback (most recent call last)",
      "\u001b[1;32m<ipython-input-31-6bf49d577714>\u001b[0m in \u001b[0;36m<module>\u001b[1;34m\u001b[0m\n\u001b[1;32m----> 1\u001b[1;33m \u001b[1;34m\"hoodie\"\u001b[0m\u001b[1;33m,\u001b[0m \u001b[1;34m\"suéter\"\u001b[0m\u001b[1;33m,\u001b[0m \u001b[1;34m\"chamarra\"\u001b[0m\u001b[1;33m,\u001b[0m \u001b[0mabrigo\u001b[0m\u001b[1;33m\u001b[0m\u001b[1;33m\u001b[0m\u001b[0m\n\u001b[0m",
      "\u001b[1;31mNameError\u001b[0m: name 'abrigo' is not defined"
     ]
    }
   ],
   "source": [
    "\"hoodie\", \"suéter\", \"chamarra\", abrigo"
   ]
  },
  {
   "cell_type": "code",
   "execution_count": null,
   "metadata": {},
   "outputs": [],
   "source": []
  }
 ],
 "metadata": {
  "kernelspec": {
   "display_name": "Python 3",
   "language": "python",
   "name": "python3"
  },
  "language_info": {
   "codemirror_mode": {
    "name": "ipython",
    "version": 3
   },
   "file_extension": ".py",
   "mimetype": "text/x-python",
   "name": "python",
   "nbconvert_exporter": "python",
   "pygments_lexer": "ipython3",
   "version": "3.7.3"
  }
 },
 "nbformat": 4,
 "nbformat_minor": 2
}
