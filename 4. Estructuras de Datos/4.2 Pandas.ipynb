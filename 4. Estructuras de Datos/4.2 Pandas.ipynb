{
 "cells": [
  {
   "cell_type": "code",
   "execution_count": null,
   "metadata": {
    "id": "AHxuoEdAKbu-"
   },
   "outputs": [],
   "source": [
    "import numpy as np\n",
    "import pandas as pd"
   ]
  },
  {
   "cell_type": "markdown",
   "metadata": {
    "id": "qQEBdjcaxMGc"
   },
   "source": [
    "# 4.2 Pandas\n",
    "\n",
    "No; hoy no hablaremos del animal :'( \n",
    "\n",
    "Se trata de un paquete de Python, y el nombre hace referencia tanto a _Panel Data_ (en Econometría, una forma común de acomodar datos), como a _Python Data Analysis_.\n",
    "\n",
    "Busca copiar los _Data Frames_ de lenguajes e Programación orientados al análisis, como _R_. Para su desarrollo, se basaron en NumPy, pero agregando funcionalidades nuevas. \n",
    "\n",
    "A todo esto...\n",
    "\n",
    "### ¿Qué es un _Data Frame_?\n",
    "\n",
    "Es una tabla.\n",
    "\n",
    ".\n",
    "\n",
    ".\n",
    "\n",
    ".\n",
    "\n",
    "Es mismo el formato con el que seguramente trabajaste alguna vez en Excel: datos acomodados en filas y en columnas.\n",
    "\n",
    "Pero, espera...¡las matrices  (y los arreglos de NumPy) también tienen filas y columnas!\n",
    "\n",
    "Entonces, ¿qué distingue a los _Data Frames_?\n",
    "\n",
    "Vamos a ver cómo se ve uno, a ver si distingues las diferencias..."
   ]
  },
  {
   "cell_type": "code",
   "execution_count": null,
   "metadata": {
    "colab": {
     "base_uri": "https://localhost:8080/",
     "height": 226
    },
    "id": "RgcK1VVk05Ru",
    "outputId": "b9f9321b-3427-4672-bb31-c55e4fbf58cc"
   },
   "outputs": [],
   "source": [
    "data = pd.read_csv(\"sample_data/california_housing_test.csv\")\n",
    "data.head()"
   ]
  },
  {
   "cell_type": "code",
   "execution_count": null,
   "metadata": {
    "colab": {
     "base_uri": "https://localhost:8080/"
    },
    "id": "vxGnKABp2f-7",
    "outputId": "798b7359-da7c-4f9c-f6ab-8cc484b7beee"
   },
   "outputs": [],
   "source": [
    "# Así se vería el mismo dataset, pero en NumPy...\n",
    "data.to_numpy()"
   ]
  },
  {
   "cell_type": "markdown",
   "metadata": {
    "id": "_gn5eNex29PI"
   },
   "source": [
    "## Características de los Data Frames:\n",
    "\n",
    "* Cada columna es de un tipo de Dato (texto, numérico...)\n",
    " * Esto porque en sí, cada columna es su propia estructura de datos, llamadas __Series.__\n",
    "* Tienen títulos.\n",
    "  * Normalmente, sólo en las columnas, pero cada hilera también podría tener su propio título.\n",
    "\n",
    "De hecho, ya conocíamos otra estructura de Datos con títulos: los _diccionarios_. No obstante, para análisis de datos, preferimos los _Data Frames_ ya que:\n",
    "* Son compatibles con la mayoría de las funciones de NumPy.\n",
    "* Permiten manipular facilmente grandes cantidades de datos.\n"
   ]
  },
  {
   "cell_type": "markdown",
   "metadata": {
    "id": "fbC26Knd6vBD"
   },
   "source": [
    "## Creando Data Frames\n",
    "\n",
    "1. Desde cero."
   ]
  },
  {
   "cell_type": "code",
   "execution_count": null,
   "metadata": {
    "colab": {
     "base_uri": "https://localhost:8080/",
     "height": 143
    },
    "id": "sBv-RYE23RG2",
    "outputId": "5bebeab1-4be9-4c97-c422-e2c127e88e60"
   },
   "outputs": [],
   "source": [
    "df = pd.DataFrame([1, 2, 3])\n",
    "df.head()\n"
   ]
  },
  {
   "cell_type": "markdown",
   "metadata": {
    "id": "18vxn5le8cWV"
   },
   "source": [
    "2. Transformando un diccionario."
   ]
  },
  {
   "cell_type": "code",
   "execution_count": null,
   "metadata": {
    "colab": {
     "base_uri": "https://localhost:8080/",
     "height": 143
    },
    "id": "57AJq5r074Wn",
    "outputId": "095846d8-0eb6-4f5a-9614-03e63f2511ea"
   },
   "outputs": [],
   "source": [
    "diccionario = {\"Nombre\": [\"Pikachu\", \"Mewtwo\", \"Greninja\"],\n",
    "               \"Tipo\": [\"Eléctrico\", \"Psíquico\", \"Agua/Luchador\"],\n",
    "               \"Nivel\": [5, 50, 36]}\n",
    "\n",
    "df2 = pd.DataFrame(diccionario)\n",
    "df2.head()"
   ]
  },
  {
   "cell_type": "markdown",
   "metadata": {
    "id": "FK2RQmJcAA10"
   },
   "source": [
    "3. Convirtiendo un arreglo de NumPy"
   ]
  },
  {
   "cell_type": "code",
   "execution_count": null,
   "metadata": {
    "colab": {
     "base_uri": "https://localhost:8080/"
    },
    "id": "7MyjImBaADxY",
    "outputId": "5fefec2c-b38f-442e-c72e-e8192add739d"
   },
   "outputs": [],
   "source": [
    "arreglo = np.array([[5, 10, 13],\n",
    "                    [12, 11, 15],\n",
    "                    [2, 3, 3]])\n",
    "arreglo"
   ]
  },
  {
   "cell_type": "code",
   "execution_count": null,
   "metadata": {
    "colab": {
     "base_uri": "https://localhost:8080/",
     "height": 143
    },
    "id": "HS5uV5Q9AahE",
    "outputId": "d12479be-8bce-4356-c12f-eeef69b0ea1c"
   },
   "outputs": [],
   "source": [
    "df3 = pd.DataFrame(arreglo, columns=[\"Ancho\", \"Largo\", \"Altura\"])\n",
    "df3"
   ]
  },
  {
   "cell_type": "markdown",
   "metadata": {
    "id": "kEWIFF9jApYY"
   },
   "source": [
    "4. Trayendo datos desde fuentes externas.\n",
    "\n",
    "    (La forma más común).   "
   ]
  },
  {
   "cell_type": "code",
   "execution_count": null,
   "metadata": {
    "colab": {
     "base_uri": "https://localhost:8080/",
     "height": 226
    },
    "id": "afVVkxl9Amdt",
    "outputId": "35ec5442-a9e4-4d22-9198-2337822d0d1a"
   },
   "outputs": [],
   "source": [
    "# ¿Te suena?\n",
    "data = pd.read_csv(\"sample_data/california_housing_test.csv\")\n",
    "data.head()"
   ]
  },
  {
   "cell_type": "markdown",
   "metadata": {
    "id": "LMYUxp5XBrN6"
   },
   "source": [
    "Nota: el método `.head()` ayuda a previsualizar el _Data Frame_. Como, a partir de ahora, veremos cantidades de datos más grandes, ver _TODOS_ los datos de golpe puede ser abrumador.\n",
    "\n"
   ]
  },
  {
   "cell_type": "code",
   "execution_count": null,
   "metadata": {
    "colab": {
     "base_uri": "https://localhost:8080/",
     "height": 226
    },
    "id": "PKk3csEHBlQN",
    "outputId": "cb387302-1c7e-4fed-9beb-a63ae7237468"
   },
   "outputs": [],
   "source": [
    "# Normalmente, veremos las primeras cinco hileras\n",
    "data.head()"
   ]
  },
  {
   "cell_type": "code",
   "execution_count": null,
   "metadata": {
    "colab": {
     "base_uri": "https://localhost:8080/",
     "height": 383
    },
    "id": "Q9wO5sdvDCjt",
    "outputId": "48428fed-b714-41e8-d8b4-74add7f21cf8"
   },
   "outputs": [],
   "source": [
    "# Pero podemos especificar otra cantidad de datos\n",
    "data.head(10)"
   ]
  },
  {
   "cell_type": "code",
   "execution_count": null,
   "metadata": {
    "colab": {
     "base_uri": "https://localhost:8080/",
     "height": 226
    },
    "id": "MoagBFrNDGXA",
    "outputId": "0f209157-4aa4-4322-a790-8d1768907be1"
   },
   "outputs": [],
   "source": [
    "# E igualmente, con .tail podemos ver la parte final de los datos\n",
    "data.tail()"
   ]
  },
  {
   "cell_type": "markdown",
   "metadata": {
    "id": "NVlBwfGuDPDB"
   },
   "source": [
    "## Seleccionando Columnas\n",
    "\n",
    "Seleccionar una columna es muy similar a como lo haríamos con la llave de un diccionario:\n",
    "\n",
    "`nombreDataFrame['columna']`"
   ]
  },
  {
   "cell_type": "code",
   "execution_count": null,
   "metadata": {},
   "outputs": [],
   "source": [
    "data['longitude']"
   ]
  },
  {
   "cell_type": "code",
   "execution_count": null,
   "metadata": {},
   "outputs": [],
   "source": [
    "# Pero, para sólo visualizar los primeros datos...\n",
    "data['housing_median_age'].head()"
   ]
  },
  {
   "cell_type": "markdown",
   "metadata": {},
   "source": [
    "## Creando nuevas Columnas\n",
    "\n",
    "Otro parecido con los diccionarios: si quiero una nueva columna, basta con definir los valores que le quiero poner.\n",
    "\n",
    "`nombreDataFrame['columnaNueva'] = valores`\n",
    "\n",
    "valores puede ser un mismo valor, que se repetirá tanto como sea necesario. "
   ]
  },
  {
   "cell_type": "code",
   "execution_count": null,
   "metadata": {},
   "outputs": [],
   "source": [
    "data['valor_peso'] = 20\n",
    "data.head()"
   ]
  },
  {
   "cell_type": "code",
   "execution_count": null,
   "metadata": {},
   "outputs": [],
   "source": [
    "También puede ser una lista, un arreglo de NumPy, una serie de Pandas...en fin."
   ]
  },
  {
   "cell_type": "code",
   "execution_count": null,
   "metadata": {},
   "outputs": [],
   "source": [
    "data['median_income_pesos'] = data['median_income'] * data['valor_peso']"
   ]
  },
  {
   "cell_type": "code",
   "execution_count": null,
   "metadata": {},
   "outputs": [],
   "source": [
    "data['population'] = data[]\n",
    "data.head()"
   ]
  },
  {
   "cell_type": "markdown",
   "metadata": {},
   "source": [
    "¡Ojo! Al igual que un diccionario, puedo terminar sobreescribiendo una columna de un Data Frame si es que ya existía..."
   ]
  },
  {
   "cell_type": "code",
   "execution_count": null,
   "metadata": {},
   "outputs": [],
   "source": [
    "data['longitude'] = \"diez\"\n",
    "data.head()"
   ]
  }
 ],
 "metadata": {
  "colab": {
   "name": "4.2 Pandas.ipynb",
   "provenance": []
  },
  "kernelspec": {
   "display_name": "Python 3",
   "language": "python",
   "name": "python3"
  },
  "language_info": {
   "codemirror_mode": {
    "name": "ipython",
    "version": 3
   },
   "file_extension": ".py",
   "mimetype": "text/x-python",
   "name": "python",
   "nbconvert_exporter": "python",
   "pygments_lexer": "ipython3",
   "version": "3.7.3"
  }
 },
 "nbformat": 4,
 "nbformat_minor": 1
}
