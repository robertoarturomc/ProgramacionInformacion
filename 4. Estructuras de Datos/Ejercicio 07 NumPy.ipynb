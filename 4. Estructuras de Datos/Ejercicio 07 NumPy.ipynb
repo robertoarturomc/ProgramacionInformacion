{
  "cells": [
    {
      "cell_type": "markdown",
      "metadata": {
        "id": "VnQvOVGWTLmC"
      },
      "source": [
        "# Ejercicio 7: NumPy\n",
        "#### Para este ejercicio, vamos a practicar el uso de la librería NumPy"
      ]
    },
    {
      "cell_type": "code",
      "execution_count": null,
      "metadata": {
        "id": "ZclGjNCFTLmF"
      },
      "outputs": [],
      "source": [
        "import numpy as np"
      ]
    },
    {
      "cell_type": "markdown",
      "metadata": {
        "id": "agoDCooJTLmH"
      },
      "source": [
        "## Instrucciones\n",
        "\n",
        "### 1. \n",
        "#### a. Crea una _lista_ con tus 6 números favoritos, del 1 al 99"
      ]
    },
    {
      "cell_type": "code",
      "execution_count": null,
      "metadata": {
        "id": "t1x6_mpMTLmH"
      },
      "outputs": [],
      "source": [
        "lista="
      ]
    },
    {
      "cell_type": "markdown",
      "metadata": {
        "id": "iWtgVHOdTLmI"
      },
      "source": [
        "#### b. Convierte tu lista en un arreglo de numpy y ponle el nombre _vector_"
      ]
    },
    {
      "cell_type": "code",
      "execution_count": null,
      "metadata": {
        "id": "j_Yx3tMaTLmJ"
      },
      "outputs": [],
      "source": [
        "## Vector es otra forma con la que se llama a los arreglos de 1 dimensión...¡justo como en Álgebra!\n"
      ]
    },
    {
      "cell_type": "markdown",
      "metadata": {
        "id": "tUef2sUbTLmJ"
      },
      "source": [
        "#### c. Crea vector2, que va a contener los elementos de vector, pero divididos entre 2."
      ]
    },
    {
      "cell_type": "code",
      "execution_count": null,
      "metadata": {
        "id": "KMx7E7s-TLmK"
      },
      "outputs": [],
      "source": [
        "\n"
      ]
    },
    {
      "cell_type": "markdown",
      "metadata": {
        "id": "QBnELIErTLmK"
      },
      "source": [
        "#### d. Calcula el logaritmo natural de todos los elementos de vector2, y llámalo vector3."
      ]
    },
    {
      "cell_type": "code",
      "execution_count": null,
      "metadata": {
        "id": "npa3VLQOTLmL"
      },
      "outputs": [],
      "source": []
    },
    {
      "cell_type": "markdown",
      "metadata": {
        "id": "twdfuVvgTLmL"
      },
      "source": [
        "### 2. \n",
        "#### a. Crea una matriz identidad de 4x4 y llámala matriz1. También, corre la siguiente celda para crear la matriz2.\n"
      ]
    },
    {
      "cell_type": "code",
      "execution_count": null,
      "metadata": {
        "id": "w1phtVENTLmM",
        "outputId": "2d92c387-56f7-43fa-ee83-95dd81a9f422"
      },
      "outputs": [
        {
          "data": {
            "text/plain": [
              "array([[1., 0., 0., 0.],\n",
              "       [0., 1., 0., 0.],\n",
              "       [0., 0., 1., 0.],\n",
              "       [0., 0., 0., 1.]])"
            ]
          },
          "execution_count": 22,
          "metadata": {},
          "output_type": "execute_result"
        }
      ],
      "source": [
        "\n",
        "matriz1"
      ]
    },
    {
      "cell_type": "code",
      "execution_count": null,
      "metadata": {
        "id": "veBhmrd7TLmN",
        "outputId": "df6ed4de-a691-4bcb-a81b-b44cb435594d"
      },
      "outputs": [
        {
          "data": {
            "text/plain": [
              "array([[1, 2, 3, 4],\n",
              "       [5, 6, 7, 8]])"
            ]
          },
          "execution_count": 17,
          "metadata": {},
          "output_type": "execute_result"
        }
      ],
      "source": [
        "matriz2= np.array([[1, 2, 3, 4], [5, 6, 7, 8]])\n",
        "matriz2"
      ]
    },
    {
      "cell_type": "markdown",
      "metadata": {
        "id": "ulOSXfs2TLmN"
      },
      "source": [
        "#### b. Corre la siguiente celda para tratar de hacer una multiplicación de matrices. Observa el error y trata de interpretarlo."
      ]
    },
    {
      "cell_type": "code",
      "execution_count": null,
      "metadata": {
        "id": "OLAKV989TLmN",
        "outputId": "81743067-2aa8-45ab-e2b5-8c8170d366cb"
      },
      "outputs": [
        {
          "ename": "ValueError",
          "evalue": "shapes (4,4) and (2,4) not aligned: 4 (dim 1) != 2 (dim 0)",
          "output_type": "error",
          "traceback": [
            "\u001b[1;31m---------------------------------------------------------------------------\u001b[0m",
            "\u001b[1;31mValueError\u001b[0m                                Traceback (most recent call last)",
            "\u001b[1;32m<ipython-input-21-761e1c5e3245>\u001b[0m in \u001b[0;36m<module>\u001b[1;34m\u001b[0m\n\u001b[1;32m----> 1\u001b[1;33m \u001b[0mnp\u001b[0m\u001b[1;33m.\u001b[0m\u001b[0mdot\u001b[0m\u001b[1;33m(\u001b[0m\u001b[0mmatriz1\u001b[0m\u001b[1;33m,\u001b[0m \u001b[0mmatriz2\u001b[0m\u001b[1;33m)\u001b[0m\u001b[1;33m\u001b[0m\u001b[1;33m\u001b[0m\u001b[0m\n\u001b[0m",
            "\u001b[1;31mValueError\u001b[0m: shapes (4,4) and (2,4) not aligned: 4 (dim 1) != 2 (dim 0)"
          ]
        }
      ],
      "source": [
        "np.dot(matriz1, matriz2)"
      ]
    },
    {
      "cell_type": "markdown",
      "metadata": {
        "id": "yI1D_8ffTLmO"
      },
      "source": [
        "#### c. Imprime la forma de las dos matrices."
      ]
    },
    {
      "cell_type": "code",
      "execution_count": null,
      "metadata": {
        "id": "sHEluGAxTLmO"
      },
      "outputs": [],
      "source": []
    },
    {
      "cell_type": "markdown",
      "metadata": {
        "id": "SdLG_O7qTLmP"
      },
      "source": [
        "#### d. Repite el ejercicio de b., pero cambia el orden de matriz1 y matriz2\n"
      ]
    },
    {
      "cell_type": "code",
      "execution_count": null,
      "metadata": {
        "id": "RfiC-k1hTLmP"
      },
      "outputs": [],
      "source": []
    },
    {
      "cell_type": "markdown",
      "metadata": {
        "id": "G4a8G1W4TLmP"
      },
      "source": [
        "### 3. Corre la siguiente celda y extrae los elementos que se te piden:"
      ]
    },
    {
      "cell_type": "code",
      "execution_count": null,
      "metadata": {
        "id": "AzTljGJuTLmQ",
        "outputId": "ae8e2f7b-5c4e-4c5a-e05b-790f014b7d20"
      },
      "outputs": [
        {
          "data": {
            "text/plain": [
              "array([['Puebla', 'Oaxaca', 'Querétaro'],\n",
              "       ['Veracruz', 'Hidalgo', 'Chiapas'],\n",
              "       ['Guerrero', 'Coahuila', 'Colima'],\n",
              "       ['Baja California', 'Chihuahua', 'Morelos']], dtype='<U15')"
            ]
          },
          "execution_count": 27,
          "metadata": {},
          "output_type": "execute_result"
        }
      ],
      "source": [
        "matriz4 = np.array([[\"Puebla\", \"Oaxaca\", \"Querétaro\"],\n",
        "                    [\"Veracruz\", \"Hidalgo\", \"Chiapas\"],\n",
        "                    [\"Guerrero\", \"Coahuila\", \"Colima\"],\n",
        "                    [\"Baja California\", \"Chihuahua\", \"Morelos\"]])\n",
        "                   \n",
        "matriz4"
      ]
    },
    {
      "cell_type": "markdown",
      "metadata": {
        "id": "prSGdi29TLmQ"
      },
      "source": [
        "a. Filtra sólo \"Oaxaca\""
      ]
    },
    {
      "cell_type": "code",
      "execution_count": null,
      "metadata": {
        "id": "Uydr-vq7TLmQ"
      },
      "outputs": [],
      "source": [
        "matriz4[,]"
      ]
    },
    {
      "cell_type": "markdown",
      "metadata": {
        "id": "HNhEy6kzTLmQ"
      },
      "source": [
        "b. Extrae \"Colima\""
      ]
    },
    {
      "cell_type": "code",
      "execution_count": null,
      "metadata": {
        "id": "THaXtqAFTLmR"
      },
      "outputs": [],
      "source": []
    },
    {
      "cell_type": "markdown",
      "metadata": {
        "id": "qULWSjpnTLmR"
      },
      "source": [
        "c. Extrae \"Veracruz\""
      ]
    },
    {
      "cell_type": "code",
      "execution_count": null,
      "metadata": {
        "id": "96x_PJreTLmR"
      },
      "outputs": [],
      "source": []
    }
  ],
  "metadata": {
    "kernelspec": {
      "display_name": "Python 3",
      "language": "python",
      "name": "python3"
    },
    "language_info": {
      "codemirror_mode": {
        "name": "ipython",
        "version": 3
      },
      "file_extension": ".py",
      "mimetype": "text/x-python",
      "name": "python",
      "nbconvert_exporter": "python",
      "pygments_lexer": "ipython3",
      "version": "3.7.3"
    },
    "colab": {
      "provenance": []
    }
  },
  "nbformat": 4,
  "nbformat_minor": 0
}