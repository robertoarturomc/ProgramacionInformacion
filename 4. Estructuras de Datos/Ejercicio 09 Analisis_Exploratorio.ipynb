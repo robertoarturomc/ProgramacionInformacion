{
  "nbformat": 4,
  "nbformat_minor": 0,
  "metadata": {
    "colab": {
      "name": "Ejercicio 9 Analisis Exploratorio.ipynb",
      "provenance": []
    },
    "kernelspec": {
      "name": "python3",
      "display_name": "Python 3"
    },
    "language_info": {
      "name": "python"
    }
  },
  "cells": [
    {
      "cell_type": "markdown",
      "metadata": {
        "id": "0qxSZpBaI4Ca"
      },
      "source": [
        "# Ejercicio 09: Análisis Exploratorio de Datos con Python\n",
        "Para este ejercicio, vamos a practicar el uso de la librería Pandas\n",
        "Instrucciones\n",
        "Corre las siguientes celda para leer el archivo _anscombe.json_ . Los archivos json tienen un formato distinto a los csv, pero pandas los puede leer de una forma muy parecida para trabajar con ellos. \n",
        "A continuación, resuelve las siguientes tareas:"
      ]
    },
    {
      "cell_type": "code",
      "metadata": {
        "id": "hBRZv0DZKNy1"
      },
      "source": [
        "import pandas as pd\n",
        "import numpy as np"
      ],
      "execution_count": 2,
      "outputs": []
    },
    {
      "cell_type": "code",
      "metadata": {
        "colab": {
          "base_uri": "https://localhost:8080/",
          "height": 206
        },
        "id": "CwAzxBXxKXCl",
        "outputId": "9c159d11-740c-4881-eb93-7aa311fc6e61"
      },
      "source": [
        "df = pd.read_json(\"sample_data/anscombe.json\")\n",
        "df.head()"
      ],
      "execution_count": 4,
      "outputs": [
        {
          "output_type": "execute_result",
          "data": {
            "text/html": [
              "<div>\n",
              "<style scoped>\n",
              "    .dataframe tbody tr th:only-of-type {\n",
              "        vertical-align: middle;\n",
              "    }\n",
              "\n",
              "    .dataframe tbody tr th {\n",
              "        vertical-align: top;\n",
              "    }\n",
              "\n",
              "    .dataframe thead th {\n",
              "        text-align: right;\n",
              "    }\n",
              "</style>\n",
              "<table border=\"1\" class=\"dataframe\">\n",
              "  <thead>\n",
              "    <tr style=\"text-align: right;\">\n",
              "      <th></th>\n",
              "      <th>Series</th>\n",
              "      <th>X</th>\n",
              "      <th>Y</th>\n",
              "    </tr>\n",
              "  </thead>\n",
              "  <tbody>\n",
              "    <tr>\n",
              "      <th>0</th>\n",
              "      <td>I</td>\n",
              "      <td>10</td>\n",
              "      <td>8.04</td>\n",
              "    </tr>\n",
              "    <tr>\n",
              "      <th>1</th>\n",
              "      <td>I</td>\n",
              "      <td>8</td>\n",
              "      <td>6.95</td>\n",
              "    </tr>\n",
              "    <tr>\n",
              "      <th>2</th>\n",
              "      <td>I</td>\n",
              "      <td>13</td>\n",
              "      <td>7.58</td>\n",
              "    </tr>\n",
              "    <tr>\n",
              "      <th>3</th>\n",
              "      <td>I</td>\n",
              "      <td>9</td>\n",
              "      <td>8.81</td>\n",
              "    </tr>\n",
              "    <tr>\n",
              "      <th>4</th>\n",
              "      <td>I</td>\n",
              "      <td>11</td>\n",
              "      <td>8.33</td>\n",
              "    </tr>\n",
              "  </tbody>\n",
              "</table>\n",
              "</div>"
            ],
            "text/plain": [
              "  Series   X     Y\n",
              "0      I  10  8.04\n",
              "1      I   8  6.95\n",
              "2      I  13  7.58\n",
              "3      I   9  8.81\n",
              "4      I  11  8.33"
            ]
          },
          "metadata": {},
          "execution_count": 4
        }
      ]
    },
    {
      "cell_type": "markdown",
      "metadata": {
        "id": "6J9CPR-5RMgQ"
      },
      "source": [
        "### 1. Responde como comentario: ¿Por qué fue necesario escribir *sample_data* al leer el archivo _anscombe.json_? \n",
        "(Tip: da clic en el folder que aparece en la barra de la izquierda en _Google Colab_) "
      ]
    },
    {
      "cell_type": "code",
      "metadata": {
        "id": "eTfF3Gl-R6jD"
      },
      "source": [
        ""
      ],
      "execution_count": null,
      "outputs": []
    },
    {
      "cell_type": "markdown",
      "metadata": {
        "id": "s_5HplX6PxgC"
      },
      "source": [
        "### 2. Usa la función adecuada de NumPy para calcular la **multiplicación de matrices** entre `df[\"X\"]` y `df[\"Y\"]`.\n",
        "\n",
        "\n"
      ]
    },
    {
      "cell_type": "code",
      "metadata": {
        "colab": {
          "base_uri": "https://localhost:8080/"
        },
        "id": "2zeDdRu-Ksfh",
        "outputId": "5babdba9-abeb-4ea6-845e-690b522bc765"
      },
      "source": [
        ""
      ],
      "execution_count": 7,
      "outputs": [
        {
          "output_type": "execute_result",
          "data": {
            "text/plain": [
              "3190.1699999999996"
            ]
          },
          "metadata": {},
          "execution_count": 7
        }
      ]
    },
    {
      "cell_type": "markdown",
      "metadata": {
        "id": "pcSPvrteQuGz"
      },
      "source": [
        "### 3. Crea una nueva columna en df, llamada Z. Llénala con los resultados de dividir `df[\"Y\"]` entre `df[\"X\"]`"
      ]
    },
    {
      "cell_type": "code",
      "metadata": {
        "id": "e8gAnI6tR4nH"
      },
      "source": [
        ""
      ],
      "execution_count": null,
      "outputs": []
    },
    {
      "cell_type": "markdown",
      "metadata": {
        "id": "_fCmVuXVSFQ6"
      },
      "source": [
        "### 4. Imprime las dimensiones (tamaño) de _df_"
      ]
    },
    {
      "cell_type": "code",
      "metadata": {
        "id": "2BddIWmRSWGU"
      },
      "source": [
        ""
      ],
      "execution_count": null,
      "outputs": []
    },
    {
      "cell_type": "markdown",
      "metadata": {
        "id": "8bdTICI7SehE"
      },
      "source": [
        "### 5. ¿Ves ese 7.58 en la columna de Y? Usa `df.iloc` para filtrar solo ese valor.\n",
        "\n",
        "Tip: si no lo has estado ocupando, usa `df.head()`para ver cómo se ve tu tabla hasta el momento."
      ]
    },
    {
      "cell_type": "code",
      "metadata": {
        "id": "FzmkBxB_Sk1T"
      },
      "source": [
        ""
      ],
      "execution_count": 11,
      "outputs": []
    },
    {
      "cell_type": "markdown",
      "metadata": {
        "id": "UQr5OLH8VLhn"
      },
      "source": [
        "### 6. Calcula, para cada hilera, la mediana entre \"X\", \"Y\" y \"Z\"."
      ]
    },
    {
      "cell_type": "code",
      "metadata": {
        "id": "n_QJBXSgWaYN"
      },
      "source": [
        ""
      ],
      "execution_count": null,
      "outputs": []
    },
    {
      "cell_type": "markdown",
      "metadata": {
        "id": "FEAF0bDDUEJe"
      },
      "source": [
        "### 7. A continuación, te regalo un código. Básate en él para filtrar según los cuatro valores distintos de \"Series\" y guárdalo en Data Frames con el nombre de _uno_, _dos_, _tres_ y _cuatro_, manteniendo sólo las columnas X y Y.\n",
        "Tip: si lo necesitas, ocupa `df[\"Series\"].unique()` para ver qué valores tendrás que ocupar."
      ]
    },
    {
      "cell_type": "code",
      "metadata": {
        "colab": {
          "base_uri": "https://localhost:8080/",
          "height": 394
        },
        "id": "s7EbkdUMYiR5",
        "outputId": "291db23a-df07-449b-df4d-432401b7fd56"
      },
      "source": [
        "df.loc[ df[\"Series\"]==\"I\" , [\"X\", \"Y\"]]"
      ],
      "execution_count": 32,
      "outputs": [
        {
          "output_type": "execute_result",
          "data": {
            "text/html": [
              "<div>\n",
              "<style scoped>\n",
              "    .dataframe tbody tr th:only-of-type {\n",
              "        vertical-align: middle;\n",
              "    }\n",
              "\n",
              "    .dataframe tbody tr th {\n",
              "        vertical-align: top;\n",
              "    }\n",
              "\n",
              "    .dataframe thead th {\n",
              "        text-align: right;\n",
              "    }\n",
              "</style>\n",
              "<table border=\"1\" class=\"dataframe\">\n",
              "  <thead>\n",
              "    <tr style=\"text-align: right;\">\n",
              "      <th></th>\n",
              "      <th>X</th>\n",
              "      <th>Y</th>\n",
              "    </tr>\n",
              "  </thead>\n",
              "  <tbody>\n",
              "    <tr>\n",
              "      <th>0</th>\n",
              "      <td>10</td>\n",
              "      <td>8.04</td>\n",
              "    </tr>\n",
              "    <tr>\n",
              "      <th>1</th>\n",
              "      <td>8</td>\n",
              "      <td>6.95</td>\n",
              "    </tr>\n",
              "    <tr>\n",
              "      <th>2</th>\n",
              "      <td>13</td>\n",
              "      <td>7.58</td>\n",
              "    </tr>\n",
              "    <tr>\n",
              "      <th>3</th>\n",
              "      <td>9</td>\n",
              "      <td>8.81</td>\n",
              "    </tr>\n",
              "    <tr>\n",
              "      <th>4</th>\n",
              "      <td>11</td>\n",
              "      <td>8.33</td>\n",
              "    </tr>\n",
              "    <tr>\n",
              "      <th>5</th>\n",
              "      <td>14</td>\n",
              "      <td>9.96</td>\n",
              "    </tr>\n",
              "    <tr>\n",
              "      <th>6</th>\n",
              "      <td>6</td>\n",
              "      <td>7.24</td>\n",
              "    </tr>\n",
              "    <tr>\n",
              "      <th>7</th>\n",
              "      <td>4</td>\n",
              "      <td>4.26</td>\n",
              "    </tr>\n",
              "    <tr>\n",
              "      <th>8</th>\n",
              "      <td>12</td>\n",
              "      <td>10.84</td>\n",
              "    </tr>\n",
              "    <tr>\n",
              "      <th>9</th>\n",
              "      <td>7</td>\n",
              "      <td>4.81</td>\n",
              "    </tr>\n",
              "    <tr>\n",
              "      <th>10</th>\n",
              "      <td>5</td>\n",
              "      <td>5.68</td>\n",
              "    </tr>\n",
              "  </tbody>\n",
              "</table>\n",
              "</div>"
            ],
            "text/plain": [
              "     X      Y\n",
              "0   10   8.04\n",
              "1    8   6.95\n",
              "2   13   7.58\n",
              "3    9   8.81\n",
              "4   11   8.33\n",
              "5   14   9.96\n",
              "6    6   7.24\n",
              "7    4   4.26\n",
              "8   12  10.84\n",
              "9    7   4.81\n",
              "10   5   5.68"
            ]
          },
          "metadata": {},
          "execution_count": 32
        }
      ]
    },
    {
      "cell_type": "markdown",
      "metadata": {
        "id": "ze4NCh5KnpVV"
      },
      "source": [
        "### 8. Calcula la media de las dos columnas de _uno_. También, la media de las dos columnas de _dos_."
      ]
    },
    {
      "cell_type": "code",
      "metadata": {
        "id": "k5lR0rOvn9DV"
      },
      "source": [
        ""
      ],
      "execution_count": null,
      "outputs": []
    },
    {
      "cell_type": "markdown",
      "metadata": {
        "id": "Eglx33jwn-Wd"
      },
      "source": [
        "### 9. Calcula la varianza de las dos columnas de _tres_. También, la varianza de las dos columnas de _cuatro_."
      ]
    },
    {
      "cell_type": "code",
      "metadata": {
        "id": "sGnLAg16oTLa"
      },
      "source": [
        ""
      ],
      "execution_count": null,
      "outputs": []
    },
    {
      "cell_type": "markdown",
      "metadata": {
        "id": "82xmDFf_oU64"
      },
      "source": [
        "### 10. Calcula la correlación entre las dos variables de _dos_. También, la correlación entre las dos variables de _cuatro_."
      ]
    },
    {
      "cell_type": "code",
      "metadata": {
        "id": "3n040DPNob1k"
      },
      "source": [
        ""
      ],
      "execution_count": null,
      "outputs": []
    },
    {
      "cell_type": "markdown",
      "metadata": {
        "id": "FbRY344toe1j"
      },
      "source": [
        "Si lo hiciste bien, los resultados te deben dar iguales o casi iguales para los dos Dataframes. Pero, ¡los datos son distintos! (Puedes ver las cuatro tablas para confirmar cómo son distitnos).\n",
        "\n",
        "Sacar solamente métricas para describir un problema puede llegar a ser engañoso. A veces, es necesario *visualizar* los problemas desde ángulo..."
      ]
    },
    {
      "cell_type": "code",
      "metadata": {
        "id": "nrp3TiBSpjvE"
      },
      "source": [
        ""
      ],
      "execution_count": null,
      "outputs": []
    }
  ]
}