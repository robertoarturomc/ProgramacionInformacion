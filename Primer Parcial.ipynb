{
 "cells": [
  {
   "cell_type": "markdown",
   "metadata": {},
   "source": [
    "# Primer Parcial\n",
    "## Programación de la Información.\n",
    "### Instrucciones.\n",
    "\n",
    "Contesta los ejercicios según se te indique. De requerirlo, puedes apoyarte de Internet o los ejercicios de clase, para copiar _snippets_ de código que te vayan a servir,\n",
    "\n",
    "Al finalizar, ve a `Archivo -> Descargar` y comparte el archivo en formato `.ipynb` en Brightspace.\n",
    "\n",
    "La evaluación se califica sobre 10 puntos."
   ]
  },
  {
   "cell_type": "markdown",
   "metadata": {},
   "source": [
    "### 1. (2 puntos)\n",
    "#### Veamos si aprendiste a ocupar los comentarios.  Contesta las siguientes preguntas. Antes de tu respuesta, coloca el símbolo necesario, para que tu respuesta quede como comentario de Python.\n",
    "\n",
    "¿Cuál es la diferencia entre un algoritmo y un programa?"
   ]
  },
  {
   "cell_type": "code",
   "execution_count": null,
   "metadata": {},
   "outputs": [],
   "source": []
  },
  {
   "cell_type": "markdown",
   "metadata": {},
   "source": [
    "¿Qué debo hacer primero? ¿Analizar y entender el problema, o escoger el lenguaje de programación que voy a usar?"
   ]
  },
  {
   "cell_type": "code",
   "execution_count": null,
   "metadata": {},
   "outputs": [],
   "source": []
  },
  {
   "cell_type": "markdown",
   "metadata": {},
   "source": [
    "### 2. (2 puntos)\n",
    "#### Escribe el código necesario para guardar correctamente los siguientes valores como variables; escoge un nombre apropiado para ellas.\n",
    "* Tu Apellido Materno \n",
    "* 3.14\n",
    "* El valor booleano (lógico) \"falso\"\n",
    "* Tu edad"
   ]
  },
  {
   "cell_type": "code",
   "execution_count": null,
   "metadata": {},
   "outputs": [],
   "source": []
  },
  {
   "cell_type": "markdown",
   "metadata": {},
   "source": [
    "### 3. (2 puntos)\n",
    "\n",
    "#### Copia y pega en la celda de abajo. Aplica UN SOLO CAMBIO (¡el que quieras!), para que la respuesta a las operaciones sea \"True\"\n",
    "Todo se vale, mientras sólo elimines, cambies o agregues UNA palabra/símbolo."
   ]
  },
  {
   "cell_type": "markdown",
   "metadata": {},
   "source": [
    "`not not False`"
   ]
  },
  {
   "cell_type": "code",
   "execution_count": null,
   "metadata": {},
   "outputs": [],
   "source": []
  },
  {
   "cell_type": "markdown",
   "metadata": {},
   "source": [
    "` 255 <= 125 * 2 `"
   ]
  },
  {
   "cell_type": "code",
   "execution_count": null,
   "metadata": {},
   "outputs": [],
   "source": []
  },
  {
   "cell_type": "markdown",
   "metadata": {},
   "source": [
    "` (25 == 14) and True`"
   ]
  },
  {
   "cell_type": "code",
   "execution_count": null,
   "metadata": {},
   "outputs": [],
   "source": []
  },
  {
   "cell_type": "markdown",
   "metadata": {},
   "source": [
    "`10 % 2 >= 0 `"
   ]
  },
  {
   "cell_type": "code",
   "execution_count": null,
   "metadata": {},
   "outputs": [],
   "source": []
  },
  {
   "cell_type": "markdown",
   "metadata": {},
   "source": [
    "### 4. (2 puntos)\n",
    "#### Traduce la siguiente oración a código de python; ocupa condicionales y/o ciclos.\n",
    "\n",
    "Si tu edad** es mayor o igual a 20, imprime \"Te vacunan esta semana\". Si tu edad es mayor o igual a 18, imprime \"Ya casi te toca\". En los demás casos, imprime \" :( \"\n",
    "\n",
    "\n",
    "** Reutiliza la variable de edad que creaste en el ejercicio 2."
   ]
  },
  {
   "cell_type": "code",
   "execution_count": null,
   "metadata": {},
   "outputs": [],
   "source": []
  },
  {
   "cell_type": "markdown",
   "metadata": {},
   "source": [
    "### 5. (3 puntos)\n",
    "#### Elige y resuelve uno de los ejercicios:\n",
    "\n",
    "* Por 2 puntos: Usa un ciclo para imprimir los primeros 10 múltiplos de 5.\n",
    "* Por 3 puntos: Usa un ciclo para imprimir los primeros 10 múltiplos de 5. Si ese múltiplo también es par, imprime \"Es par\"."
   ]
  },
  {
   "cell_type": "code",
   "execution_count": null,
   "metadata": {},
   "outputs": [],
   "source": []
  }
 ],
 "metadata": {
  "kernelspec": {
   "display_name": "Python 3",
   "language": "python",
   "name": "python3"
  },
  "language_info": {
   "codemirror_mode": {
    "name": "ipython",
    "version": 3
   },
   "file_extension": ".py",
   "mimetype": "text/x-python",
   "name": "python",
   "nbconvert_exporter": "python",
   "pygments_lexer": "ipython3",
   "version": "3.7.3"
  }
 },
 "nbformat": 4,
 "nbformat_minor": 2
}
