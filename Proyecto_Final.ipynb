{
  "nbformat": 4,
  "nbformat_minor": 0,
  "metadata": {
    "colab": {
      "provenance": [],
      "authorship_tag": "ABX9TyMoSYdGRi8RXIcOWY4lTlGW",
      "include_colab_link": true
    },
    "kernelspec": {
      "name": "python3",
      "display_name": "Python 3"
    },
    "language_info": {
      "name": "python"
    }
  },
  "cells": [
    {
      "cell_type": "markdown",
      "metadata": {
        "id": "view-in-github",
        "colab_type": "text"
      },
      "source": [
        "<a href=\"https://colab.research.google.com/github/robertoarturomc/ProgramacionInformacion/blob/main/Proyecto_Final.ipynb\" target=\"_parent\"><img src=\"https://colab.research.google.com/assets/colab-badge.svg\" alt=\"Open In Colab\"/></a>"
      ]
    },
    {
      "cell_type": "code",
      "execution_count": null,
      "metadata": {
        "id": "8D8cB08Uoye1"
      },
      "outputs": [],
      "source": [
        "import numpy as np\n",
        "import pandas as pd\n",
        "import matplotlib.pyplot as plt"
      ]
    },
    {
      "cell_type": "markdown",
      "source": [
        "Para el proyecto final, vamos a trabajar con el dataset contenido en la siguiente pagina:"
      ],
      "metadata": {
        "id": "lmfYQkEzqI6i"
      }
    },
    {
      "cell_type": "markdown",
      "source": [
        "https://www.kaggle.com/datasets/parulpandey/forbes-highest-paid-athletes-19902019?resource=download"
      ],
      "metadata": {
        "id": "S_KoQSt7puuK"
      }
    },
    {
      "cell_type": "markdown",
      "source": [
        "Tu primer tarea sera descargar el archivo (viene en una carpeta comprimida .zip). Una vez descargado, haz clic en el dibujo de la carpeta que aparece en la barra de la izquierda, para cargar el archivo.\n",
        "\n",
        "Ya que este cargado, prueba a correr la siguiente celda para leer los datos (adaptala de ser necesario)."
      ],
      "metadata": {
        "id": "u-k2OZKCqOdB"
      }
    },
    {
      "cell_type": "code",
      "source": [
        "data = pd.read_csv(\"richest_athletes.csv\")\n",
        "data.head()"
      ],
      "metadata": {
        "colab": {
          "base_uri": "https://localhost:8080/",
          "height": 250
        },
        "id": "aqJHbzjIpfuP",
        "outputId": "50423875-2f6d-43f8-9589-432b8863cda2"
      },
      "execution_count": null,
      "outputs": [
        {
          "output_type": "execute_result",
          "data": {
            "text/plain": [
              "   S.NO               Name Nationality  Current Rank Previous Year Rank  \\\n",
              "0     1         Mike Tyson         USA             1                NaN   \n",
              "1     2     Buster Douglas         USA             2                NaN   \n",
              "2     3  Sugar Ray Leonard         USA             3                NaN   \n",
              "3     4       Ayrton Senna      Brazil             4                NaN   \n",
              "4     5        Alain Prost      France             5                NaN   \n",
              "\n",
              "         Sport  Year  earnings ($ million)  \n",
              "0       boxing  1990                  28.6  \n",
              "1       boxing  1990                  26.0  \n",
              "2       boxing  1990                  13.0  \n",
              "3  auto racing  1990                  10.0  \n",
              "4  auto racing  1990                   9.0  "
            ],
            "text/html": [
              "\n",
              "  <div id=\"df-25d4e717-a4c7-47bc-868c-2ad6aca9f2db\">\n",
              "    <div class=\"colab-df-container\">\n",
              "      <div>\n",
              "<style scoped>\n",
              "    .dataframe tbody tr th:only-of-type {\n",
              "        vertical-align: middle;\n",
              "    }\n",
              "\n",
              "    .dataframe tbody tr th {\n",
              "        vertical-align: top;\n",
              "    }\n",
              "\n",
              "    .dataframe thead th {\n",
              "        text-align: right;\n",
              "    }\n",
              "</style>\n",
              "<table border=\"1\" class=\"dataframe\">\n",
              "  <thead>\n",
              "    <tr style=\"text-align: right;\">\n",
              "      <th></th>\n",
              "      <th>S.NO</th>\n",
              "      <th>Name</th>\n",
              "      <th>Nationality</th>\n",
              "      <th>Current Rank</th>\n",
              "      <th>Previous Year Rank</th>\n",
              "      <th>Sport</th>\n",
              "      <th>Year</th>\n",
              "      <th>earnings ($ million)</th>\n",
              "    </tr>\n",
              "  </thead>\n",
              "  <tbody>\n",
              "    <tr>\n",
              "      <th>0</th>\n",
              "      <td>1</td>\n",
              "      <td>Mike Tyson</td>\n",
              "      <td>USA</td>\n",
              "      <td>1</td>\n",
              "      <td>NaN</td>\n",
              "      <td>boxing</td>\n",
              "      <td>1990</td>\n",
              "      <td>28.6</td>\n",
              "    </tr>\n",
              "    <tr>\n",
              "      <th>1</th>\n",
              "      <td>2</td>\n",
              "      <td>Buster Douglas</td>\n",
              "      <td>USA</td>\n",
              "      <td>2</td>\n",
              "      <td>NaN</td>\n",
              "      <td>boxing</td>\n",
              "      <td>1990</td>\n",
              "      <td>26.0</td>\n",
              "    </tr>\n",
              "    <tr>\n",
              "      <th>2</th>\n",
              "      <td>3</td>\n",
              "      <td>Sugar Ray Leonard</td>\n",
              "      <td>USA</td>\n",
              "      <td>3</td>\n",
              "      <td>NaN</td>\n",
              "      <td>boxing</td>\n",
              "      <td>1990</td>\n",
              "      <td>13.0</td>\n",
              "    </tr>\n",
              "    <tr>\n",
              "      <th>3</th>\n",
              "      <td>4</td>\n",
              "      <td>Ayrton Senna</td>\n",
              "      <td>Brazil</td>\n",
              "      <td>4</td>\n",
              "      <td>NaN</td>\n",
              "      <td>auto racing</td>\n",
              "      <td>1990</td>\n",
              "      <td>10.0</td>\n",
              "    </tr>\n",
              "    <tr>\n",
              "      <th>4</th>\n",
              "      <td>5</td>\n",
              "      <td>Alain Prost</td>\n",
              "      <td>France</td>\n",
              "      <td>5</td>\n",
              "      <td>NaN</td>\n",
              "      <td>auto racing</td>\n",
              "      <td>1990</td>\n",
              "      <td>9.0</td>\n",
              "    </tr>\n",
              "  </tbody>\n",
              "</table>\n",
              "</div>\n",
              "      <button class=\"colab-df-convert\" onclick=\"convertToInteractive('df-25d4e717-a4c7-47bc-868c-2ad6aca9f2db')\"\n",
              "              title=\"Convert this dataframe to an interactive table.\"\n",
              "              style=\"display:none;\">\n",
              "        \n",
              "  <svg xmlns=\"http://www.w3.org/2000/svg\" height=\"24px\"viewBox=\"0 0 24 24\"\n",
              "       width=\"24px\">\n",
              "    <path d=\"M0 0h24v24H0V0z\" fill=\"none\"/>\n",
              "    <path d=\"M18.56 5.44l.94 2.06.94-2.06 2.06-.94-2.06-.94-.94-2.06-.94 2.06-2.06.94zm-11 1L8.5 8.5l.94-2.06 2.06-.94-2.06-.94L8.5 2.5l-.94 2.06-2.06.94zm10 10l.94 2.06.94-2.06 2.06-.94-2.06-.94-.94-2.06-.94 2.06-2.06.94z\"/><path d=\"M17.41 7.96l-1.37-1.37c-.4-.4-.92-.59-1.43-.59-.52 0-1.04.2-1.43.59L10.3 9.45l-7.72 7.72c-.78.78-.78 2.05 0 2.83L4 21.41c.39.39.9.59 1.41.59.51 0 1.02-.2 1.41-.59l7.78-7.78 2.81-2.81c.8-.78.8-2.07 0-2.86zM5.41 20L4 18.59l7.72-7.72 1.47 1.35L5.41 20z\"/>\n",
              "  </svg>\n",
              "      </button>\n",
              "      \n",
              "  <style>\n",
              "    .colab-df-container {\n",
              "      display:flex;\n",
              "      flex-wrap:wrap;\n",
              "      gap: 12px;\n",
              "    }\n",
              "\n",
              "    .colab-df-convert {\n",
              "      background-color: #E8F0FE;\n",
              "      border: none;\n",
              "      border-radius: 50%;\n",
              "      cursor: pointer;\n",
              "      display: none;\n",
              "      fill: #1967D2;\n",
              "      height: 32px;\n",
              "      padding: 0 0 0 0;\n",
              "      width: 32px;\n",
              "    }\n",
              "\n",
              "    .colab-df-convert:hover {\n",
              "      background-color: #E2EBFA;\n",
              "      box-shadow: 0px 1px 2px rgba(60, 64, 67, 0.3), 0px 1px 3px 1px rgba(60, 64, 67, 0.15);\n",
              "      fill: #174EA6;\n",
              "    }\n",
              "\n",
              "    [theme=dark] .colab-df-convert {\n",
              "      background-color: #3B4455;\n",
              "      fill: #D2E3FC;\n",
              "    }\n",
              "\n",
              "    [theme=dark] .colab-df-convert:hover {\n",
              "      background-color: #434B5C;\n",
              "      box-shadow: 0px 1px 3px 1px rgba(0, 0, 0, 0.15);\n",
              "      filter: drop-shadow(0px 1px 2px rgba(0, 0, 0, 0.3));\n",
              "      fill: #FFFFFF;\n",
              "    }\n",
              "  </style>\n",
              "\n",
              "      <script>\n",
              "        const buttonEl =\n",
              "          document.querySelector('#df-25d4e717-a4c7-47bc-868c-2ad6aca9f2db button.colab-df-convert');\n",
              "        buttonEl.style.display =\n",
              "          google.colab.kernel.accessAllowed ? 'block' : 'none';\n",
              "\n",
              "        async function convertToInteractive(key) {\n",
              "          const element = document.querySelector('#df-25d4e717-a4c7-47bc-868c-2ad6aca9f2db');\n",
              "          const dataTable =\n",
              "            await google.colab.kernel.invokeFunction('convertToInteractive',\n",
              "                                                     [key], {});\n",
              "          if (!dataTable) return;\n",
              "\n",
              "          const docLinkHtml = 'Like what you see? Visit the ' +\n",
              "            '<a target=\"_blank\" href=https://colab.research.google.com/notebooks/data_table.ipynb>data table notebook</a>'\n",
              "            + ' to learn more about interactive tables.';\n",
              "          element.innerHTML = '';\n",
              "          dataTable['output_type'] = 'display_data';\n",
              "          await google.colab.output.renderOutput(dataTable, element);\n",
              "          const docLink = document.createElement('div');\n",
              "          docLink.innerHTML = docLinkHtml;\n",
              "          element.appendChild(docLink);\n",
              "        }\n",
              "      </script>\n",
              "    </div>\n",
              "  </div>\n",
              "  "
            ]
          },
          "metadata": {},
          "execution_count": 3
        }
      ]
    },
    {
      "cell_type": "code",
      "source": [],
      "metadata": {
        "id": "BNZyy_AGs5fv"
      },
      "execution_count": null,
      "outputs": []
    },
    {
      "cell_type": "markdown",
      "source": [
        "En la tabla, tenemos datos sobre **los deportistas mejor pagados**, de 1990 a 2020. Tenemos informacion sobre su pais de origen, su ranking (aparecen 10 por año), el ranking del año anterior, su deporte y su ganancia en millones de dolares.\n",
        "\n",
        "Ahora, tu tarea es investigar mas a detalle sobre este dataset. El trabajo es abierto: curiosea, investiga y rasca a fondo. La idea es obtener *insights*, datos que no sabiamos antes.\n",
        "\n",
        "¿Qué se va a calificar?\n",
        "El proyecto vale 20% de la calificacion final.\n",
        "\n",
        "El primer 10% corresponde a la parte tecnica: \n",
        "1. Que respondas a 10 preguntas. Para ello, introduce una celda de texto (en la barra de arriba aparece un letrero de \"+ Texto\") y explica qué pregunta te hiciste sobre los datos y vas a responder. Por ejemplo: ¿Qué deportista fue el mejor pagado el año en el que nací?\n",
        "2. Que pongas la linea o el bloque de código que responda a esa pregunta que te hiciste.\n",
        "3. Una pequeña conclusión que hable sobre cada bloque de código.\n",
        "\n",
        "Deberas incluir: \n",
        "* al menos tres lineas de código con funciones que **NO** vimos en clase.\n",
        "* Al menos dos gráficos.\n",
        "\n",
        "--\n",
        "\n",
        "El otro 10% es la parte de las habilidades suaves:\n",
        "* Hay que saber traducir problemas de la vida real y convertirlos a problemas tecnicos, sin perder de vista el problema que estamos tratando de resolver. \n",
        "* Asegurate de que estes investigando asuntos relevantes (no seas taaaan especifico, ni tan general).\n",
        "* Asegurate que el codigo corresponda con lo que se supone que estas investigando.\n",
        "* Asegurate que tus conclusiones sean relevantes.\n",
        "\n",
        "El proyecto se entregará el dia que está programado el examen final en el calendario. No habrá prórrogas.\n"
      ],
      "metadata": {
        "id": "pm4C19mtsV6F"
      }
    },
    {
      "cell_type": "code",
      "source": [],
      "metadata": {
        "id": "fvu0VjhvqGRI"
      },
      "execution_count": null,
      "outputs": []
    }
  ]
}