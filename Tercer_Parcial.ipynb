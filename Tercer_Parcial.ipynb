{
  "nbformat": 4,
  "nbformat_minor": 0,
  "metadata": {
    "colab": {
      "name": "Tercer Parcial.ipynb",
      "provenance": []
    },
    "kernelspec": {
      "name": "python3",
      "display_name": "Python 3"
    },
    "language_info": {
      "name": "python"
    }
  },
  "cells": [
    {
      "cell_type": "markdown",
      "metadata": {
        "id": "SaPgBF2amv_S"
      },
      "source": [
        "### Programación de la Información\n",
        "# Tercer Parcial\n",
        "\n",
        "Lee con detenmimiento y contesta lo que se te solicita. Antes de finalizar, sube tu archivo en formato .ipynb al espacio correspondiente en Brightspace.\n",
        "\n",
        "Recuerda: si no te sale el resultado, deja escrito tu intento.\n",
        "\n",
        "¡Mucho éxito, y que la suerte esté siempre de su lado!"
      ]
    },
    {
      "cell_type": "code",
      "metadata": {
        "id": "kQv_8kcCmufD"
      },
      "source": [
        "import pandas as pd\n",
        "import numpy as np\n",
        "import matplotlib.pyplot as plt"
      ],
      "execution_count": 1,
      "outputs": []
    },
    {
      "cell_type": "markdown",
      "metadata": {
        "id": "PXXELmHVpLQC"
      },
      "source": [
        "## El Índice _Big Mac_\n",
        "\n",
        "Inventado por _The Economist_ en 1986, es una guía para saber si las monedas están en su nivel \"correcto\". Se basa en la teoría de la paridad del poder adquisitivo (PPA); \"el dólar debe comprar la misma cantidad de bienes o servicios en todos los países\".\n",
        "\n",
        "Por ejemplo: Una _Big Mac_ cuesta £3.49 en Reino Unido y $5.65 USD en los Estados Unidos. El tipo de cambio implícito es 0.62 dólares = 1 libra. El tipo de cambio real es de 0.73, lo sugiere que la libra esterlina está subvaluada en un 15.9%.\n",
        "\n",
        "A continuación, leerás y \"limpiarás\" los costos de la Big Mac en un grupo de países."
      ]
    },
    {
      "cell_type": "code",
      "metadata": {
        "colab": {
          "base_uri": "https://localhost:8080/",
          "height": 205
        },
        "id": "DDINO0c6pJAa",
        "outputId": "e1c46210-4e45-410f-e159-413d6d5807b0"
      },
      "source": [
        "wiki = pd.read_html('https://es.wikipedia.org/wiki/%C3%8Dndice_Big_Mac')\n",
        "\n",
        "df_sucio = wiki[1]\n",
        "df_sucio.tail()"
      ],
      "execution_count": 2,
      "outputs": [
        {
          "output_type": "execute_result",
          "data": {
            "text/html": [
              "<div>\n",
              "<style scoped>\n",
              "    .dataframe tbody tr th:only-of-type {\n",
              "        vertical-align: middle;\n",
              "    }\n",
              "\n",
              "    .dataframe tbody tr th {\n",
              "        vertical-align: top;\n",
              "    }\n",
              "\n",
              "    .dataframe thead th {\n",
              "        text-align: right;\n",
              "    }\n",
              "</style>\n",
              "<table border=\"1\" class=\"dataframe\">\n",
              "  <thead>\n",
              "    <tr style=\"text-align: right;\">\n",
              "      <th></th>\n",
              "      <th>PAIS</th>\n",
              "      <th>PRECIO PROMEDIO</th>\n",
              "      <th>SUELDO MEDIO</th>\n",
              "      <th>RESULTADO</th>\n",
              "    </tr>\n",
              "  </thead>\n",
              "  <tbody>\n",
              "    <tr>\n",
              "      <th>22</th>\n",
              "      <td>Suecia</td>\n",
              "      <td>6.37 dolares</td>\n",
              "      <td>3122</td>\n",
              "      <td>490</td>\n",
              "    </tr>\n",
              "    <tr>\n",
              "      <th>23</th>\n",
              "      <td>Holanda</td>\n",
              "      <td>8 dolares</td>\n",
              "      <td>3408</td>\n",
              "      <td>486</td>\n",
              "    </tr>\n",
              "    <tr>\n",
              "      <th>24</th>\n",
              "      <td>Irlanda</td>\n",
              "      <td>7 dolares</td>\n",
              "      <td>3016</td>\n",
              "      <td>430</td>\n",
              "    </tr>\n",
              "    <tr>\n",
              "      <th>25</th>\n",
              "      <td>Luxemburgo</td>\n",
              "      <td>10 dolares</td>\n",
              "      <td>4200</td>\n",
              "      <td>420</td>\n",
              "    </tr>\n",
              "    <tr>\n",
              "      <th>26</th>\n",
              "      <td>Oman</td>\n",
              "      <td>No data</td>\n",
              "      <td>3135</td>\n",
              "      <td>No data</td>\n",
              "    </tr>\n",
              "  </tbody>\n",
              "</table>\n",
              "</div>"
            ],
            "text/plain": [
              "          PAIS PRECIO PROMEDIO  SUELDO MEDIO RESULTADO\n",
              "22      Suecia    6.37 dolares          3122       490\n",
              "23     Holanda       8 dolares          3408       486\n",
              "24     Irlanda       7 dolares          3016       430\n",
              "25  Luxemburgo      10 dolares          4200       420\n",
              "26        Oman         No data          3135   No data"
            ]
          },
          "metadata": {},
          "execution_count": 2
        }
      ]
    },
    {
      "cell_type": "code",
      "metadata": {
        "colab": {
          "base_uri": "https://localhost:8080/",
          "height": 205
        },
        "id": "p8oQeDf2q-wU",
        "outputId": "af1cb207-8a81-4c56-d9db-8767603005f7"
      },
      "source": [
        "df = df_sucio.iloc[:-1, :].copy()\n",
        "df[\"RESULTADO\"] = df[\"RESULTADO\"].astype(\"float\")\n",
        "precios = df[\"PRECIO PROMEDIO\"].str.split(\" \")\n",
        "df[\"PRECIO PROMEDIO\"] = precios.apply(lambda x: x[0])\n",
        "df.tail()"
      ],
      "execution_count": 3,
      "outputs": [
        {
          "output_type": "execute_result",
          "data": {
            "text/html": [
              "<div>\n",
              "<style scoped>\n",
              "    .dataframe tbody tr th:only-of-type {\n",
              "        vertical-align: middle;\n",
              "    }\n",
              "\n",
              "    .dataframe tbody tr th {\n",
              "        vertical-align: top;\n",
              "    }\n",
              "\n",
              "    .dataframe thead th {\n",
              "        text-align: right;\n",
              "    }\n",
              "</style>\n",
              "<table border=\"1\" class=\"dataframe\">\n",
              "  <thead>\n",
              "    <tr style=\"text-align: right;\">\n",
              "      <th></th>\n",
              "      <th>PAIS</th>\n",
              "      <th>PRECIO PROMEDIO</th>\n",
              "      <th>SUELDO MEDIO</th>\n",
              "      <th>RESULTADO</th>\n",
              "    </tr>\n",
              "  </thead>\n",
              "  <tbody>\n",
              "    <tr>\n",
              "      <th>21</th>\n",
              "      <td>Reino Unido</td>\n",
              "      <td>4.44</td>\n",
              "      <td>2297</td>\n",
              "      <td>517.0</td>\n",
              "    </tr>\n",
              "    <tr>\n",
              "      <th>22</th>\n",
              "      <td>Suecia</td>\n",
              "      <td>6.37</td>\n",
              "      <td>3122</td>\n",
              "      <td>490.0</td>\n",
              "    </tr>\n",
              "    <tr>\n",
              "      <th>23</th>\n",
              "      <td>Holanda</td>\n",
              "      <td>8</td>\n",
              "      <td>3408</td>\n",
              "      <td>486.0</td>\n",
              "    </tr>\n",
              "    <tr>\n",
              "      <th>24</th>\n",
              "      <td>Irlanda</td>\n",
              "      <td>7</td>\n",
              "      <td>3016</td>\n",
              "      <td>430.0</td>\n",
              "    </tr>\n",
              "    <tr>\n",
              "      <th>25</th>\n",
              "      <td>Luxemburgo</td>\n",
              "      <td>10</td>\n",
              "      <td>4200</td>\n",
              "      <td>420.0</td>\n",
              "    </tr>\n",
              "  </tbody>\n",
              "</table>\n",
              "</div>"
            ],
            "text/plain": [
              "           PAIS PRECIO PROMEDIO  SUELDO MEDIO  RESULTADO\n",
              "21  Reino Unido            4.44          2297      517.0\n",
              "22       Suecia            6.37          3122      490.0\n",
              "23      Holanda               8          3408      486.0\n",
              "24      Irlanda               7          3016      430.0\n",
              "25   Luxemburgo              10          4200      420.0"
            ]
          },
          "metadata": {},
          "execution_count": 3
        }
      ]
    },
    {
      "cell_type": "markdown",
      "metadata": {
        "id": "5BZT2xvztrC8"
      },
      "source": [
        "¡Debo agregar las unidades, para que no se me olvide que estoy trabajando con Dólares!\n",
        "### 1. Renombra las columnas y guarda los resultados en _df_: \n",
        "* \"PAIS\" a \"Pais\" \n",
        "* \"PRECIO PROMEDIO\" a \"Precio (USD)\"\n",
        "* \"SUELDO MEDIO\" a \"Sueldo (USD)\"\n",
        "* \"RESULTADO\" a \"Resultado\""
      ]
    },
    {
      "cell_type": "code",
      "metadata": {
        "id": "Dgi-8IuIrCou"
      },
      "source": [
        ""
      ],
      "execution_count": 3,
      "outputs": []
    },
    {
      "cell_type": "markdown",
      "metadata": {
        "id": "avqshV9wulnr"
      },
      "source": [
        "### 2. Ordena la tabla según _Precio (USD)_. \n",
        "No importa si es de mayor a menor o menor a mayor. Eso sí, ¡guarda los resultados en _df_."
      ]
    },
    {
      "cell_type": "code",
      "metadata": {
        "id": "27TOUVTLvBA-"
      },
      "source": [
        ""
      ],
      "execution_count": 3,
      "outputs": []
    },
    {
      "cell_type": "markdown",
      "metadata": {
        "id": "FVXCQfZFwZYx"
      },
      "source": [
        "### 3. Haz un _scatterplot_ (gráfica de puntos o de dispersión) de `df[\"Sueldo (USD)\"]` y `df[\"Precio (USD)\"]`.\n",
        "Esto te servirá para ver si hay alguna correlación (¿Las hamburguesas son más caras en los países que ganan más?).\n"
      ]
    },
    {
      "cell_type": "code",
      "metadata": {
        "id": "yDBHpfsvxEuP"
      },
      "source": [
        ""
      ],
      "execution_count": 3,
      "outputs": []
    },
    {
      "cell_type": "markdown",
      "metadata": {
        "id": "18eQVcnavLdw"
      },
      "source": [
        "Veamos en dónde son más caras las Big Mac.\n",
        "### 4. Haz una gráfica de barras Horizontales que muestre los precios en los distintos países.\n",
        "Tip: deberás utilizar `df[\"Pais\"]` y `df[\"Precio (USD)\"]`. "
      ]
    },
    {
      "cell_type": "code",
      "metadata": {
        "id": "GxfZpz_ov1xm"
      },
      "source": [
        ""
      ],
      "execution_count": 3,
      "outputs": []
    },
    {
      "cell_type": "markdown",
      "metadata": {
        "id": "WDR3TPwPyZ3d"
      },
      "source": [
        "Finalmente, para ver qué tantas Big Mac se pueden comprar con el salario promedio alrededor del mundo...\n",
        "### 5. Haz un Histograma de `df[\"Resultado\"]`. Especifica bins=5."
      ]
    },
    {
      "cell_type": "code",
      "metadata": {
        "id": "7XqC2-rpyzWK"
      },
      "source": [
        ""
      ],
      "execution_count": 3,
      "outputs": []
    },
    {
      "cell_type": "markdown",
      "metadata": {
        "id": "L1sLnsQcy16e"
      },
      "source": [
        "Bonus: espero que hayas agregado títulos generales y a los ejes de tus gráficos..."
      ]
    },
    {
      "cell_type": "code",
      "metadata": {
        "id": "KNx3yC7KzELm"
      },
      "source": [
        ""
      ],
      "execution_count": 3,
      "outputs": []
    }
  ]
}