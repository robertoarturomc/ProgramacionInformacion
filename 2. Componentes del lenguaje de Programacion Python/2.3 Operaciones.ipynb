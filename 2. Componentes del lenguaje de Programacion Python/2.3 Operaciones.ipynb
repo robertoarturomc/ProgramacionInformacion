{
  "cells": [
    {
      "cell_type": "markdown",
      "metadata": {
        "id": "yQ0nKH_RQVxV"
      },
      "source": [
        "# Operaciones\n",
        "## Operaciones Numéricas"
      ]
    },
    {
      "cell_type": "markdown",
      "metadata": {
        "id": "gAT0JbSqQVxe"
      },
      "source": [
        "Un uso muy sencillo que le podemos dar a Python, es usarlo como calculadora.\n"
      ]
    },
    {
      "cell_type": "code",
      "execution_count": null,
      "metadata": {
        "id": "IM9XRhA2QVxe",
        "outputId": "3129b17c-e113-4df4-916c-b52239666d22"
      },
      "outputs": [
        {
          "data": {
            "text/plain": [
              "4"
            ]
          },
          "execution_count": 1,
          "metadata": {},
          "output_type": "execute_result"
        }
      ],
      "source": [
        "2 + 2"
      ]
    },
    {
      "cell_type": "code",
      "execution_count": null,
      "metadata": {
        "id": "sv5yUIoFQVxg",
        "outputId": "d05c0d8f-025d-4026-f2de-9081aa3161d1"
      },
      "outputs": [
        {
          "data": {
            "text/plain": [
              "3"
            ]
          },
          "execution_count": 4,
          "metadata": {},
          "output_type": "execute_result"
        }
      ],
      "source": [
        "5 -2"
      ]
    },
    {
      "cell_type": "code",
      "execution_count": null,
      "metadata": {
        "id": "FSAoT0e9QVxg",
        "outputId": "f90dde54-8665-4945-81ac-dd32bb5f5bc9"
      },
      "outputs": [
        {
          "data": {
            "text/plain": [
              "9"
            ]
          },
          "execution_count": 3,
          "metadata": {},
          "output_type": "execute_result"
        }
      ],
      "source": [
        "3 * 3"
      ]
    },
    {
      "cell_type": "code",
      "execution_count": null,
      "metadata": {
        "id": "rhlgXyusQVxg",
        "outputId": "fb90af50-7c0e-49d6-c329-89f88c51bda7"
      },
      "outputs": [
        {
          "data": {
            "text/plain": [
              "7.888888888888889"
            ]
          },
          "execution_count": 5,
          "metadata": {},
          "output_type": "execute_result"
        }
      ],
      "source": [
        "71/9"
      ]
    },
    {
      "cell_type": "markdown",
      "source": [
        "### Operación Módulo\n",
        "\n",
        "Esta operación nos devuelve el residuo tras hacer una división. Por ejemplo, si hago 11 Módulo 3 => divido 11 entre 4, el resultado entero es 2, y me sobran 3. \n",
        "Por lo tanto, 11 mod 4 = 3.\n",
        "\n",
        "En Python, ocupo un simbolo de portcentaje (`%`)"
      ],
      "metadata": {
        "id": "tXCGdpGFRqkq"
      }
    },
    {
      "cell_type": "code",
      "execution_count": null,
      "metadata": {
        "id": "gS2KSvq6QVxg",
        "outputId": "605a0d3f-4106-4fbf-85b1-43eb0926e270"
      },
      "outputs": [
        {
          "data": {
            "text/plain": [
              "1"
            ]
          },
          "execution_count": 6,
          "metadata": {},
          "output_type": "execute_result"
        }
      ],
      "source": [
        "21 % 5"
      ]
    },
    {
      "cell_type": "markdown",
      "source": [
        "## Potencias\n",
        "\n",
        "Para elevar a una potencia, ocupo dos asteriscos seguidos."
      ],
      "metadata": {
        "id": "roswaBOnRxsC"
      }
    },
    {
      "cell_type": "code",
      "execution_count": null,
      "metadata": {
        "id": "mxz4_wlyQVxh",
        "outputId": "3b0f132f-fe8e-4015-f842-c67e72ee897a"
      },
      "outputs": [
        {
          "data": {
            "text/plain": [
              "27"
            ]
          },
          "execution_count": 7,
          "metadata": {},
          "output_type": "execute_result"
        }
      ],
      "source": [
        "3 ** 3"
      ]
    },
    {
      "cell_type": "markdown",
      "metadata": {
        "id": "QZeHXzqoQVxh"
      },
      "source": [
        "Eso sí, esas operaciones ¡sólo funcionan para valores numéricos!"
      ]
    },
    {
      "cell_type": "code",
      "execution_count": null,
      "metadata": {
        "id": "L9kemOVNQVxi",
        "outputId": "5f9eafc2-6282-4e57-c884-7e9e43fca6d5"
      },
      "outputs": [
        {
          "ename": "TypeError",
          "evalue": "unsupported operand type(s) for +: 'int' and 'str'",
          "output_type": "error",
          "traceback": [
            "\u001b[1;31m---------------------------------------------------------------------------\u001b[0m",
            "\u001b[1;31mTypeError\u001b[0m                                 Traceback (most recent call last)",
            "\u001b[1;32m<ipython-input-9-a06939d12f6f>\u001b[0m in \u001b[0;36m<module>\u001b[1;34m\u001b[0m\n\u001b[1;32m----> 1\u001b[1;33m \u001b[1;36m2\u001b[0m \u001b[1;33m+\u001b[0m \u001b[1;34m\"pez\"\u001b[0m\u001b[1;33m\u001b[0m\u001b[1;33m\u001b[0m\u001b[0m\n\u001b[0m",
            "\u001b[1;31mTypeError\u001b[0m: unsupported operand type(s) for +: 'int' and 'str'"
          ]
        }
      ],
      "source": [
        "2 + \"pez\""
      ]
    },
    {
      "cell_type": "markdown",
      "metadata": {
        "id": "Yc3PdzmqQVxi"
      },
      "source": [
        "Incluso, puedo ocupar las operaciones y luego guardar esos resultados en alguna variable."
      ]
    },
    {
      "cell_type": "code",
      "execution_count": null,
      "metadata": {
        "id": "YWA_-kEKQVxi",
        "outputId": "2903d4ae-5b92-44b4-b889-e353c1b591bb"
      },
      "outputs": [
        {
          "data": {
            "text/plain": [
              "7"
            ]
          },
          "execution_count": 10,
          "metadata": {},
          "output_type": "execute_result"
        }
      ],
      "source": [
        "var1 = 2 + 5\n",
        "var1"
      ]
    },
    {
      "cell_type": "markdown",
      "metadata": {
        "id": "_h_0wTqyQVxi"
      },
      "source": [
        "O puedo ocupar variables para hacer operaciones."
      ]
    },
    {
      "cell_type": "code",
      "execution_count": null,
      "metadata": {
        "id": "jXlaZF5jQVxi",
        "outputId": "13180689-3e61-4e68-a096-3180d814455e"
      },
      "outputs": [
        {
          "data": {
            "text/plain": [
              "21"
            ]
          },
          "execution_count": 12,
          "metadata": {},
          "output_type": "execute_result"
        }
      ],
      "source": [
        "var1 * 3"
      ]
    },
    {
      "cell_type": "markdown",
      "metadata": {
        "id": "y3y4VWbCQVxj"
      },
      "source": [
        "Nota: se mantiene la jerarquía de las operaciones de las matemáticas. Incluso, puedo utilizar paréntesis para apoyarme."
      ]
    },
    {
      "cell_type": "code",
      "execution_count": null,
      "metadata": {
        "id": "6xcbRjIRQVxj",
        "outputId": "b1e7b972-5f77-4181-a014-a5fd0d2a3b15"
      },
      "outputs": [
        {
          "data": {
            "text/plain": [
              "8"
            ]
          },
          "execution_count": 15,
          "metadata": {},
          "output_type": "execute_result"
        }
      ],
      "source": [
        "2 + 3 * 2"
      ]
    },
    {
      "cell_type": "code",
      "execution_count": null,
      "metadata": {
        "id": "TJvOKQwrQVxj",
        "outputId": "e9b5b197-e8ae-4b44-baad-d9e82bcb629d"
      },
      "outputs": [
        {
          "data": {
            "text/plain": [
              "3.0"
            ]
          },
          "execution_count": 16,
          "metadata": {},
          "output_type": "execute_result"
        }
      ],
      "source": [
        "(5 + 1)/2"
      ]
    },
    {
      "cell_type": "markdown",
      "metadata": {
        "id": "fTAXcI2mQVxk"
      },
      "source": [
        "## Operaciones de comparación\n",
        "\n",
        "En algunas ocasiones, tendremos dos o más valores numéricos, que queremos comparar entre ellos. Para estas operaciones, también tengo símbolos matemáticos que puedo utilizar. El resultado, será un dato de tipo Booleano."
      ]
    },
    {
      "cell_type": "code",
      "execution_count": null,
      "metadata": {
        "id": "HMkfhqBTQVxk",
        "outputId": "f061d4d1-5b09-4594-f580-4d4e682e1357"
      },
      "outputs": [
        {
          "data": {
            "text/plain": [
              "False"
            ]
          },
          "execution_count": 17,
          "metadata": {},
          "output_type": "execute_result"
        }
      ],
      "source": [
        "# Menor que\n",
        "2 < 3"
      ]
    },
    {
      "cell_type": "code",
      "execution_count": null,
      "metadata": {
        "id": "BMqkQQ9fQVxk",
        "outputId": "46a66f07-d261-421d-a4e0-c08e284da2b3"
      },
      "outputs": [
        {
          "data": {
            "text/plain": [
              "True"
            ]
          },
          "execution_count": 18,
          "metadata": {},
          "output_type": "execute_result"
        }
      ],
      "source": [
        "# Mayor que\n",
        "4 > 1"
      ]
    },
    {
      "cell_type": "code",
      "execution_count": null,
      "metadata": {
        "id": "l1u6R-yAQVxk",
        "outputId": "08ec1f79-73ba-4ab1-858a-5b2d1ec48dc1"
      },
      "outputs": [
        {
          "data": {
            "text/plain": [
              "False"
            ]
          },
          "execution_count": 22,
          "metadata": {},
          "output_type": "execute_result"
        }
      ],
      "source": [
        "# Menor o igual que\n",
        "1 <= -1"
      ]
    },
    {
      "cell_type": "code",
      "execution_count": null,
      "metadata": {
        "id": "cq1rWcXoQVxl",
        "outputId": "330c472d-cf54-45dc-c5db-047781112a3a"
      },
      "outputs": [
        {
          "data": {
            "text/plain": [
              "True"
            ]
          },
          "execution_count": 27,
          "metadata": {},
          "output_type": "execute_result"
        }
      ],
      "source": [
        "# Mayor o igual que\n",
        "(2+3) >= 5"
      ]
    },
    {
      "cell_type": "code",
      "execution_count": null,
      "metadata": {
        "id": "WTwplBEEQVxl",
        "outputId": "2d45c92f-e2b4-4e10-8054-47d22cd57453"
      },
      "outputs": [
        {
          "data": {
            "text/plain": [
              "True"
            ]
          },
          "execution_count": 28,
          "metadata": {},
          "output_type": "execute_result"
        }
      ],
      "source": [
        "# Igual que\n",
        "3 == 3"
      ]
    },
    {
      "cell_type": "code",
      "execution_count": null,
      "metadata": {
        "id": "Qia8rqyFQVxl",
        "outputId": "40d3aa86-01cc-4b4f-877e-ed84950ca589"
      },
      "outputs": [
        {
          "data": {
            "text/plain": [
              "False"
            ]
          },
          "execution_count": 29,
          "metadata": {},
          "output_type": "execute_result"
        }
      ],
      "source": [
        "# Distinto que\n",
        "5 != 2+3"
      ]
    },
    {
      "cell_type": "markdown",
      "metadata": {
        "id": "QQRkM_GrQVxl"
      },
      "source": [
        "Si te fijas, estas operaciones se ejecutan después de haber realizado las operaciones numéricas."
      ]
    },
    {
      "cell_type": "markdown",
      "metadata": {
        "id": "YqOWR-XuQVxm"
      },
      "source": [
        "## Operaciones Lógicas"
      ]
    },
    {
      "cell_type": "markdown",
      "metadata": {
        "id": "KsolXL-QQVxm"
      },
      "source": [
        "\"A mi me asustan todos los ratones Y la mascota de Susana es un ratón\".\n",
        "\n",
        "Tendré miedo de la mascota de Susana, ¿cierto o falso?"
      ]
    },
    {
      "cell_type": "code",
      "execution_count": null,
      "metadata": {
        "id": "9FiQTyAUQVxm",
        "outputId": "f56149ea-edd0-4cd8-c9f0-0173b4fb94b8"
      },
      "outputs": [
        {
          "data": {
            "text/plain": [
              "True"
            ]
          },
          "execution_count": 32,
          "metadata": {},
          "output_type": "execute_result"
        }
      ],
      "source": [
        "# Conjuncion (y)\n",
        "True and True"
      ]
    },
    {
      "cell_type": "code",
      "execution_count": null,
      "metadata": {
        "id": "AKr6rLOVQVxm",
        "outputId": "e4b53a79-b698-465c-8cfa-824758d22b7c"
      },
      "outputs": [
        {
          "data": {
            "text/plain": [
              "False"
            ]
          },
          "execution_count": 33,
          "metadata": {},
          "output_type": "execute_result"
        }
      ],
      "source": [
        "(5 > 3) and (3 < 1)"
      ]
    },
    {
      "cell_type": "code",
      "execution_count": null,
      "metadata": {
        "id": "vZRS23YKQVxm",
        "outputId": "ba4cf696-6bed-4e93-cd35-58e1897c812c"
      },
      "outputs": [
        {
          "data": {
            "text/plain": [
              "True"
            ]
          },
          "execution_count": 34,
          "metadata": {},
          "output_type": "execute_result"
        }
      ],
      "source": [
        "# Disyuncion (o)\n",
        "False or True"
      ]
    },
    {
      "cell_type": "code",
      "execution_count": null,
      "metadata": {
        "id": "PD4X7IAXQVxm",
        "outputId": "01c64907-d8a4-4124-a157-8b4e3307fd63"
      },
      "outputs": [
        {
          "data": {
            "text/plain": [
              "False"
            ]
          },
          "execution_count": 35,
          "metadata": {},
          "output_type": "execute_result"
        }
      ],
      "source": [
        "# Negacion (no)\n",
        "not True"
      ]
    },
    {
      "cell_type": "markdown",
      "metadata": {
        "id": "R160tznjQVxn"
      },
      "source": [
        "Recuerda: \n",
        "* **and** sólo dará _True_ si los dos argumentos son _True_\n",
        "* **or** sólo dará _False_ si los dos argumentos son _False_\n",
        "* **not** sólo cambia _True_ a _False_ y viceversa.\n",
        "\n",
        "Tip: Googlea \"Tablas de verdad\" cuando tengas duda de los resultados.\n",
        "\n",
        "¡Los operadores lógicos se aplican después de las operaciones de comparación!"
      ]
    },
    {
      "cell_type": "markdown",
      "metadata": {
        "id": "nW48KESRQVxn"
      },
      "source": [
        "## Operaciones con texto."
      ]
    },
    {
      "cell_type": "markdown",
      "metadata": {
        "id": "8zDheUF9QVxn"
      },
      "source": [
        "¿Qué pasa si trato de sumar valores _string_?"
      ]
    },
    {
      "cell_type": "code",
      "execution_count": null,
      "metadata": {
        "id": "PYRSFr4aQVxn",
        "outputId": "f87f46a5-7968-498f-802a-bb348945c31d"
      },
      "outputs": [
        {
          "name": "stdout",
          "output_type": "stream",
          "text": [
            "My name is Slim Shady\n"
          ]
        }
      ],
      "source": [
        "suma_strings = \"My name is\" + \" \" + \"Slim Shady\"\n",
        "print(suma_strings)"
      ]
    },
    {
      "cell_type": "markdown",
      "metadata": {
        "id": "csBBmMVIQVxn"
      },
      "source": [
        "¡Los textos fueron concatenados (unidos) en uno solo!\n",
        "\n",
        "¿Funcionará también si trato de unir textos con números?"
      ]
    },
    {
      "cell_type": "code",
      "execution_count": null,
      "metadata": {
        "id": "ZcRxq3BvQVxn",
        "outputId": "8597ec5e-5ef8-4b94-fb97-17b85789c139"
      },
      "outputs": [
        {
          "ename": "TypeError",
          "evalue": "can only concatenate str (not \"int\") to str",
          "output_type": "error",
          "traceback": [
            "\u001b[1;31m---------------------------------------------------------------------------\u001b[0m",
            "\u001b[1;31mTypeError\u001b[0m                                 Traceback (most recent call last)",
            "\u001b[1;32m<ipython-input-40-be0b9bfcd1d4>\u001b[0m in \u001b[0;36m<module>\u001b[1;34m\u001b[0m\n\u001b[0;32m      1\u001b[0m \u001b[0medad\u001b[0m \u001b[1;33m=\u001b[0m \u001b[1;36m19\u001b[0m\u001b[1;33m\u001b[0m\u001b[1;33m\u001b[0m\u001b[0m\n\u001b[1;32m----> 2\u001b[1;33m \u001b[0mprint\u001b[0m\u001b[1;33m(\u001b[0m\u001b[1;34m\"Yo tengo \"\u001b[0m \u001b[1;33m+\u001b[0m \u001b[0medad\u001b[0m \u001b[1;33m+\u001b[0m \u001b[1;34m\" años\"\u001b[0m\u001b[1;33m)\u001b[0m\u001b[1;33m\u001b[0m\u001b[1;33m\u001b[0m\u001b[0m\n\u001b[0m",
            "\u001b[1;31mTypeError\u001b[0m: can only concatenate str (not \"int\") to str"
          ]
        }
      ],
      "source": [
        "edad = 19\n",
        "print(\"Yo tengo \" + edad + \" años\")"
      ]
    },
    {
      "cell_type": "markdown",
      "metadata": {
        "id": "FLobQCEEQVxo"
      },
      "source": [
        "¡Python no puede convertir automáticamente un número, a un texto! Necesito pedírselo explícitamente. Vamos a volver a intentarlo:"
      ]
    },
    {
      "cell_type": "code",
      "execution_count": null,
      "metadata": {
        "id": "ARBcpWfCQVxo",
        "outputId": "ac0c07b6-7032-466c-c0a5-e9debd685776"
      },
      "outputs": [
        {
          "name": "stdout",
          "output_type": "stream",
          "text": [
            "Yo tengo 19 años\n"
          ]
        }
      ],
      "source": [
        "edad_string = str(edad)\n",
        "\n",
        "print(\"Yo tengo \" + edad_string + \" años\")"
      ]
    },
    {
      "cell_type": "markdown",
      "metadata": {
        "id": "hp17T3sSQVxo"
      },
      "source": [
        "O incluso, puedo hacerlo directamente dentro de mi orden de _print_:"
      ]
    },
    {
      "cell_type": "code",
      "execution_count": null,
      "metadata": {
        "id": "dO4w3887QVxo",
        "outputId": "a26a125c-7fe4-443a-f401-12e6f96c3e58"
      },
      "outputs": [
        {
          "name": "stdout",
          "output_type": "stream",
          "text": [
            "Yo tengo 19 años\n"
          ]
        }
      ],
      "source": [
        "print(\"Yo tengo \" + str(edad) + \" años\")"
      ]
    },
    {
      "cell_type": "markdown",
      "metadata": {
        "id": "QongvjviQVxo"
      },
      "source": [
        "Nota: escribir buen código no sólo es una ciencia, sino también un arte. Hay veces en la que será mejor idea hacer paso por paso las operaciones, y otras veces, en las que sea mejor hacer varias pasos en el mismo renglón. ¿La idea? Hacer lo que me ayude a que mi código sea legible y claro."
      ]
    },
    {
      "cell_type": "code",
      "execution_count": null,
      "metadata": {
        "id": "qp8-L8pqQVxp"
      },
      "outputs": [],
      "source": []
    }
  ],
  "metadata": {
    "kernelspec": {
      "display_name": "Python 3",
      "language": "python",
      "name": "python3"
    },
    "language_info": {
      "codemirror_mode": {
        "name": "ipython",
        "version": 3
      },
      "file_extension": ".py",
      "mimetype": "text/x-python",
      "name": "python",
      "nbconvert_exporter": "python",
      "pygments_lexer": "ipython3",
      "version": "3.7.3"
    },
    "colab": {
      "provenance": []
    }
  },
  "nbformat": 4,
  "nbformat_minor": 0
}