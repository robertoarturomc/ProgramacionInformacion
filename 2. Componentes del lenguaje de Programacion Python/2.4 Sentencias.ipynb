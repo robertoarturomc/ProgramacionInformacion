{
  "cells": [
    {
      "cell_type": "markdown",
      "metadata": {
        "id": "VaGZsqBkIdAg"
      },
      "source": [
        "# Sentencias Básicas y su anidamiento\n",
        "## Condicionales\n",
        "\n",
        "En ocasiones, nos toparemos con situaciones en las cuáles debamos escoger entre una u otra opción. Por ejemplo, al pedir una pizza, tendremos que escoger un tamaño. ¿De qué depende? De cuántos seamos y cuánta hambre tengamos. Si somos dos, por ejemplo, bastará con una pizza chica. Pero, si somos 5 personas, tendremos que pedir una o más pizzas grandes.\n",
        "\n",
        "Como esa toma de decisiones (tamaño de la pizza, en el ejemplo) se basa en el cumplimiento de una o más condiciones (el número de personas), llamaremos a esta instrucción como una **sentencia condicional.**"
      ]
    },
    {
      "cell_type": "markdown",
      "metadata": {
        "id": "aO27f_q5IdAl"
      },
      "source": [
        "![image](https://www.tutorialesprogramacionya.com/javaya/imagentema/foto032.jpg)"
      ]
    },
    {
      "cell_type": "markdown",
      "metadata": {
        "id": "IIop5-zXIdAm"
      },
      "source": [
        "La forma de escribir estas condiciones en código de Python es de la siguiente forma:\n",
        "\n",
        "`if <condicion> :\n",
        "    Código que se corre si la condición es cierta`\n",
        "    \n",
        "Debo prestar atención a que:\n",
        "* Termine la línea del *if* con dos puntos.\n",
        "* < condicion > suele ser una operación comparativa, como las vistas en la lección anterior.\n",
        "* El código subordinado (las instrucciones que pretendo correr si se cumple el *if*, van indentadas)."
      ]
    },
    {
      "cell_type": "code",
      "execution_count": null,
      "metadata": {
        "id": "vIRhDQ0IIdAn"
      },
      "outputs": [],
      "source": [
        "x = 1\n",
        "y = 10"
      ]
    },
    {
      "cell_type": "code",
      "execution_count": null,
      "metadata": {
        "id": "DtKFcPQBIdAo"
      },
      "outputs": [],
      "source": [
        "# Revisa si un valor es igual al otro.\n",
        "if x == 1:\n",
        "    print(\"x es igual a 1\")"
      ]
    },
    {
      "cell_type": "code",
      "execution_count": null,
      "metadata": {
        "id": "HEyVwMOhIdAp"
      },
      "outputs": [],
      "source": [
        "# Revisa si un valor NO es igual al otro.\n",
        "if y != 1:\n",
        "    print(\"y no es igual a 1\")"
      ]
    },
    {
      "cell_type": "code",
      "execution_count": null,
      "metadata": {
        "id": "jkOI3apxIdAp"
      },
      "outputs": [],
      "source": [
        "# Revisa si un valor es menor que el otro\n",
        "if x < y:\n",
        "    print(\"x es menor que y\")"
      ]
    },
    {
      "cell_type": "code",
      "execution_count": null,
      "metadata": {
        "id": "ZCk-dVedIdAq"
      },
      "outputs": [],
      "source": [
        "# Revisa si un valor es mayor que el otro.\n",
        "if y > x:\n",
        "    print(\"y es mayor que x\")"
      ]
    },
    {
      "cell_type": "code",
      "execution_count": null,
      "metadata": {
        "id": "fPTjLnBRIdAs"
      },
      "outputs": [],
      "source": [
        "# Revisa si un valor es mayor que o igual al otro.\n",
        "if x >= 1:\n",
        "    print(\"x es mayor que o igual a  1\")"
      ]
    },
    {
      "cell_type": "markdown",
      "metadata": {
        "id": "mSQnuPG3IdAs"
      },
      "source": [
        "Ocupando las palabras **and** y **or**, puedo crear sentencias que ocupen más de una condicional.\n",
        "\n",
        "* Si quiero que ambas condiciones se cumplan, uso **and**\n",
        "* Si sólo basta con que alguna de las condiciones se cumpla, uso **or¨**."
      ]
    },
    {
      "cell_type": "code",
      "execution_count": null,
      "metadata": {
        "id": "muHsIoxbIdAt"
      },
      "outputs": [],
      "source": [
        "# Revisa si se cumplen dos condiciones\n",
        "if x == 1 and y == 10:\n",
        "    print(\"Ambas condiciones son ciertas\")"
      ]
    },
    {
      "cell_type": "code",
      "execution_count": null,
      "metadata": {
        "id": "g_u0xyCyIdAt"
      },
      "outputs": [],
      "source": [
        "# Revisa si se cumple al menos una de las dos condiciones\n",
        "if x < 45 or y < 5:\n",
        "    print(\"Una o más condiciones fue cierta\")"
      ]
    },
    {
      "cell_type": "markdown",
      "metadata": {
        "id": "xkvbgrcKIdAu"
      },
      "source": [
        "Incluso, podemos poner una condición dentro de otra condición. En ese caso, evaluaremos la primera, y en caso de que se cumpla, se evaluará la segunda. A esas condiciones les llamamos **anidadas**.\n",
        "\n",
        "![image](data:image/png;base64,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)"
      ]
    },
    {
      "cell_type": "code",
      "execution_count": null,
      "metadata": {
        "id": "oJ-EXrYTIdAu"
      },
      "outputs": [],
      "source": [
        "# Condiciones anidadas\n",
        "if x < 10:\n",
        "    if y < 5:\n",
        "        print(\"x es menor que 10 & y es menor que 5\")\n",
        "    elif y == 5:\n",
        "        print(\"x es menor que 10 & y es igual a 5\")\n",
        "    else:\n",
        "        print(\"x es menor que 10 & y es mayor que 5\")\n",
        "        \n",
        "print(\"Esta línea, como ya no está recorrida, sino pegada a la izquierda, se correrá independientemente de las condiciones.\")"
      ]
    },
    {
      "cell_type": "markdown",
      "metadata": {
        "id": "mcuq9DvqIdAv"
      },
      "source": [
        "En este último ejemplo, introdujimos también las sentencias `elif` y `else`. Estas, **deben** estar alineadas con el `if` al que hacen referencia, y nos ayudan a establecer tareas extras en caso de que no se cumpla la condición original.\n",
        "\n",
        "También nota como las líneas que ya no aparecen indentadas, están fuera de la condición, y se realizan de manera independiente."
      ]
    },
    {
      "cell_type": "markdown",
      "metadata": {
        "id": "cJLTBGgJIdAv"
      },
      "source": [
        "## Ciclos\n",
        "\n",
        "En otras ocasiones, me daré cuenta de que necesito dar la misma instrucción una y otra vez, o instrucciones muy similares cada vez. Por ejemplo, al cocinar, en vez de escribir diez veces \"picar el tomate\", puedo escribir \"picar los 10 tomates.\n",
        "\n",
        "A estas sentencias se le llaman **ciclos**.\n",
        "\n",
        "![image](https://lab.anahuac.mx/~hselley/ayp/img/diagramaDeFlujo/ejemploFor1.png)"
      ]
    },
    {
      "cell_type": "markdown",
      "metadata": {
        "id": "q3pxFN2IIdAv"
      },
      "source": [
        "La forma de escribir estas condiciones en código de Python es de la siguiente forma:\n",
        "\n",
        "`for <contador> in <iterable>:\n",
        "    Código se va a correr mientras el iterable`\n",
        "    \n",
        "Debo prestar atención a que:\n",
        "* Termine la línea del *for* con dos puntos.\n",
        "* < contador > es una variable que va a cambiando de valor según vaya avanzando el ciclo.\n",
        "* < iterable > es el recorrido que irá tomando < contador >.\n",
        "* El código subordinado (las instrucciones que pretendo correr varias veces, después del *for*, van indentadas).\n",
        "\n",
        "Por ejemplo, si quiero imprimir los primeros cinco números naturales, haría lo siguiente:"
      ]
    },
    {
      "cell_type": "code",
      "execution_count": null,
      "metadata": {
        "id": "ATjAeV0mIdAw"
      },
      "outputs": [],
      "source": [
        "for i in range(0, 5):\n",
        "    print(i)"
      ]
    },
    {
      "cell_type": "markdown",
      "metadata": {
        "id": "ugXU7PyxIdAw"
      },
      "source": [
        "Nota que usamos la función `range(a, b)` para nuestro ciclo. \n",
        "`a` es el valor inicial que queremos para nuestro contador, y en cuanto llegue a `b`, se terminará el ciclo. \n",
        "\n",
        "Como el ciclo se rompe en cuanto el contador llega a `b`, nuestro contador ya NO tomará ese valor."
      ]
    },
    {
      "cell_type": "markdown",
      "metadata": {
        "id": "a91sfY8hIdAw"
      },
      "source": [
        "Si empiezo desde 0, sólo basta poner un número dentro de `range(a)`:"
      ]
    },
    {
      "cell_type": "code",
      "execution_count": null,
      "metadata": {
        "id": "3ARvXfnvIdAx"
      },
      "outputs": [],
      "source": [
        "for i in range(6):\n",
        "    print(i)"
      ]
    },
    {
      "cell_type": "markdown",
      "metadata": {
        "id": "rByv64rlIdAx"
      },
      "source": [
        "\n",
        "\n",
        "El ciclo no tiene que empezar en 0"
      ]
    },
    {
      "cell_type": "code",
      "execution_count": null,
      "metadata": {
        "id": "-Qaj2w0wIdAx"
      },
      "outputs": [],
      "source": [
        "for j in range(10, 13):\n",
        "    print(j)"
      ]
    },
    {
      "cell_type": "markdown",
      "metadata": {
        "id": "B3RM89D9IdAy"
      },
      "source": [
        "Podemos hacer operaciones. Por ejemplo, sumas acumuladas."
      ]
    },
    {
      "cell_type": "code",
      "execution_count": null,
      "metadata": {
        "id": "HRXbQkenIdAy"
      },
      "outputs": [],
      "source": [
        "z=0\n",
        "for i in range(0, 11):\n",
        "    z = z + i\n",
        "    print(z)"
      ]
    },
    {
      "cell_type": "markdown",
      "metadata": {
        "id": "oY56J_5PIdAz"
      },
      "source": [
        "Y no necesariamente tenemos que ir de uno en uno. Si agregamos un tercer valor a  `range(a, b, c) `, c será de cuanto en cuánto queremos saltar."
      ]
    },
    {
      "cell_type": "code",
      "execution_count": null,
      "metadata": {
        "id": "YNoukPj-IdAz"
      },
      "outputs": [],
      "source": [
        "print(\"Saltando de tres en tres:\")\n",
        "\n",
        "for k in range(0, 20, 3):\n",
        "    print(k)"
      ]
    },
    {
      "cell_type": "markdown",
      "metadata": {
        "id": "pBMg2o1AIdAz"
      },
      "source": [
        "Incluso, puedo combinar ciclos con otras operaciones. Por ejemplo, si quiero sumar los primeros 5 números pares y los primeros 5 números impares:"
      ]
    },
    {
      "cell_type": "code",
      "execution_count": null,
      "metadata": {
        "id": "v6qOGt3PIdAz"
      },
      "outputs": [],
      "source": [
        "sum_pares = 0\n",
        "sum_impares = 0\n",
        "for i in range(1, 12):\n",
        "    if i % 2 ==0: # Si es par\n",
        "        sum_pares = sum_pares + i\n",
        "    else:\n",
        "        sum_impares = sum_impares + i\n",
        "        \n",
        "print(sum_pares)\n",
        "print(sum_impares)\n"
      ]
    },
    {
      "cell_type": "markdown",
      "metadata": {
        "id": "cX5BVfSIIdA0"
      },
      "source": [
        "Otra forma de combinar ciclos con condicionales, es con los ciclos *While*."
      ]
    },
    {
      "cell_type": "markdown",
      "metadata": {
        "id": "leRnVv0uIdA0"
      },
      "source": [
        "## Ciclos *while*\n",
        "\n",
        "Estos ciclos repetirán varias veces una operación, hasta que se cumpla cierta condición. Por lo tanto, debo asegurarme de que en algún momento se cumplirá, o si no, permaneceré en ese ciclo por siempre. Por ejemplo, al intentar meter una contraseña. En cada intento, probaré con una contraseña distinta y la computadora realizará la validación. Mientras no sea correcta, no avanzaré al siguiente paso.\n",
        "\n",
        "![image](https://www.tutorialesprogramacionya.com/visualbasicya/imagentema/foto029.jpg)"
      ]
    },
    {
      "cell_type": "markdown",
      "metadata": {
        "id": "8S26Z_xvIdA0"
      },
      "source": [
        "La forma de escribir estas condiciones en código de Python es de la siguiente forma:\n",
        "\n",
        "`while <condicion>:\n",
        "    Código se va a correr mientras tanto\n",
        "    Actualización de valores para tratar de cumplir con la condición.`\n",
        "    \n",
        "Debo prestar atención a que:\n",
        "* Termine la línea del *while* con dos puntos.\n",
        "* < condicion > es, generalmente, un comparativo. En cuanto deje de ser falso, se saldrá del ciclo..\n",
        "* El código subordinado (las instrucciones que pretendo correr varias veces, después del *while*, van indentadas).\n",
        "\n",
        "Por ejemplo, para hacer un ciclo mientras un número no crezca lo suficiente:"
      ]
    },
    {
      "cell_type": "code",
      "execution_count": null,
      "metadata": {
        "id": "m1JBjWF4IdA0"
      },
      "outputs": [],
      "source": [
        "numero = 0\n",
        "while numero <= 10:\n",
        "    print(numero)\n",
        "    numero += 1 # Usar numero =+1 es igual a escribir numero = numero +1\n"
      ]
    },
    {
      "cell_type": "markdown",
      "metadata": {
        "id": "ErVh2QfMIdA0"
      },
      "source": [
        "En computación, también existen los ciclos `do...while`. Son muy similares, excepto que la evaluación de la comparación se hace al final. No obstante, esos ciclos no existen directamente en Python."
      ]
    },
    {
      "cell_type": "code",
      "execution_count": null,
      "metadata": {
        "id": "vd4-4uRtIdA1"
      },
      "outputs": [],
      "source": []
    }
  ],
  "metadata": {
    "kernelspec": {
      "display_name": "Python 3",
      "language": "python",
      "name": "python3"
    },
    "language_info": {
      "codemirror_mode": {
        "name": "ipython",
        "version": 3
      },
      "file_extension": ".py",
      "mimetype": "text/x-python",
      "name": "python",
      "nbconvert_exporter": "python",
      "pygments_lexer": "ipython3",
      "version": "3.7.3"
    },
    "colab": {
      "provenance": []
    }
  },
  "nbformat": 4,
  "nbformat_minor": 0
}