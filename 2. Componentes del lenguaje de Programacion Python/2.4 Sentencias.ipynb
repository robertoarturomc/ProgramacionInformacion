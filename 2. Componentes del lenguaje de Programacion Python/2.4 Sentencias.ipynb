{
  "cells": [
    {
      "cell_type": "markdown",
      "metadata": {
        "id": "VaGZsqBkIdAg"
      },
      "source": [
        "# Sentencias Básicas y su anidamiento\n",
        "## Condicionales\n",
        "\n",
        "En ocasiones, nos toparemos con situaciones en las cuáles debamos escoger entre una u otra opción. Por ejemplo, al pedir una pizza, tendremos que escoger un tamaño. ¿De qué depende? De cuántos seamos y cuánta hambre tengamos. Si somos dos, por ejemplo, bastará con una pizza chica. Pero, si somos 5 personas, tendremos que pedir una o más pizzas grandes.\n",
        "\n",
        "Como esa toma de decisiones (tamaño de la pizza, en el ejemplo) se basa en el cumplimiento de una o más condiciones (el número de personas), llamaremos a esta instrucción como una **sentencia condicional.**"
      ]
    },
    {
      "cell_type": "markdown",
      "metadata": {
        "id": "aO27f_q5IdAl"
      },
      "source": [
        "![image](https://www.tutorialesprogramacionya.com/javaya/imagentema/foto032.jpg)"
      ]
    },
    {
      "cell_type": "markdown",
      "metadata": {
        "id": "IIop5-zXIdAm"
      },
      "source": [
        "La forma de escribir estas condiciones en código de Python es de la siguiente forma:\n",
        "\n",
        "`if <condicion> :\n",
        "    Código que se corre si la condición es cierta`\n",
        "    \n",
        "Debo prestar atención a que:\n",
        "* Termine la línea del *if* con dos puntos.\n",
        "* < condicion > suele ser una operación comparativa, como las vistas en la lección anterior.\n",
        "* El código subordinado (las instrucciones que pretendo correr si se cumple el *if*, van indentadas)."
      ]
    },
    {
      "cell_type": "code",
      "execution_count": null,
      "metadata": {
        "id": "vIRhDQ0IIdAn"
      },
      "outputs": [],
      "source": [
        "x = 1\n",
        "y = 10"
      ]
    },
    {
      "cell_type": "code",
      "execution_count": null,
      "metadata": {
        "id": "DtKFcPQBIdAo"
      },
      "outputs": [],
      "source": [
        "# Revisa si un valor es igual al otro.\n",
        "if x == 1:\n",
        "    print(\"x es igual a 1\")"
      ]
    },
    {
      "cell_type": "code",
      "execution_count": null,
      "metadata": {
        "id": "HEyVwMOhIdAp"
      },
      "outputs": [],
      "source": [
        "# Revisa si un valor NO es igual al otro.\n",
        "if y != 1:\n",
        "    print(\"y no es igual a 1\")"
      ]
    },
    {
      "cell_type": "code",
      "execution_count": null,
      "metadata": {
        "id": "jkOI3apxIdAp"
      },
      "outputs": [],
      "source": [
        "# Revisa si un valor es menor que el otro\n",
        "if x < y:\n",
        "    print(\"x es menor que y\")"
      ]
    },
    {
      "cell_type": "code",
      "execution_count": null,
      "metadata": {
        "id": "ZCk-dVedIdAq"
      },
      "outputs": [],
      "source": [
        "# Revisa si un valor es mayor que el otro.\n",
        "if y > x:\n",
        "    print(\"y es mayor que x\")"
      ]
    },
    {
      "cell_type": "code",
      "execution_count": null,
      "metadata": {
        "id": "fPTjLnBRIdAs"
      },
      "outputs": [],
      "source": [
        "# Revisa si un valor es mayor que o igual al otro.\n",
        "if x >= 1:\n",
        "    print(\"x es mayor que o igual a  1\")"
      ]
    },
    {
      "cell_type": "markdown",
      "metadata": {
        "id": "mSQnuPG3IdAs"
      },
      "source": [
        "Ocupando las palabras **and** y **or**, puedo crear sentencias que ocupen más de una condicional.\n",
        "\n",
        "* Si quiero que ambas condiciones se cumplan, uso **and**\n",
        "* Si sólo basta con que alguna de las condiciones se cumpla, uso **or¨**."
      ]
    },
    {
      "cell_type": "code",
      "execution_count": null,
      "metadata": {
        "id": "muHsIoxbIdAt"
      },
      "outputs": [],
      "source": [
        "# Revisa si se cumplen dos condiciones\n",
        "if x == 1 and y == 10:\n",
        "    print(\"Ambas condiciones son ciertas\")"
      ]
    },
    {
      "cell_type": "code",
      "execution_count": null,
      "metadata": {
        "id": "g_u0xyCyIdAt"
      },
      "outputs": [],
      "source": [
        "# Revisa si se cumple al menos una de las dos condiciones\n",
        "if x < 45 or y < 5:\n",
        "    print(\"Una o más condiciones fue cierta\")"
      ]
    },
    {
      "cell_type": "markdown",
      "metadata": {
        "id": "xkvbgrcKIdAu"
      },
      "source": [
        "Incluso, podemos poner una condición dentro de otra condición. En ese caso, evaluaremos la primera, y en caso de que se cumpla, se evaluará la segunda. A esas condiciones les llamamos **anidadas**.\n",
        "\n",
        "![image.png](attachment:image.png)"
      ]
    },
    {
      "cell_type": "code",
      "execution_count": null,
      "metadata": {
        "id": "oJ-EXrYTIdAu"
      },
      "outputs": [],
      "source": [
        "# Condiciones anidadas\n",
        "if x < 10:\n",
        "    if y < 5:\n",
        "        print(\"x es menor que 10 & y es menor que 5\")\n",
        "    elif y == 5:\n",
        "        print(\"x es menor que 10 & y es igual a 5\")\n",
        "    else:\n",
        "        print(\"x es menor que 10 & y es mayor que 5\")\n",
        "        \n",
        "print(\"Esta línea, como ya no está recorrida, sino pegada a la izquierda, se correrá independientemente de las condiciones.\")"
      ]
    },
    {
      "cell_type": "markdown",
      "metadata": {
        "id": "mcuq9DvqIdAv"
      },
      "source": [
        "En este último ejemplo, introdujimos también las sentencias `elif` y `else`. Estas, **deben** estar alineadas con el `if` al que hacen referencia, y nos ayudan a establecer tareas extras en caso de que no se cumpla la condición original.\n",
        "\n",
        "También nota como las líneas que ya no aparecen indentadas, están fuera de la condición, y se realizan de manera independiente."
      ]
    },
    {
      "cell_type": "markdown",
      "metadata": {
        "id": "cJLTBGgJIdAv"
      },
      "source": [
        "## Ciclos\n",
        "\n",
        "En otras ocasiones, me daré cuenta de que necesito dar la misma instrucción una y otra vez, o instrucciones muy similares cada vez. Por ejemplo, al cocinar, en vez de escribir diez veces \"picar el tomate\", puedo escribir \"picar los 10 tomates.\n",
        "\n",
        "A estas sentencias se le llaman **ciclos**.\n",
        "\n",
        "![image.png](https://lab.anahuac.mx/~hselley/ayp/img/diagramaDeFlujo/ejemploFor1.png)"
      ]
    },
    {
      "cell_type": "markdown",
      "metadata": {
        "id": "q3pxFN2IIdAv"
      },
      "source": [
        "La forma de escribir estas condiciones en código de Python es de la siguiente forma:\n",
        "\n",
        "`for <contador> in <iterable>:\n",
        "    Código se va a correr mientras el iterable`\n",
        "    \n",
        "Debo prestar atención a que:\n",
        "* Termine la línea del *for* con dos puntos.\n",
        "* < contador > es una variable que va a cambiando de valor según vaya avanzando el ciclo.\n",
        "* < iterable > es el recorrido que irá tomando < contador >.\n",
        "* El código subordinado (las instrucciones que pretendo correr varias veces, después del *for*, van indentadas).\n",
        "\n",
        "Por ejemplo, si quiero imprimir los primeros cinco números naturales, haría lo siguiente:"
      ]
    },
    {
      "cell_type": "code",
      "execution_count": null,
      "metadata": {
        "id": "ATjAeV0mIdAw"
      },
      "outputs": [],
      "source": [
        "for i in range(0, 5):\n",
        "    print(i)"
      ]
    },
    {
      "cell_type": "markdown",
      "metadata": {
        "id": "ugXU7PyxIdAw"
      },
      "source": [
        "Nota que usamos la función `range(a, b)` para nuestro ciclo. \n",
        "`a` es el valor inicial que queremos para nuestro contador, y en cuanto llegue a `b`, se terminará el ciclo. \n",
        "\n",
        "Como el ciclo se rompe en cuanto el contador llega a `b`, nuestro contador ya NO tomará ese valor."
      ]
    },
    {
      "cell_type": "markdown",
      "metadata": {
        "id": "a91sfY8hIdAw"
      },
      "source": [
        "Si empiezo desde 0, sólo basta poner un número dentro de `range(a)`:"
      ]
    },
    {
      "cell_type": "code",
      "execution_count": null,
      "metadata": {
        "id": "3ARvXfnvIdAx"
      },
      "outputs": [],
      "source": [
        "for i in range(6):\n",
        "    print(i)"
      ]
    },
    {
      "cell_type": "markdown",
      "metadata": {
        "id": "rByv64rlIdAx"
      },
      "source": [
        "\n",
        "\n",
        "El ciclo no tiene que empezar en 0"
      ]
    },
    {
      "cell_type": "code",
      "execution_count": null,
      "metadata": {
        "id": "-Qaj2w0wIdAx"
      },
      "outputs": [],
      "source": [
        "for j in range(10, 13):\n",
        "    print(j)"
      ]
    },
    {
      "cell_type": "markdown",
      "metadata": {
        "id": "B3RM89D9IdAy"
      },
      "source": [
        "Podemos hacer operaciones. Por ejemplo, sumas acumuladas."
      ]
    },
    {
      "cell_type": "code",
      "execution_count": null,
      "metadata": {
        "id": "HRXbQkenIdAy"
      },
      "outputs": [],
      "source": [
        "z=0\n",
        "for i in range(0, 11):\n",
        "    z = z + i\n",
        "    print(z)"
      ]
    },
    {
      "cell_type": "markdown",
      "metadata": {
        "id": "oY56J_5PIdAz"
      },
      "source": [
        "Y no necesariamente tenemos que ir de uno en uno. Si agregamos un tercer valor a  `range(a, b, c) `, c será de cuanto en cuánto queremos saltar."
      ]
    },
    {
      "cell_type": "code",
      "execution_count": null,
      "metadata": {
        "id": "YNoukPj-IdAz"
      },
      "outputs": [],
      "source": [
        "print(\"Saltando de tres en tres:\")\n",
        "\n",
        "for k in range(0, 20, 3):\n",
        "    print(k)"
      ]
    },
    {
      "cell_type": "markdown",
      "metadata": {
        "id": "pBMg2o1AIdAz"
      },
      "source": [
        "Incluso, puedo combinar ciclos con otras operaciones. Por ejemplo, si quiero sumar los primeros 5 números pares y los primeros 5 números impares:"
      ]
    },
    {
      "cell_type": "code",
      "execution_count": null,
      "metadata": {
        "id": "v6qOGt3PIdAz"
      },
      "outputs": [],
      "source": [
        "sum_pares = 0\n",
        "sum_impares = 0\n",
        "for i in range(1, 12):\n",
        "    if i % 2 ==0: # Si es par\n",
        "        sum_pares = sum_pares + i\n",
        "    else:\n",
        "        sum_impares = sum_impares + i\n",
        "        \n",
        "print(sum_pares)\n",
        "print(sum_impares)\n"
      ]
    },
    {
      "cell_type": "markdown",
      "metadata": {
        "id": "cX5BVfSIIdA0"
      },
      "source": [
        "Otra forma de combinar ciclos con condicionales, es con los ciclos *While*."
      ]
    },
    {
      "cell_type": "markdown",
      "metadata": {
        "id": "leRnVv0uIdA0"
      },
      "source": [
        "## Ciclos *while*\n",
        "\n",
        "Estos ciclos repetirán varias veces una operación, hasta que se cumpla cierta condición. Por lo tanto, debo asegurarme de que en algún momento se cumplirá, o si no, permaneceré en ese ciclo por siempre. Por ejemplo, al intentar meter una contraseña. En cada intento, probaré con una contraseña distinta y la computadora realizará la validación. Mientras no sea correcta, no avanzaré al siguiente paso.\n",
        "\n",
        "![image.png](https://www.tutorialesprogramacionya.com/visualbasicya/imagentema/foto029.jpg)"
      ]
    },
    {
      "cell_type": "markdown",
      "metadata": {
        "id": "8S26Z_xvIdA0"
      },
      "source": [
        "La forma de escribir estas condiciones en código de Python es de la siguiente forma:\n",
        "\n",
        "`while <condicion>:\n",
        "    Código se va a correr mientras tanto\n",
        "    Actualización de valores para tratar de cumplir con la condición.`\n",
        "    \n",
        "Debo prestar atención a que:\n",
        "* Termine la línea del *while* con dos puntos.\n",
        "* < condicion > es, generalmente, un comparativo. En cuanto deje de ser falso, se saldrá del ciclo..\n",
        "* El código subordinado (las instrucciones que pretendo correr varias veces, después del *while*, van indentadas).\n",
        "\n",
        "Por ejemplo, para hacer un ciclo mientras un número no crezca lo suficiente:"
      ]
    },
    {
      "cell_type": "code",
      "execution_count": null,
      "metadata": {
        "id": "m1JBjWF4IdA0"
      },
      "outputs": [],
      "source": [
        "numero = 0\n",
        "while numero <= 10:\n",
        "    print(numero)\n",
        "    numero += 1 # Usar numero =+1 es igual a escribir numero = numero +1\n"
      ]
    },
    {
      "cell_type": "markdown",
      "metadata": {
        "id": "ErVh2QfMIdA0"
      },
      "source": [
        "En computación, también existen los ciclos `do...while`. Son muy similares, excepto que la evaluación de la comparación se hace al final. No obstante, esos ciclos no existen directamente en Python."
      ]
    },
    {
      "cell_type": "code",
      "execution_count": null,
      "metadata": {
        "id": "vd4-4uRtIdA1"
      },
      "outputs": [],
      "source": []
    }
  ],
  "metadata": {
    "kernelspec": {
      "display_name": "Python 3",
      "language": "python",
      "name": "python3"
    },
    "language_info": {
      "codemirror_mode": {
        "name": "ipython",
        "version": 3
      },
      "file_extension": ".py",
      "mimetype": "text/x-python",
      "name": "python",
      "nbconvert_exporter": "python",
      "pygments_lexer": "ipython3",
      "version": "3.7.3"
    },
    "colab": {
      "provenance": []
    }
  },
  "nbformat": 4,
  "nbformat_minor": 0
}