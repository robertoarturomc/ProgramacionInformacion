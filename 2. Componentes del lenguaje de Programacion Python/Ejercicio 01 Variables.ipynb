{
  "cells": [
    {
      "cell_type": "markdown",
      "metadata": {
        "id": "view-in-github",
        "colab_type": "text"
      },
      "source": [
        "<a href=\"https://colab.research.google.com/github/robertoarturomc/ProgramacionInformacion/blob/main/2.%20Componentes%20del%20lenguaje%20de%20Programacion%20Python/Ejercicio%2001%20Variables.ipynb\" target=\"_parent\"><img src=\"https://colab.research.google.com/assets/colab-badge.svg\" alt=\"Open In Colab\"/></a>"
      ]
    },
    {
      "cell_type": "markdown",
      "metadata": {
        "id": "I2ebczO-WJ6c"
      },
      "source": [
        "# Ejercicio 01: variables"
      ]
    },
    {
      "cell_type": "markdown",
      "metadata": {
        "id": "yf15Tyl-WJ6f"
      },
      "source": [
        "1. Corre las siguientes líneas de código y observa qué sucede:"
      ]
    },
    {
      "cell_type": "code",
      "execution_count": null,
      "metadata": {
        "id": "e9miX317WJ6h"
      },
      "outputs": [],
      "source": [
        "var = 1T"
      ]
    },
    {
      "cell_type": "code",
      "execution_count": null,
      "metadata": {
        "id": "tI8Jlud6WJ6i"
      },
      "outputs": [],
      "source": [
        "var2 = \"Anáhuac\""
      ]
    },
    {
      "cell_type": "code",
      "execution_count": null,
      "metadata": {
        "id": "9z2s56VDWJ6i"
      },
      "outputs": [],
      "source": [
        "my_var = 3.14"
      ]
    },
    {
      "cell_type": "code",
      "execution_count": null,
      "metadata": {
        "id": "51mJOFjEWJ6j"
      },
      "outputs": [],
      "source": [
        "_var4 = \"Leones\""
      ]
    },
    {
      "cell_type": "code",
      "execution_count": null,
      "metadata": {
        "id": "tFIeFojcWJ6j"
      },
      "outputs": [],
      "source": [
        "5var = \"Puebla\""
      ]
    },
    {
      "cell_type": "code",
      "execution_count": null,
      "metadata": {
        "id": "fYixLJ-FWJ6k"
      },
      "outputs": [],
      "source": [
        "var cinco = 10000"
      ]
    },
    {
      "cell_type": "markdown",
      "metadata": {
        "id": "IzOY1dIoWJ6k"
      },
      "source": [
        "¿Qué observas sobre los nombres de las variables?"
      ]
    },
    {
      "cell_type": "markdown",
      "metadata": {
        "id": "XjaPv83eWJ6l"
      },
      "source": [
        "2. Crea tres variables y ponles un nombre que te guste. Los mejores nombres son lo más cortos posibles, pero que describan bien a qué variable te refieres (Keep it simple!). Guarda una numérica, un string y una booleana."
      ]
    },
    {
      "cell_type": "code",
      "execution_count": null,
      "metadata": {
        "id": "xFWPESGKWJ6l"
      },
      "outputs": [],
      "source": [
        ""
      ]
    },
    {
      "cell_type": "markdown",
      "metadata": {
        "id": "yIvzaUJgWJ6l"
      },
      "source": [
        "¡No olvides compartir el ejercicio en donde tu profesor lo indique!\n",
        "\n",
        "Esta es una prueba"
      ]
    },
    {
      "cell_type": "code",
      "source": [
        ""
      ],
      "metadata": {
        "id": "p1KmFOuHWvll"
      },
      "execution_count": null,
      "outputs": []
    }
  ],
  "metadata": {
    "kernelspec": {
      "display_name": "Python 3",
      "language": "python",
      "name": "python3"
    },
    "language_info": {
      "codemirror_mode": {
        "name": "ipython",
        "version": 3
      },
      "file_extension": ".py",
      "mimetype": "text/x-python",
      "name": "python",
      "nbconvert_exporter": "python",
      "pygments_lexer": "ipython3",
      "version": "3.7.3"
    },
    "colab": {
      "name": "Ejercicio 01 Variables.ipynb",
      "provenance": [],
      "include_colab_link": true
    }
  },
  "nbformat": 4,
  "nbformat_minor": 0
}