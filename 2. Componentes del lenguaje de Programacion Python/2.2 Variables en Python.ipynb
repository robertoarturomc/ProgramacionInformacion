{
 "cells": [
  {
   "cell_type": "markdown",
   "metadata": {},
   "source": [
    "# Sentencias, Variables y Expresiones\n",
    "## Sentencias (comandos)"
   ]
  },
  {
   "cell_type": "markdown",
   "metadata": {},
   "source": [
    "Una sentencia es una instrucción u orden (\"comando\") que ya le dimos a Python.\n",
    "\n",
    "Hasta el momento, ya conocemos una: ordenarle que imprima algún texto:  \n",
    "`print(\"Aquí va el texto\")`\n"
   ]
  },
  {
   "cell_type": "markdown",
   "metadata": {},
   "source": [
    "Dentro de cada Sentencia, podemos encontrar una combinación entre variables, expresiones, operaciones, etc."
   ]
  },
  {
   "cell_type": "markdown",
   "metadata": {},
   "source": [
    "## Variables"
   ]
  },
  {
   "cell_type": "markdown",
   "metadata": {},
   "source": [
    "Seguido nos enfrentaremos a la necesidad de \"guardar\" un valor, ya que no lo usaremos sino hasta más adelante, o porque lo voy a ocupar en más de una ocasión. Para ello, puedo guardarlo en alguna **Variable**.\n",
    "\n",
    "Similar a como se ocupa en Matemáticas, una variable va a almacenar algún valor u objeto. Para ello, utilizo:\n",
    "* Un nombre \n",
    "* El signo de igual (=) \n",
    "* Y el valor que se almacenará."
   ]
  },
  {
   "cell_type": "code",
   "execution_count": 3,
   "metadata": {},
   "outputs": [],
   "source": [
    "variable = 1"
   ]
  },
  {
   "cell_type": "markdown",
   "metadata": {},
   "source": [
    "¡Ese valor ya está guardado! Para comprobarlo, puedo pedirle que me imprima ese mismo valor. Ahora, dentro de la siguiente sentencia, le pediré a Python que me la imprima."
   ]
  },
  {
   "cell_type": "code",
   "execution_count": 9,
   "metadata": {},
   "outputs": [
    {
     "name": "stdout",
     "output_type": "stream",
     "text": [
      "El valor de mi variable es: \n",
      "1\n"
     ]
    }
   ],
   "source": [
    "print(\"El valor de mi variable es: \")\n",
    "print(variable)"
   ]
  },
  {
   "cell_type": "markdown",
   "metadata": {},
   "source": [
    "Además de valores numéricos, puedo almacenar otros tipos de objetos como variables. Por ejemplo:\n"
   ]
  },
  {
   "cell_type": "code",
   "execution_count": 7,
   "metadata": {},
   "outputs": [],
   "source": [
    "# Números\n",
    "variable_numerica = 1\n",
    "\n",
    "# Texto (\"Strings\")\n",
    "variable_string = \"Roberto\"\n",
    "\n",
    "# Valores lógicos (\"Boolean\")\n",
    "variable_boolean0 = False\n",
    "variable_boolean1 = True"
   ]
  },
  {
   "cell_type": "markdown",
   "metadata": {},
   "source": [
    "Este paso es más complicado en otros lenguajes de programación. En ellos, debo especificar al principio los nombres que voy a \n",
    "utilizar para mis variables, y qué tipo tendrá cada una. Python (y R) lo adivinan según lo que escribas.\n",
    "\n",
    "Las variables Booleanas son _case sensitive_; siempre llevan mayúscula al principio y minúscula en las demás."
   ]
  },
  {
   "cell_type": "code",
   "execution_count": 13,
   "metadata": {},
   "outputs": [
    {
     "ename": "NameError",
     "evalue": "name 'true' is not defined",
     "output_type": "error",
     "traceback": [
      "\u001b[1;31m---------------------------------------------------------------------------\u001b[0m",
      "\u001b[1;31mNameError\u001b[0m                                 Traceback (most recent call last)",
      "\u001b[1;32m<ipython-input-13-b27c67fa5945>\u001b[0m in \u001b[0;36m<module>\u001b[1;34m\u001b[0m\n\u001b[1;32m----> 1\u001b[1;33m \u001b[0mvariable_boolean_minuscula\u001b[0m \u001b[1;33m=\u001b[0m \u001b[0mtrue\u001b[0m\u001b[1;33m\u001b[0m\u001b[1;33m\u001b[0m\u001b[0m\n\u001b[0m",
      "\u001b[1;31mNameError\u001b[0m: name 'true' is not defined"
     ]
    }
   ],
   "source": [
    "variable_boolean_minuscula = true"
   ]
  },
  {
   "cell_type": "markdown",
   "metadata": {},
   "source": [
    "Con Python también puedo guardar más de una variable al mismo tiempo."
   ]
  },
  {
   "cell_type": "code",
   "execution_count": 15,
   "metadata": {},
   "outputs": [
    {
     "name": "stdout",
     "output_type": "stream",
     "text": [
      "1\n",
      "Marco Polo\n"
     ]
    }
   ],
   "source": [
    "var1, var2 = 1, \"Marco Polo\"\n",
    "print(var1)\n",
    "print(var2)"
   ]
  },
  {
   "cell_type": "markdown",
   "metadata": {},
   "source": [
    "Por cierto, debo tener cuidado con los nombres que utilice. Si lo reutilizo, sobreescribiré el valor que estaba almacenando."
   ]
  },
  {
   "cell_type": "code",
   "execution_count": 12,
   "metadata": {},
   "outputs": [
    {
     "name": "stdout",
     "output_type": "stream",
     "text": [
      "El nuevo valor de mi variable es: \n"
     ]
    },
    {
     "data": {
      "text/plain": [
       "'economía'"
      ]
     },
     "execution_count": 12,
     "metadata": {},
     "output_type": "execute_result"
    }
   ],
   "source": [
    "variable = \"economía\"\n",
    "\n",
    "print(\"El nuevo valor de mi variable es: \")\n",
    "variable"
   ]
  },
  {
   "cell_type": "markdown",
   "metadata": {},
   "source": [
    "Nota: si en la última línea de cada celda **no** estás guardando una variable, ¡el valor se imprimirá en automático en la pantalla!"
   ]
  }
 ],
 "metadata": {
  "kernelspec": {
   "display_name": "Python 3",
   "language": "python",
   "name": "python3"
  },
  "language_info": {
   "codemirror_mode": {
    "name": "ipython",
    "version": 3
   },
   "file_extension": ".py",
   "mimetype": "text/x-python",
   "name": "python",
   "nbconvert_exporter": "python",
   "pygments_lexer": "ipython3",
   "version": "3.7.3"
  }
 },
 "nbformat": 4,
 "nbformat_minor": 2
}
