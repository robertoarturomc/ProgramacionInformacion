{
  "cells": [
    {
      "cell_type": "markdown",
      "metadata": {
        "id": "WoLEDHoI5x7i"
      },
      "source": [
        "# Ejercicio 03: Sentencias\n",
        "## Condicionales\n",
        "\n",
        "1. Corrige los siguientes condicionales:"
      ]
    },
    {
      "cell_type": "code",
      "execution_count": null,
      "metadata": {
        "id": "YwPPxAoq5x7m"
      },
      "outputs": [],
      "source": [
        "x = 5\n",
        "if 2 * x > 10\n",
        "print(\"¡Es más grande!\")\n",
        "else:\n",
        "print(\"¡No es más grande!\")\n",
        "\n",
        "x = 2\n",
        "y = 5\n",
        "if (x ** 3 >= y) andd (y ** 2 < 26):\n",
        "    print(\"¡Se cumplen las condiciones!\")\n",
        "else:\n",
        "    print(\"No se cumplen las condiciones\")"
      ]
    },
    {
      "cell_type": "markdown",
      "metadata": {
        "id": "A4PVPaUR5x7o"
      },
      "source": [
        "2. Escribe las siguientes condiciones:"
      ]
    },
    {
      "cell_type": "code",
      "execution_count": null,
      "metadata": {
        "id": "-zEhgJkF5x7p"
      },
      "outputs": [],
      "source": [
        "#Si x es divisible entre 3, imprime \"¡Es divisible!\"\n",
        "x = 7821\n",
        "\n",
        "\n",
        "\n",
        "#Si a * b / 2 es mayor o igual que 70,  imprime \"Aprobado\". \n",
        "# Si es igual a 69, escribe \"Pedir ayuda al profesor.\".\n",
        "# Si es otro valor, imprime \"Reprobado\".\n",
        "a = 80\n",
        "b = 73\n",
        "\n",
        "\n"
      ]
    },
    {
      "cell_type": "markdown",
      "metadata": {
        "id": "mtzRcHsQ5x7q"
      },
      "source": [
        "3. Escribe un ciclo que te imprima los primeros diez múltiplos de 5."
      ]
    },
    {
      "cell_type": "code",
      "execution_count": null,
      "metadata": {
        "id": "8xsgbGvS5x7q"
      },
      "outputs": [],
      "source": [
        "print(\"Los primeros diez múltiplos de 5 son:\")\n",
        "\n",
        "for ..."
      ]
    },
    {
      "cell_type": "markdown",
      "metadata": {
        "id": "2JGO_irP5x7r"
      },
      "source": [
        "4. Genera el resultado de multiplicar los números del 1 al 6."
      ]
    },
    {
      "cell_type": "code",
      "execution_count": null,
      "metadata": {
        "id": "vb7hgUBw5x7r"
      },
      "outputs": [],
      "source": [
        "print(\"El resultado de multiplicar los primeros seis enteros es:\")\n",
        "\n",
        "for ..."
      ]
    },
    {
      "cell_type": "markdown",
      "metadata": {
        "id": "YL4vUtFM5x7r"
      },
      "source": [
        "5. Escribe un ciclo *while* con las siguientes condiciones:\n",
        "\n",
        "Hasta que z sea menor que 1, divide z entre 2. Cada vez que lo hagas, imprime el valor de z."
      ]
    },
    {
      "cell_type": "code",
      "execution_count": null,
      "metadata": {
        "id": "NUcbguZ75x7s",
        "outputId": "c2b11444-0457-4a78-e0cf-2b9b1326e920"
      },
      "outputs": [
        {
          "name": "stdout",
          "output_type": "stream",
          "text": [
            "12.5\n",
            "6.25\n",
            "3.125\n",
            "1.5625\n",
            "0.78125\n"
          ]
        }
      ],
      "source": [
        "z = 25\n",
        "while ..."
      ]
    },
    {
      "cell_type": "code",
      "execution_count": null,
      "metadata": {
        "id": "-djRAxx05x7t"
      },
      "outputs": [],
      "source": []
    }
  ],
  "metadata": {
    "kernelspec": {
      "display_name": "Python 3",
      "language": "python",
      "name": "python3"
    },
    "language_info": {
      "codemirror_mode": {
        "name": "ipython",
        "version": 3
      },
      "file_extension": ".py",
      "mimetype": "text/x-python",
      "name": "python",
      "nbconvert_exporter": "python",
      "pygments_lexer": "ipython3",
      "version": "3.7.3"
    },
    "colab": {
      "provenance": []
    }
  },
  "nbformat": 4,
  "nbformat_minor": 0
}