{
 "cells": [
  {
   "cell_type": "markdown",
   "metadata": {},
   "source": [
    "# Ejercicio 03: Sentencias\n",
    "## Ciclos\n",
    "\n",
    "1. Corrige los siguientes condicionales:"
   ]
  },
  {
   "cell_type": "code",
   "execution_count": null,
   "metadata": {},
   "outputs": [],
   "source": [
    "x = 5\n",
    "if 2 * x > 10\n",
    "print(\"¡Es más grande!\")\n",
    "else:\n",
    "print(\"¡No es más grande!\")\n",
    "\n",
    "x = 2\n",
    "y = 5\n",
    "if (x ** 3 >= y) andd (y ** 2 < 26):\n",
    "    print(\"¡Se cumplen las condiciones!\")\n",
    "else:\n",
    "    print(\"No se cumplen las condiciones\")"
   ]
  },
  {
   "cell_type": "markdown",
   "metadata": {},
   "source": [
    "2. Escribe las siguientes condiciones:"
   ]
  },
  {
   "cell_type": "code",
   "execution_count": null,
   "metadata": {},
   "outputs": [],
   "source": [
    "#Si x es divisible entre 3, imprime \"¡Es divisible!\"\n",
    "x = 7821\n",
    "\n",
    "\n",
    "\n",
    "#Si a * b / 2 es mayor o igual que 70,  imprime \"Aprobado\". \n",
    "# Si es igual a 69, escribe \"Pedir ayuda al profesor.\".\n",
    "# Si es otro valor, imprime \"Reprobado\".\n",
    "a = 80\n",
    "b = 73\n",
    "\n",
    "\n"
   ]
  },
  {
   "cell_type": "markdown",
   "metadata": {},
   "source": [
    "3. Escribe un ciclo que te imprima los primeros diez múltiplos de 5."
   ]
  },
  {
   "cell_type": "code",
   "execution_count": null,
   "metadata": {},
   "outputs": [],
   "source": [
    "print(\"Los primeros diez múltiplos de 5 son:\")\n",
    "\n",
    "for ..."
   ]
  },
  {
   "cell_type": "markdown",
   "metadata": {},
   "source": [
    "4. Genera el resultado de multiplicar los números del 1 al 6."
   ]
  },
  {
   "cell_type": "code",
   "execution_count": null,
   "metadata": {},
   "outputs": [],
   "source": [
    "print(\"El resultado de multiplicar los primeros seis enteros es:\")\n",
    "\n",
    "for ..."
   ]
  },
  {
   "cell_type": "markdown",
   "metadata": {},
   "source": [
    "5. Escribe un ciclo *while* con las siguientes condiciones:\n",
    "\n",
    "Hasta que z sea menor que 1, divide z entre 2. Cada vez que lo hagas, imprime el valor de z."
   ]
  },
  {
   "cell_type": "code",
   "execution_count": 1,
   "metadata": {},
   "outputs": [
    {
     "name": "stdout",
     "output_type": "stream",
     "text": [
      "12.5\n",
      "6.25\n",
      "3.125\n",
      "1.5625\n",
      "0.78125\n"
     ]
    }
   ],
   "source": [
    "z = 25\n",
    "while ..."
   ]
  },
  {
   "cell_type": "code",
   "execution_count": null,
   "metadata": {},
   "outputs": [],
   "source": []
  }
 ],
 "metadata": {
  "kernelspec": {
   "display_name": "Python 3",
   "language": "python",
   "name": "python3"
  },
  "language_info": {
   "codemirror_mode": {
    "name": "ipython",
    "version": 3
   },
   "file_extension": ".py",
   "mimetype": "text/x-python",
   "name": "python",
   "nbconvert_exporter": "python",
   "pygments_lexer": "ipython3",
   "version": "3.7.3"
  }
 },
 "nbformat": 4,
 "nbformat_minor": 2
}
