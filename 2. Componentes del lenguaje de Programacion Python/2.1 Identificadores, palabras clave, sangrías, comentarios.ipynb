{
 "cells": [
  {
   "cell_type": "markdown",
   "metadata": {},
   "source": [
    "# 2. Componentes del Lenguaje de Programación Python\n",
    "## Identificadores, palabras clave, sangrías, comentarios"
   ]
  },
  {
   "cell_type": "markdown",
   "metadata": {},
   "source": [
    "### Introducción a Notebooks para Python\n",
    "Una de las formas más populares para trabajar en Análisis de datos es con los llamados _Notebooks_.\n",
    "\n",
    "¡Este documento que estás viendo es uno de ellos!"
   ]
  },
  {
   "cell_type": "markdown",
   "metadata": {},
   "source": [
    "La principal ventaja es que puede ser abierto desde casi cualquier navegador; entonces, facilita el poder buscar información en internet.\n",
    "\n",
    "Además, permite combinar en un sólo archivo y en una sola ventana, texto plano (¡como este!), así como imágenes, líneas de código, y el resultado de las mismas. Por ejemplo:"
   ]
  },
  {
   "cell_type": "code",
   "execution_count": null,
   "metadata": {},
   "outputs": [],
   "source": [
    "print(\"¡Hola mundo!\")"
   ]
  },
  {
   "cell_type": "markdown",
   "metadata": {},
   "source": [
    "Cada \"cuadro\" de información, ya sea que contengan texto plano, líneas de código o algún otro objeto, se llaman **CELDAS**.\n",
    "\n",
    "Si quiero editar una celda, basta que haga doble clic sobre ella. Si quiero salir del modo de edición, presiono **Esc**.\n",
    "\n",
    "Si tienen código, se puede ejecutar presionando el botón de *play*, o con el atajo **CTRL + Enter**. \n",
    "\n",
    "Puedes confirmar que ha sido corrida (y en qué orden), observando los [corchetes] que aparecen a la izquierda de las celdas de código. Practica en la siguiente celda:"
   ]
  },
  {
   "cell_type": "code",
   "execution_count": null,
   "metadata": {},
   "outputs": [],
   "source": [
    "b =  \"esta celda\"\n",
    "a = \"puedes leerme\"\n",
    "\n",
    "print(\"Si\", a, \"es porque \\\n",
    "ya corriste\", b)"
   ]
  },
  {
   "cell_type": "markdown",
   "metadata": {},
   "source": [
    "Puedes poner todas las líneas de código que quieras en la misma celda. No obstante, se suelen separar según pasos que hagan lógica, a juicio del programador.\n",
    "\n",
    "Ese código **sólo** se ejecutará hasta que corras la celda. Una vez ejecutada, los resultados serán almacenados hasta que decidas reiniciar el archivo,"
   ]
  },
  {
   "cell_type": "markdown",
   "metadata": {},
   "source": [
    "### Algunas Palabras clave\n",
    "\n",
    "\n",
    "**Objeto:** algún elemento que ha sido guardado por Python, con el fin de usarlo después. \n",
    "\n",
    "**Script:** la serie de pasos a ejecutar por un programa. \"Mándame el script\", por ejemplo, implicaría compartir el código de la tarea que estás realizando. \n",
    "\n",
    "**Snippet:** una parte del código que correspone a una tarea en específico. Suelen ser partes que se usan seguido.\n"
   ]
  },
  {
   "cell_type": "markdown",
   "metadata": {},
   "source": [
    "### Sangrías\n",
    "\n",
    "Cada línea de código debe comenzar en un renglón nuevo y pegado a la izquierda."
   ]
  },
  {
   "cell_type": "code",
   "execution_count": null,
   "metadata": {},
   "outputs": [],
   "source": [
    "print(\"Yo estoy bien escrito,\")\n",
    " print(\"pero yo tengo un espacio antes de empezar a escribir\")"
   ]
  },
  {
   "cell_type": "markdown",
   "metadata": {},
   "source": [
    "¡Nos arrojó un error! Presta atención al mensaje para ver qué información puedes obtener de él.\n",
    "\n",
    "Hay sus exepciones con respecto a los espacios, las cuáles veremos más adelante. En general, son para intrucciones que tienen más de una parte. En esos casos, en Notebook, se debe ocupar una sangría (usando la tecla **Tab**). \n",
    "\n",
    "Ojo: Python, en otros entornos, suele ocupar cuatro espacios en vez de una sangría."
   ]
  },
  {
   "cell_type": "code",
   "execution_count": null,
   "metadata": {},
   "outputs": [],
   "source": [
    "for i in range(0, 2):\n",
    "    print(\"Línea número \", i)"
   ]
  },
  {
   "cell_type": "markdown",
   "metadata": {},
   "source": [
    "Nota: ¡Recuerda que Python empieza a contar desde **cero**!"
   ]
  },
  {
   "cell_type": "markdown",
   "metadata": {},
   "source": [
    "### Comentarios\n",
    "\n",
    "Una buena práctica es agregar anotaciones extra a nuestros códigos: ya sea para que alguien más pueda entender nuestra lógica,  para que yo mismo recuerde qué hacía en cada paso.\n",
    "\n",
    "A esas anotaciones le solemos llamar \"Comentarios\", y se escriben usando un **Hashtag** (símbolo de gato). En cada renglón, lo que siga del símbolo de gato, estará \"comentado\" y no será ejecutado como código."
   ]
  },
  {
   "cell_type": "code",
   "execution_count": null,
   "metadata": {},
   "outputs": [],
   "source": [
    "print(\"Comentario 1\") # Los comentarios pueden ir después del código."
   ]
  },
  {
   "cell_type": "code",
   "execution_count": null,
   "metadata": {},
   "outputs": [],
   "source": [
    "# Aunque se ven mejor antes de el código.\n",
    "print(\"Comentario 2\")"
   ]
  },
  {
   "cell_type": "markdown",
   "metadata": {},
   "source": [
    "Incluso, es común comentar los snippets de código que aún no termino de escribir, o que sólo estoy usando como referencia. Si los dejo sin comentar, Python podría arrojarme un error (y, al igual que un mal profesor, ignorar las partes que sí estaban bien escritas.)"
   ]
  },
  {
   "cell_type": "code",
   "execution_count": null,
   "metadata": {},
   "outputs": [],
   "source": [
    "# pirnt(\"Esta línea tiene un error, y en lo que lo busco, lo dejo comentado\")\n",
    "\n",
    "print(\"Esta línea ya está bien escrita.\")"
   ]
  },
  {
   "cell_type": "code",
   "execution_count": null,
   "metadata": {},
   "outputs": [],
   "source": []
  }
 ],
 "metadata": {
  "kernelspec": {
   "display_name": "Python 3",
   "language": "python",
   "name": "python3"
  },
  "language_info": {
   "codemirror_mode": {
    "name": "ipython",
    "version": 3
   },
   "file_extension": ".py",
   "mimetype": "text/x-python",
   "name": "python",
   "nbconvert_exporter": "python",
   "pygments_lexer": "ipython3",
   "version": "3.7.3"
  }
 },
 "nbformat": 4,
 "nbformat_minor": 2
}
